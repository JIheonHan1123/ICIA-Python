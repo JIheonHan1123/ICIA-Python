{
 "cells": [
  {
   "cell_type": "markdown",
   "id": "fba1e92f-4724-4e70-adf3-7fcc56e20379",
   "metadata": {},
   "source": [
    "# 반복문"
   ]
  },
  {
   "cell_type": "code",
   "execution_count": 2,
   "id": "0a3237ac-5f97-4536-b0be-87d511010207",
   "metadata": {},
   "outputs": [],
   "source": [
    "a=[1,3,5,7,9]\n",
    "for idx, i in enumerate(a):\n",
    "\ta[idx] = 2"
   ]
  },
  {
   "cell_type": "code",
   "execution_count": 3,
   "id": "d98c55a8-8977-4af9-89e2-e8474b394497",
   "metadata": {},
   "outputs": [
    {
     "data": {
      "text/plain": [
       "[2, 2, 2, 2, 2]"
      ]
     },
     "execution_count": 3,
     "metadata": {},
     "output_type": "execute_result"
    }
   ],
   "source": [
    "a"
   ]
  },
  {
   "cell_type": "markdown",
   "id": "78d3dc00-2dd5-4839-bfd6-734da00e7f7e",
   "metadata": {},
   "source": [
    "# 함수만들기\n",
    "## 반복되는 일들을 할 때 사용\n",
    "## 코드가 너무 복잡해서 코드내용을 나눌 때"
   ]
  },
  {
   "cell_type": "code",
   "execution_count": 5,
   "id": "72a7a35a-cd15-4f28-ab28-aac0a8fd358e",
   "metadata": {},
   "outputs": [],
   "source": [
    "def test():\n",
    "    print('테스트 함수입니다')"
   ]
  },
  {
   "cell_type": "code",
   "execution_count": 6,
   "id": "9b2cdf56-cb4f-48ed-9930-dccbf4733fd2",
   "metadata": {},
   "outputs": [
    {
     "name": "stdout",
     "output_type": "stream",
     "text": [
      "테스트 함수입니다\n"
     ]
    }
   ],
   "source": [
    "test()"
   ]
  },
  {
   "cell_type": "code",
   "execution_count": 11,
   "id": "7b844e18-ac84-4608-bf8f-0ef9a5834b48",
   "metadata": {},
   "outputs": [],
   "source": [
    "def test2(a, b, c, d):\n",
    "    print(a)\n",
    "    print(b)\n",
    "    print(c)\n",
    "    print(d)"
   ]
  },
  {
   "cell_type": "code",
   "execution_count": 13,
   "id": "4e4d38bd-9dc4-4570-a9ab-39e64d61ceaf",
   "metadata": {},
   "outputs": [
    {
     "name": "stdout",
     "output_type": "stream",
     "text": [
      "20\n",
      "5\n",
      "0\n",
      "74\n"
     ]
    }
   ],
   "source": [
    "test2(20,5,0,74)"
   ]
  },
  {
   "cell_type": "code",
   "execution_count": 15,
   "id": "1e362307-fcc5-46c6-bdb8-bcbc29d32cb6",
   "metadata": {},
   "outputs": [
    {
     "name": "stdout",
     "output_type": "stream",
     "text": [
      "40\n",
      "50\n",
      "30\n",
      "20\n"
     ]
    }
   ],
   "source": [
    "test2(d=20, c=30, a=40, b=50) # 인자의 순서를 안지킬거면 지정해주면 된다"
   ]
  },
  {
   "cell_type": "code",
   "execution_count": 1,
   "id": "673e8938-b496-4b30-a906-196defc36c18",
   "metadata": {},
   "outputs": [],
   "source": [
    "def plask(a):\n",
    "    return a"
   ]
  },
  {
   "cell_type": "code",
   "execution_count": 2,
   "id": "bf91b688-5b34-4991-97bb-a1eda7b36e31",
   "metadata": {},
   "outputs": [],
   "source": [
    "def plask2(a):\n",
    "    print(a)"
   ]
  },
  {
   "cell_type": "code",
   "execution_count": 4,
   "id": "8d87e714-fb3e-4148-bfa8-2e7b0f760d70",
   "metadata": {},
   "outputs": [
    {
     "data": {
      "text/plain": [
       "11"
      ]
     },
     "execution_count": 4,
     "metadata": {},
     "output_type": "execute_result"
    }
   ],
   "source": [
    "# plask와 plask2는 같은 함수일까?\n",
    "plask(11)"
   ]
  },
  {
   "cell_type": "code",
   "execution_count": 5,
   "id": "81fece9b-e136-4857-ad4a-ef9a1fd9debc",
   "metadata": {},
   "outputs": [
    {
     "name": "stdout",
     "output_type": "stream",
     "text": [
      "11\n"
     ]
    }
   ],
   "source": [
    "# plask와 plask2는 같은 함수일까?\n",
    "plask2(11)"
   ]
  },
  {
   "cell_type": "code",
   "execution_count": 7,
   "id": "ac53c83b-2622-4ae4-a74e-150cab0f0a44",
   "metadata": {},
   "outputs": [
    {
     "name": "stdout",
     "output_type": "stream",
     "text": [
      "11\n"
     ]
    }
   ],
   "source": [
    "# plask는 결과값을 저장을 하는거고, plask2는 저장을 안하고 출력만 한다\n",
    "a = plask(11)\n",
    "b = plask2(11)"
   ]
  },
  {
   "cell_type": "code",
   "execution_count": 8,
   "id": "72b6e4ae-bae3-4798-9616-996f386e3241",
   "metadata": {},
   "outputs": [
    {
     "data": {
      "text/plain": [
       "11"
      ]
     },
     "execution_count": 8,
     "metadata": {},
     "output_type": "execute_result"
    }
   ],
   "source": [
    "a"
   ]
  },
  {
   "cell_type": "code",
   "execution_count": 10,
   "id": "464a9102-b863-41b4-be6f-5c4db55f43a3",
   "metadata": {},
   "outputs": [],
   "source": [
    "b # 아무것도 저장되있지 않기 때문에 출력이 안된다"
   ]
  },
  {
   "cell_type": "markdown",
   "id": "9c27ef77-bf8b-4aeb-b5fe-fc679a8c602b",
   "metadata": {},
   "source": [
    "# for문 + if문을 통해서 합격 여부를 맞추세요\n",
    "# 매개변수 a에 점수리스트(5개)를 담아 해당 점수가 합격인지 아닌지 확인\n",
    "## print\n",
    "- x번째 학생은 합격입니다\n",
    "- x번째 학생은 불합격입니다\n",
    "## return\n",
    "- 5명중에 합격이 많으면 합격 return\n",
    "- 5명중에 불합격이 많으면 return\n",
    "\n",
    "### 합격은 60점 이상"
   ]
  },
  {
   "cell_type": "code",
   "execution_count": 1,
   "id": "9e265f87-219e-411d-a3fc-40e48ea98acc",
   "metadata": {},
   "outputs": [
    {
     "name": "stdout",
     "output_type": "stream",
     "text": [
      "1번째 학생은 합격입니다\n",
      "2번째 학생은 합격입니다\n",
      "3번째 학생은 합격입니다\n",
      "4번째 학생은 불합격입니다\n",
      "5번째 학생은 합격입니다\n"
     ]
    },
    {
     "data": {
      "text/plain": [
       "'불합격'"
      ]
     },
     "execution_count": 1,
     "metadata": {},
     "output_type": "execute_result"
    }
   ],
   "source": [
    "a = [60, 70, 60, 10, 90]\n",
    "\n",
    "def print_pass(scores):\n",
    "    for i in enumerate(scores):\n",
    "        if i[1] >= 60:\n",
    "            print(f'{i[0]+1}번째 학생은 합격입니다')\n",
    "        else:\n",
    "            print(f'{i[0]+1}번째 학생은 불합격입니다')\n",
    "\n",
    "def check_pass(scores):\n",
    "    sum = 0\n",
    "    for i in scores:\n",
    "        sum += i\n",
    "    if sum/len(scores) >= 60:\n",
    "        return \"합격\"\n",
    "    else:\n",
    "        return \"불합격\"\n",
    "        \n",
    "print_pass(a)\n",
    "check_pass(a)"
   ]
  },
  {
   "cell_type": "code",
   "execution_count": 4,
   "id": "6bdafae6-cc47-4a83-bd08-28bd72a4484d",
   "metadata": {},
   "outputs": [
    {
     "name": "stdout",
     "output_type": "stream",
     "text": [
      "1번째 학생은 합격입니다\n",
      "2번째 학생은 합격입니다\n",
      "3번째 학생은 합격입니다\n",
      "4번째 학생은 불합격입니다\n",
      "5번째 학생은 합격입니다\n"
     ]
    },
    {
     "data": {
      "text/plain": [
       "'합격'"
      ]
     },
     "execution_count": 4,
     "metadata": {},
     "output_type": "execute_result"
    }
   ],
   "source": [
    "# 강사님 코드\n",
    "a = [60, 70, 60, 10, 90]\n",
    "def test_score(a):\n",
    "    pass_num = 0\n",
    "    for idx, i in enumerate(a):\n",
    "        if i>=60:\n",
    "            print(f'{idx+1}번째 학생은 합격입니다')\n",
    "            pass_num += 1\n",
    "        else:\n",
    "            print(f'{idx+1}번째 학생은 불합격입니다')\n",
    "    if pass_num > 2:\n",
    "        return '합격'\n",
    "    else:\n",
    "        return '불합격'\n",
    "\n",
    "test_score(a)"
   ]
  },
  {
   "cell_type": "markdown",
   "id": "ec1efe8f-3eae-4421-b3e2-12c02fe2ab3c",
   "metadata": {},
   "source": [
    "# Map/Filter"
   ]
  },
  {
   "cell_type": "code",
   "execution_count": 12,
   "id": "9726e2d1-1f62-4012-a34f-216c76ce9496",
   "metadata": {},
   "outputs": [],
   "source": [
    "lst = ['베인', '가렌', '스카너', '칼리스타']"
   ]
  },
  {
   "cell_type": "code",
   "execution_count": 13,
   "id": "406716a1-bf38-4a1c-bde6-8261d659d99b",
   "metadata": {},
   "outputs": [],
   "source": [
    "result = list(map(lambda x: '탑' + x, lst)) # 위 리스트의 요소들의 앞에 탑이라는 글자를 붙이고 싶음"
   ]
  },
  {
   "cell_type": "code",
   "execution_count": 14,
   "id": "0bf1f43b-3047-4ef8-82ca-c4d078e6b73e",
   "metadata": {},
   "outputs": [
    {
     "data": {
      "text/plain": [
       "['탑베인', '탑가렌', '탑스카너', '탑칼리스타']"
      ]
     },
     "execution_count": 14,
     "metadata": {},
     "output_type": "execute_result"
    }
   ],
   "source": [
    "result"
   ]
  },
  {
   "cell_type": "code",
   "execution_count": 18,
   "id": "23b9c199-99ac-410d-b7bc-76cc21363891",
   "metadata": {},
   "outputs": [],
   "source": [
    "result = [] #원래는 이렇게 귀찮게 해야함\n",
    "for champ in lst:\n",
    "    result_champ = '탑'+champ\n",
    "    result.append(result_champ)"
   ]
  },
  {
   "cell_type": "code",
   "execution_count": 19,
   "id": "145dccff-604b-414c-a898-d6b88b43c22c",
   "metadata": {},
   "outputs": [
    {
     "data": {
      "text/plain": [
       "['탑베인', '탑가렌', '탑스카너', '탑칼리스타']"
      ]
     },
     "execution_count": 19,
     "metadata": {},
     "output_type": "execute_result"
    }
   ],
   "source": [
    "result"
   ]
  },
  {
   "cell_type": "code",
   "execution_count": 22,
   "id": "2c739d54-41c0-48b2-b163-52c5b6964314",
   "metadata": {},
   "outputs": [],
   "source": [
    "result_filter = list(filter(lambda x : x if len(x)==3 else '', lst)) #글자수가 3글자일때만 남기고 다 버려라(빈문자열)"
   ]
  },
  {
   "cell_type": "code",
   "execution_count": 24,
   "id": "9bf829cc-e700-4ee6-a7ee-7240fe71aeb3",
   "metadata": {},
   "outputs": [
    {
     "data": {
      "text/plain": [
       "['스카너']"
      ]
     },
     "execution_count": 24,
     "metadata": {},
     "output_type": "execute_result"
    }
   ],
   "source": [
    "result_filter"
   ]
  },
  {
   "cell_type": "markdown",
   "id": "61d88371-bfe7-4a6d-ae4d-10f1cb55eaf5",
   "metadata": {},
   "source": [
    "# [1,2,3,4,5]\n",
    "### lambda랑 map/filter를 활용해서 2개의 리스트를 만드시오\n",
    "- 첫번째 리스트: 각 숫자에 *2한 리스트\n",
    "- 두번째 리스으: 홀수만 빼 온 리스트"
   ]
  },
  {
   "cell_type": "code",
   "execution_count": 31,
   "id": "f49d8ba2-7f8b-4e5f-9f0b-fcd7c4f84d54",
   "metadata": {},
   "outputs": [],
   "source": [
    "num_list = [1,2,3,4,5]"
   ]
  },
  {
   "cell_type": "code",
   "execution_count": 32,
   "id": "5fa43368-ec17-4fb7-864a-80e14cecbd44",
   "metadata": {},
   "outputs": [
    {
     "name": "stdout",
     "output_type": "stream",
     "text": [
      "[2, 4, 6, 8, 10]\n"
     ]
    }
   ],
   "source": [
    "fir_list = list(map(lambda x: x*2, num_list))\n",
    "print(fir_list)"
   ]
  },
  {
   "cell_type": "code",
   "execution_count": 36,
   "id": "9baa2e63-b190-4377-8eb2-76d51557e105",
   "metadata": {},
   "outputs": [
    {
     "name": "stdout",
     "output_type": "stream",
     "text": [
      "[1, 3, 5]\n"
     ]
    }
   ],
   "source": [
    "sec_list = list(filter(lambda x: x if x%2!=0 else '', num_list))\n",
    "print(sec_list)"
   ]
  }
 ],
 "metadata": {
  "kernelspec": {
   "display_name": "Python 3 (ipykernel)",
   "language": "python",
   "name": "python3"
  },
  "language_info": {
   "codemirror_mode": {
    "name": "ipython",
    "version": 3
   },
   "file_extension": ".py",
   "mimetype": "text/x-python",
   "name": "python",
   "nbconvert_exporter": "python",
   "pygments_lexer": "ipython3",
   "version": "3.11.7"
  }
 },
 "nbformat": 4,
 "nbformat_minor": 5
}
