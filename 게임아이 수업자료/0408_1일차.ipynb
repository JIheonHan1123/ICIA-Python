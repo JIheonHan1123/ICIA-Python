{
 "cells": [
  {
   "cell_type": "code",
   "execution_count": 59,
   "id": "1dcd8d18-56a2-4bdd-995e-9727113dac4b",
   "metadata": {},
   "outputs": [],
   "source": [
    "a = 'bbb'"
   ]
  },
  {
   "cell_type": "code",
   "execution_count": 60,
   "id": "fd8f0ae5-d952-4f27-9235-50c01f9ec38e",
   "metadata": {},
   "outputs": [
    {
     "data": {
      "text/plain": [
       "'bbb'"
      ]
     },
     "execution_count": 60,
     "metadata": {},
     "output_type": "execute_result"
    }
   ],
   "source": [
    "a"
   ]
  },
  {
   "cell_type": "markdown",
   "id": "7e3a0f99-b5b7-43d5-b2a1-739709a05a24",
   "metadata": {
    "jp-MarkdownHeadingCollapsed": true
   },
   "source": [
    "# 문자열"
   ]
  },
  {
   "cell_type": "code",
   "execution_count": 3,
   "id": "9ad0433d-e1c1-4db4-9ab2-564cfe91248f",
   "metadata": {},
   "outputs": [],
   "source": [
    "a='aaa'\n",
    "b='bbb'"
   ]
  },
  {
   "cell_type": "code",
   "execution_count": 4,
   "id": "f85efbaa-1766-45ca-b363-fb9b88376f01",
   "metadata": {},
   "outputs": [
    {
     "name": "stdout",
     "output_type": "stream",
     "text": [
      "aaabbb\n",
      "aaaaaa\n"
     ]
    }
   ],
   "source": [
    "print(a+b)\n",
    "print(a*2)"
   ]
  },
  {
   "cell_type": "code",
   "execution_count": 5,
   "id": "7e4b49a1-5e21-43e6-9579-da213566c083",
   "metadata": {},
   "outputs": [
    {
     "data": {
      "text/plain": [
       "str"
      ]
     },
     "execution_count": 5,
     "metadata": {},
     "output_type": "execute_result"
    }
   ],
   "source": [
    "type(a)"
   ]
  },
  {
   "cell_type": "markdown",
   "id": "f91ad30c-1700-49b3-ba9f-59c1d4db5330",
   "metadata": {
    "jp-MarkdownHeadingCollapsed": true
   },
   "source": [
    "# 리스트"
   ]
  },
  {
   "cell_type": "code",
   "execution_count": 6,
   "id": "54de803a-96f8-4d61-bfb5-33bce4f8656b",
   "metadata": {},
   "outputs": [],
   "source": [
    "a=[1,2,3,'a','b',[1,2,3],{1,2}]"
   ]
  },
  {
   "cell_type": "code",
   "execution_count": 7,
   "id": "912bbf00-5fd4-4817-8e20-6dba39aa9a44",
   "metadata": {},
   "outputs": [
    {
     "data": {
      "text/plain": [
       "list"
      ]
     },
     "execution_count": 7,
     "metadata": {},
     "output_type": "execute_result"
    }
   ],
   "source": [
    "type(a)"
   ]
  },
  {
   "cell_type": "code",
   "execution_count": 8,
   "id": "7d301a7b-d384-4778-8967-1d264638d46d",
   "metadata": {},
   "outputs": [
    {
     "data": {
      "text/plain": [
       "1"
      ]
     },
     "execution_count": 8,
     "metadata": {},
     "output_type": "execute_result"
    }
   ],
   "source": [
    "a[0]"
   ]
  },
  {
   "cell_type": "code",
   "execution_count": 9,
   "id": "1f858d85-2223-40e0-81c3-e67c8de71481",
   "metadata": {},
   "outputs": [
    {
     "data": {
      "text/plain": [
       "int"
      ]
     },
     "execution_count": 9,
     "metadata": {},
     "output_type": "execute_result"
    }
   ],
   "source": [
    "type(a[2])"
   ]
  },
  {
   "cell_type": "code",
   "execution_count": 10,
   "id": "30fce501-26f9-41ce-aeee-715bad82c7c9",
   "metadata": {},
   "outputs": [
    {
     "data": {
      "text/plain": [
       "{1, 2}"
      ]
     },
     "execution_count": 10,
     "metadata": {},
     "output_type": "execute_result"
    }
   ],
   "source": [
    "a[-1]"
   ]
  },
  {
   "cell_type": "markdown",
   "id": "60b70d5b-5d2d-4707-8453-a84b85c0cfee",
   "metadata": {},
   "source": [
    "# for문을 통해서 result라는 변수에 num_list에 들어간 요소들의 합을 만들어주세요"
   ]
  },
  {
   "cell_type": "code",
   "execution_count": 11,
   "id": "4fe59d14-ef60-4f8b-90fc-12de3ffac3c1",
   "metadata": {},
   "outputs": [],
   "source": [
    "num_list = list(range(1,20))"
   ]
  },
  {
   "cell_type": "code",
   "execution_count": 12,
   "id": "ce895ce4-01a4-44f3-bb19-5cb104887029",
   "metadata": {},
   "outputs": [],
   "source": [
    "result = 0\n",
    "for num in num_list:\n",
    "    result += num"
   ]
  },
  {
   "cell_type": "code",
   "execution_count": 13,
   "id": "d4b37d31-f4d6-4858-bda5-0aa108a32a15",
   "metadata": {},
   "outputs": [
    {
     "data": {
      "text/plain": [
       "190"
      ]
     },
     "execution_count": 13,
     "metadata": {},
     "output_type": "execute_result"
    }
   ],
   "source": [
    "result"
   ]
  },
  {
   "cell_type": "code",
   "execution_count": 14,
   "id": "6d7b8c64-2cbf-4716-a27c-88b4d26dfaf0",
   "metadata": {},
   "outputs": [
    {
     "data": {
      "text/plain": [
       "[1, 2, 3, 4, 5, 6, 7, 8, 9, 10]"
      ]
     },
     "execution_count": 14,
     "metadata": {},
     "output_type": "execute_result"
    }
   ],
   "source": [
    "num_list[0:10]"
   ]
  },
  {
   "cell_type": "code",
   "execution_count": 15,
   "id": "f0cae599-77a4-45e8-91d3-367b631e387d",
   "metadata": {},
   "outputs": [
    {
     "data": {
      "text/plain": [
       "19"
      ]
     },
     "execution_count": 15,
     "metadata": {},
     "output_type": "execute_result"
    }
   ],
   "source": [
    "len(num_list)"
   ]
  },
  {
   "cell_type": "code",
   "execution_count": 16,
   "id": "97648a89-d24c-4b98-897d-6c59f183a171",
   "metadata": {},
   "outputs": [],
   "source": [
    "num_list[3]='change'"
   ]
  },
  {
   "cell_type": "code",
   "execution_count": 17,
   "id": "bbb238e2-e4cb-4f9b-8609-78a2f35a3b13",
   "metadata": {},
   "outputs": [
    {
     "data": {
      "text/plain": [
       "[1, 2, 3, 'change', 5, 6, 7, 8, 9, 10, 11, 12, 13, 14, 15, 16, 17, 18, 19]"
      ]
     },
     "execution_count": 17,
     "metadata": {},
     "output_type": "execute_result"
    }
   ],
   "source": [
    "num_list"
   ]
  },
  {
   "cell_type": "markdown",
   "id": "1a99060f-e855-4036-8780-7b4d71dd25b5",
   "metadata": {},
   "source": [
    "- append: 그 자체를 요소로 넣는다\n",
    "- extend: 리스트 끝에 가장 바깥쪽 iterable의 모든항목을 넣는다"
   ]
  },
  {
   "cell_type": "code",
   "execution_count": 62,
   "id": "79a0cc8c-0a12-408d-9bf7-bce242fface5",
   "metadata": {},
   "outputs": [],
   "source": [
    "num_list.append([101,102,103,104]) "
   ]
  },
  {
   "cell_type": "code",
   "execution_count": 63,
   "id": "e433c913-d68e-45fd-86bc-cac9e70599b8",
   "metadata": {},
   "outputs": [
    {
     "data": {
      "text/plain": [
       "[1,\n",
       " 2,\n",
       " 3,\n",
       " 'change',\n",
       " 5,\n",
       " 6,\n",
       " 7,\n",
       " 8,\n",
       " 9,\n",
       " 10,\n",
       " 11,\n",
       " 12,\n",
       " 13,\n",
       " 14,\n",
       " 15,\n",
       " 16,\n",
       " 17,\n",
       " 18,\n",
       " 19,\n",
       " 100,\n",
       " 1,\n",
       " 3,\n",
       " 4,\n",
       " 5,\n",
       " 6,\n",
       " [101, 102, 103, 104]]"
      ]
     },
     "execution_count": 63,
     "metadata": {},
     "output_type": "execute_result"
    }
   ],
   "source": [
    "num_list"
   ]
  },
  {
   "cell_type": "code",
   "execution_count": 64,
   "id": "8dea5ad3-0041-46e3-b35f-b3e9582ede98",
   "metadata": {},
   "outputs": [],
   "source": [
    "num_list.extend([201,202,203])"
   ]
  },
  {
   "cell_type": "code",
   "execution_count": 65,
   "id": "43ad6ee8-51e0-48ed-8d88-bfa765bbaa35",
   "metadata": {},
   "outputs": [
    {
     "data": {
      "text/plain": [
       "[1,\n",
       " 2,\n",
       " 3,\n",
       " 'change',\n",
       " 5,\n",
       " 6,\n",
       " 7,\n",
       " 8,\n",
       " 9,\n",
       " 10,\n",
       " 11,\n",
       " 12,\n",
       " 13,\n",
       " 14,\n",
       " 15,\n",
       " 16,\n",
       " 17,\n",
       " 18,\n",
       " 19,\n",
       " 100,\n",
       " 1,\n",
       " 3,\n",
       " 4,\n",
       " 5,\n",
       " 6,\n",
       " [101, 102, 103, 104],\n",
       " 201,\n",
       " 202,\n",
       " 203]"
      ]
     },
     "execution_count": 65,
     "metadata": {},
     "output_type": "execute_result"
    }
   ],
   "source": [
    "num_list"
   ]
  },
  {
   "cell_type": "markdown",
   "id": "fdfbda33-d082-42af-8f9c-949dc937bfd6",
   "metadata": {},
   "source": [
    "- ex"
   ]
  },
  {
   "cell_type": "code",
   "execution_count": 69,
   "id": "98ed504a-64a8-4d3e-b460-e2fe01d48ad5",
   "metadata": {},
   "outputs": [
    {
     "data": {
      "text/plain": [
       "['Tick', 'Tock', 'Song', ['Ping', 'Pong']]"
      ]
     },
     "execution_count": 69,
     "metadata": {},
     "output_type": "execute_result"
    }
   ],
   "source": [
    "x = ['Tick', 'Tock', 'Song']\n",
    "y = ['Ping', 'Pong']\n",
    "x.append(y)\n",
    "x"
   ]
  },
  {
   "cell_type": "code",
   "execution_count": 70,
   "id": "7007be02-4dd0-4334-a985-9157bfdc6265",
   "metadata": {},
   "outputs": [
    {
     "data": {
      "text/plain": [
       "['Tick', 'Tock', 'Song', 'Ping', 'Pong']"
      ]
     },
     "execution_count": 70,
     "metadata": {},
     "output_type": "execute_result"
    }
   ],
   "source": [
    "x = ['Tick', 'Tock', 'Song']\n",
    "y = ['Ping', 'Pong']\n",
    "x.extend(y)\n",
    "x"
   ]
  },
  {
   "cell_type": "code",
   "execution_count": null,
   "id": "77482726-f8e6-47b2-ac35-311cf213815e",
   "metadata": {},
   "outputs": [],
   "source": []
  },
  {
   "cell_type": "code",
   "execution_count": 71,
   "id": "50d9ba9b-8aa4-45a2-ab7a-2dc51586842a",
   "metadata": {},
   "outputs": [
    {
     "data": {
      "text/plain": [
       "['Tick', 'Tock', 'Song', [['Ping', 'Pong']]]"
      ]
     },
     "execution_count": 71,
     "metadata": {},
     "output_type": "execute_result"
    }
   ],
   "source": [
    "x = ['Tick', 'Tock', 'Song']\n",
    "y = [['Ping', 'Pong']]\n",
    "x.append(y)\n",
    "x"
   ]
  },
  {
   "cell_type": "code",
   "execution_count": 72,
   "id": "f1a89186-758d-44d5-9453-de6476b4e622",
   "metadata": {},
   "outputs": [
    {
     "data": {
      "text/plain": [
       "['Tick', 'Tock', 'Song', ['Ping', 'Pong']]"
      ]
     },
     "execution_count": 72,
     "metadata": {},
     "output_type": "execute_result"
    }
   ],
   "source": [
    "x = ['Tick', 'Tock', 'Song']\n",
    "y = [['Ping', 'Pong']]\n",
    "x.extend(y)\n",
    "x"
   ]
  },
  {
   "cell_type": "code",
   "execution_count": null,
   "id": "3ad10cba-8868-4925-9153-daa3bf6df92a",
   "metadata": {},
   "outputs": [],
   "source": []
  },
  {
   "cell_type": "code",
   "execution_count": 73,
   "id": "b59c3854-1b59-4869-9b3e-a746985707cd",
   "metadata": {},
   "outputs": [
    {
     "data": {
      "text/plain": [
       "['Tick', 'Tock', 'Song', 'Ping']"
      ]
     },
     "execution_count": 73,
     "metadata": {},
     "output_type": "execute_result"
    }
   ],
   "source": [
    "x = ['Tick', 'Tock', 'Song']\n",
    "y = 'Ping'\n",
    "x.append(y)\n",
    "x"
   ]
  },
  {
   "cell_type": "code",
   "execution_count": 74,
   "id": "06b8d9dc-39c3-4725-a205-efc54d27edba",
   "metadata": {},
   "outputs": [
    {
     "data": {
      "text/plain": [
       "['Tick', 'Tock', 'Song', 'P', 'i', 'n', 'g']"
      ]
     },
     "execution_count": 74,
     "metadata": {},
     "output_type": "execute_result"
    }
   ],
   "source": [
    "x = ['Tick', 'Tock', 'Song']\n",
    "y = 'Ping'\n",
    "x.extend(y)\n",
    "x"
   ]
  },
  {
   "cell_type": "code",
   "execution_count": null,
   "id": "86b100c8-0ba9-488d-a153-f8e720e07775",
   "metadata": {},
   "outputs": [],
   "source": []
  },
  {
   "cell_type": "code",
   "execution_count": 22,
   "id": "4f6ffea4-7792-4dc3-99fa-94e94f078354",
   "metadata": {},
   "outputs": [],
   "source": [
    "a = [4,5,8,9,3,1,2]"
   ]
  },
  {
   "cell_type": "code",
   "execution_count": 23,
   "id": "cd62ef4f-d26b-4192-b2d2-43b4079e9231",
   "metadata": {},
   "outputs": [],
   "source": [
    "a.sort() # 정렬"
   ]
  },
  {
   "cell_type": "code",
   "execution_count": 24,
   "id": "6281ac10-e8ed-4f63-a86c-090b8da3d496",
   "metadata": {},
   "outputs": [
    {
     "data": {
      "text/plain": [
       "[1, 2, 3, 4, 5, 8, 9]"
      ]
     },
     "execution_count": 24,
     "metadata": {},
     "output_type": "execute_result"
    }
   ],
   "source": [
    "a"
   ]
  },
  {
   "cell_type": "code",
   "execution_count": 25,
   "id": "f36b2811-7c1a-4db5-bac0-a8f6fb350da7",
   "metadata": {},
   "outputs": [],
   "source": [
    "a.reverse() # 역순으로 정렬"
   ]
  },
  {
   "cell_type": "code",
   "execution_count": 26,
   "id": "4abdf0df-d822-4799-9ae8-c9dbf9c0d184",
   "metadata": {},
   "outputs": [
    {
     "data": {
      "text/plain": [
       "[9, 8, 5, 4, 3, 2, 1]"
      ]
     },
     "execution_count": 26,
     "metadata": {},
     "output_type": "execute_result"
    }
   ],
   "source": [
    "a"
   ]
  },
  {
   "cell_type": "markdown",
   "id": "876f9b79-c1b4-45ac-adf2-5d276ed74254",
   "metadata": {
    "jp-MarkdownHeadingCollapsed": true
   },
   "source": [
    "# 구구단에서 3단을 리스트에 담아보기"
   ]
  },
  {
   "cell_type": "code",
   "execution_count": 27,
   "id": "9650bc2e-e55a-4343-98a7-0320dfb406f3",
   "metadata": {},
   "outputs": [
    {
     "name": "stdout",
     "output_type": "stream",
     "text": [
      "[3, 6, 9, 12, 15, 18, 21, 24, 27]\n"
     ]
    }
   ],
   "source": [
    "result = []\n",
    "for i in range(1,10):\n",
    "    result.append(3*i)\n",
    "print(result)"
   ]
  },
  {
   "cell_type": "code",
   "execution_count": 28,
   "id": "fdf648af-f978-46ae-b2f9-0f7b77598017",
   "metadata": {},
   "outputs": [],
   "source": [
    "result = [3*i for i in range(1,10)]"
   ]
  },
  {
   "cell_type": "code",
   "execution_count": 29,
   "id": "31040204-3601-4421-9afa-ef854c4734c8",
   "metadata": {},
   "outputs": [
    {
     "data": {
      "text/plain": [
       "[3, 6, 9, 12, 15, 18, 21, 24, 27]"
      ]
     },
     "execution_count": 29,
     "metadata": {},
     "output_type": "execute_result"
    }
   ],
   "source": [
    "result"
   ]
  },
  {
   "cell_type": "markdown",
   "id": "39d1dbdd-1cc9-4194-a497-5a637c246d13",
   "metadata": {
    "jp-MarkdownHeadingCollapsed": true
   },
   "source": [
    "# 구구단 전체를 2중 리스트로 담아보기"
   ]
  },
  {
   "cell_type": "code",
   "execution_count": 30,
   "id": "df611ad0-176d-41f8-8c5b-4107f6c8445d",
   "metadata": {},
   "outputs": [
    {
     "data": {
      "text/plain": [
       "[[1, 2, 3, 4, 5, 6, 7, 8, 9],\n",
       " [2, 4, 6, 8, 10, 12, 14, 16, 18],\n",
       " [3, 6, 9, 12, 15, 18, 21, 24, 27],\n",
       " [4, 8, 12, 16, 20, 24, 28, 32, 36],\n",
       " [5, 10, 15, 20, 25, 30, 35, 40, 45],\n",
       " [6, 12, 18, 24, 30, 36, 42, 48, 54],\n",
       " [7, 14, 21, 28, 35, 42, 49, 56, 63],\n",
       " [8, 16, 24, 32, 40, 48, 56, 64, 72],\n",
       " [9, 18, 27, 36, 45, 54, 63, 72, 81]]"
      ]
     },
     "execution_count": 30,
     "metadata": {},
     "output_type": "execute_result"
    }
   ],
   "source": [
    "result = []\n",
    "for x in range(1, 10): # 단\n",
    "    num=[]\n",
    "    for y in range(1, 10): # 곱하는 수\n",
    "        num.append(x*y)\n",
    "    result.append(num)\n",
    "result"
   ]
  },
  {
   "cell_type": "markdown",
   "id": "f6865526-5440-43b9-a389-e504eede8a35",
   "metadata": {
    "jp-MarkdownHeadingCollapsed": true
   },
   "source": [
    "# 튜플"
   ]
  },
  {
   "cell_type": "code",
   "execution_count": 31,
   "id": "9f7b252e-6c7f-4ddc-9f91-d8d6d3f9a7fe",
   "metadata": {},
   "outputs": [],
   "source": [
    "a = [1,2,3,4]\n",
    "b = (1,2,3,4)"
   ]
  },
  {
   "cell_type": "code",
   "execution_count": 32,
   "id": "3a59d005-f915-48ea-8b00-35f7f4cd1aef",
   "metadata": {},
   "outputs": [
    {
     "data": {
      "text/plain": [
       "list"
      ]
     },
     "execution_count": 32,
     "metadata": {},
     "output_type": "execute_result"
    }
   ],
   "source": [
    "type(a)"
   ]
  },
  {
   "cell_type": "code",
   "execution_count": 33,
   "id": "d852621c-1814-44b7-8fd8-d552081d12f8",
   "metadata": {},
   "outputs": [
    {
     "data": {
      "text/plain": [
       "tuple"
      ]
     },
     "execution_count": 33,
     "metadata": {},
     "output_type": "execute_result"
    }
   ],
   "source": [
    "type(b)"
   ]
  },
  {
   "cell_type": "code",
   "execution_count": 34,
   "id": "011f61f9-0231-42d0-a3fb-a1090ce512ed",
   "metadata": {},
   "outputs": [
    {
     "data": {
      "text/plain": [
       "[1, 2, 3, 4, 1, 2, 3, 4]"
      ]
     },
     "execution_count": 34,
     "metadata": {},
     "output_type": "execute_result"
    }
   ],
   "source": [
    "a*2"
   ]
  },
  {
   "cell_type": "code",
   "execution_count": 35,
   "id": "a1b9cedd-2624-434c-9906-f943957290e1",
   "metadata": {},
   "outputs": [
    {
     "data": {
      "text/plain": [
       "(1, 2, 3, 4, 1, 2, 3, 4)"
      ]
     },
     "execution_count": 35,
     "metadata": {},
     "output_type": "execute_result"
    }
   ],
   "source": [
    "b*2"
   ]
  },
  {
   "cell_type": "code",
   "execution_count": 36,
   "id": "84d789e3-e311-47b1-b8b4-e0600df1ac93",
   "metadata": {},
   "outputs": [
    {
     "data": {
      "text/plain": [
       "(1, 2, 3, 4, 1, 2, 3, 4)"
      ]
     },
     "execution_count": 36,
     "metadata": {},
     "output_type": "execute_result"
    }
   ],
   "source": [
    "b+b"
   ]
  },
  {
   "cell_type": "markdown",
   "id": "a55d9c46-4bc5-4919-9e1d-a2c591e91c4b",
   "metadata": {
    "jp-MarkdownHeadingCollapsed": true
   },
   "source": [
    "# 집합"
   ]
  },
  {
   "cell_type": "code",
   "execution_count": 37,
   "id": "face6eaf-2f72-4ad4-bc12-a46bc48b0de4",
   "metadata": {},
   "outputs": [],
   "source": [
    "a=[1,3,5,1,2,1,2,4,2,5,5,1,1,5,8,4,1]"
   ]
  },
  {
   "cell_type": "code",
   "execution_count": 38,
   "id": "6d19794d-7e48-4614-8ce2-0eee770bc2ca",
   "metadata": {},
   "outputs": [],
   "source": [
    "b=set(a)"
   ]
  },
  {
   "cell_type": "code",
   "execution_count": 39,
   "id": "99c95380-417f-489b-9b45-c7d6fc7496ae",
   "metadata": {},
   "outputs": [
    {
     "data": {
      "text/plain": [
       "{1, 2, 3, 4, 5, 8}"
      ]
     },
     "execution_count": 39,
     "metadata": {},
     "output_type": "execute_result"
    }
   ],
   "source": [
    "b"
   ]
  },
  {
   "cell_type": "code",
   "execution_count": 40,
   "id": "913fe98d-650d-4aa6-9572-7f4409c41aa9",
   "metadata": {},
   "outputs": [
    {
     "data": {
      "text/plain": [
       "[1, 2, 3, 4, 5, 8]"
      ]
     },
     "execution_count": 40,
     "metadata": {},
     "output_type": "execute_result"
    }
   ],
   "source": [
    "list(b)"
   ]
  },
  {
   "cell_type": "code",
   "execution_count": 41,
   "id": "60242525-c953-4590-9165-c6287c218cdf",
   "metadata": {},
   "outputs": [],
   "source": [
    "a={1,2,3,4,5}\n",
    "b={3,4,5,6,7}"
   ]
  },
  {
   "cell_type": "code",
   "execution_count": 42,
   "id": "c2a0c894-56c9-4016-8696-54b2d0e47420",
   "metadata": {},
   "outputs": [
    {
     "data": {
      "text/plain": [
       "{3, 4, 5}"
      ]
     },
     "execution_count": 42,
     "metadata": {},
     "output_type": "execute_result"
    }
   ],
   "source": [
    "a & b #교집합"
   ]
  },
  {
   "cell_type": "code",
   "execution_count": 43,
   "id": "8e632b31-4d14-4bbe-b534-598633adade0",
   "metadata": {},
   "outputs": [
    {
     "data": {
      "text/plain": [
       "{1, 2, 3, 4, 5, 6, 7}"
      ]
     },
     "execution_count": 43,
     "metadata": {},
     "output_type": "execute_result"
    }
   ],
   "source": [
    "a | b #합집합"
   ]
  },
  {
   "cell_type": "code",
   "execution_count": 44,
   "id": "ff9ede2b-fca4-4445-a7d8-cd18c1f4c1bb",
   "metadata": {},
   "outputs": [
    {
     "data": {
      "text/plain": [
       "{1, 2}"
      ]
     },
     "execution_count": 44,
     "metadata": {},
     "output_type": "execute_result"
    }
   ],
   "source": [
    "a - b #차집합"
   ]
  },
  {
   "cell_type": "code",
   "execution_count": 45,
   "id": "0d3d0c27-3ed8-4c08-8b35-b9fb8e54cc7c",
   "metadata": {},
   "outputs": [
    {
     "data": {
      "text/plain": [
       "{1, 2, 6, 7}"
      ]
     },
     "execution_count": 45,
     "metadata": {},
     "output_type": "execute_result"
    }
   ],
   "source": [
    "a ^ b  #중복제거"
   ]
  },
  {
   "cell_type": "markdown",
   "id": "5c242fb5-891f-47f2-afe7-0ad5b7e1b404",
   "metadata": {},
   "source": [
    "# if문"
   ]
  },
  {
   "cell_type": "code",
   "execution_count": 46,
   "id": "b6acde9e-0d71-4583-b20a-8230f2bb641a",
   "metadata": {},
   "outputs": [
    {
     "name": "stdout",
     "output_type": "stream",
     "text": [
      "It's not 1000won\n"
     ]
    }
   ],
   "source": [
    "a=700\n",
    "\n",
    "if a == 1000:\n",
    "    print('you have 1000won')\n",
    "else:\n",
    "    print(\"It's not 1000won\")"
   ]
  },
  {
   "cell_type": "code",
   "execution_count": 47,
   "id": "191fa413-dd2f-47ec-a17d-2e4f1e95740b",
   "metadata": {},
   "outputs": [
    {
     "name": "stdout",
     "output_type": "stream",
     "text": [
      "허니버터칩\n"
     ]
    }
   ],
   "source": [
    "b=2000\n",
    "if b==1500:\n",
    "    print('양파링')\n",
    "elif b == 2000:\n",
    "    print('허니버터칩')\n",
    "else:\n",
    "    print('긂으셈ㅋㅋ')"
   ]
  },
  {
   "cell_type": "code",
   "execution_count": 48,
   "id": "502f6716-9053-4e5c-8b96-9628c8895546",
   "metadata": {},
   "outputs": [
    {
     "name": "stdout",
     "output_type": "stream",
     "text": [
      "통과\n",
      "통과\n"
     ]
    }
   ],
   "source": [
    "c=2000\n",
    "\n",
    "if c==2000:\n",
    "    print('통과')\n",
    "\n",
    "if c>1999:\n",
    "    print('통과')"
   ]
  },
  {
   "cell_type": "code",
   "execution_count": 49,
   "id": "d5ef615a-f222-4765-ad71-af265bd8f137",
   "metadata": {},
   "outputs": [],
   "source": [
    "d = [1000, 2000]"
   ]
  },
  {
   "cell_type": "code",
   "execution_count": 50,
   "id": "e2c174b7-f86f-43e7-9f26-ef7e736819fd",
   "metadata": {},
   "outputs": [
    {
     "name": "stdout",
     "output_type": "stream",
     "text": [
      "숫자가 있습니다\n"
     ]
    }
   ],
   "source": [
    "if 2000 in d:\n",
    "    print('숫자가 있습니다')\n",
    "else:\n",
    "    print('숫자가 없습니다')"
   ]
  },
  {
   "cell_type": "code",
   "execution_count": 51,
   "id": "a688f357-0ed8-40ec-ac3f-50910e7d1ae2",
   "metadata": {},
   "outputs": [
    {
     "name": "stdout",
     "output_type": "stream",
     "text": [
      "숫자가 있습니다\n"
     ]
    }
   ],
   "source": [
    "if 2000 not in d:\n",
    "    print('숫자가 없습니다')\n",
    "else:\n",
    "    print('숫자가 있습니다')"
   ]
  },
  {
   "cell_type": "code",
   "execution_count": 52,
   "id": "bceb5378-c340-4519-8095-1cb825e22f75",
   "metadata": {},
   "outputs": [],
   "source": [
    "a='탑'\n",
    "b='베인'"
   ]
  },
  {
   "cell_type": "code",
   "execution_count": 53,
   "id": "ac35bf75-41fd-49e0-a1cf-ed8f50393ac2",
   "metadata": {},
   "outputs": [
    {
     "name": "stdout",
     "output_type": "stream",
     "text": [
      "경기진행\n"
     ]
    }
   ],
   "source": [
    "if a=='원딜'and b=='베인':\n",
    "    print('닷지')\n",
    "else:\n",
    "    print('경기진행')"
   ]
  },
  {
   "cell_type": "code",
   "execution_count": 54,
   "id": "f92fb78f-d2fa-4a69-b14c-b34713aac151",
   "metadata": {},
   "outputs": [
    {
     "name": "stdout",
     "output_type": "stream",
     "text": [
      "닷지\n"
     ]
    }
   ],
   "source": [
    "if a=='원딜'or b=='베인':\n",
    "    print('닷지')\n",
    "else:\n",
    "    print('경기진행')"
   ]
  },
  {
   "cell_type": "code",
   "execution_count": 55,
   "id": "23c14e06-eea4-499a-9256-6f279d135fe1",
   "metadata": {},
   "outputs": [],
   "source": [
    "a=()\n",
    "b=[]\n",
    "c=[1]"
   ]
  },
  {
   "cell_type": "code",
   "execution_count": 56,
   "id": "cb988cfa-e734-4f33-95fc-7b5d492e854c",
   "metadata": {},
   "outputs": [
    {
     "name": "stdout",
     "output_type": "stream",
     "text": [
      "데이터있음\n"
     ]
    }
   ],
   "source": [
    "if c:\n",
    "    print('데이터있음')\n",
    "else:\n",
    "    print('데이터없음')"
   ]
  },
  {
   "cell_type": "code",
   "execution_count": 57,
   "id": "4a3cb5a2-f715-440b-97e6-9c2eae3634bb",
   "metadata": {},
   "outputs": [
    {
     "name": "stdout",
     "output_type": "stream",
     "text": [
      "데이터없음\n"
     ]
    }
   ],
   "source": [
    "if b:\n",
    "    print('데이터있음')\n",
    "else:\n",
    "    print('데이터없음')"
   ]
  },
  {
   "cell_type": "markdown",
   "id": "bbdfc4d5-3923-49cc-9b95-85d1df028aee",
   "metadata": {},
   "source": [
    "# if문제: 성적에 따라 ABCDF출력, 잘못 입력했을 경우까지"
   ]
  },
  {
   "cell_type": "code",
   "execution_count": null,
   "id": "8c58de2f-b5e9-4065-a0e9-0bd9e5d08373",
   "metadata": {},
   "outputs": [],
   "source": []
  },
  {
   "cell_type": "code",
   "execution_count": 58,
   "id": "c6bb2321-9a49-4b5f-8240-8c3984770b92",
   "metadata": {},
   "outputs": [
    {
     "ename": "KeyboardInterrupt",
     "evalue": "Interrupted by user",
     "output_type": "error",
     "traceback": [
      "\u001b[1;31m---------------------------------------------------------------------------\u001b[0m",
      "\u001b[1;31mKeyboardInterrupt\u001b[0m                         Traceback (most recent call last)",
      "Cell \u001b[1;32mIn[58], line 1\u001b[0m\n\u001b[1;32m----> 1\u001b[0m a \u001b[38;5;241m=\u001b[39m \u001b[38;5;28mint\u001b[39m(\u001b[38;5;28minput\u001b[39m(\u001b[38;5;124m'\u001b[39m\u001b[38;5;124m숫자입력>> \u001b[39m\u001b[38;5;124m'\u001b[39m))\n\u001b[0;32m      2\u001b[0m \u001b[38;5;28;01mif\u001b[39;00m a\u001b[38;5;241m==\u001b[39m\u001b[38;5;241m100\u001b[39m:\n\u001b[0;32m      3\u001b[0m     \u001b[38;5;28mprint\u001b[39m(\u001b[38;5;124m'\u001b[39m\u001b[38;5;124mA\u001b[39m\u001b[38;5;124m'\u001b[39m)\n",
      "File \u001b[1;32m~\\anaconda3\\Lib\\site-packages\\ipykernel\\kernelbase.py:1262\u001b[0m, in \u001b[0;36mKernel.raw_input\u001b[1;34m(self, prompt)\u001b[0m\n\u001b[0;32m   1260\u001b[0m     msg \u001b[38;5;241m=\u001b[39m \u001b[38;5;124m\"\u001b[39m\u001b[38;5;124mraw_input was called, but this frontend does not support input requests.\u001b[39m\u001b[38;5;124m\"\u001b[39m\n\u001b[0;32m   1261\u001b[0m     \u001b[38;5;28;01mraise\u001b[39;00m StdinNotImplementedError(msg)\n\u001b[1;32m-> 1262\u001b[0m \u001b[38;5;28;01mreturn\u001b[39;00m \u001b[38;5;28mself\u001b[39m\u001b[38;5;241m.\u001b[39m_input_request(\n\u001b[0;32m   1263\u001b[0m     \u001b[38;5;28mstr\u001b[39m(prompt),\n\u001b[0;32m   1264\u001b[0m     \u001b[38;5;28mself\u001b[39m\u001b[38;5;241m.\u001b[39m_parent_ident[\u001b[38;5;124m\"\u001b[39m\u001b[38;5;124mshell\u001b[39m\u001b[38;5;124m\"\u001b[39m],\n\u001b[0;32m   1265\u001b[0m     \u001b[38;5;28mself\u001b[39m\u001b[38;5;241m.\u001b[39mget_parent(\u001b[38;5;124m\"\u001b[39m\u001b[38;5;124mshell\u001b[39m\u001b[38;5;124m\"\u001b[39m),\n\u001b[0;32m   1266\u001b[0m     password\u001b[38;5;241m=\u001b[39m\u001b[38;5;28;01mFalse\u001b[39;00m,\n\u001b[0;32m   1267\u001b[0m )\n",
      "File \u001b[1;32m~\\anaconda3\\Lib\\site-packages\\ipykernel\\kernelbase.py:1305\u001b[0m, in \u001b[0;36mKernel._input_request\u001b[1;34m(self, prompt, ident, parent, password)\u001b[0m\n\u001b[0;32m   1302\u001b[0m \u001b[38;5;28;01mexcept\u001b[39;00m \u001b[38;5;167;01mKeyboardInterrupt\u001b[39;00m:\n\u001b[0;32m   1303\u001b[0m     \u001b[38;5;66;03m# re-raise KeyboardInterrupt, to truncate traceback\u001b[39;00m\n\u001b[0;32m   1304\u001b[0m     msg \u001b[38;5;241m=\u001b[39m \u001b[38;5;124m\"\u001b[39m\u001b[38;5;124mInterrupted by user\u001b[39m\u001b[38;5;124m\"\u001b[39m\n\u001b[1;32m-> 1305\u001b[0m     \u001b[38;5;28;01mraise\u001b[39;00m \u001b[38;5;167;01mKeyboardInterrupt\u001b[39;00m(msg) \u001b[38;5;28;01mfrom\u001b[39;00m \u001b[38;5;28;01mNone\u001b[39;00m\n\u001b[0;32m   1306\u001b[0m \u001b[38;5;28;01mexcept\u001b[39;00m \u001b[38;5;167;01mException\u001b[39;00m:\n\u001b[0;32m   1307\u001b[0m     \u001b[38;5;28mself\u001b[39m\u001b[38;5;241m.\u001b[39mlog\u001b[38;5;241m.\u001b[39mwarning(\u001b[38;5;124m\"\u001b[39m\u001b[38;5;124mInvalid Message:\u001b[39m\u001b[38;5;124m\"\u001b[39m, exc_info\u001b[38;5;241m=\u001b[39m\u001b[38;5;28;01mTrue\u001b[39;00m)\n",
      "\u001b[1;31mKeyboardInterrupt\u001b[0m: Interrupted by user"
     ]
    }
   ],
   "source": [
    "a = int(input('숫자입력>> '))\n",
    "if a==100:\n",
    "    print('A')\n",
    "elif a>=90:\n",
    "    print('B')\n",
    "elif a>=80:\n",
    "    print('C')\n",
    "elif a>=70:\n",
    "    print('D')\n",
    "elif a<0 or a>100:\n",
    "    print('잘못입력했습니다')\n",
    "else:\n",
    "    print('F')"
   ]
  },
  {
   "cell_type": "markdown",
   "id": "eab06e71-15bd-4217-9030-7a7fad67df31",
   "metadata": {},
   "source": [
    "# 리스트의 데이터를 반복문을 이용하여 아래와 같이 출력하시오 \n"
   ]
  },
  {
   "cell_type": "raw",
   "id": "07e911df-11fa-43b3-a9eb-eafe4b0125d9",
   "metadata": {},
   "source": [
    "차량번호 1011\n",
    "-----\n",
    "차량번호 1022\n",
    "-----\n",
    "차량번호 1201\n",
    "-----\n",
    "차량번호 7202\n",
    "-----\n",
    "차량번호 2301\n",
    "-----\n",
    "차량번호 1302\n",
    "-----"
   ]
  },
  {
   "cell_type": "code",
   "execution_count": null,
   "id": "65915b88-2a79-4ea3-906b-2dd2424b0d57",
   "metadata": {},
   "outputs": [],
   "source": [
    "car_num = [[1011,1022],[1201,7202],[2301,1302]]"
   ]
  },
  {
   "cell_type": "code",
   "execution_count": null,
   "id": "f5d5587e-9b87-4601-afd0-64d35c0117cc",
   "metadata": {},
   "outputs": [],
   "source": [
    "for i in car_num:\n",
    "    for j in i:\n",
    "        print(f'차량번호 {j}')\n",
    "        print('-' * 5)"
   ]
  }
 ],
 "metadata": {
  "kernelspec": {
   "display_name": "Python 3 (ipykernel)",
   "language": "python",
   "name": "python3"
  },
  "language_info": {
   "codemirror_mode": {
    "name": "ipython",
    "version": 3
   },
   "file_extension": ".py",
   "mimetype": "text/x-python",
   "name": "python",
   "nbconvert_exporter": "python",
   "pygments_lexer": "ipython3",
   "version": "3.11.7"
  }
 },
 "nbformat": 4,
 "nbformat_minor": 5
}
