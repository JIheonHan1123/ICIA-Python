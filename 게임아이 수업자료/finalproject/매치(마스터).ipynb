{
 "cells": [
  {
   "cell_type": "code",
   "execution_count": 1,
   "id": "2b96a894-3192-4037-a76f-e627fbbdbc18",
   "metadata": {},
   "outputs": [],
   "source": [
    "riot_api_key='RGAPI-4e35b70a-4214-485e-8ef3-0fa4e4d3a5b4'"
   ]
  },
  {
   "cell_type": "code",
   "execution_count": 2,
   "id": "27d1c27c-af0d-4a95-bd11-696dac4ae03b",
   "metadata": {},
   "outputs": [],
   "source": [
    "# summoner_id와 riot_api_key를 가지고 puu_id를 가지고 온다.\n",
    "def get_puu_id(summoner_id,riot_api_key):\n",
    "    url = f'https://kr.api.riotgames.com/lol/summoner/v4/summoners/{summoner_id}?api_key={riot_api_key}'\n",
    "    res = requests.get(url).json()\n",
    "    puu_id = res['puuid']\n",
    "    return puu_id"
   ]
  },
  {
   "cell_type": "code",
   "execution_count": 3,
   "id": "43b7bc3e-a27f-4f21-8d7c-9eb9e4daf380",
   "metadata": {},
   "outputs": [],
   "source": [
    "# puu_id와 page를 가지고 해당 puu_Id 사용자의 최근 매치게임을 가져온다. \n",
    "def get_match_ids(puu_id,riot_api_key,page=20):\n",
    "    url = f'https://asia.api.riotgames.com/lol/match/v5/matches/by-puuid/{puu_id}/ids?type=ranked&start=0&count={page}&api_key={riot_api_key}'\n",
    "    res = requests.get(url).json()\n",
    "    return res"
   ]
  },
  {
   "cell_type": "code",
   "execution_count": 4,
   "id": "54de1e6b-553c-480d-8d2d-8c09fe27f1ff",
   "metadata": {},
   "outputs": [],
   "source": [
    "# match_ids를 가지고 매치랑 타임리스트를 받고, \n",
    "# match_info_list라는 리스트에 match_id와 res1(매치), res2(타임리스트), 티어를 저장한다. \n",
    "def get_matches_timelines(match_ids,riot_api_key, tier):\n",
    "    match_info_list = []\n",
    "    for match_id in tqdm(match_ids):\n",
    "        url1 = f'https://asia.api.riotgames.com/lol/match/v5/matches/{match_id}?api_key={riot_api_key}'\n",
    "        url2 = f'https://asia.api.riotgames.com/lol/match/v5/matches/{match_id}/timeline?api_key={riot_api_key}'\n",
    "        res1 = requests.get(url1).json()\n",
    "        res2 = requests.get(url2).json()\n",
    "\n",
    "        if res1['info']['gameMode'] != 'CLASSIC' :\n",
    "            print('예외')\n",
    "            continue\n",
    "        \n",
    "        match_info_list.append([match_id,res1,res2, tier])\n",
    "    return match_info_list"
   ]
  },
  {
   "cell_type": "code",
   "execution_count": 5,
   "id": "c700a402-9421-4ceb-9dfe-aaeae0bf203a",
   "metadata": {},
   "outputs": [],
   "source": [
    "def get_champion_mastery(puuid, champion_id, riot_api_key):\n",
    "    url = f'https://kr.api.riotgames.com/lol/champion-mastery/v4/champion-masteries/by-puuid/{puuid}/by-champion/{champion_id}?api_key={riot_api_key}'\n",
    "    try:\n",
    "        res = requests.get(url).json()\n",
    "        return res.get('championPoints', 0)\n",
    "    except requests.RequestException as e:\n",
    "        print(f\"{puuid}의 챔피언 {champion_id} 숙련도를 가져오는 중 오류 발생: {e}\")\n",
    "        return 0"
   ]
  },
  {
   "cell_type": "code",
   "execution_count": 6,
   "id": "5b772b84-e6e1-44ac-a0fa-d04a0e4ebc28",
   "metadata": {},
   "outputs": [],
   "source": [
    "import requests\n",
    "import random\n",
    "import pandas as pd\n",
    "from tqdm import tqdm\n",
    "import time\n",
    "from my_utils import *\n",
    "\n",
    "def get_rawdata(tier,riot_api_key):\n",
    "    summoner_id_list = []\n",
    "    puu_id_list = []\n",
    "    divisions = ['I', 'II', 'III', 'IV']\n",
    "    # 랜덤으로 페이지를 골라서 데이터를 출력한다. \n",
    "    #page = random.randrange(1,51)\n",
    "\n",
    "    \n",
    "    print(f'{tier} 소환사 ID 가져오는 중...')\n",
    "    for division in divisions:\n",
    "        try:\n",
    "            url = f'https://kr.api.riotgames.com/lol/league/v4/masterleagues/by-queue/RANKED_SOLO_5x5?api_key={riot_api_key}'\n",
    "            res = requests.get(url).json()\n",
    "            \n",
    "            #summonerId_list에 summonerId 데이터를 담는다. \n",
    "            summonerId_all_list = []\n",
    "            for entry in res['entries']:\n",
    "                summonerId_all_list.append(entry['summonerId'])\n",
    "            \n",
    "            summoner_id_list=[]\n",
    "            summoner_id_list.extend(random.sample(summonerId_all_list, 3))\n",
    "        \n",
    "        except requests.RequestException as e:\n",
    "            print(f\"{tier} {division} 소환사 목록을 가져오는 중 오류 발생: {e}\")\n",
    "\n",
    "    summoner_id_list = [x for x in summoner_id_list]\n",
    "    print('PUUID 가져오는 중...')\n",
    "    \n",
    "    for summoner_id in tqdm(summoner_id_list, desc=\"PUUID 가져오는 중\"):\n",
    "        puu_id = get_puu_id(summoner_id, riot_api_key)\n",
    "        if puu_id:\n",
    "            puu_id_list.append(puu_id)\n",
    "\n",
    "    print('경기 ID 가져오는 중...')\n",
    "    match_id_list = []\n",
    "    \n",
    "    for puu_id in tqdm(puu_id_list, desc=\"경기 ID 가져오는 중\"):\n",
    "        match_ids = get_match_ids(puu_id, riot_api_key, 2)\n",
    "        match_id_list.extend(match_ids)\n",
    "\n",
    "    print('경기 정보 가져오는 중...')\n",
    "    match_data = get_matches_timelines(match_id_list, riot_api_key, tier)\n",
    "    df = pd.DataFrame(match_data, columns=['match_id', 'matches', 'timeline','tier'])\n",
    "\n",
    "    df_info = []\n",
    "    print('소환사 통계 생성 중...')\n",
    "        \n",
    "    for _, row in tqdm(df.iterrows(), desc=\"소환사 통계 생성 중\", total=len(df)):\n",
    "        match_info = row['matches']['info']\n",
    "        if match_info['gameDuration'] > 780:\n",
    "            for participant in match_info['participants']:\n",
    "                #try:\n",
    "                    tmp = [\n",
    "                        row['match_id'],\n",
    "                        match_info['gameDuration'],\n",
    "                        match_info['gameVersion'],\n",
    "                        participant['riotIdGameName'],\n",
    "                        participant['riotIdTagline'],\n",
    "                        participant['summonerLevel'],\n",
    "                        participant['participantId'],\n",
    "                        participant['championId'],\n",
    "                        participant['championName'],\n",
    "                        get_champion_mastery(participant['puuid'], participant['championId'], riot_api_key),\n",
    "                        participant['teamPosition'],\n",
    "                        participant['teamId'],\n",
    "                        1 if participant['win'] else 0,\n",
    "                        participant['kills'],\n",
    "                        participant['deaths'],\n",
    "                        participant['assists'],\n",
    "                        participant['totalDamageDealtToChampions'],\n",
    "                        participant['totalDamageDealt'],\n",
    "                        row['tier']\n",
    "                    ]\n",
    "                    df_info.append(tmp)\n",
    "                #except KeyError as e:\n",
    "                    #print(f\"데이터 처리 중 키 오류 발생: {e}\")\n",
    "                    continue\n",
    "\n",
    "    columns = [\n",
    "        'match_id', 'gameDuration', 'gameVersion', 'riotIdGameName', 'tagLine', 'summonerLevel', \n",
    "        'participantId', 'championId', 'championName', 'championMastery', 'teamPosition', \n",
    "        'teamId', 'win', 'kills', 'deaths', 'assists', 'totalDamageDealtToChampions', \n",
    "        'totalDamageDealt', 'tier'\n",
    "    ]\n",
    "\n",
    "    df_result = pd.DataFrame(df_info, columns=columns).drop_duplicates()\n",
    "    print(f'{tier} 티어 데이터프레임의 행 수는 {len(df_result)}입니다.')\n",
    "\n",
    "    # 데이터프레임을 리스트로 변환\n",
    "    data_list = df_result.values.tolist()\n",
    "\n",
    "    # 리스트 출력\n",
    "    for data in data_list:\n",
    "        print(data)\n",
    "\n",
    "    return df_result"
   ]
  },
  {
   "cell_type": "code",
   "execution_count": 7,
   "id": "15168560-ab69-433c-b3f1-600a6884ac2b",
   "metadata": {},
   "outputs": [],
   "source": [
    "def insert_data(row):\n",
    "    query = (\n",
    "        f\"INSERT INTO testMATCHS (\"\n",
    "        f\"MCID, MCGDURATION, MCGVER, MCRDGANAME, MCRDTAGLINE, MCSUMMONERLEVEL, \"\n",
    "        f\"MCPARTICIPANTID, MCCHAMPIONID, MCCHAMPIONNAME, MCCHAMPEXPERIENCE, MCTIEAMPOSITION, \"\n",
    "        f\"MCTEAMID, MCWIN, MCKILLS, MCDEATHS, MCASSISTS, MCTOTALDDCHAMPIONS, \"\n",
    "        f\"MCTOTALDTAKEN, MCTIER) \"\n",
    "        f\"VALUES (\"\n",
    "        f\"{repr(row.match_id)}, {row.gameDuration}, {repr(row.gameVersion)}, {repr(row.riotIdGameName)}, {repr(row.tagLine)}, {row.summonerLevel}, \"\n",
    "        f\"{row.participantId}, {row.championId}, {repr(row.championName)}, {row.championMastery}, {repr(row.teamPosition)}, \"\n",
    "        f\"{row.teamId}, {row.win}, {row.kills}, {row.deaths}, {row.assists}, {row.totalDamageDealtToChampions}, \"\n",
    "        f\"{row.totalDamageDealt}, {repr(row.tier)})\"\n",
    "    )\n",
    "    sql_execute(query)"
   ]
  },
  {
   "cell_type": "code",
   "execution_count": 8,
   "id": "0a765d65-ca20-4883-80a2-bf7ff3de5fab",
   "metadata": {},
   "outputs": [
    {
     "name": "stdout",
     "output_type": "stream",
     "text": [
      "MASTER 소환사 ID 가져오는 중...\n",
      "PUUID 가져오는 중...\n"
     ]
    },
    {
     "name": "stderr",
     "output_type": "stream",
     "text": [
      "PUUID 가져오는 중: 100%|█████████████████████████████████████████████████████████████████| 3/3 [00:01<00:00,  2.20it/s]\n"
     ]
    },
    {
     "name": "stdout",
     "output_type": "stream",
     "text": [
      "경기 ID 가져오는 중...\n"
     ]
    },
    {
     "name": "stderr",
     "output_type": "stream",
     "text": [
      "경기 ID 가져오는 중: 100%|███████████████████████████████████████████████████████████████| 3/3 [00:01<00:00,  2.35it/s]\n"
     ]
    },
    {
     "name": "stdout",
     "output_type": "stream",
     "text": [
      "경기 정보 가져오는 중...\n"
     ]
    },
    {
     "name": "stderr",
     "output_type": "stream",
     "text": [
      "100%|████████████████████████████████████████████████████████████████████████████████████| 6/6 [00:08<00:00,  1.37s/it]\n"
     ]
    },
    {
     "name": "stdout",
     "output_type": "stream",
     "text": [
      "소환사 통계 생성 중...\n"
     ]
    },
    {
     "name": "stderr",
     "output_type": "stream",
     "text": [
      "소환사 통계 생성 중: 100%|███████████████████████████████████████████████████████████████| 6/6 [00:45<00:00,  7.59s/it]\n"
     ]
    },
    {
     "name": "stdout",
     "output_type": "stream",
     "text": [
      "MASTER 티어 데이터프레임의 행 수는 60입니다.\n",
      "['KR_7078710848', 911, '14.10.585.8823', '08년생 바바리안', '2008', 277, 1, 897, 'KSante', 155894, 'TOP', 100, 0, 0, 5, 0, 6842, 33131, 'MASTER']\n",
      "['KR_7078710848', 911, '14.10.585.8823', 'YONG2', '6666', 238, 2, 76, 'Nidalee', 63838, 'JUNGLE', 100, 0, 1, 6, 1, 4225, 102222, 'MASTER']\n",
      "['KR_7078710848', 911, '14.10.585.8823', 'H6at', 'n11', 39, 3, 517, 'Sylas', 85576, 'MIDDLE', 100, 0, 2, 7, 1, 8144, 37650, 'MASTER']\n",
      "['KR_7078710848', 911, '14.10.585.8823', '07AD幻想打职业', '07ad', 274, 4, 236, 'Lucian', 20116, 'BOTTOM', 100, 0, 4, 5, 0, 6737, 45635, 'MASTER']\n",
      "['KR_7078710848', 911, '14.10.585.8823', '정공글주', 'KR1', 422, 5, 53, 'Blitzcrank', 68164, 'UTILITY', 100, 0, 0, 4, 5, 1924, 10673, 'MASTER']\n",
      "['KR_7078710848', 911, '14.10.585.8823', 'mxx', 'wewe', 63, 6, 887, 'Gwen', 3063, 'TOP', 200, 1, 4, 0, 2, 11917, 88419, 'MASTER']\n",
      "['KR_7078710848', 911, '14.10.585.8823', '김유빈1234', 'KR1', 539, 7, 91, 'Talon', 1408647, 'JUNGLE', 200, 1, 3, 2, 10, 5829, 94785, 'MASTER']\n",
      "['KR_7078710848', 911, '14.10.585.8823', 'yuyu', '5888', 89, 8, 166, 'Akshan', 219785, 'MIDDLE', 200, 1, 7, 1, 6, 13729, 64878, 'MASTER']\n",
      "['KR_7078710848', 911, '14.10.585.8823', 'whgusaud', 'KR1', 213, 9, 145, 'Kaisa', 41095, 'BOTTOM', 200, 1, 10, 1, 5, 13751, 64823, 'MASTER']\n",
      "['KR_7078710848', 911, '14.10.585.8823', 'Cloud', 'KR07', 331, 10, 111, 'Nautilus', 242553, 'UTILITY', 200, 1, 3, 3, 13, 7354, 21795, 'MASTER']\n",
      "['KR_7078664389', 1616, '14.10.585.8823', '의문의트롤탑솔러', '프로못함', 36, 1, 14, 'Sion', 41612, 'TOP', 100, 1, 2, 1, 5, 13716, 181285, 'MASTER']\n",
      "['KR_7078664389', 1616, '14.10.585.8823', '김유빈1234', 'KR1', 539, 2, 876, 'Lillia', 45792, 'JUNGLE', 100, 1, 2, 3, 13, 16986, 184625, 'MASTER']\n",
      "['KR_7078664389', 1616, '14.10.585.8823', 'yunini', '唯我独尊', 199, 3, 91, 'Talon', 131236, 'MIDDLE', 100, 1, 5, 3, 3, 14037, 203042, 'MASTER']\n",
      "['KR_7078664389', 1616, '14.10.585.8823', 'Hp Day1', '8215', 546, 4, 145, 'Kaisa', 332536, 'BOTTOM', 100, 1, 13, 2, 5, 27914, 220311, 'MASTER']\n",
      "['KR_7078664389', 1616, '14.10.585.8823', '고양이', '0103', 490, 5, 412, 'Thresh', 109043, 'UTILITY', 100, 1, 0, 2, 16, 5189, 17942, 'MASTER']\n",
      "['KR_7078664389', 1616, '14.10.585.8823', '함현식', 'KR1', 987, 6, 10, 'Kayle', 133774, 'TOP', 200, 0, 0, 3, 2, 11964, 147831, 'MASTER']\n",
      "['KR_7078664389', 1616, '14.10.585.8823', '다정다감', '0314', 386, 7, 234, 'Viego', 90596, 'JUNGLE', 200, 0, 5, 4, 2, 15628, 210842, 'MASTER']\n",
      "['KR_7078664389', 1616, '14.10.585.8823', 'LotusKnife', '897', 72, 8, 246, 'Qiyana', 45129, 'MIDDLE', 200, 0, 3, 5, 2, 10717, 149184, 'MASTER']\n",
      "['KR_7078664389', 1616, '14.10.585.8823', 'i miss you', 'KR4', 78, 9, 222, 'Jinx', 19241, 'BOTTOM', 200, 0, 1, 6, 2, 10356, 99548, 'MASTER']\n",
      "['KR_7078664389', 1616, '14.10.585.8823', '송원초김우성', 'asd12', 39, 10, 497, 'Rakan', 39126, 'UTILITY', 200, 0, 0, 4, 3, 3324, 15066, 'MASTER']\n",
      "['KR_7078746864', 1124, '14.10.585.8823', '멍장학', 'KR1', 322, 1, 133, 'Quinn', 886465, 'TOP', 100, 1, 6, 3, 4, 11679, 79679, 'MASTER']\n",
      "['KR_7078746864', 1124, '14.10.585.8823', '관 모', 'KR2', 879, 2, 163, 'Taliyah', 198061, 'JUNGLE', 100, 1, 3, 1, 14, 13535, 178775, 'MASTER']\n",
      "['KR_7078746864', 1124, '14.10.585.8823', '누가이기나함봐바', 'KR1', 335, 3, 910, 'Hwei', 85026, 'MIDDLE', 100, 1, 6, 3, 6, 11468, 84903, 'MASTER']\n",
      "['KR_7078746864', 1124, '14.10.585.8823', 'tadijfolz1em', 'KR1', 456, 4, 42, 'Corki', 11635, 'BOTTOM', 100, 1, 11, 2, 7, 26602, 135955, 'MASTER']\n",
      "['KR_7078746864', 1124, '14.10.585.8823', 'Destiny', 'KR1', 768, 5, 526, 'Rell', 143400, 'UTILITY', 100, 1, 0, 2, 18, 3545, 15569, 'MASTER']\n",
      "['KR_7078746864', 1124, '14.10.585.8823', '마법사', '6577', 56, 6, 164, 'Camille', 107710, 'TOP', 200, 0, 5, 6, 3, 9070, 70726, 'MASTER']\n",
      "['KR_7078746864', 1124, '14.10.585.8823', '은꼴인캉테', '000', 445, 7, 234, 'Viego', 114109, 'JUNGLE', 200, 0, 3, 4, 3, 4288, 108627, 'MASTER']\n",
      "['KR_7078746864', 1124, '14.10.585.8823', 'sdawxl', 'KR1', 218, 8, 4, 'TwistedFate', 632350, 'MIDDLE', 200, 0, 3, 5, 4, 8090, 80871, 'MASTER']\n",
      "['KR_7078746864', 1124, '14.10.585.8823', 'ovoowo', '0213', 95, 9, 222, 'Jinx', 3194, 'BOTTOM', 200, 0, 0, 5, 2, 7491, 58832, 'MASTER']\n",
      "['KR_7078746864', 1124, '14.10.585.8823', 'K Tool King', 'KR2', 283, 10, 497, 'Rakan', 406269, 'UTILITY', 200, 0, 0, 6, 1, 2550, 9350, 'MASTER']\n",
      "['KR_7078724879', 913, '14.10.585.8823', '허허걸', 'KR1', 349, 1, 36, 'DrMundo', 131709, 'TOP', 100, 1, 2, 1, 3, 7114, 49103, 'MASTER']\n",
      "['KR_7078724879', 913, '14.10.585.8823', '뭉 멍', 'KR1', 399, 2, 421, 'RekSai', 369267, 'JUNGLE', 100, 1, 2, 0, 7, 4623, 102990, 'MASTER']\n",
      "['KR_7078724879', 913, '14.10.585.8823', '누가이기나함봐바', 'KR1', 335, 3, 136, 'AurelionSol', 26097, 'MIDDLE', 100, 1, 4, 0, 3, 2990, 58081, 'MASTER']\n",
      "['KR_7078724879', 913, '14.10.585.8823', '죽을게', 'KR1', 568, 4, 360, 'Samira', 100273, 'BOTTOM', 100, 1, 5, 1, 5, 7720, 64609, 'MASTER']\n",
      "['KR_7078724879', 913, '14.10.585.8823', '원딜이롤을제일못함반박하지마셈', '또마딱원딜', 148, 5, 555, 'Pyke', 182063, 'UTILITY', 100, 1, 3, 0, 8, 4664, 9167, 'MASTER']\n",
      "['KR_7078724879', 913, '14.10.585.8823', 'Ripple', '2006', 737, 6, 887, 'Gwen', 206155, 'TOP', 200, 0, 0, 3, 0, 10354, 92697, 'MASTER']\n",
      "['KR_7078724879', 913, '14.10.585.8823', 'mophat', 'gohan', 51, 7, 254, 'Vi', 23626, 'JUNGLE', 200, 0, 0, 1, 1, 1329, 107965, 'MASTER']\n",
      "['KR_7078724879', 913, '14.10.585.8823', 'Pyopyo', '기표06', 107, 8, 103, 'Ahri', 31608, 'MIDDLE', 200, 0, 1, 2, 0, 4746, 59175, 'MASTER']\n",
      "['KR_7078724879', 913, '14.10.585.8823', 'qxqzzwzx', 'qxqzz', 578, 9, 81, 'Ezreal', 126838, 'BOTTOM', 200, 0, 0, 6, 1, 4889, 28439, 'MASTER']\n",
      "['KR_7078724879', 913, '14.10.585.8823', '이 지', '케이크', 568, 10, 350, 'Yuumi', 790577, 'UTILITY', 200, 0, 0, 4, 1, 3100, 6907, 'MASTER']\n",
      "['KR_7078837754', 1918, '14.10.585.8823', '이승연', '1999', 240, 1, 114, 'Fiora', 721156, 'TOP', 100, 0, 9, 6, 7, 28841, 203046, 'MASTER']\n",
      "['KR_7078837754', 1918, '14.10.585.8823', 'hy442975', 'wmr', 129, 2, 9, 'FiddleSticks', 617897, 'JUNGLE', 100, 0, 5, 5, 12, 21713, 218527, 'MASTER']\n",
      "['KR_7078837754', 1918, '14.10.585.8823', '그마 종자', '나아님누가', 310, 3, 18, 'Tristana', 13147, 'MIDDLE', 100, 0, 4, 10, 9, 11834, 174078, 'MASTER']\n",
      "['KR_7078837754', 1918, '14.10.585.8823', 'another', 'gods', 185, 4, 110, 'Varus', 14654, 'BOTTOM', 100, 0, 13, 8, 11, 34462, 176784, 'MASTER']\n",
      "['KR_7078837754', 1918, '14.10.585.8823', '팔 벤', 'KR1', 119, 5, 888, 'Renata', 6294, 'UTILITY', 100, 0, 3, 7, 19, 9886, 24940, 'MASTER']\n",
      "['KR_7078837754', 1918, '14.10.585.8823', '근성맨', 'KR1', 143, 6, 68, 'Rumble', 667215, 'TOP', 200, 1, 4, 6, 10, 21575, 134414, 'MASTER']\n",
      "['KR_7078837754', 1918, '14.10.585.8823', '꿈은 아득히 멀다', 'yzz97', 117, 7, 163, 'Taliyah', 270687, 'JUNGLE', 200, 1, 4, 7, 21, 26289, 349129, 'MASTER']\n",
      "['KR_7078837754', 1918, '14.10.585.8823', 'yunini', '唯我独尊', 199, 8, 91, 'Talon', 131236, 'MIDDLE', 200, 1, 16, 4, 8, 35510, 294459, 'MASTER']\n",
      "['KR_7078837754', 1918, '14.10.585.8823', 'Formuler', '0112', 250, 9, 119, 'Draven', 1161645, 'BOTTOM', 200, 1, 11, 8, 14, 35025, 229082, 'MASTER']\n",
      "['KR_7078837754', 1918, '14.10.585.8823', 'ovoowo', '0213', 95, 10, 111, 'Nautilus', 47496, 'UTILITY', 200, 1, 1, 9, 25, 11612, 24840, 'MASTER']\n",
      "['KR_7078833485', 920, '14.10.585.8823', 'Vine', 'True', 484, 1, 126, 'Jayce', 310572, 'TOP', 100, 1, 1, 2, 2, 7205, 53386, 'MASTER']\n",
      "['KR_7078833485', 920, '14.10.585.8823', '유피미아', '여왕1', 293, 2, 9, 'FiddleSticks', 51311, 'JUNGLE', 100, 1, 4, 0, 5, 8191, 150103, 'MASTER']\n",
      "['KR_7078833485', 920, '14.10.585.8823', 'yunini', '唯我独尊', 199, 3, 91, 'Talon', 131236, 'MIDDLE', 100, 1, 6, 0, 0, 6833, 69611, 'MASTER']\n",
      "['KR_7078833485', 920, '14.10.585.8823', 'BULL', 'kr11', 777, 4, 119, 'Draven', 203164, 'BOTTOM', 100, 1, 2, 3, 3, 5524, 41362, 'MASTER']\n",
      "['KR_7078833485', 920, '14.10.585.8823', '투정꾼 ', 'KR1', 483, 5, 164, 'Camille', 22039, 'UTILITY', 100, 1, 1, 4, 5, 5282, 10370, 'MASTER']\n",
      "['KR_7078833485', 920, '14.10.585.8823', '선한 녀석', 'KR1', 446, 6, 69, 'Cassiopeia', 1785194, 'TOP', 200, 0, 1, 3, 1, 5417, 49623, 'MASTER']\n",
      "['KR_7078833485', 920, '14.10.585.8823', '小 明', '666', 94, 7, 876, 'Lillia', 249961, 'JUNGLE', 200, 0, 1, 3, 2, 4862, 101973, 'MASTER']\n",
      "['KR_7078833485', 920, '14.10.585.8823', '칼과 창 방패', 'KR1', 762, 8, 78, 'Poppy', 3096551, 'MIDDLE', 200, 0, 1, 4, 0, 6623, 47412, 'MASTER']\n",
      "['KR_7078833485', 920, '14.10.585.8823', 'udo1zO5X3', '멍 멍', 118, 9, 429, 'Kalista', 22721, 'BOTTOM', 200, 0, 5, 2, 2, 7001, 54279, 'MASTER']\n",
      "['KR_7078833485', 920, '14.10.585.8823', 'iijko', 'jko', 65, 10, 111, 'Nautilus', 88575, 'UTILITY', 200, 0, 1, 3, 6, 5822, 17512, 'MASTER']\n"
     ]
    },
    {
     "name": "stderr",
     "output_type": "stream",
     "text": [
      " 18%|██████████████▊                                                                  | 11/60 [00:00<00:00, 101.99it/s]"
     ]
    },
    {
     "name": "stdout",
     "output_type": "stream",
     "text": [
      "oracle 쿼리 성공\n",
      "oracle 쿼리 성공\n",
      "oracle 쿼리 성공\n",
      "oracle 쿼리 성공\n",
      "oracle 쿼리 성공\n",
      "oracle 쿼리 성공\n",
      "oracle 쿼리 성공\n",
      "oracle 쿼리 성공\n",
      "oracle 쿼리 성공\n",
      "oracle 쿼리 성공\n",
      "oracle 쿼리 성공\n",
      "oracle 쿼리 성공\n",
      "oracle 쿼리 성공\n",
      "oracle 쿼리 성공\n",
      "oracle 쿼리 성공\n",
      "oracle 쿼리 성공\n"
     ]
    },
    {
     "name": "stderr",
     "output_type": "stream",
     "text": [
      " 37%|█████████████████████████████▋                                                   | 22/60 [00:00<00:00, 101.90it/s]"
     ]
    },
    {
     "name": "stdout",
     "output_type": "stream",
     "text": [
      "oracle 쿼리 성공\n",
      "oracle 쿼리 성공\n",
      "oracle 쿼리 성공\n",
      "oracle 쿼리 성공\n",
      "oracle 쿼리 성공\n"
     ]
    },
    {
     "name": "stderr",
     "output_type": "stream",
     "text": [
      " 55%|█████████████████████████████████████████████                                     | 33/60 [00:00<00:00, 93.20it/s]"
     ]
    },
    {
     "name": "stdout",
     "output_type": "stream",
     "text": [
      "oracle 쿼리 성공\n",
      "oracle 쿼리 성공\n",
      "oracle 쿼리 성공\n",
      "oracle 쿼리 성공\n",
      "oracle 쿼리 성공\n",
      "oracle 쿼리 성공\n",
      "oracle 쿼리 성공\n",
      "oracle 쿼리 성공\n",
      "oracle 쿼리 성공\n",
      "oracle 쿼리 성공\n",
      "oracle 쿼리 성공\n",
      "oracle 쿼리 성공\n",
      "oracle 쿼리 성공\n",
      "oracle 쿼리 성공\n",
      "oracle 쿼리 성공\n",
      "oracle 쿼리 성공\n",
      "oracle 쿼리 성공\n",
      "oracle 쿼리 성공\n"
     ]
    },
    {
     "name": "stderr",
     "output_type": "stream",
     "text": [
      " 90%|█████████████████████████████████████████████████████████████████████████▊        | 54/60 [00:00<00:00, 95.52it/s]"
     ]
    },
    {
     "name": "stdout",
     "output_type": "stream",
     "text": [
      "oracle 쿼리 성공\n",
      "oracle 쿼리 성공\n",
      "oracle 쿼리 성공\n",
      "oracle 쿼리 성공\n",
      "oracle 쿼리 성공\n",
      "oracle 쿼리 성공\n",
      "oracle 쿼리 성공\n",
      "oracle 쿼리 성공\n",
      "oracle 쿼리 성공\n",
      "oracle 쿼리 성공\n",
      "oracle 쿼리 성공\n",
      "oracle 쿼리 성공\n",
      "oracle 쿼리 성공\n",
      "oracle 쿼리 성공\n",
      "oracle 쿼리 성공\n",
      "oracle 쿼리 성공\n",
      "oracle 쿼리 성공\n",
      "oracle 쿼리 성공\n",
      "oracle 쿼리 성공\n"
     ]
    },
    {
     "name": "stderr",
     "output_type": "stream",
     "text": [
      "100%|██████████████████████████████████████████████████████████████████████████████████| 60/60 [00:00<00:00, 95.55it/s]"
     ]
    },
    {
     "name": "stdout",
     "output_type": "stream",
     "text": [
      "oracle 쿼리 성공\n",
      "oracle 쿼리 성공\n"
     ]
    },
    {
     "name": "stderr",
     "output_type": "stream",
     "text": [
      "\n"
     ]
    },
    {
     "name": "stdout",
     "output_type": "stream",
     "text": [
      "오라클 정상적으로 닫힘\n",
      "MASTER 소환사 ID 가져오는 중...\n",
      "PUUID 가져오는 중...\n"
     ]
    },
    {
     "name": "stderr",
     "output_type": "stream",
     "text": [
      "PUUID 가져오는 중: 100%|█████████████████████████████████████████████████████████████████| 3/3 [00:02<00:00,  1.35it/s]\n"
     ]
    },
    {
     "name": "stdout",
     "output_type": "stream",
     "text": [
      "경기 ID 가져오는 중...\n"
     ]
    },
    {
     "name": "stderr",
     "output_type": "stream",
     "text": [
      "경기 ID 가져오는 중: 100%|███████████████████████████████████████████████████████████████| 3/3 [00:02<00:00,  1.20it/s]\n"
     ]
    },
    {
     "name": "stdout",
     "output_type": "stream",
     "text": [
      "경기 정보 가져오는 중...\n"
     ]
    },
    {
     "name": "stderr",
     "output_type": "stream",
     "text": [
      "100%|████████████████████████████████████████████████████████████████████████████████████| 6/6 [00:09<00:00,  1.63s/it]\n"
     ]
    },
    {
     "name": "stdout",
     "output_type": "stream",
     "text": [
      "소환사 통계 생성 중...\n"
     ]
    },
    {
     "name": "stderr",
     "output_type": "stream",
     "text": [
      "소환사 통계 생성 중: 100%|███████████████████████████████████████████████████████████████| 6/6 [00:47<00:00,  7.84s/it]\n"
     ]
    },
    {
     "name": "stdout",
     "output_type": "stream",
     "text": [
      "MASTER 티어 데이터프레임의 행 수는 60입니다.\n",
      "['KR_7078979723', 2029, '14.10.585.8823', 'wink', '2024', 90, 1, 164, 'Camille', 8764, 'TOP', 100, 0, 8, 6, 10, 32421, 232426, 'MASTER']\n",
      "['KR_7078979723', 2029, '14.10.585.8823', '쬬 닝', '0418', 77, 2, 421, 'RekSai', 153216, 'JUNGLE', 100, 0, 7, 5, 12, 17825, 273411, 'MASTER']\n",
      "['KR_7078979723', 2029, '14.10.585.8823', 'HAPPY EVERYDAY', '2223', 65, 3, 142, 'Zoe', 5312, 'MIDDLE', 100, 0, 9, 9, 8, 24702, 140121, 'MASTER']\n",
      "['KR_7078979723', 2029, '14.10.585.8823', 'dum', 'ovo', 72, 4, 202, 'Jhin', 21140, 'BOTTOM', 100, 0, 11, 4, 10, 32248, 278735, 'MASTER']\n",
      "['KR_7078979723', 2029, '14.10.585.8823', '서동하', 'KR2', 405, 5, 111, 'Nautilus', 30478, 'UTILITY', 100, 0, 1, 6, 18, 8284, 23731, 'MASTER']\n",
      "['KR_7078979723', 2029, '14.10.585.8823', '나도 나를 몰라', '8233', 495, 6, 24, 'Jax', 166373, 'TOP', 200, 1, 7, 10, 6, 27629, 220228, 'MASTER']\n",
      "['KR_7078979723', 2029, '14.10.585.8823', 'xiaofang', 'ovo', 289, 7, 876, 'Lillia', 11037, 'JUNGLE', 200, 1, 8, 9, 12, 37066, 336974, 'MASTER']\n",
      "['KR_7078979723', 2029, '14.10.585.8823', '온 재', 'KR1', 513, 8, 238, 'Zed', 2755444, 'MIDDLE', 200, 1, 3, 2, 11, 22034, 196167, 'MASTER']\n",
      "['KR_7078979723', 2029, '14.10.585.8823', '준 혁', '0526예', 455, 9, 222, 'Jinx', 190711, 'BOTTOM', 200, 1, 12, 5, 8, 38990, 276582, 'MASTER']\n",
      "['KR_7078979723', 2029, '14.10.585.8823', '망 태', '망 태', 853, 10, 412, 'Thresh', 199329, 'UTILITY', 200, 1, 0, 10, 13, 6260, 17131, 'MASTER']\n",
      "['KR_7078965280', 1710, '14.10.585.8823', '天上天下唯我獨尊', '怒火中烧', 490, 1, 68, 'Rumble', 27298, 'TOP', 100, 0, 18, 8, 8, 48880, 145715, 'MASTER']\n",
      "['KR_7078965280', 1710, '14.10.585.8823', '무 거', 'KR1', 269, 2, 5, 'XinZhao', 922, 'JUNGLE', 100, 0, 6, 13, 9, 22958, 184054, 'MASTER']\n",
      "['KR_7078965280', 1710, '14.10.585.8823', '1nvader', '1108', 99, 3, 18, 'Tristana', 31715, 'MIDDLE', 100, 0, 3, 6, 11, 19973, 124963, 'MASTER']\n",
      "['KR_7078965280', 1710, '14.10.585.8823', 'Globby', 'KR1', 70, 4, 145, 'Kaisa', 49323, 'BOTTOM', 100, 0, 9, 6, 9, 30586, 188869, 'MASTER']\n",
      "['KR_7078965280', 1710, '14.10.585.8823', 'masiyu', '1610', 46, 5, 497, 'Rakan', 93271, 'UTILITY', 100, 0, 4, 6, 26, 9241, 26093, 'MASTER']\n",
      "['KR_7078965280', 1710, '14.10.585.8823', '2006', '0214', 41, 6, 114, 'Fiora', 34924, 'TOP', 200, 1, 12, 11, 5, 36258, 186368, 'MASTER']\n",
      "['KR_7078965280', 1710, '14.10.585.8823', '04Zeta', 'KR1', 181, 7, 76, 'Nidalee', 31919, 'JUNGLE', 200, 1, 9, 7, 10, 24397, 250859, 'MASTER']\n",
      "['KR_7078965280', 1710, '14.10.585.8823', '간절맨', 'KR2', 41, 8, 897, 'KSante', 14563, 'MIDDLE', 200, 1, 11, 4, 13, 31673, 130060, 'MASTER']\n",
      "['KR_7078965280', 1710, '14.10.585.8823', 'dum', 'ovo', 72, 9, 236, 'Lucian', 56032, 'BOTTOM', 200, 1, 7, 9, 9, 30107, 174554, 'MASTER']\n",
      "['KR_7078965280', 1710, '14.10.585.8823', '뱅둥이', 'KR1', 286, 10, 111, 'Nautilus', 15584, 'UTILITY', 200, 1, 0, 9, 18, 9861, 25250, 'MASTER']\n",
      "['KR_7077982957', 1119, '14.10.585.8823', '딸기따르트으', 'KR1', 492, 1, 897, 'KSante', 388678, 'TOP', 100, 1, 3, 1, 3, 10519, 76968, 'MASTER']\n",
      "['KR_7077982957', 1119, '14.10.585.8823', 'xiaonaiyou', '让我刷会野', 182, 2, 163, 'Taliyah', 76212, 'JUNGLE', 100, 1, 10, 0, 4, 18460, 190994, 'MASTER']\n",
      "['KR_7077982957', 1119, '14.10.585.8823', 'Quad', '123', 273, 3, 777, 'Yone', 43632, 'MIDDLE', 100, 1, 4, 4, 5, 9524, 98736, 'MASTER']\n",
      "['KR_7077982957', 1119, '14.10.585.8823', 'bbhay', '159', 71, 4, 22, 'Ashe', 10497, 'BOTTOM', 100, 1, 2, 1, 6, 9192, 59369, 'MASTER']\n",
      "['KR_7077982957', 1119, '14.10.585.8823', 'iyia', 'KR1', 185, 5, 223, 'TahmKench', 34712, 'UTILITY', 100, 1, 2, 3, 6, 4473, 11810, 'MASTER']\n",
      "['KR_7077982957', 1119, '14.10.585.8823', '서동하', 'KR2', 405, 6, 266, 'Aatrox', 104956, 'TOP', 200, 0, 0, 4, 1, 8327, 62557, 'MASTER']\n",
      "['KR_7077982957', 1119, '14.10.585.8823', '先点菜吧', 'KR111', 182, 7, 203, 'Kindred', 30781, 'JUNGLE', 200, 0, 2, 4, 3, 5288, 92720, 'MASTER']\n",
      "['KR_7077982957', 1119, '14.10.585.8823', 'G1aBao', 'VN1', 240, 8, 61, 'Orianna', 327940, 'MIDDLE', 200, 0, 5, 2, 1, 17097, 89666, 'MASTER']\n",
      "['KR_7077982957', 1119, '14.10.585.8823', 'Bvoy', '000', 415, 9, 429, 'Kalista', 180652, 'BOTTOM', 200, 0, 2, 6, 1, 11023, 55227, 'MASTER']\n",
      "['KR_7077982957', 1119, '14.10.585.8823', '니 아', 'KR00', 717, 10, 111, 'Nautilus', 238335, 'UTILITY', 200, 0, 0, 5, 6, 5262, 13420, 'MASTER']\n",
      "['KR_7077946353', 1262, '14.10.585.8823', '돌아온호랑이', '나다임마', 113, 1, 58, 'Renekton', 22380, 'TOP', 100, 1, 8, 3, 3, 20425, 142862, 'MASTER']\n",
      "['KR_7077946353', 1262, '14.10.585.8823', 'AFTV푸른문어', 'Moon', 71, 2, 76, 'Nidalee', 3737, 'JUNGLE', 100, 1, 7, 3, 12, 16630, 214534, 'MASTER']\n",
      "['KR_7077946353', 1262, '14.10.585.8823', 'Guinness X', '0128', 586, 3, 910, 'Hwei', 63176, 'MIDDLE', 100, 1, 8, 1, 11, 15375, 99888, 'MASTER']\n",
      "['KR_7077946353', 1262, '14.10.585.8823', '젠레스존제로우', 'KR1', 239, 4, 117, 'Lulu', 2085, 'UTILITY', 100, 1, 3, 4, 20, 12917, 23602, 'MASTER']\n",
      "['KR_7077946353', 1262, '14.10.585.8823', 'bbhay', '159', 71, 5, 22, 'Ashe', 10497, 'BOTTOM', 100, 1, 11, 1, 9, 25415, 101848, 'MASTER']\n",
      "['KR_7077946353', 1262, '14.10.585.8823', 'C9 David', '123', 44, 6, 897, 'KSante', 7071, 'TOP', 200, 0, 2, 7, 1, 13452, 84054, 'MASTER']\n",
      "['KR_7077946353', 1262, '14.10.585.8823', 'shrj', 'shrj', 77, 7, 9, 'FiddleSticks', 80170, 'JUNGLE', 200, 0, 5, 9, 2, 11712, 109403, 'MASTER']\n",
      "['KR_7077946353', 1262, '14.10.585.8823', '맞다이로 들어와', '맞다이', 35, 8, 126, 'Jayce', 494, 'MIDDLE', 200, 0, 0, 6, 1, 14989, 92602, 'MASTER']\n",
      "['KR_7077946353', 1262, '14.10.585.8823', '던 킨', '도 넛', 72, 9, 236, 'Lucian', 45615, 'BOTTOM', 200, 0, 3, 9, 4, 15093, 63146, 'MASTER']\n",
      "['KR_7077946353', 1262, '14.10.585.8823', 'FeralTortoise', 'NA2', 35, 10, 267, 'Nami', 1950, 'UTILITY', 200, 0, 2, 6, 7, 8243, 15289, 'MASTER']\n",
      "['KR_7078849861', 1384, '14.10.585.8823', '하루하루', 'PRO', 109, 1, 24, 'Jax', 119586, 'TOP', 100, 1, 9, 2, 7, 26747, 122021, 'MASTER']\n",
      "['KR_7078849861', 1384, '14.10.585.8823', '592', '世一上', 421, 2, 421, 'RekSai', 2572, 'JUNGLE', 100, 1, 7, 4, 10, 14715, 196277, 'MASTER']\n",
      "['KR_7078849861', 1384, '14.10.585.8823', '궁 동', 'KR1', 489, 3, 3, 'Galio', 12573, 'MIDDLE', 100, 1, 8, 1, 13, 13549, 114669, 'MASTER']\n",
      "['KR_7078849861', 1384, '14.10.585.8823', '그xx', '5844', 313, 4, 221, 'Zeri', 32012, 'BOTTOM', 100, 1, 6, 1, 11, 16289, 150917, 'MASTER']\n",
      "['KR_7078849861', 1384, '14.10.585.8823', '레몬 나무', 'KR1', 177, 5, 12, 'Alistar', 14611, 'UTILITY', 100, 1, 1, 3, 22, 5164, 14025, 'MASTER']\n",
      "['KR_7078849861', 1384, '14.10.585.8823', '제라스', '전투기계', 410, 6, 86, 'Garen', 6149, 'TOP', 200, 0, 4, 7, 2, 14801, 93306, 'MASTER']\n",
      "['KR_7078849861', 1384, '14.10.585.8823', '0W0u', 'KR1', 56, 7, 104, 'Graves', 6086, 'JUNGLE', 200, 0, 1, 4, 4, 9979, 182727, 'MASTER']\n",
      "['KR_7078849861', 1384, '14.10.585.8823', 'Disorder mid', 'KR1', 101, 8, 55, 'Katarina', 322852, 'MIDDLE', 200, 0, 4, 9, 5, 16126, 105434, 'MASTER']\n",
      "['KR_7078849861', 1384, '14.10.585.8823', 'Talkon lrelia', 'KR1', 198, 9, 222, 'Jinx', 42298, 'BOTTOM', 200, 0, 2, 3, 2, 11683, 70919, 'MASTER']\n",
      "['KR_7078849861', 1384, '14.10.585.8823', 'Zaracoyol', 'ZCL', 63, 10, 111, 'Nautilus', 447, 'UTILITY', 200, 0, 0, 8, 3, 5775, 18932, 'MASTER']\n",
      "['KR_7078846476', 1584, '14.10.585.8823', 'Zaracoyol', 'ZCL', 63, 1, 266, 'Aatrox', 61637, 'TOP', 100, 0, 11, 6, 5, 27156, 115117, 'MASTER']\n",
      "['KR_7078846476', 1584, '14.10.585.8823', 'Conlan', 'KR1', 59, 2, 876, 'Lillia', 2711, 'JUNGLE', 100, 0, 3, 7, 11, 20084, 199732, 'MASTER']\n",
      "['KR_7078846476', 1584, '14.10.585.8823', 'naocanzhenduo', 'KR11', 299, 3, 42, 'Corki', 23642, 'MIDDLE', 100, 0, 14, 10, 7, 34425, 150990, 'MASTER']\n",
      "['KR_7078846476', 1584, '14.10.585.8823', 'cesmcse', 'wywq', 74, 4, 523, 'Aphelios', 13770, 'BOTTOM', 100, 0, 6, 10, 5, 22974, 174148, 'MASTER']\n",
      "['KR_7078846476', 1584, '14.10.585.8823', '쵸비의CS공장', 'KR1', 179, 5, 53, 'Blitzcrank', 12572, 'UTILITY', 100, 0, 1, 9, 15, 7211, 11202, 'MASTER']\n",
      "['KR_7078846476', 1584, '14.10.585.8823', 'Black kitty', 'kr2', 480, 6, 240, 'Kled', 38159, 'TOP', 200, 1, 7, 10, 13, 27614, 89677, 'MASTER']\n",
      "['KR_7078846476', 1584, '14.10.585.8823', 'RDGF', 'wywq', 44, 7, 24, 'Jax', 31480, 'JUNGLE', 200, 1, 7, 5, 9, 18244, 197598, 'MASTER']\n",
      "['KR_7078846476', 1584, '14.10.585.8823', '펀치펀치 핵펀치', 'KR1', 96, 8, 13, 'Ryze', 12239, 'MIDDLE', 200, 1, 1, 11, 3, 13044, 187718, 'MASTER']\n",
      "['KR_7078846476', 1584, '14.10.585.8823', 'Pangjin', 'kr2', 889, 9, 222, 'Jinx', 289907, 'BOTTOM', 200, 1, 23, 5, 8, 42421, 273753, 'MASTER']\n",
      "['KR_7078846476', 1584, '14.10.585.8823', 'vital', '0916', 430, 10, 201, 'Braum', 2458, 'UTILITY', 200, 1, 4, 4, 27, 10329, 21807, 'MASTER']\n"
     ]
    },
    {
     "name": "stderr",
     "output_type": "stream",
     "text": [
      " 18%|███████████████                                                                   | 11/60 [00:00<00:00, 99.90it/s]"
     ]
    },
    {
     "name": "stdout",
     "output_type": "stream",
     "text": [
      "oracle 쿼리 성공\n",
      "oracle 쿼리 성공\n",
      "oracle 쿼리 성공\n",
      "oracle 쿼리 성공\n",
      "oracle 쿼리 성공\n",
      "oracle 쿼리 성공\n",
      "oracle 쿼리 성공\n",
      "oracle 쿼리 성공\n",
      "oracle 쿼리 성공\n",
      "oracle 쿼리 성공\n",
      "oracle 쿼리 성공\n",
      "oracle 쿼리 성공\n",
      "oracle 쿼리 성공\n",
      "oracle 쿼리 성공\n",
      "oracle 쿼리 성공\n",
      "oracle 쿼리 성공\n",
      "oracle 쿼리 성공\n"
     ]
    },
    {
     "name": "stderr",
     "output_type": "stream",
     "text": [
      " 52%|██████████████████████████████████████████▎                                       | 31/60 [00:00<00:00, 80.15it/s]"
     ]
    },
    {
     "name": "stdout",
     "output_type": "stream",
     "text": [
      "oracle 쿼리 성공\n",
      "oracle 쿼리 성공\n",
      "oracle 쿼리 성공\n",
      "oracle 쿼리 성공\n",
      "oracle 쿼리 성공\n",
      "oracle 쿼리 성공\n",
      "oracle 쿼리 성공\n",
      "oracle 쿼리 성공\n",
      "oracle 쿼리 성공\n",
      "oracle 쿼리 성공\n",
      "oracle 쿼리 성공\n",
      "oracle 쿼리 성공\n",
      "oracle 쿼리 성공\n",
      "oracle 쿼리 성공\n",
      "oracle 쿼리 성공\n",
      "oracle 쿼리 성공\n"
     ]
    },
    {
     "name": "stderr",
     "output_type": "stream",
     "text": [
      " 83%|████████████████████████████████████████████████████████████████████▎             | 50/60 [00:00<00:00, 86.28it/s]"
     ]
    },
    {
     "name": "stdout",
     "output_type": "stream",
     "text": [
      "oracle 쿼리 성공\n",
      "oracle 쿼리 성공\n",
      "oracle 쿼리 성공\n",
      "oracle 쿼리 성공\n",
      "oracle 쿼리 성공\n",
      "oracle 쿼리 성공\n",
      "oracle 쿼리 성공\n",
      "oracle 쿼리 성공\n",
      "oracle 쿼리 성공\n",
      "oracle 쿼리 성공\n",
      "oracle 쿼리 성공\n",
      "oracle 쿼리 성공\n",
      "oracle 쿼리 성공\n",
      "oracle 쿼리 성공\n",
      "oracle 쿼리 성공\n",
      "oracle 쿼리 성공\n",
      "oracle 쿼리 성공\n",
      "oracle 쿼리 성공\n",
      "oracle 쿼리 성공\n",
      "oracle 쿼리 성공\n",
      "oracle 쿼리 성공\n"
     ]
    },
    {
     "name": "stderr",
     "output_type": "stream",
     "text": [
      "100%|██████████████████████████████████████████████████████████████████████████████████| 60/60 [00:00<00:00, 86.83it/s]\n"
     ]
    },
    {
     "name": "stdout",
     "output_type": "stream",
     "text": [
      "oracle 쿼리 성공\n",
      "oracle 쿼리 성공\n",
      "oracle 쿼리 성공\n",
      "oracle 쿼리 성공\n",
      "oracle 쿼리 성공\n",
      "oracle 쿼리 성공\n",
      "오라클 정상적으로 닫힘\n",
      "MASTER 소환사 ID 가져오는 중...\n",
      "PUUID 가져오는 중...\n"
     ]
    },
    {
     "name": "stderr",
     "output_type": "stream",
     "text": [
      "PUUID 가져오는 중: 100%|█████████████████████████████████████████████████████████████████| 3/3 [00:01<00:00,  1.72it/s]\n"
     ]
    },
    {
     "name": "stdout",
     "output_type": "stream",
     "text": [
      "경기 ID 가져오는 중...\n"
     ]
    },
    {
     "name": "stderr",
     "output_type": "stream",
     "text": [
      "경기 ID 가져오는 중: 100%|███████████████████████████████████████████████████████████████| 3/3 [00:01<00:00,  1.75it/s]\n"
     ]
    },
    {
     "name": "stdout",
     "output_type": "stream",
     "text": [
      "경기 정보 가져오는 중...\n"
     ]
    },
    {
     "name": "stderr",
     "output_type": "stream",
     "text": [
      "100%|████████████████████████████████████████████████████████████████████████████████████| 6/6 [00:09<00:00,  1.63s/it]\n"
     ]
    },
    {
     "name": "stdout",
     "output_type": "stream",
     "text": [
      "소환사 통계 생성 중...\n"
     ]
    },
    {
     "name": "stderr",
     "output_type": "stream",
     "text": [
      "소환사 통계 생성 중: 100%|███████████████████████████████████████████████████████████████| 6/6 [00:40<00:00,  6.81s/it]\n"
     ]
    },
    {
     "name": "stdout",
     "output_type": "stream",
     "text": [
      "MASTER 티어 데이터프레임의 행 수는 60입니다.\n",
      "['KR_7078791845', 1493, '14.10.585.8823', '이겨야만한다', '부들부들', 42, 1, 72, 'Skarner', 19090, 'TOP', 100, 1, 6, 2, 9, 26105, 133356, 'MASTER']\n",
      "['KR_7078791845', 1493, '14.10.585.8823', 'DK Sharvel', 'KR1', 687, 2, 104, 'Graves', 59120, 'JUNGLE', 100, 1, 7, 2, 9, 20745, 296135, 'MASTER']\n",
      "['KR_7078791845', 1493, '14.10.585.8823', '8 Is Enuff', 'KR1', 200, 3, 910, 'Hwei', 12894, 'MIDDLE', 100, 1, 5, 1, 7, 15903, 123932, 'MASTER']\n",
      "['KR_7078791845', 1493, '14.10.585.8823', 'MiG GGEY', '늙었어', 463, 4, 51, 'Caitlyn', 12769, 'BOTTOM', 100, 1, 7, 2, 9, 18774, 127069, 'MASTER']\n",
      "['KR_7078791845', 1493, '14.10.585.8823', 'ovoowo', '0213', 95, 5, 22, 'Ashe', 66548, 'UTILITY', 100, 1, 1, 7, 11, 8995, 28606, 'MASTER']\n",
      "['KR_7078791845', 1493, '14.10.585.8823', '潜龙勿用', '乾隆误用', 115, 6, 887, 'Gwen', 21908, 'TOP', 200, 0, 3, 5, 0, 9319, 141549, 'MASTER']\n",
      "['KR_7078791845', 1493, '14.10.585.8823', '나혼자만레벨업', 'Lv999', 199, 7, 64, 'LeeSin', 214902, 'JUNGLE', 200, 0, 2, 8, 4, 7237, 130290, 'MASTER']\n",
      "['KR_7078791845', 1493, '14.10.585.8823', '2133', 'KR1', 246, 8, 134, 'Syndra', 49600, 'MIDDLE', 200, 0, 4, 4, 1, 17115, 132675, 'MASTER']\n",
      "['KR_7078791845', 1493, '14.10.585.8823', 'another', 'gods', 185, 9, 236, 'Lucian', 26500, 'BOTTOM', 200, 0, 5, 5, 4, 12500, 139980, 'MASTER']\n",
      "['KR_7078791845', 1493, '14.10.585.8823', 'Slayer', '0618', 813, 10, 111, 'Nautilus', 22853, 'UTILITY', 200, 0, 0, 4, 8, 4929, 17128, 'MASTER']\n",
      "['KR_7078777353', 2084, '14.10.585.8823', 'douyin HuJun', '286', 51, 1, 19, 'Warwick', 206420, 'TOP', 100, 0, 6, 7, 5, 20375, 128440, 'MASTER']\n",
      "['KR_7078777353', 2084, '14.10.585.8823', 'cqtoo', 'Ganyu', 114, 2, 64, 'LeeSin', 11896, 'JUNGLE', 100, 0, 6, 6, 8, 19497, 245971, 'MASTER']\n",
      "['KR_7078777353', 2084, '14.10.585.8823', '참을忍', '살 인', 745, 3, 910, 'Hwei', 27386, 'MIDDLE', 100, 0, 4, 7, 12, 42009, 184519, 'MASTER']\n",
      "['KR_7078777353', 2084, '14.10.585.8823', 'whgusaud', 'KR1', 213, 4, 110, 'Varus', 11386, 'BOTTOM', 100, 0, 11, 12, 8, 43562, 208741, 'MASTER']\n",
      "['KR_7078777353', 2084, '14.10.585.8823', 'DK Sharvel', 'KR1', 687, 5, 111, 'Nautilus', 33572, 'UTILITY', 100, 0, 7, 8, 16, 11778, 30125, 'MASTER']\n",
      "['KR_7078777353', 2084, '14.10.585.8823', '이겨야만한다', '부들부들', 42, 6, 72, 'Skarner', 19090, 'TOP', 200, 1, 2, 5, 19, 30657, 123018, 'MASTER']\n",
      "['KR_7078777353', 2084, '14.10.585.8823', '다정다감', '0314', 386, 7, 234, 'Viego', 90596, 'JUNGLE', 200, 1, 15, 5, 11, 23175, 281171, 'MASTER']\n",
      "['KR_7078777353', 2084, '14.10.585.8823', 'rkswjfgkqslek', 'KR1', 577, 8, 163, 'Taliyah', 73781, 'MIDDLE', 200, 1, 6, 7, 20, 37619, 209450, 'MASTER']\n",
      "['KR_7078777353', 2084, '14.10.585.8823', 'Bvoy', '000', 416, 9, 51, 'Caitlyn', 134998, 'BOTTOM', 200, 1, 17, 7, 13, 56238, 291205, 'MASTER']\n",
      "['KR_7078777353', 2084, '14.10.585.8823', 'another', 'gods', 185, 10, 201, 'Braum', 6785, 'UTILITY', 200, 1, 0, 11, 28, 10990, 22362, 'MASTER']\n",
      "['KR_7078422716', 1189, '14.10.585.8823', '소    년', 'kr999', 218, 1, 72, 'Skarner', 11934, 'TOP', 100, 0, 0, 0, 0, 14032, 106324, 'MASTER']\n",
      "['KR_7078422716', 1189, '14.10.585.8823', 'hold me', '5599', 65, 2, 234, 'Viego', 42283, 'MIDDLE', 100, 0, 3, 2, 1, 7744, 94235, 'MASTER']\n",
      "['KR_7078422716', 1189, '14.10.585.8823', 'yuan', 'KR233', 157, 3, 63, 'Brand', 12642, 'JUNGLE', 100, 0, 5, 2, 3, 15363, 147902, 'MASTER']\n",
      "['KR_7078422716', 1189, '14.10.585.8823', 'pray4me', '6666', 96, 4, 222, 'Jinx', 61161, 'BOTTOM', 100, 0, 0, 6, 5, 5157, 70087, 'MASTER']\n",
      "['KR_7078422716', 1189, '14.10.585.8823', '80년생 프로지망', 'China', 337, 5, 518, 'Neeko', 1161308, 'UTILITY', 100, 0, 3, 7, 4, 9134, 18248, 'MASTER']\n",
      "['KR_7078422716', 1189, '14.10.585.8823', '지존핸드맨몬스터', 'KR1', 210, 6, 36, 'DrMundo', 559949, 'TOP', 200, 1, 0, 1, 2, 15184, 111909, 'MASTER']\n",
      "['KR_7078422716', 1189, '14.10.585.8823', 'dreamwake52', 'dream', 62, 7, 203, 'Kindred', 169586, 'JUNGLE', 200, 1, 7, 4, 4, 12190, 167770, 'MASTER']\n",
      "['KR_7078422716', 1189, '14.10.585.8823', 'AloisNL', 'Riven', 37, 8, 92, 'Riven', 96582, 'MIDDLE', 200, 1, 2, 0, 4, 7308, 104371, 'MASTER']\n",
      "['KR_7078422716', 1189, '14.10.585.8823', 'xinsuixiaogou', '6666', 162, 9, 145, 'Kaisa', 76895, 'BOTTOM', 200, 1, 7, 4, 3, 11004, 88268, 'MASTER']\n",
      "['KR_7078422716', 1189, '14.10.585.8823', 'thinkniht', 'think', 150, 10, 526, 'Rell', 59287, 'UTILITY', 200, 1, 1, 2, 14, 6020, 15571, 'MASTER']\n",
      "['KR_7078380751', 932, '14.10.585.8823', 'Get677', 'KR1', 88, 1, 266, 'Aatrox', 361790, 'TOP', 100, 1, 1, 1, 3, 10391, 55023, 'MASTER']\n",
      "['KR_7078380751', 932, '14.10.585.8823', '샤인머스캣 존맛', 'KR1', 575, 2, 200, 'Belveth', 109953, 'JUNGLE', 100, 1, 6, 4, 3, 6591, 81930, 'MASTER']\n",
      "['KR_7078380751', 932, '14.10.585.8823', 'asdcxc', 'zzz', 36, 3, 134, 'Syndra', 3334, 'MIDDLE', 100, 1, 3, 1, 2, 10019, 64694, 'MASTER']\n",
      "['KR_7078380751', 932, '14.10.585.8823', '김민교 수제자', 'KR1', 215, 4, 69, 'Cassiopeia', 635331, 'BOTTOM', 100, 1, 7, 3, 5, 15802, 70712, 'MASTER']\n",
      "['KR_7078380751', 932, '14.10.585.8823', 'BLGqq2845921660', 'BLG', 196, 5, 111, 'Nautilus', 167794, 'UTILITY', 100, 1, 3, 3, 11, 7237, 11234, 'MASTER']\n",
      "['KR_7078380751', 932, '14.10.585.8823', '소    년', 'kr999', 218, 6, 887, 'Gwen', 10074, 'TOP', 200, 0, 2, 2, 1, 8234, 81131, 'MASTER']\n",
      "['KR_7078380751', 932, '14.10.585.8823', 'WORLDS', 'KDF', 819, 7, 876, 'Lillia', 175028, 'JUNGLE', 200, 0, 3, 4, 2, 6549, 113977, 'MASTER']\n",
      "['KR_7078380751', 932, '14.10.585.8823', 'Taeyoon', '서강컴', 243, 8, 18, 'Tristana', 6692, 'MIDDLE', 200, 0, 3, 3, 0, 4729, 41208, 'MASTER']\n",
      "['KR_7078380751', 932, '14.10.585.8823', 'pray4me', '6666', 96, 9, 222, 'Jinx', 61161, 'BOTTOM', 200, 0, 2, 6, 4, 5361, 38230, 'MASTER']\n",
      "['KR_7078380751', 932, '14.10.585.8823', 'Rui1', 'KR1', 244, 10, 497, 'Rakan', 51256, 'UTILITY', 200, 0, 2, 5, 6, 3925, 6253, 'MASTER']\n",
      "['KR_7076573020', 1316, '14.10.585.8823', 'JiXuan', 'KR123', 85, 1, 72, 'Skarner', 36386, 'TOP', 100, 1, 2, 4, 10, 10481, 80420, 'MASTER']\n",
      "['KR_7076573020', 1316, '14.10.585.8823', 'xinw', 'x1x1', 37, 2, 76, 'Nidalee', 7036, 'JUNGLE', 100, 1, 11, 1, 8, 16994, 186187, 'MASTER']\n",
      "['KR_7076573020', 1316, '14.10.585.8823', 'Saki', 'KR50', 95, 3, 80, 'Pantheon', 13048, 'MIDDLE', 100, 1, 5, 3, 8, 17381, 97615, 'MASTER']\n",
      "['KR_7076573020', 1316, '14.10.585.8823', 'Ocean', 'Tang', 144, 4, 222, 'Jinx', 48611, 'BOTTOM', 100, 1, 6, 1, 5, 15803, 134044, 'MASTER']\n",
      "['KR_7076573020', 1316, '14.10.585.8823', 'guadian', '12345', 43, 5, 44, 'Taric', 33207, 'UTILITY', 100, 1, 2, 2, 15, 4184, 19229, 'MASTER']\n",
      "['KR_7076573020', 1316, '14.10.585.8823', '안산구성주', '쿠팡맨', 303, 6, 69, 'Cassiopeia', 1964685, 'TOP', 200, 0, 5, 5, 0, 22496, 91759, 'MASTER']\n",
      "['KR_7076573020', 1316, '14.10.585.8823', '잘생긴정현이', 'KR1', 529, 7, 5, 'XinZhao', 58563, 'JUNGLE', 200, 0, 2, 6, 5, 8559, 153211, 'MASTER']\n",
      "['KR_7076573020', 1316, '14.10.585.8823', '강함을 만나면 강해진다', '9000', 56, 8, 910, 'Hwei', 16785, 'MIDDLE', 200, 0, 2, 4, 3, 16038, 112645, 'MASTER']\n",
      "['KR_7076573020', 1316, '14.10.585.8823', 'ting mama de hua', '1111', 275, 9, 22, 'Ashe', 16972, 'BOTTOM', 200, 0, 2, 6, 2, 12237, 85040, 'MASTER']\n",
      "['KR_7076573020', 1316, '14.10.585.8823', '무조건3', 'KR1', 375, 10, 117, 'Lulu', 8960, 'UTILITY', 200, 0, 0, 5, 6, 7093, 18260, 'MASTER']\n",
      "['KR_7076518320', 1535, '14.10.585.8823', '막강주니', 'KR1', 556, 1, 58, 'Renekton', 207123, 'TOP', 100, 0, 5, 4, 2, 15766, 140437, 'MASTER']\n",
      "['KR_7076518320', 1535, '14.10.585.8823', '끼없는연습벌레', 'KR1', 615, 2, 131, 'Diana', 38297, 'JUNGLE', 100, 0, 5, 5, 6, 13163, 267895, 'MASTER']\n",
      "['KR_7076518320', 1535, '14.10.585.8823', 'L9into2372005919', 'KR0', 222, 3, 246, 'Qiyana', 390620, 'MIDDLE', 100, 0, 4, 4, 4, 15313, 98410, 'MASTER']\n",
      "['KR_7076518320', 1535, '14.10.585.8823', '초밥사줬더니회만다빼먹는홍예진', '이준혁', 77, 4, 523, 'Aphelios', 21627, 'BOTTOM', 100, 0, 2, 5, 3, 12494, 107362, 'MASTER']\n",
      "['KR_7076518320', 1535, '14.10.585.8823', '쩨잉구', 'KR1', 148, 5, 526, 'Rell', 127209, 'UTILITY', 100, 0, 0, 4, 8, 5276, 15829, 'MASTER']\n",
      "['KR_7076518320', 1535, '14.10.585.8823', 'Jarvis', 'KR11', 91, 6, 113, 'Sejuani', 2444, 'TOP', 200, 1, 2, 5, 13, 21989, 118775, 'MASTER']\n",
      "['KR_7076518320', 1535, '14.10.585.8823', 'Unknown', '0423', 939, 7, 234, 'Viego', 115944, 'JUNGLE', 200, 1, 8, 2, 5, 15366, 237434, 'MASTER']\n",
      "['KR_7076518320', 1535, '14.10.585.8823', '강함을 만나면 강해진다', '9000', 56, 8, 142, 'Zoe', 128289, 'MIDDLE', 200, 1, 8, 4, 6, 21763, 89139, 'MASTER']\n",
      "['KR_7076518320', 1535, '14.10.585.8823', '트롤킴', '1205', 43, 9, 429, 'Kalista', 4361, 'BOTTOM', 200, 1, 4, 3, 10, 15946, 138489, 'MASTER']\n",
      "['KR_7076518320', 1535, '14.10.585.8823', '00동현', 'Kr3', 270, 10, 44, 'Taric', 621330, 'UTILITY', 200, 1, 0, 2, 16, 6307, 38387, 'MASTER']\n"
     ]
    },
    {
     "name": "stderr",
     "output_type": "stream",
     "text": [
      " 20%|████████████████▏                                                                | 12/60 [00:00<00:00, 111.51it/s]"
     ]
    },
    {
     "name": "stdout",
     "output_type": "stream",
     "text": [
      "oracle 쿼리 성공\n",
      "oracle 쿼리 성공\n",
      "oracle 쿼리 성공\n",
      "oracle 쿼리 성공\n",
      "oracle 쿼리 성공\n",
      "oracle 쿼리 성공\n",
      "oracle 쿼리 성공\n",
      "oracle 쿼리 성공\n",
      "oracle 쿼리 성공\n",
      "oracle 쿼리 성공\n",
      "oracle 쿼리 성공\n",
      "oracle 쿼리 성공\n",
      "oracle 쿼리 성공\n",
      "oracle 쿼리 성공\n",
      "oracle 쿼리 성공\n",
      "oracle 쿼리 성공\n",
      "oracle 쿼리 성공\n",
      "oracle 쿼리 성공\n"
     ]
    },
    {
     "name": "stderr",
     "output_type": "stream",
     "text": [
      " 40%|████████████████████████████████▍                                                | 24/60 [00:00<00:00, 107.77it/s]"
     ]
    },
    {
     "name": "stdout",
     "output_type": "stream",
     "text": [
      "oracle 쿼리 성공\n",
      "oracle 쿼리 성공\n",
      "oracle 쿼리 성공\n",
      "oracle 쿼리 성공\n",
      "oracle 쿼리 성공\n"
     ]
    },
    {
     "name": "stderr",
     "output_type": "stream",
     "text": [
      " 58%|███████████████████████████████████████████████▎                                 | 35/60 [00:00<00:00, 107.74it/s]"
     ]
    },
    {
     "name": "stdout",
     "output_type": "stream",
     "text": [
      "oracle 쿼리 성공\n",
      "oracle 쿼리 성공\n",
      "oracle 쿼리 성공\n",
      "oracle 쿼리 성공\n",
      "oracle 쿼리 성공\n",
      "oracle 쿼리 성공\n",
      "oracle 쿼리 성공\n",
      "oracle 쿼리 성공\n",
      "oracle 쿼리 성공\n",
      "oracle 쿼리 성공\n",
      "oracle 쿼리 성공\n",
      "oracle 쿼리 성공\n",
      "oracle 쿼리 성공\n",
      "oracle 쿼리 성공\n",
      "oracle 쿼리 성공\n",
      "oracle 쿼리 성공\n",
      "oracle 쿼리 성공\n",
      "oracle 쿼리 성공\n",
      "oracle 쿼리 성공\n"
     ]
    },
    {
     "name": "stderr",
     "output_type": "stream",
     "text": [
      " 77%|██████████████████████████████████████████████████████████████▊                   | 46/60 [00:00<00:00, 64.74it/s]"
     ]
    },
    {
     "name": "stdout",
     "output_type": "stream",
     "text": [
      "oracle 쿼리 성공\n",
      "oracle 쿼리 성공\n",
      "oracle 쿼리 성공\n",
      "oracle 쿼리 성공\n",
      "oracle 쿼리 성공\n",
      "oracle 쿼리 성공\n",
      "oracle 쿼리 성공\n"
     ]
    },
    {
     "name": "stderr",
     "output_type": "stream",
     "text": [
      " 92%|███████████████████████████████████████████████████████████████████████████▏      | 55/60 [00:01<00:00, 37.61it/s]"
     ]
    },
    {
     "name": "stdout",
     "output_type": "stream",
     "text": [
      "oracle 쿼리 성공\n",
      "oracle 쿼리 성공\n",
      "oracle 쿼리 성공\n",
      "oracle 쿼리 성공\n",
      "oracle 쿼리 성공\n",
      "oracle 쿼리 성공\n",
      "oracle 쿼리 성공\n"
     ]
    },
    {
     "name": "stderr",
     "output_type": "stream",
     "text": [
      "100%|██████████████████████████████████████████████████████████████████████████████████| 60/60 [00:01<00:00, 51.58it/s]\n"
     ]
    },
    {
     "name": "stdout",
     "output_type": "stream",
     "text": [
      "oracle 쿼리 성공\n",
      "oracle 쿼리 성공\n",
      "oracle 쿼리 성공\n",
      "oracle 쿼리 성공\n",
      "오라클 정상적으로 닫힘\n",
      "MASTER 소환사 ID 가져오는 중...\n",
      "PUUID 가져오는 중...\n"
     ]
    },
    {
     "name": "stderr",
     "output_type": "stream",
     "text": [
      "PUUID 가져오는 중: 100%|█████████████████████████████████████████████████████████████████| 3/3 [00:02<00:00,  1.24it/s]\n"
     ]
    },
    {
     "name": "stdout",
     "output_type": "stream",
     "text": [
      "경기 ID 가져오는 중...\n"
     ]
    },
    {
     "name": "stderr",
     "output_type": "stream",
     "text": [
      "경기 ID 가져오는 중: 100%|███████████████████████████████████████████████████████████████| 3/3 [00:03<00:00,  1.03s/it]\n"
     ]
    },
    {
     "name": "stdout",
     "output_type": "stream",
     "text": [
      "경기 정보 가져오는 중...\n"
     ]
    },
    {
     "name": "stderr",
     "output_type": "stream",
     "text": [
      "100%|████████████████████████████████████████████████████████████████████████████████████| 6/6 [00:13<00:00,  2.30s/it]\n"
     ]
    },
    {
     "name": "stdout",
     "output_type": "stream",
     "text": [
      "소환사 통계 생성 중...\n"
     ]
    },
    {
     "name": "stderr",
     "output_type": "stream",
     "text": [
      "소환사 통계 생성 중: 100%|███████████████████████████████████████████████████████████████| 6/6 [00:46<00:00,  7.67s/it]\n"
     ]
    },
    {
     "name": "stdout",
     "output_type": "stream",
     "text": [
      "MASTER 티어 데이터프레임의 행 수는 60입니다.\n",
      "['KR_7078832651', 1359, '14.10.585.8823', '부쉬안유미', 'KR1', 286, 1, 107, 'Rengar', 1434509, 'TOP', 100, 0, 4, 6, 4, 15241, 114123, 'MASTER']\n",
      "['KR_7078832651', 1359, '14.10.585.8823', 'Eleanor', 'Young', 42, 2, 203, 'Kindred', 11671, 'JUNGLE', 100, 0, 5, 10, 4, 17905, 178405, 'MASTER']\n",
      "['KR_7078832651', 1359, '14.10.585.8823', '쿠팡맨', '최성종', 264, 3, 105, 'Fizz', 1039945, 'MIDDLE', 100, 0, 11, 9, 3, 21076, 78534, 'MASTER']\n",
      "['KR_7078832651', 1359, '14.10.585.8823', '째끼춘', 'KR1', 743, 4, 42, 'Corki', 15734, 'BOTTOM', 100, 0, 4, 8, 11, 18426, 90670, 'MASTER']\n",
      "['KR_7078832651', 1359, '14.10.585.8823', '썲짢꽜엶졺뀄뫘묾쓿돐풂빪홅잃늚턺', 'KR01', 226, 5, 526, 'Rell', 23237, 'UTILITY', 100, 0, 3, 2, 14, 6608, 12933, 'MASTER']\n",
      "['KR_7078832651', 1359, '14.10.585.8823', '마음만은의원면직', 'KR1', 340, 6, 154, 'Zac', 1198237, 'TOP', 200, 1, 4, 2, 10, 14636, 84047, 'MASTER']\n",
      "['KR_7078832651', 1359, '14.10.585.8823', '心事无法共鸣', 'lucky', 178, 7, 24, 'Jax', 14547, 'JUNGLE', 200, 1, 12, 6, 6, 19189, 159291, 'MASTER']\n",
      "['KR_7078832651', 1359, '14.10.585.8823', 'kkaa9', 'KR1', 157, 8, 84, 'Akali', 32860, 'MIDDLE', 200, 1, 14, 4, 6, 26706, 117850, 'MASTER']\n",
      "['KR_7078832651', 1359, '14.10.585.8823', '문제혁', 'KR1', 391, 9, 81, 'Ezreal', 253493, 'BOTTOM', 200, 1, 4, 5, 16, 17461, 84508, 'MASTER']\n",
      "['KR_7078832651', 1359, '14.10.585.8823', '시바견꼼이탱이', 'KR1', 808, 10, 50, 'Swain', 3269252, 'UTILITY', 200, 1, 1, 10, 20, 8995, 25555, 'MASTER']\n",
      "['KR_7078832095', 1491, '14.10.585.8823', '마음만은의원면직', 'KR1', 340, 1, 154, 'Zac', 1198237, 'TOP', 100, 1, 3, 3, 9, 14706, 79391, 'MASTER']\n",
      "['KR_7078832095', 1491, '14.10.585.8823', '心事无法共鸣', 'lucky', 178, 2, 76, 'Nidalee', 61599, 'JUNGLE', 100, 1, 16, 2, 12, 24153, 198188, 'MASTER']\n",
      "['KR_7078832095', 1491, '14.10.585.8823', 'kkaa9', 'KR1', 157, 3, 126, 'Jayce', 75783, 'MIDDLE', 100, 1, 8, 1, 10, 27142, 164000, 'MASTER']\n",
      "['KR_7078832095', 1491, '14.10.585.8823', 'lilt', 'KR1', 424, 4, 222, 'Jinx', 101205, 'BOTTOM', 100, 1, 8, 3, 6, 20374, 194897, 'MASTER']\n",
      "['KR_7078832095', 1491, '14.10.585.8823', '시바견꼼이탱이', 'KR1', 808, 5, 50, 'Swain', 3269252, 'UTILITY', 100, 1, 3, 5, 15, 13745, 34857, 'MASTER']\n",
      "['KR_7078832095', 1491, '14.10.585.8823', '01046880593', '노길령모임', 497, 6, 2, 'Olaf', 192051, 'TOP', 200, 0, 4, 5, 1, 24063, 161350, 'MASTER']\n",
      "['KR_7078832095', 1491, '14.10.585.8823', '悲伤有一千万种孤独的人都相同', 'Txk', 412, 7, 30, 'Karthus', 30324, 'JUNGLE', 200, 0, 0, 9, 4, 22596, 175286, 'MASTER']\n",
      "['KR_7078832095', 1491, '14.10.585.8823', '샨 왕', 'KR1', 530, 8, 163, 'Taliyah', 148018, 'MIDDLE', 200, 0, 2, 6, 1, 13223, 102303, 'MASTER']\n",
      "['KR_7078832095', 1491, '14.10.585.8823', 'Scar', 'KR11', 235, 9, 110, 'Varus', 44210, 'BOTTOM', 200, 0, 7, 11, 1, 21690, 113795, 'MASTER']\n",
      "['KR_7078832095', 1491, '14.10.585.8823', '파 처', 'KR1', 295, 10, 497, 'Rakan', 249939, 'UTILITY', 200, 0, 1, 7, 9, 6930, 16683, 'MASTER']\n",
      "['KR_7075940630', 1449, '14.10.585.8823', '대호깍기인형', 'ady', 570, 1, 3, 'Galio', 434209, 'TOP', 100, 1, 2, 4, 18, 15482, 127299, 'MASTER']\n",
      "['KR_7075940630', 1449, '14.10.585.8823', '잘생긴정현이', 'KR1', 528, 2, 35, 'Shaco', 453303, 'JUNGLE', 100, 1, 6, 1, 10, 8588, 189184, 'MASTER']\n",
      "['KR_7075940630', 1449, '14.10.585.8823', '1253', '123', 63, 3, 136, 'AurelionSol', 13254, 'MIDDLE', 100, 1, 11, 5, 10, 26964, 110958, 'MASTER']\n",
      "['KR_7075940630', 1449, '14.10.585.8823', 'DaiJioBu', '888', 122, 4, 42, 'Corki', 8629, 'BOTTOM', 100, 1, 6, 2, 7, 16370, 113074, 'MASTER']\n",
      "['KR_7075940630', 1449, '14.10.585.8823', '깊이반성하며', 'KR1', 513, 5, 12, 'Alistar', 198220, 'UTILITY', 100, 1, 3, 6, 22, 5639, 13173, 'MASTER']\n",
      "['KR_7075940630', 1449, '14.10.585.8823', 'mingjiao哥', 'kr1', 1300, 6, 72, 'Skarner', 38030, 'TOP', 200, 0, 2, 3, 11, 16730, 112652, 'MASTER']\n",
      "['KR_7075940630', 1449, '14.10.585.8823', 'Dadadadududu', 'cyndi', 126, 7, 104, 'Graves', 47809, 'JUNGLE', 200, 0, 8, 7, 9, 22972, 204438, 'MASTER']\n",
      "['KR_7075940630', 1449, '14.10.585.8823', '81171132del', 'KR1', 192, 8, 13, 'Ryze', 1002921, 'MIDDLE', 200, 0, 4, 4, 6, 17350, 124471, 'MASTER']\n",
      "['KR_7075940630', 1449, '14.10.585.8823', 'lactea420', 'KR1', 890, 9, 360, 'Samira', 193019, 'BOTTOM', 200, 0, 4, 7, 6, 15801, 114107, 'MASTER']\n",
      "['KR_7075940630', 1449, '14.10.585.8823', 'xeesoxee', 'iu99', 273, 10, 111, 'Nautilus', 114747, 'UTILITY', 200, 0, 0, 7, 11, 6940, 20044, 'MASTER']\n",
      "['KR_7075859625', 2012, '14.10.585.8823', 'mingjiao哥', 'kr1', 1300, 1, 897, 'KSante', 111973, 'MIDDLE', 100, 1, 10, 3, 12, 21124, 177137, 'MASTER']\n",
      "['KR_7075859625', 2012, '14.10.585.8823', 'hi2d', 'KR1', 193, 2, 421, 'RekSai', 106712, 'JUNGLE', 100, 1, 5, 6, 13, 15274, 229809, 'MASTER']\n",
      "['KR_7075859625', 2012, '14.10.585.8823', '81171132del', 'KR1', 192, 3, 13, 'Ryze', 1002921, 'TOP', 100, 1, 5, 12, 7, 20446, 193197, 'MASTER']\n",
      "['KR_7075859625', 2012, '14.10.585.8823', '의 주', '의 주', 740, 4, 221, 'Zeri', 163629, 'BOTTOM', 100, 1, 13, 4, 12, 49307, 369491, 'MASTER']\n",
      "['KR_7075859625', 2012, '14.10.585.8823', '깊이반성하며', 'KR1', 513, 5, 497, 'Rakan', 271180, 'UTILITY', 100, 1, 1, 9, 18, 8150, 17795, 'MASTER']\n",
      "['KR_7075859625', 2012, '14.10.585.8823', '96년생 티모장인', '9202', 366, 6, 17, 'Teemo', 554457, 'TOP', 200, 0, 9, 6, 12, 44342, 192408, 'MASTER']\n",
      "['KR_7075859625', 2012, '14.10.585.8823', '请叫我juicy', '9999', 159, 7, 234, 'Viego', 21185, 'JUNGLE', 200, 0, 1, 7, 12, 10118, 251872, 'MASTER']\n",
      "['KR_7075859625', 2012, '14.10.585.8823', 'wulaidafa', 'KR1', 120, 8, 55, 'Katarina', 116972, 'MIDDLE', 200, 0, 10, 8, 4, 25829, 139364, 'MASTER']\n",
      "['KR_7075859625', 2012, '14.10.585.8823', 'PraHa', '0426', 410, 9, 222, 'Jinx', 79462, 'BOTTOM', 200, 0, 11, 5, 10, 37832, 268727, 'MASTER']\n",
      "['KR_7075859625', 2012, '14.10.585.8823', 'heeseong', 'KR1', 487, 10, 412, 'Thresh', 796822, 'UTILITY', 200, 0, 3, 8, 16, 8628, 18339, 'MASTER']\n",
      "['KR_7078803260', 1848, '14.10.585.8823', '천 꽃', 'KR1', 1289, 1, 164, 'Camille', 1088930, 'TOP', 100, 0, 3, 8, 4, 15004, 149682, 'MASTER']\n",
      "['KR_7078803260', 1848, '14.10.585.8823', 'wukenaihe', '0717', 93, 2, 141, 'Kayn', 341921, 'JUNGLE', 100, 0, 6, 9, 7, 14119, 196893, 'MASTER']\n",
      "['KR_7078803260', 1848, '14.10.585.8823', 'maybe', 'PaoS', 60, 3, 38, 'Kassadin', 6431, 'MIDDLE', 100, 0, 2, 9, 9, 18876, 152813, 'MASTER']\n",
      "['KR_7078803260', 1848, '14.10.585.8823', '국민대 소융 19 2', 'KR1', 226, 4, 222, 'Jinx', 70917, 'BOTTOM', 100, 0, 7, 6, 7, 27181, 220824, 'MASTER']\n",
      "['KR_7078803260', 1848, '14.10.585.8823', 'AFTV초군슬', '구독좋아', 105, 5, 201, 'Braum', 58538, 'UTILITY', 100, 0, 1, 3, 16, 8589, 21052, 'MASTER']\n",
      "['KR_7078803260', 1848, '14.10.585.8823', '생각의가지를잘라', '2005', 60, 6, 24, 'Jax', 8714, 'TOP', 200, 1, 7, 3, 12, 19759, 182487, 'MASTER']\n",
      "['KR_7078803260', 1848, '14.10.585.8823', 'chen mo yan', '520', 187, 7, 234, 'Viego', 60921, 'JUNGLE', 200, 1, 7, 5, 15, 24416, 298390, 'MASTER']\n",
      "['KR_7078803260', 1848, '14.10.585.8823', '프 리 렌', '0001', 307, 8, 142, 'Zoe', 423060, 'MIDDLE', 200, 1, 12, 3, 4, 20082, 131869, 'MASTER']\n",
      "['KR_7078803260', 1848, '14.10.585.8823', 'Foundations', 'MitiS', 205, 9, 221, 'Zeri', 27871, 'BOTTOM', 200, 1, 9, 5, 14, 41373, 245567, 'MASTER']\n",
      "['KR_7078803260', 1848, '14.10.585.8823', '이웃사촌부', 'KR3', 561, 10, 350, 'Yuumi', 65595, 'UTILITY', 200, 1, 0, 3, 24, 9069, 14200, 'MASTER']\n",
      "['KR_7078780996', 1233, '14.10.585.8823', '생각의가지를잘라', '2005', 60, 1, 72, 'Skarner', 55998, 'TOP', 100, 0, 6, 5, 5, 20008, 87051, 'MASTER']\n",
      "['KR_7078780996', 1233, '14.10.585.8823', '후시패카나', 'JGL', 748, 2, 234, 'Viego', 131943, 'JUNGLE', 100, 0, 1, 7, 2, 4252, 156476, 'MASTER']\n",
      "['KR_7078780996', 1233, '14.10.585.8823', '흐아암', 'fdfdf', 130, 3, 517, 'Sylas', 34698, 'MIDDLE', 100, 0, 2, 10, 3, 14099, 76698, 'MASTER']\n",
      "['KR_7078780996', 1233, '14.10.585.8823', '인생걸고태호시티', 'KR1', 1223, 4, 42, 'Corki', 43580, 'BOTTOM', 100, 0, 2, 6, 5, 9816, 61725, 'MASTER']\n",
      "['KR_7078780996', 1233, '14.10.585.8823', '어쩌라고미안한데', 'KR1', 234, 5, 111, 'Nautilus', 29117, 'UTILITY', 100, 0, 5, 9, 2, 6900, 15720, 'MASTER']\n",
      "['KR_7078780996', 1233, '14.10.585.8823', '4238963482364387', 'KR1', 91, 6, 82, 'Mordekaiser', 1720, 'TOP', 200, 1, 1, 7, 4, 13102, 77486, 'MASTER']\n",
      "['KR_7078780996', 1233, '14.10.585.8823', 'Raptor', 'KR123', 682, 7, 64, 'LeeSin', 1117968, 'JUNGLE', 200, 1, 16, 6, 12, 24775, 163781, 'MASTER']\n",
      "['KR_7078780996', 1233, '14.10.585.8823', 'COCO', 'G886', 445, 8, 7, 'Leblanc', 312316, 'MIDDLE', 200, 1, 6, 0, 17, 22637, 69706, 'MASTER']\n",
      "['KR_7078780996', 1233, '14.10.585.8823', 'Chelly', '농심 첼리', 523, 9, 22, 'Ashe', 166733, 'BOTTOM', 200, 1, 8, 2, 11, 13686, 92918, 'MASTER']\n",
      "['KR_7078780996', 1233, '14.10.585.8823', 'x0x', '1234', 495, 10, 164, 'Camille', 33551, 'UTILITY', 200, 1, 6, 1, 21, 15592, 26132, 'MASTER']\n"
     ]
    },
    {
     "name": "stderr",
     "output_type": "stream",
     "text": [
      " 17%|█████████████▋                                                                    | 10/60 [00:00<00:00, 94.96it/s]"
     ]
    },
    {
     "name": "stdout",
     "output_type": "stream",
     "text": [
      "oracle 쿼리 성공\n",
      "oracle 쿼리 성공\n",
      "oracle 쿼리 성공\n",
      "oracle 쿼리 성공\n",
      "oracle 쿼리 성공\n",
      "oracle 쿼리 성공\n",
      "oracle 쿼리 성공\n",
      "oracle 쿼리 성공\n",
      "oracle 쿼리 성공\n",
      "oracle 쿼리 성공\n",
      "oracle 쿼리 성공\n",
      "oracle 쿼리 성공\n",
      "oracle 쿼리 성공\n",
      "oracle 쿼리 성공\n",
      "oracle 쿼리 성공\n",
      "oracle 쿼리 성공\n"
     ]
    },
    {
     "name": "stderr",
     "output_type": "stream",
     "text": [
      " 50%|█████████████████████████████████████████                                         | 30/60 [00:00<00:00, 89.38it/s]"
     ]
    },
    {
     "name": "stdout",
     "output_type": "stream",
     "text": [
      "oracle 쿼리 성공\n",
      "oracle 쿼리 성공\n",
      "oracle 쿼리 성공\n",
      "oracle 쿼리 성공\n",
      "oracle 쿼리 성공\n",
      "oracle 쿼리 성공\n",
      "oracle 쿼리 성공\n",
      "oracle 쿼리 성공\n",
      "oracle 쿼리 성공\n",
      "oracle 쿼리 성공\n",
      "oracle 쿼리 성공\n",
      "oracle 쿼리 성공\n",
      "oracle 쿼리 성공\n",
      "oracle 쿼리 성공\n",
      "oracle 쿼리 성공\n",
      "oracle 쿼리 성공\n",
      "oracle 쿼리 성공\n",
      "oracle 쿼리 성공\n",
      "oracle 쿼리 성공\n",
      "oracle 쿼리 성공\n",
      "oracle 쿼리 성공\n"
     ]
    },
    {
     "name": "stderr",
     "output_type": "stream",
     "text": [
      " 83%|████████████████████████████████████████████████████████████████████▎             | 50/60 [00:00<00:00, 89.86it/s]"
     ]
    },
    {
     "name": "stdout",
     "output_type": "stream",
     "text": [
      "oracle 쿼리 성공\n",
      "oracle 쿼리 성공\n",
      "oracle 쿼리 성공\n",
      "oracle 쿼리 성공\n",
      "oracle 쿼리 성공\n",
      "oracle 쿼리 성공\n",
      "oracle 쿼리 성공\n",
      "oracle 쿼리 성공\n",
      "oracle 쿼리 성공\n",
      "oracle 쿼리 성공\n",
      "oracle 쿼리 성공\n",
      "oracle 쿼리 성공\n",
      "oracle 쿼리 성공\n",
      "oracle 쿼리 성공\n",
      "oracle 쿼리 성공\n",
      "oracle 쿼리 성공\n",
      "oracle 쿼리 성공\n",
      "oracle 쿼리 성공\n"
     ]
    },
    {
     "name": "stderr",
     "output_type": "stream",
     "text": [
      "100%|██████████████████████████████████████████████████████████████████████████████████| 60/60 [00:00<00:00, 86.70it/s]\n"
     ]
    },
    {
     "name": "stdout",
     "output_type": "stream",
     "text": [
      "oracle 쿼리 성공\n",
      "oracle 쿼리 성공\n",
      "oracle 쿼리 성공\n",
      "oracle 쿼리 성공\n",
      "oracle 쿼리 성공\n",
      "오라클 정상적으로 닫힘\n",
      "MASTER 소환사 ID 가져오는 중...\n",
      "PUUID 가져오는 중...\n"
     ]
    },
    {
     "name": "stderr",
     "output_type": "stream",
     "text": [
      "PUUID 가져오는 중: 100%|█████████████████████████████████████████████████████████████████| 3/3 [00:01<00:00,  1.58it/s]\n"
     ]
    },
    {
     "name": "stdout",
     "output_type": "stream",
     "text": [
      "경기 ID 가져오는 중...\n"
     ]
    },
    {
     "name": "stderr",
     "output_type": "stream",
     "text": [
      "경기 ID 가져오는 중: 100%|███████████████████████████████████████████████████████████████| 3/3 [00:02<00:00,  1.41it/s]\n"
     ]
    },
    {
     "name": "stdout",
     "output_type": "stream",
     "text": [
      "경기 정보 가져오는 중...\n"
     ]
    },
    {
     "name": "stderr",
     "output_type": "stream",
     "text": [
      "100%|████████████████████████████████████████████████████████████████████████████████████| 6/6 [00:10<00:00,  1.80s/it]\n"
     ]
    },
    {
     "name": "stdout",
     "output_type": "stream",
     "text": [
      "소환사 통계 생성 중...\n"
     ]
    },
    {
     "name": "stderr",
     "output_type": "stream",
     "text": [
      "소환사 통계 생성 중: 100%|███████████████████████████████████████████████████████████████| 6/6 [00:52<00:00,  8.67s/it]\n"
     ]
    },
    {
     "name": "stdout",
     "output_type": "stream",
     "text": [
      "MASTER 티어 데이터프레임의 행 수는 60입니다.\n",
      "['KR_7078548423', 994, '14.10.585.8823', '가지마푸바오', 'KR1', 72, 1, 72, 'Skarner', 172594, 'TOP', 100, 1, 0, 0, 2, 6445, 50065, 'MASTER']\n",
      "['KR_7078548423', 994, '14.10.585.8823', '다잘될거야', '0708', 50, 2, 163, 'Taliyah', 17985, 'JUNGLE', 100, 1, 9, 2, 2, 8950, 172076, 'MASTER']\n",
      "['KR_7078548423', 994, '14.10.585.8823', 'capper', '404', 177, 3, 126, 'Jayce', 80784, 'MIDDLE', 100, 1, 2, 1, 5, 8332, 72311, 'MASTER']\n",
      "['KR_7078548423', 994, '14.10.585.8823', '노을지는밤', '0930', 57, 4, 429, 'Kalista', 55827, 'BOTTOM', 100, 1, 3, 3, 3, 5369, 36919, 'MASTER']\n",
      "['KR_7078548423', 994, '14.10.585.8823', '아이돌 Deft', 'KR1', 273, 5, 164, 'Camille', 41434, 'UTILITY', 100, 1, 3, 4, 6, 8839, 18610, 'MASTER']\n",
      "['KR_7078548423', 994, '14.10.585.8823', 'frsfs', 'frsfs', 66, 6, 58, 'Renekton', 260743, 'TOP', 200, 0, 0, 1, 1, 5268, 58500, 'MASTER']\n",
      "['KR_7078548423', 994, '14.10.585.8823', 'Loyso', 'KR1', 466, 7, 76, 'Nidalee', 375488, 'JUNGLE', 200, 0, 3, 4, 2, 6920, 89650, 'MASTER']\n",
      "['KR_7078548423', 994, '14.10.585.8823', 'badboy', '心跳666', 104, 8, 910, 'Hwei', 86245, 'MIDDLE', 200, 0, 0, 2, 3, 10448, 58848, 'MASTER']\n",
      "['KR_7078548423', 994, '14.10.585.8823', 'wegowegowego', 'KR1', 312, 9, 51, 'Caitlyn', 126194, 'BOTTOM', 200, 0, 3, 3, 3, 7122, 45423, 'MASTER']\n",
      "['KR_7078548423', 994, '14.10.585.8823', '별 수호자 조원영', 'KR2', 75, 10, 22, 'Ashe', 257838, 'UTILITY', 200, 0, 4, 7, 4, 4573, 11332, 'MASTER']\n",
      "['KR_7078499280', 1336, '14.10.585.8823', '一人一', 'かおかお', 490, 1, 67, 'Vayne', 38489, 'TOP', 100, 1, 6, 3, 6, 16206, 98097, 'MASTER']\n",
      "['KR_7078499280', 1336, '14.10.585.8823', '사랑을 드려요', 'KR1', 639, 2, 62, 'MonkeyKing', 517172, 'JUNGLE', 100, 1, 7, 4, 11, 12484, 170832, 'MASTER']\n",
      "['KR_7078499280', 1336, '14.10.585.8823', '인태 화이팅', 'KR1', 565, 3, 9, 'FiddleSticks', 310816, 'MIDDLE', 100, 1, 3, 1, 9, 9817, 86961, 'MASTER']\n",
      "['KR_7078499280', 1336, '14.10.585.8823', 'Carpe diem', 'Bsz', 408, 4, 126, 'Jayce', 43357, 'BOTTOM', 100, 1, 10, 6, 7, 17459, 116546, 'MASTER']\n",
      "['KR_7078499280', 1336, '14.10.585.8823', '아이돌 Deft', 'KR1', 273, 5, 68, 'Rumble', 2230, 'UTILITY', 100, 1, 5, 6, 18, 20283, 40319, 'MASTER']\n",
      "['KR_7078499280', 1336, '14.10.585.8823', 'Snooze', 'used', 75, 6, 875, 'Sett', 136436, 'TOP', 200, 0, 1, 5, 2, 7366, 53074, 'MASTER']\n",
      "['KR_7078499280', 1336, '14.10.585.8823', '김맨부', 'y e', 593, 7, 104, 'Graves', 284106, 'JUNGLE', 200, 0, 7, 10, 4, 10575, 133395, 'MASTER']\n",
      "['KR_7078499280', 1336, '14.10.585.8823', '가자미살튀김', '열 참', 417, 8, 910, 'Hwei', 19100, 'MIDDLE', 200, 0, 4, 5, 3, 17633, 92403, 'MASTER']\n",
      "['KR_7078499280', 1336, '14.10.585.8823', 'badboy', '心跳666', 104, 9, 42, 'Corki', 8375, 'BOTTOM', 200, 0, 7, 4, 4, 15514, 101321, 'MASTER']\n",
      "['KR_7078499280', 1336, '14.10.585.8823', 'Rizz', 'LIT', 171, 10, 89, 'Leona', 372262, 'UTILITY', 200, 0, 1, 7, 9, 5956, 32583, 'MASTER']\n",
      "['KR_7078581036', 1211, '14.10.585.8823', '아이스티만 마셔', '0112', 742, 1, 897, 'KSante', 1756752, 'TOP', 100, 0, 1, 4, 2, 9682, 85934, 'MASTER']\n",
      "['KR_7078581036', 1211, '14.10.585.8823', '임규리', 'kr5', 45, 2, 28, 'Evelynn', 149401, 'JUNGLE', 100, 0, 5, 6, 2, 8618, 139421, 'MASTER']\n",
      "['KR_7078581036', 1211, '14.10.585.8823', 'yoyzxzx', 'KR1', 222, 3, 39, 'Irelia', 555258, 'MIDDLE', 100, 0, 3, 5, 2, 8507, 72122, 'MASTER']\n",
      "['KR_7078581036', 1211, '14.10.585.8823', '즐기러온사람', 'KR1', 186, 4, 42, 'Corki', 6241, 'BOTTOM', 100, 0, 2, 4, 3, 6184, 83037, 'MASTER']\n",
      "['KR_7078581036', 1211, '14.10.585.8823', '5th E', '2460', 543, 5, 111, 'Nautilus', 115352, 'UTILITY', 100, 0, 1, 4, 5, 4036, 11434, 'MASTER']\n",
      "['KR_7078581036', 1211, '14.10.585.8823', '생각의가지를잘라', '2005', 59, 6, 24, 'Jax', 8714, 'TOP', 200, 1, 2, 2, 1, 9709, 80873, 'MASTER']\n",
      "['KR_7078581036', 1211, '14.10.585.8823', '관 모', 'KR2', 878, 7, 76, 'Nidalee', 526070, 'JUNGLE', 200, 1, 6, 3, 8, 9612, 170821, 'MASTER']\n",
      "['KR_7078581036', 1211, '14.10.585.8823', '8114149', '247', 587, 8, 126, 'Jayce', 86112, 'MIDDLE', 200, 1, 9, 4, 6, 21237, 137199, 'MASTER']\n",
      "['KR_7078581036', 1211, '14.10.585.8823', '먹고자고게임해 ', 'KR1', 145, 9, 115, 'Ziggs', 17882, 'BOTTOM', 200, 1, 5, 2, 9, 15202, 116928, 'MASTER']\n",
      "['KR_7078581036', 1211, '14.10.585.8823', 'dsmjpjo', 'KR1', 272, 10, 12, 'Alistar', 37948, 'UTILITY', 200, 1, 1, 1, 8, 4416, 15670, 'MASTER']\n",
      "['KR_7078516883', 1613, '14.10.585.8823', '설 인 석', '9756', 1018, 1, 122, 'Darius', 4181283, 'TOP', 100, 0, 3, 5, 3, 9333, 123713, 'MASTER']\n",
      "['KR_7078516883', 1613, '14.10.585.8823', 'douyinjiangjiu', '666', 201, 2, 876, 'Lillia', 12876, 'JUNGLE', 100, 0, 4, 6, 4, 14327, 223718, 'MASTER']\n",
      "['KR_7078516883', 1613, '14.10.585.8823', 'yoyzxzx', 'KR1', 222, 3, 39, 'Irelia', 555258, 'MIDDLE', 100, 0, 4, 7, 2, 12656, 129927, 'MASTER']\n",
      "['KR_7078516883', 1613, '14.10.585.8823', '먹고자고게임해 ', 'KR1', 145, 4, 115, 'Ziggs', 17882, 'BOTTOM', 100, 0, 1, 1, 7, 22177, 156482, 'MASTER']\n",
      "['KR_7078516883', 1613, '14.10.585.8823', 'PENDUAL', 'IIDX', 288, 5, 147, 'Seraphine', 11271, 'UTILITY', 100, 0, 2, 2, 7, 9514, 34227, 'MASTER']\n",
      "['KR_7078516883', 1613, '14.10.585.8823', '아이스티만 마셔', '0112', 742, 6, 72, 'Skarner', 53910, 'TOP', 200, 1, 0, 5, 12, 17684, 116685, 'MASTER']\n",
      "['KR_7078516883', 1613, '14.10.585.8823', '蚂蚁的一天', '8468', 350, 7, 64, 'LeeSin', 62883, 'BOTTOM', 200, 1, 1, 4, 8, 9450, 134440, 'MASTER']\n",
      "['KR_7078516883', 1613, '14.10.585.8823', 'xiaosenyu', 'CN1', 84, 8, 136, 'AurelionSol', 136530, 'MIDDLE', 200, 1, 2, 2, 10, 18333, 129146, 'MASTER']\n",
      "['KR_7078516883', 1613, '14.10.585.8823', '젠레스존제로우', 'KR1', 240, 9, 235, 'Senna', 63181, 'UTILITY', 200, 1, 1, 2, 12, 15072, 60882, 'MASTER']\n",
      "['KR_7078516883', 1613, '14.10.585.8823', '으아아앙', 'KR0', 80, 10, 104, 'Graves', 49897, 'JUNGLE', 200, 1, 17, 1, 2, 23873, 305973, 'MASTER']\n",
      "['KR_7078833465', 1171, '14.10.585.8823', '123122141412341', 'KR1', 242, 1, 122, 'Darius', 963054, 'TOP', 100, 1, 6, 0, 2, 8128, 92469, 'MASTER']\n",
      "['KR_7078833465', 1171, '14.10.585.8823', 'JustLikeThatKR', 'Ep0', 813, 2, 5, 'XinZhao', 118184, 'JUNGLE', 100, 1, 7, 1, 5, 10669, 138110, 'MASTER']\n",
      "['KR_7078833465', 1171, '14.10.585.8823', '메스머라이저', 'SOS', 82, 3, 142, 'Zoe', 70687, 'MIDDLE', 100, 1, 3, 1, 7, 11360, 76410, 'MASTER']\n",
      "['KR_7078833465', 1171, '14.10.585.8823', 'DK Jinbeom', 'KR07', 525, 4, 110, 'Varus', 183617, 'BOTTOM', 100, 1, 9, 4, 8, 19431, 101313, 'MASTER']\n",
      "['KR_7078833465', 1171, '14.10.585.8823', 'ovoowo', '0213', 95, 5, 68, 'Rumble', 18221, 'UTILITY', 100, 1, 7, 4, 9, 13276, 30296, 'MASTER']\n",
      "['KR_7078833465', 1171, '14.10.585.8823', 'Get677', 'KR1', 89, 6, 266, 'Aatrox', 361790, 'TOP', 200, 0, 2, 3, 2, 5096, 40033, 'MASTER']\n",
      "['KR_7078833465', 1171, '14.10.585.8823', '불 독', '5060', 36, 7, 104, 'Graves', 21038, 'JUNGLE', 200, 0, 3, 5, 4, 5393, 136064, 'MASTER']\n",
      "['KR_7078833465', 1171, '14.10.585.8823', 'Unkillable', 'mid', 76, 8, 234, 'Viego', 1654, 'MIDDLE', 200, 0, 1, 5, 4, 6964, 41218, 'MASTER']\n",
      "['KR_7078833465', 1171, '14.10.585.8823', '카 엘', '0211', 519, 9, 42, 'Corki', 7806, 'BOTTOM', 200, 0, 2, 8, 2, 5894, 85426, 'MASTER']\n",
      "['KR_7078833465', 1171, '14.10.585.8823', 'God Thunder', 'KR07', 450, 10, 910, 'Hwei', 3164, 'UTILITY', 200, 0, 2, 11, 6, 10895, 27656, 'MASTER']\n",
      "['KR_7078826563', 1289, '14.10.585.8823', 'God Thunder', 'KR07', 450, 1, 897, 'KSante', 247058, 'TOP', 100, 1, 10, 2, 4, 18931, 126952, 'MASTER']\n",
      "['KR_7078826563', 1289, '14.10.585.8823', 'yang', '0922', 199, 2, 234, 'Viego', 83174, 'JUNGLE', 100, 1, 11, 2, 7, 15131, 169313, 'MASTER']\n",
      "['KR_7078826563', 1289, '14.10.585.8823', '玩具猪', 'ldm', 128, 3, 163, 'Taliyah', 64627, 'MIDDLE', 100, 1, 3, 3, 7, 14958, 111997, 'MASTER']\n",
      "['KR_7078826563', 1289, '14.10.585.8823', 'vanilla', 'next', 123, 4, 222, 'Jinx', 46706, 'BOTTOM', 100, 1, 5, 5, 10, 17380, 109356, 'MASTER']\n",
      "['KR_7078826563', 1289, '14.10.585.8823', '해 적', 'KR3', 1105, 5, 68, 'Rumble', 19708, 'UTILITY', 100, 1, 5, 5, 13, 14704, 25123, 'MASTER']\n",
      "['KR_7078826563', 1289, '14.10.585.8823', 'FA 호더', '2004', 45, 6, 4, 'TwistedFate', 37986, 'TOP', 200, 0, 3, 9, 2, 10562, 67917, 'MASTER']\n",
      "['KR_7078826563', 1289, '14.10.585.8823', 'asfdbxvcyiou', '666', 100, 7, 30, 'Karthus', 24328, 'JUNGLE', 200, 0, 4, 6, 3, 16372, 215675, 'MASTER']\n",
      "['KR_7078826563', 1289, '14.10.585.8823', 'zeneo', 'zeneo', 219, 8, 79, 'Gragas', 307726, 'MIDDLE', 200, 0, 2, 4, 4, 12495, 92982, 'MASTER']\n",
      "['KR_7078826563', 1289, '14.10.585.8823', 'XuQ', '0212', 133, 9, 22, 'Ashe', 11749, 'BOTTOM', 200, 0, 4, 8, 6, 14762, 87198, 'MASTER']\n",
      "['KR_7078826563', 1289, '14.10.585.8823', 'ovoowo', '0213', 95, 10, 164, 'Camille', 10912, 'UTILITY', 200, 0, 4, 7, 9, 11860, 22817, 'MASTER']\n"
     ]
    },
    {
     "name": "stderr",
     "output_type": "stream",
     "text": [
      "  7%|█████▌                                                                             | 4/60 [00:00<00:02, 25.38it/s]"
     ]
    },
    {
     "name": "stdout",
     "output_type": "stream",
     "text": [
      "oracle 쿼리 성공\n",
      "oracle 쿼리 성공\n",
      "oracle 쿼리 성공\n",
      "oracle 쿼리 성공\n",
      "oracle 쿼리 성공\n"
     ]
    },
    {
     "name": "stderr",
     "output_type": "stream",
     "text": [
      " 32%|█████████████████████████▉                                                        | 19/60 [00:00<00:00, 56.89it/s]"
     ]
    },
    {
     "name": "stdout",
     "output_type": "stream",
     "text": [
      "oracle 쿼리 성공\n",
      "oracle 쿼리 성공\n",
      "oracle 쿼리 성공\n",
      "oracle 쿼리 성공\n",
      "oracle 쿼리 성공\n",
      "oracle 쿼리 성공\n",
      "oracle 쿼리 성공\n",
      "oracle 쿼리 성공\n",
      "oracle 쿼리 성공\n",
      "oracle 쿼리 성공\n",
      "oracle 쿼리 성공\n",
      "oracle 쿼리 성공\n",
      "oracle 쿼리 성공\n",
      "oracle 쿼리 성공\n",
      "oracle 쿼리 성공\n"
     ]
    },
    {
     "name": "stderr",
     "output_type": "stream",
     "text": [
      " 48%|███████████████████████████████████████▋                                          | 29/60 [00:00<00:00, 69.01it/s]"
     ]
    },
    {
     "name": "stdout",
     "output_type": "stream",
     "text": [
      "oracle 쿼리 성공\n",
      "oracle 쿼리 성공\n",
      "oracle 쿼리 성공\n",
      "oracle 쿼리 성공\n",
      "oracle 쿼리 성공\n",
      "oracle 쿼리 성공\n",
      "oracle 쿼리 성공\n",
      "oracle 쿼리 성공\n",
      "oracle 쿼리 성공\n",
      "oracle 쿼리 성공\n",
      "oracle 쿼리 성공\n",
      "oracle 쿼리 성공\n",
      "oracle 쿼리 성공\n",
      "oracle 쿼리 성공\n",
      "oracle 쿼리 성공\n",
      "oracle 쿼리 성공\n",
      "oracle 쿼리 성공\n",
      "oracle 쿼리 성공\n"
     ]
    },
    {
     "name": "stderr",
     "output_type": "stream",
     "text": [
      " 78%|████████████████████████████████████████████████████████████████▏                 | 47/60 [00:00<00:00, 72.39it/s]"
     ]
    },
    {
     "name": "stdout",
     "output_type": "stream",
     "text": [
      "oracle 쿼리 성공\n",
      "oracle 쿼리 성공\n",
      "oracle 쿼리 성공\n",
      "oracle 쿼리 성공\n",
      "oracle 쿼리 성공\n",
      "oracle 쿼리 성공\n",
      "oracle 쿼리 성공\n",
      "oracle 쿼리 성공\n",
      "oracle 쿼리 성공\n",
      "oracle 쿼리 성공\n",
      "oracle 쿼리 성공\n",
      "oracle 쿼리 성공\n",
      "oracle 쿼리 성공\n",
      "oracle 쿼리 성공\n"
     ]
    },
    {
     "name": "stderr",
     "output_type": "stream",
     "text": [
      "100%|██████████████████████████████████████████████████████████████████████████████████| 60/60 [00:00<00:00, 61.99it/s]"
     ]
    },
    {
     "name": "stdout",
     "output_type": "stream",
     "text": [
      "oracle 쿼리 성공\n",
      "oracle 쿼리 성공\n",
      "oracle 쿼리 성공\n",
      "oracle 쿼리 성공\n",
      "oracle 쿼리 성공\n",
      "oracle 쿼리 성공\n",
      "oracle 쿼리 성공\n",
      "oracle 쿼리 성공\n"
     ]
    },
    {
     "name": "stderr",
     "output_type": "stream",
     "text": [
      "\n"
     ]
    },
    {
     "name": "stdout",
     "output_type": "stream",
     "text": [
      "오라클 정상적으로 닫힘\n",
      "MASTER 소환사 ID 가져오는 중...\n",
      "PUUID 가져오는 중...\n"
     ]
    },
    {
     "name": "stderr",
     "output_type": "stream",
     "text": [
      "PUUID 가져오는 중: 100%|█████████████████████████████████████████████████████████████████| 3/3 [00:01<00:00,  1.62it/s]\n"
     ]
    },
    {
     "name": "stdout",
     "output_type": "stream",
     "text": [
      "경기 ID 가져오는 중...\n"
     ]
    },
    {
     "name": "stderr",
     "output_type": "stream",
     "text": [
      "경기 ID 가져오는 중: 100%|███████████████████████████████████████████████████████████████| 3/3 [00:01<00:00,  1.57it/s]\n"
     ]
    },
    {
     "name": "stdout",
     "output_type": "stream",
     "text": [
      "경기 정보 가져오는 중...\n"
     ]
    },
    {
     "name": "stderr",
     "output_type": "stream",
     "text": [
      "100%|████████████████████████████████████████████████████████████████████████████████████| 6/6 [00:12<00:00,  2.16s/it]\n"
     ]
    },
    {
     "name": "stdout",
     "output_type": "stream",
     "text": [
      "소환사 통계 생성 중...\n"
     ]
    },
    {
     "name": "stderr",
     "output_type": "stream",
     "text": [
      "소환사 통계 생성 중: 100%|███████████████████████████████████████████████████████████████| 6/6 [00:49<00:00,  8.27s/it]\n"
     ]
    },
    {
     "name": "stdout",
     "output_type": "stream",
     "text": [
      "MASTER 티어 데이터프레임의 행 수는 50입니다.\n",
      "['KR_7078765997', 1531, '14.10.585.8823', '헤 모', '헤 모', 321, 1, 8, 'Vladimir', 608630, 'BOTTOM', 100, 1, 3, 8, 7, 11374, 82545, 'MASTER']\n",
      "['KR_7078765997', 1531, '14.10.585.8823', 'mjj', '3505', 233, 2, 5, 'XinZhao', 80278, 'JUNGLE', 100, 1, 10, 3, 4, 16175, 181065, 'MASTER']\n",
      "['KR_7078765997', 1531, '14.10.585.8823', 'ccqy', 'KR1', 116, 3, 3, 'Galio', 165523, 'MIDDLE', 100, 1, 5, 4, 11, 17105, 130294, 'MASTER']\n",
      "['KR_7078765997', 1531, '14.10.585.8823', 'douyin丶xian', '4444', 69, 4, 81, 'Ezreal', 5360, 'TOP', 100, 1, 13, 2, 7, 22732, 156071, 'MASTER']\n",
      "['KR_7078765997', 1531, '14.10.585.8823', '어 진', '어 진', 522, 5, 43, 'Karma', 133379, 'UTILITY', 100, 1, 1, 5, 20, 14147, 42033, 'MASTER']\n",
      "['KR_7078765997', 1531, '14.10.585.8823', '금 나와라 똑딱', 'KR1', 167, 6, 68, 'Rumble', 247459, 'TOP', 200, 0, 1, 8, 8, 11216, 66725, 'MASTER']\n",
      "['KR_7078765997', 1531, '14.10.585.8823', '병 굴', '연 이', 238, 7, 203, 'Kindred', 716736, 'JUNGLE', 200, 0, 5, 7, 6, 21453, 144432, 'MASTER']\n",
      "['KR_7078765997', 1531, '14.10.585.8823', 'Palette', '2002', 258, 8, 42, 'Corki', 23589, 'MIDDLE', 200, 0, 9, 7, 3, 25623, 179758, 'MASTER']\n",
      "['KR_7078765997', 1531, '14.10.585.8823', '소년가장 원딜', 'KR1', 402, 9, 429, 'Kalista', 92872, 'BOTTOM', 200, 0, 6, 7, 8, 19237, 111560, 'MASTER']\n",
      "['KR_7078765997', 1531, '14.10.585.8823', 'kasdfwte', 'KR2', 392, 10, 22, 'Ashe', 52064, 'UTILITY', 200, 0, 1, 3, 13, 12360, 28257, 'MASTER']\n",
      "['KR_7078753101', 1738, '14.10.585.8823', 'ccqy', 'KR1', 116, 1, 3, 'Galio', 165523, 'MIDDLE', 100, 0, 4, 8, 12, 15382, 99606, 'MASTER']\n",
      "['KR_7078753101', 1738, '14.10.585.8823', 'bleach', '002', 89, 2, 203, 'Kindred', 35771, 'JUNGLE', 100, 0, 7, 7, 9, 21637, 191213, 'MASTER']\n",
      "['KR_7078753101', 1738, '14.10.585.8823', 'timoqe', 'KR1', 274, 3, 83, 'Yorick', 7366, 'TOP', 100, 0, 3, 4, 2, 20305, 166398, 'MASTER']\n",
      "['KR_7078753101', 1738, '14.10.585.8823', 'douyin丶xian', '4444', 69, 4, 145, 'Kaisa', 39440, 'BOTTOM', 100, 0, 12, 6, 7, 32689, 209207, 'MASTER']\n",
      "['KR_7078753101', 1738, '14.10.585.8823', 'kasdfwte', 'KR2', 392, 5, 526, 'Rell', 140096, 'UTILITY', 100, 0, 3, 6, 21, 8667, 13538, 'MASTER']\n",
      "['KR_7078753101', 1738, '14.10.585.8823', '안개 속에', 'KR1', 125, 6, 39, 'Irelia', 11035, 'TOP', 200, 1, 1, 5, 8, 15122, 218149, 'MASTER']\n",
      "['KR_7078753101', 1738, '14.10.585.8823', 'yiyezhiqiu', 'KR1', 118, 7, 5, 'XinZhao', 39863, 'JUNGLE', 200, 1, 13, 7, 9, 23354, 231530, 'MASTER']\n",
      "['KR_7078753101', 1738, '14.10.585.8823', 'wenreve', '77777', 479, 8, 134, 'Syndra', 166338, 'MIDDLE', 200, 1, 7, 4, 10, 29807, 178479, 'MASTER']\n",
      "['KR_7078753101', 1738, '14.10.585.8823', '蚂蚁的一天', '8468', 350, 9, 21, 'MissFortune', 33254, 'BOTTOM', 200, 1, 8, 4, 5, 33197, 238018, 'MASTER']\n",
      "['KR_7078753101', 1738, '14.10.585.8823', 'exzede', 'wywq', 65, 10, 78, 'Poppy', 8855, 'UTILITY', 200, 1, 2, 9, 13, 10577, 18230, 'MASTER']\n",
      "['KR_7078591312', 1945, '14.10.585.8823', 'Zaracoyol', 'ZCL', 62, 1, 82, 'Mordekaiser', 18472, 'TOP', 100, 1, 9, 4, 9, 19055, 171214, 'MASTER']\n",
      "['KR_7078591312', 1945, '14.10.585.8823', 'xjeiieskdjdjjsre', 'zjska', 198, 2, 421, 'RekSai', 527796, 'JUNGLE', 100, 1, 13, 3, 13, 43279, 301882, 'MASTER']\n",
      "['KR_7078591312', 1945, '14.10.585.8823', '백제로', 'KR1', 269, 3, 517, 'Sylas', 351148, 'MIDDLE', 100, 1, 13, 7, 10, 34403, 151645, 'MASTER']\n",
      "['KR_7078591312', 1945, '14.10.585.8823', 'MiG GGEY', '늙었어', 462, 4, 22, 'Ashe', 19575, 'BOTTOM', 100, 1, 11, 5, 13, 21089, 254733, 'MASTER']\n",
      "['KR_7078591312', 1945, '14.10.585.8823', 'Minous', 'KR2', 210, 5, 74, 'Heimerdinger', 12725, 'UTILITY', 100, 1, 8, 9, 26, 37147, 95963, 'MASTER']\n",
      "['KR_7078591312', 1945, '14.10.585.8823', 'one loser', 'KR1', 726, 6, 114, 'Fiora', 3645434, 'TOP', 200, 0, 6, 7, 2, 25618, 201370, 'MASTER']\n",
      "['KR_7078591312', 1945, '14.10.585.8823', 'Karthusking', 'zypp', 41, 7, 203, 'Kindred', 12707, 'JUNGLE', 200, 0, 3, 12, 8, 24731, 282708, 'MASTER']\n",
      "['KR_7078591312', 1945, '14.10.585.8823', 'Xink', '1026', 416, 8, 154, 'Zac', 76369, 'MIDDLE', 200, 0, 6, 11, 6, 23560, 129137, 'MASTER']\n",
      "['KR_7078591312', 1945, '14.10.585.8823', 'Shining', '2006', 120, 9, 110, 'Varus', 24932, 'BOTTOM', 200, 0, 4, 11, 10, 30710, 157433, 'MASTER']\n",
      "['KR_7078591312', 1945, '14.10.585.8823', 'カメックス', '5324', 383, 10, 555, 'Pyke', 558552, 'UTILITY', 200, 0, 9, 13, 8, 15179, 29430, 'MASTER']\n",
      "['KR_7078540627', 964, '14.10.585.8823', '55558', '5555', 48, 1, 92, 'Riven', 137130, 'TOP', 100, 0, 1, 1, 0, 6459, 53993, 'MASTER']\n",
      "['KR_7078540627', 964, '14.10.585.8823', '우리밍밍', 'KR2', 230, 2, 121, 'Khazix', 163014, 'JUNGLE', 100, 0, 4, 5, 1, 7595, 116824, 'MASTER']\n",
      "['KR_7078540627', 964, '14.10.585.8823', '백제로', 'KR1', 269, 3, 517, 'Sylas', 351148, 'MIDDLE', 100, 0, 0, 2, 2, 4062, 31694, 'MASTER']\n",
      "['KR_7078540627', 964, '14.10.585.8823', 'ben dan she shou', 'KR1', 385, 4, 901, 'Smolder', 59568, 'BOTTOM', 100, 0, 1, 6, 2, 8167, 35077, 'MASTER']\n",
      "['KR_7078540627', 964, '14.10.585.8823', '노틸러스', 'QQQ', 91, 5, 111, 'Nautilus', 133096, 'UTILITY', 100, 0, 1, 3, 2, 3893, 14193, 'MASTER']\n",
      "['KR_7078540627', 964, '14.10.585.8823', '杰 洛', '齐贝林', 201, 6, 72, 'Skarner', 9988, 'TOP', 200, 1, 1, 1, 0, 7959, 76784, 'MASTER']\n",
      "['KR_7078540627', 964, '14.10.585.8823', '개척자', 'PINGU', 418, 7, 234, 'Viego', 215281, 'JUNGLE', 200, 1, 3, 1, 7, 6223, 110146, 'MASTER']\n",
      "['KR_7078540627', 964, '14.10.585.8823', '2024pn', '0622', 474, 8, 163, 'Taliyah', 173068, 'MIDDLE', 200, 1, 4, 1, 3, 11056, 85852, 'MASTER']\n",
      "['KR_7078540627', 964, '14.10.585.8823', 'Alpago fan', 'KR1', 142, 9, 429, 'Kalista', 56776, 'BOTTOM', 200, 1, 7, 2, 5, 11966, 62731, 'MASTER']\n",
      "['KR_7078540627', 964, '14.10.585.8823', '스팅 유클리프', '세이버투스', 133, 10, 526, 'Rell', 28165, 'UTILITY', 200, 1, 2, 2, 10, 4136, 9267, 'MASTER']\n",
      "['KR_7078150004', 1608, '14.10.585.8823', '딸기요거트스무디', '111', 789, 1, 266, 'Aatrox', 238193, 'TOP', 100, 0, 0, 7, 5, 10186, 78145, 'MASTER']\n",
      "['KR_7078150004', 1608, '14.10.585.8823', 'MJG', '민준기', 138, 2, 234, 'Viego', 98339, 'JUNGLE', 100, 0, 9, 5, 7, 13847, 201223, 'MASTER']\n",
      "['KR_7078150004', 1608, '14.10.585.8823', 'ss188', '188', 95, 3, 163, 'Taliyah', 263496, 'MIDDLE', 100, 0, 5, 7, 7, 16408, 140810, 'MASTER']\n",
      "['KR_7078150004', 1608, '14.10.585.8823', 'No pain No gain', '15ff', 199, 4, 222, 'Jinx', 19598, 'BOTTOM', 100, 0, 8, 9, 7, 21251, 165029, 'MASTER']\n",
      "['KR_7078150004', 1608, '14.10.585.8823', '운수게임', '8379', 92, 5, 111, 'Nautilus', 83972, 'UTILITY', 100, 0, 1, 6, 16, 7705, 23554, 'MASTER']\n",
      "['KR_7078150004', 1608, '14.10.585.8823', 'Rich', 'KR12', 618, 6, 85, 'Kennen', 79231, 'TOP', 200, 1, 11, 2, 9, 37907, 171772, 'MASTER']\n",
      "['KR_7078150004', 1608, '14.10.585.8823', '샤인머스캣 존맛', 'KR1', 575, 7, 200, 'Belveth', 109953, 'JUNGLE', 200, 1, 4, 4, 12, 10345, 181418, 'MASTER']\n",
      "['KR_7078150004', 1608, '14.10.585.8823', '히히용용', 'KR1', 86, 8, 55, 'Katarina', 247348, 'MIDDLE', 200, 1, 13, 3, 9, 20901, 135998, 'MASTER']\n",
      "['KR_7078150004', 1608, '14.10.585.8823', 'Hakey', 'KR1', 412, 9, 145, 'Kaisa', 714416, 'BOTTOM', 200, 1, 6, 3, 9, 15804, 153995, 'MASTER']\n",
      "['KR_7078150004', 1608, '14.10.585.8823', 'Bae Suzy', 'KR1', 291, 10, 526, 'Rell', 13058, 'UTILITY', 200, 1, 0, 11, 17, 6201, 13137, 'MASTER']\n"
     ]
    },
    {
     "name": "stderr",
     "output_type": "stream",
     "text": [
      " 16%|█████████████▎                                                                     | 8/50 [00:00<00:00, 73.06it/s]"
     ]
    },
    {
     "name": "stdout",
     "output_type": "stream",
     "text": [
      "oracle 쿼리 성공\n",
      "oracle 쿼리 성공\n",
      "oracle 쿼리 성공\n",
      "oracle 쿼리 성공\n",
      "oracle 쿼리 성공\n",
      "oracle 쿼리 성공\n",
      "oracle 쿼리 성공\n",
      "oracle 쿼리 성공\n",
      "oracle 쿼리 성공\n",
      "oracle 쿼리 성공\n",
      "oracle 쿼리 성공\n",
      "oracle 쿼리 성공\n",
      "oracle 쿼리 성공\n",
      "oracle 쿼리 성공\n"
     ]
    },
    {
     "name": "stderr",
     "output_type": "stream",
     "text": [
      " 56%|█████████████████████████████████████████████▉                                    | 28/50 [00:00<00:00, 87.01it/s]"
     ]
    },
    {
     "name": "stdout",
     "output_type": "stream",
     "text": [
      "oracle 쿼리 성공\n",
      "oracle 쿼리 성공\n",
      "oracle 쿼리 성공\n",
      "oracle 쿼리 성공\n",
      "oracle 쿼리 성공\n",
      "oracle 쿼리 성공\n",
      "oracle 쿼리 성공\n",
      "oracle 쿼리 성공\n",
      "oracle 쿼리 성공\n",
      "oracle 쿼리 성공\n",
      "oracle 쿼리 성공\n",
      "oracle 쿼리 성공\n",
      "oracle 쿼리 성공\n",
      "oracle 쿼리 성공\n",
      "oracle 쿼리 성공\n",
      "oracle 쿼리 성공\n"
     ]
    },
    {
     "name": "stderr",
     "output_type": "stream",
     "text": [
      "100%|██████████████████████████████████████████████████████████████████████████████████| 50/50 [00:00<00:00, 81.93it/s]"
     ]
    },
    {
     "name": "stdout",
     "output_type": "stream",
     "text": [
      "oracle 쿼리 성공\n",
      "oracle 쿼리 성공\n",
      "oracle 쿼리 성공\n",
      "oracle 쿼리 성공\n",
      "oracle 쿼리 성공\n",
      "oracle 쿼리 성공\n",
      "oracle 쿼리 성공\n",
      "oracle 쿼리 성공\n",
      "oracle 쿼리 성공\n",
      "oracle 쿼리 성공\n",
      "oracle 쿼리 성공\n",
      "oracle 쿼리 성공\n",
      "oracle 쿼리 성공\n",
      "oracle 쿼리 성공\n",
      "oracle 쿼리 성공\n",
      "oracle 쿼리 성공\n",
      "oracle 쿼리 성공\n",
      "oracle 쿼리 성공\n",
      "oracle 쿼리 성공\n",
      "oracle 쿼리 성공\n"
     ]
    },
    {
     "name": "stderr",
     "output_type": "stream",
     "text": [
      "\n"
     ]
    },
    {
     "name": "stdout",
     "output_type": "stream",
     "text": [
      "오라클 정상적으로 닫힘\n",
      "MASTER 소환사 ID 가져오는 중...\n",
      "PUUID 가져오는 중...\n"
     ]
    },
    {
     "name": "stderr",
     "output_type": "stream",
     "text": [
      "PUUID 가져오는 중: 100%|█████████████████████████████████████████████████████████████████| 3/3 [00:01<00:00,  1.87it/s]\n"
     ]
    },
    {
     "name": "stdout",
     "output_type": "stream",
     "text": [
      "경기 ID 가져오는 중...\n"
     ]
    },
    {
     "name": "stderr",
     "output_type": "stream",
     "text": [
      "경기 ID 가져오는 중: 100%|███████████████████████████████████████████████████████████████| 3/3 [00:02<00:00,  1.47it/s]\n"
     ]
    },
    {
     "name": "stdout",
     "output_type": "stream",
     "text": [
      "경기 정보 가져오는 중...\n"
     ]
    },
    {
     "name": "stderr",
     "output_type": "stream",
     "text": [
      "100%|████████████████████████████████████████████████████████████████████████████████████| 6/6 [00:09<00:00,  1.51s/it]\n"
     ]
    },
    {
     "name": "stdout",
     "output_type": "stream",
     "text": [
      "소환사 통계 생성 중...\n"
     ]
    },
    {
     "name": "stderr",
     "output_type": "stream",
     "text": [
      "소환사 통계 생성 중: 100%|███████████████████████████████████████████████████████████████| 6/6 [00:36<00:00,  6.02s/it]\n"
     ]
    },
    {
     "name": "stdout",
     "output_type": "stream",
     "text": [
      "MASTER 티어 데이터프레임의 행 수는 50입니다.\n",
      "['KR_7078837461', 1558, '14.10.585.8823', '마이멜로디', 'meloD', 407, 1, 24, 'Jax', 1310951, 'TOP', 100, 1, 3, 6, 3, 14192, 157294, 'MASTER']\n",
      "['KR_7078837461', 1558, '14.10.585.8823', 'chen mo yan', '520', 187, 2, 76, 'Nidalee', 87555, 'JUNGLE', 100, 1, 9, 4, 7, 21622, 213213, 'MASTER']\n",
      "['KR_7078837461', 1558, '14.10.585.8823', '그냥 벽 ', 'KR1', 215, 3, 166, 'Akshan', 10022, 'MIDDLE', 100, 1, 8, 4, 5, 19176, 124005, 'MASTER']\n",
      "['KR_7078837461', 1558, '14.10.585.8823', '야탑드림부동산', 'KR1', 546, 4, 21, 'MissFortune', 544920, 'BOTTOM', 100, 1, 7, 1, 5, 16445, 173466, 'MASTER']\n",
      "['KR_7078837461', 1558, '14.10.585.8823', '운명같게 해 타이밍', 'imnew', 311, 5, 412, 'Thresh', 153831, 'UTILITY', 100, 1, 0, 1, 14, 7598, 27451, 'MASTER']\n",
      "['KR_7078837461', 1558, '14.10.585.8823', '레 이', '1234', 648, 6, 79, 'Gragas', 80801, 'TOP', 200, 0, 9, 3, 5, 26622, 164387, 'MASTER']\n",
      "['KR_7078837461', 1558, '14.10.585.8823', 'yi7o', 'i7o', 53, 7, 60, 'Elise', 4678, 'JUNGLE', 200, 0, 0, 4, 1, 3857, 112479, 'MASTER']\n",
      "['KR_7078837461', 1558, '14.10.585.8823', 'egglyt', 'egg', 167, 8, 18, 'Tristana', 14987, 'MIDDLE', 200, 0, 7, 6, 1, 17996, 136370, 'MASTER']\n",
      "['KR_7078837461', 1558, '14.10.585.8823', '아낙수나문', 'KR3', 242, 9, 222, 'Jinx', 12935, 'BOTTOM', 200, 0, 0, 3, 3, 5672, 115473, 'MASTER']\n",
      "['KR_7078837461', 1558, '14.10.585.8823', '3q QAQ', 'Ganyu', 240, 10, 111, 'Nautilus', 58810, 'UTILITY', 200, 0, 0, 11, 5, 5310, 13788, 'MASTER']\n",
      "['KR_7078823801', 1776, '14.10.585.8823', '겨 형', 'KR1', 717, 1, 72, 'Skarner', 67113, 'TOP', 100, 0, 1, 10, 8, 17817, 110096, 'MASTER']\n",
      "['KR_7078823801', 1776, '14.10.585.8823', 'kled9', 'CN1', 47, 2, 68, 'Rumble', 27875, 'JUNGLE', 100, 0, 11, 11, 9, 25880, 205771, 'MASTER']\n",
      "['KR_7078823801', 1776, '14.10.585.8823', 'yi7o', 'i7o', 53, 3, 18, 'Tristana', 4835, 'MIDDLE', 100, 0, 2, 8, 7, 16537, 186440, 'MASTER']\n",
      "['KR_7078823801', 1776, '14.10.585.8823', 'Fist Bump', '0000', 72, 4, 42, 'Corki', 51155, 'BOTTOM', 100, 0, 17, 9, 3, 39830, 215736, 'MASTER']\n",
      "['KR_7078823801', 1776, '14.10.585.8823', '3q QAQ', 'Ganyu', 240, 5, 526, 'Rell', 101591, 'UTILITY', 100, 0, 2, 5, 19, 5802, 15580, 'MASTER']\n",
      "['KR_7078823801', 1776, '14.10.585.8823', '레 이', '1234', 648, 6, 4, 'TwistedFate', 32911, 'TOP', 200, 1, 11, 4, 10, 29479, 222076, 'MASTER']\n",
      "['KR_7078823801', 1776, '14.10.585.8823', 'Douyin Xszking', 'DYxsz', 90, 7, 107, 'Rengar', 400860, 'JUNGLE', 200, 1, 11, 8, 13, 31382, 279514, 'MASTER']\n",
      "['KR_7078823801', 1776, '14.10.585.8823', '가엽도다', 'KR1', 634, 8, 34, 'Anivia', 27904, 'MIDDLE', 200, 1, 2, 2, 14, 19970, 161895, 'MASTER']\n",
      "['KR_7078823801', 1776, '14.10.585.8823', 'SOLKING', '4077', 547, 9, 136, 'AurelionSol', 703691, 'BOTTOM', 200, 1, 10, 6, 10, 23683, 147196, 'MASTER']\n",
      "['KR_7078823801', 1776, '14.10.585.8823', 'KEPLER', '2328', 398, 10, 164, 'Camille', 12758, 'UTILITY', 200, 1, 9, 13, 9, 28832, 40066, 'MASTER']\n",
      "['KR_7077796068', 1606, '14.10.585.8823', '20240115입대', '논산훈련소', 395, 1, 126, 'Jayce', 117410, 'TOP', 100, 0, 0, 6, 3, 15648, 122308, 'MASTER']\n",
      "['KR_7077796068', 1606, '14.10.585.8823', 'cscews', 'wywq', 67, 2, 421, 'RekSai', 102338, 'JUNGLE', 100, 0, 6, 0, 4, 11841, 236253, 'MASTER']\n",
      "['KR_7077796068', 1606, '14.10.585.8823', 'Taxxx', '1125', 404, 3, 69, 'Cassiopeia', 86437, 'MIDDLE', 100, 0, 4, 1, 1, 8714, 114009, 'MASTER']\n",
      "['KR_7077796068', 1606, '14.10.585.8823', '불 조심', 'KOR', 94, 4, 63, 'Brand', 183408, 'BOTTOM', 100, 0, 0, 4, 1, 9419, 110386, 'MASTER']\n",
      "['KR_7077796068', 1606, '14.10.585.8823', '설 화', 'KR1', 1027, 5, 89, 'Leona', 111335, 'UTILITY', 100, 0, 0, 4, 3, 4233, 19529, 'MASTER']\n",
      "['KR_7077796068', 1606, '14.10.585.8823', '기묘기묘', 'KR1', 536, 6, 2, 'Olaf', 2706234, 'TOP', 200, 1, 5, 4, 1, 11573, 153397, 'MASTER']\n",
      "['KR_7077796068', 1606, '14.10.585.8823', '장래희망 핑구', '1010', 773, 7, 25, 'Morgana', 6943, 'JUNGLE', 200, 1, 0, 0, 6, 10376, 262731, 'MASTER']\n",
      "['KR_7077796068', 1606, '14.10.585.8823', 'THEWORLD', 'HATE', 52, 8, 112, 'Viktor', 128106, 'MIDDLE', 200, 1, 2, 2, 5, 17287, 141181, 'MASTER']\n",
      "['KR_7077796068', 1606, '14.10.585.8823', '쬬 닝', '0418', 76, 9, 429, 'Kalista', 40741, 'BOTTOM', 200, 1, 7, 3, 3, 18464, 160430, 'MASTER']\n",
      "['KR_7077796068', 1606, '14.10.585.8823', 'Shun Mizushino', '1996', 55, 10, 888, 'Renata', 15553, 'UTILITY', 200, 1, 1, 1, 9, 6179, 38355, 'MASTER']\n",
      "['KR_7078850093', 979, '14.10.585.8823', 'genkidama', 'KR1', 312, 1, 84, 'Akali', 38607, 'TOP', 100, 1, 4, 0, 1, 9760, 58788, 'MASTER']\n",
      "['KR_7078850093', 979, '14.10.585.8823', '다잘될거야', '0708', 51, 2, 5, 'XinZhao', 5120, 'JUNGLE', 100, 1, 5, 3, 7, 9924, 105093, 'MASTER']\n",
      "['KR_7078850093', 979, '14.10.585.8823', '갈 창', 'KR1', 537, 3, 3, 'Galio', 1125511, 'MIDDLE', 100, 1, 1, 1, 7, 6614, 66260, 'MASTER']\n",
      "['KR_7078850093', 979, '14.10.585.8823', 'T55I', '555', 49, 4, 145, 'Kaisa', 60043, 'BOTTOM', 100, 1, 8, 1, 5, 13929, 63207, 'MASTER']\n",
      "['KR_7078850093', 979, '14.10.585.8823', '光而不耀 静水流深', 'Lush', 517, 5, 526, 'Rell', 97739, 'UTILITY', 100, 1, 2, 0, 9, 3923, 11226, 'MASTER']\n",
      "['KR_7078850093', 979, '14.10.585.8823', '웅오레', '오공킹', 778, 6, 62, 'MonkeyKing', 4513581, 'TOP', 200, 0, 2, 3, 0, 6287, 28668, 'MASTER']\n",
      "['KR_7078850093', 979, '14.10.585.8823', 'clr', '507', 66, 7, 24, 'Jax', 4340, 'JUNGLE', 200, 0, 1, 3, 2, 3781, 127368, 'MASTER']\n",
      "['KR_7078850093', 979, '14.10.585.8823', '별 수호자 김인겸', '군대감', 309, 8, 518, 'Neeko', 686246, 'MIDDLE', 200, 0, 0, 4, 3, 8454, 63907, 'MASTER']\n",
      "['KR_7078850093', 979, '14.10.585.8823', '노 순', '1103', 537, 9, 523, 'Aphelios', 75308, 'BOTTOM', 200, 0, 1, 3, 1, 9866, 50870, 'MASTER']\n",
      "['KR_7078850093', 979, '14.10.585.8823', '손바닥 찰과상', 'KR1', 813, 10, 12, 'Alistar', 144318, 'UTILITY', 200, 0, 1, 8, 1, 2269, 5503, 'MASTER']\n",
      "['KR_7078076786', 933, '14.10.585.8823', '재 준', '재 준', 582, 1, 72, 'Skarner', 19049, 'TOP', 100, 0, 4, 1, 4, 8616, 49042, 'MASTER']\n",
      "['KR_7078076786', 933, '14.10.585.8823', 'Equanimity', '2007', 294, 2, 876, 'Lillia', 26925, 'JUNGLE', 100, 0, 5, 4, 3, 8433, 91154, 'MASTER']\n",
      "['KR_7078076786', 933, '14.10.585.8823', '말차라떼21', 'VYVY', 116, 3, 42, 'Corki', 14024, 'MIDDLE', 100, 0, 0, 3, 1, 6526, 59878, 'MASTER']\n",
      "['KR_7078076786', 933, '14.10.585.8823', '이게맞나싶다나는', 'KR1', 277, 4, 498, 'Xayah', 92912, 'BOTTOM', 100, 0, 5, 4, 1, 8944, 57337, 'MASTER']\n",
      "['KR_7078076786', 933, '14.10.585.8823', '이진섭', '1085', 991, 5, 63, 'Brand', 219694, 'UTILITY', 100, 0, 1, 8, 8, 9316, 14526, 'MASTER']\n",
      "['KR_7078076786', 933, '14.10.585.8823', '파키케팔로사우루스', 'KR123', 947, 6, 266, 'Aatrox', 62367, 'TOP', 200, 1, 4, 4, 1, 9852, 50681, 'MASTER']\n",
      "['KR_7078076786', 933, '14.10.585.8823', 'ruguoyoulaisheng', 'KR1', 78, 7, 234, 'Viego', 48498, 'JUNGLE', 200, 1, 2, 4, 5, 6190, 102374, 'MASTER']\n",
      "['KR_7078076786', 933, '14.10.585.8823', '맞다이로 들어와', '뉴진우', 227, 8, 7, 'Leblanc', 75490, 'MIDDLE', 200, 1, 4, 0, 2, 12050, 51648, 'MASTER']\n",
      "['KR_7078076786', 933, '14.10.585.8823', 'Fist Bump', '0000', 71, 9, 145, 'Kaisa', 15522, 'BOTTOM', 200, 1, 8, 2, 2, 12210, 81355, 'MASTER']\n",
      "['KR_7078076786', 933, '14.10.585.8823', '光而不耀 静水流深', 'Lush', 517, 10, 111, 'Nautilus', 136413, 'UTILITY', 200, 1, 2, 5, 8, 5944, 12573, 'MASTER']\n"
     ]
    },
    {
     "name": "stderr",
     "output_type": "stream",
     "text": [
      " 10%|████████▎                                                                          | 5/50 [00:00<00:01, 44.50it/s]"
     ]
    },
    {
     "name": "stdout",
     "output_type": "stream",
     "text": [
      "oracle 쿼리 성공\n",
      "oracle 쿼리 성공\n",
      "oracle 쿼리 성공\n",
      "oracle 쿼리 성공\n",
      "oracle 쿼리 성공\n",
      "oracle 쿼리 성공\n",
      "oracle 쿼리 성공\n",
      "oracle 쿼리 성공\n",
      "oracle 쿼리 성공\n",
      "oracle 쿼리 성공\n",
      "oracle 쿼리 성공\n"
     ]
    },
    {
     "name": "stderr",
     "output_type": "stream",
     "text": [
      " 40%|████████████████████████████████▊                                                 | 20/50 [00:00<00:00, 57.61it/s]"
     ]
    },
    {
     "name": "stdout",
     "output_type": "stream",
     "text": [
      "oracle 쿼리 성공\n",
      "oracle 쿼리 성공\n",
      "oracle 쿼리 성공\n",
      "oracle 쿼리 성공\n",
      "oracle 쿼리 성공\n",
      "oracle 쿼리 성공\n",
      "oracle 쿼리 성공\n",
      "oracle 쿼리 성공\n",
      "oracle 쿼리 성공\n",
      "oracle 쿼리 성공\n",
      "oracle 쿼리 성공\n",
      "oracle 쿼리 성공\n",
      "oracle 쿼리 성공\n"
     ]
    },
    {
     "name": "stderr",
     "output_type": "stream",
     "text": [
      " 74%|████████████████████████████████████████████████████████████▋                     | 37/50 [00:00<00:00, 70.31it/s]"
     ]
    },
    {
     "name": "stdout",
     "output_type": "stream",
     "text": [
      "oracle 쿼리 성공\n",
      "oracle 쿼리 성공\n",
      "oracle 쿼리 성공\n",
      "oracle 쿼리 성공\n",
      "oracle 쿼리 성공\n",
      "oracle 쿼리 성공\n",
      "oracle 쿼리 성공\n",
      "oracle 쿼리 성공\n",
      "oracle 쿼리 성공\n",
      "oracle 쿼리 성공\n",
      "oracle 쿼리 성공\n",
      "oracle 쿼리 성공\n",
      "oracle 쿼리 성공\n",
      "oracle 쿼리 성공\n",
      "oracle 쿼리 성공\n",
      "oracle 쿼리 성공\n",
      "oracle 쿼리 성공\n",
      "oracle 쿼리 성공\n"
     ]
    },
    {
     "name": "stderr",
     "output_type": "stream",
     "text": [
      "100%|██████████████████████████████████████████████████████████████████████████████████| 50/50 [00:00<00:00, 67.56it/s]\n"
     ]
    },
    {
     "name": "stdout",
     "output_type": "stream",
     "text": [
      "oracle 쿼리 성공\n",
      "oracle 쿼리 성공\n",
      "oracle 쿼리 성공\n",
      "oracle 쿼리 성공\n",
      "oracle 쿼리 성공\n",
      "oracle 쿼리 성공\n",
      "oracle 쿼리 성공\n",
      "oracle 쿼리 성공\n",
      "오라클 정상적으로 닫힘\n",
      "MASTER 소환사 ID 가져오는 중...\n",
      "PUUID 가져오는 중...\n"
     ]
    },
    {
     "name": "stderr",
     "output_type": "stream",
     "text": [
      "PUUID 가져오는 중: 100%|█████████████████████████████████████████████████████████████████| 3/3 [00:02<00:00,  1.36it/s]\n"
     ]
    },
    {
     "name": "stdout",
     "output_type": "stream",
     "text": [
      "경기 ID 가져오는 중...\n"
     ]
    },
    {
     "name": "stderr",
     "output_type": "stream",
     "text": [
      "경기 ID 가져오는 중: 100%|███████████████████████████████████████████████████████████████| 3/3 [00:01<00:00,  1.52it/s]\n"
     ]
    },
    {
     "name": "stdout",
     "output_type": "stream",
     "text": [
      "경기 정보 가져오는 중...\n"
     ]
    },
    {
     "name": "stderr",
     "output_type": "stream",
     "text": [
      "100%|████████████████████████████████████████████████████████████████████████████████████| 6/6 [00:08<00:00,  1.39s/it]\n"
     ]
    },
    {
     "name": "stdout",
     "output_type": "stream",
     "text": [
      "소환사 통계 생성 중...\n"
     ]
    },
    {
     "name": "stderr",
     "output_type": "stream",
     "text": [
      "소환사 통계 생성 중: 100%|███████████████████████████████████████████████████████████████| 6/6 [00:31<00:00,  5.31s/it]\n"
     ]
    },
    {
     "name": "stdout",
     "output_type": "stream",
     "text": [
      "MASTER 티어 데이터프레임의 행 수는 50입니다.\n",
      "['KR_7078947431', 1143, '14.10.585.8823', '남탓금지1', 'KR1', 138, 1, 86, 'Garen', 461900, 'TOP', 100, 1, 7, 1, 2, 13263, 121082, 'MASTER']\n",
      "['KR_7078947431', 1143, '14.10.585.8823', '쬬 닝', '0418', 77, 2, 421, 'RekSai', 153216, 'JUNGLE', 100, 1, 10, 4, 11, 15048, 130314, 'MASTER']\n",
      "['KR_7078947431', 1143, '14.10.585.8823', 'haiyaonuli', 'KR1', 200, 3, 163, 'Taliyah', 40406, 'MIDDLE', 100, 1, 7, 5, 11, 15560, 110569, 'MASTER']\n",
      "['KR_7078947431', 1143, '14.10.585.8823', 'ersssee', 'wywq', 115, 4, 202, 'Jhin', 191317, 'BOTTOM', 100, 1, 8, 2, 13, 15519, 90680, 'MASTER']\n",
      "['KR_7078947431', 1143, '14.10.585.8823', 'Crack', '0221', 514, 5, 111, 'Nautilus', 382118, 'UTILITY', 100, 1, 2, 6, 18, 9432, 15691, 'MASTER']\n",
      "['KR_7078947431', 1143, '14.10.585.8823', 'something', 'zypp', 52, 6, 92, 'Riven', 143969, 'TOP', 200, 0, 1, 6, 0, 7903, 82065, 'MASTER']\n",
      "['KR_7078947431', 1143, '14.10.585.8823', '헤 진', 'KR2', 860, 7, 72, 'Skarner', 62754, 'JUNGLE', 200, 0, 6, 6, 10, 13750, 129284, 'MASTER']\n",
      "['KR_7078947431', 1143, '14.10.585.8823', '간절맨', 'KR2', 41, 8, 910, 'Hwei', 9844, 'MIDDLE', 200, 0, 5, 6, 6, 16795, 81810, 'MASTER']\n",
      "['KR_7078947431', 1143, '14.10.585.8823', '김민교 수제자', 'KR1', 216, 9, 69, 'Cassiopeia', 635331, 'BOTTOM', 200, 0, 4, 5, 2, 11554, 52684, 'MASTER']\n",
      "['KR_7078947431', 1143, '14.10.585.8823', '2006', '0214', 41, 10, 164, 'Camille', 42993, 'UTILITY', 200, 0, 2, 11, 8, 9253, 21662, 'MASTER']\n",
      "['KR_7078926148', 2183, '14.10.585.8823', 'weiweiwei1', 'KR1', 84, 1, 2, 'Olaf', 78101, 'TOP', 100, 0, 8, 10, 3, 28037, 234888, 'MASTER']\n",
      "['KR_7078926148', 2183, '14.10.585.8823', '저도행복하고싶어요', '2024', 74, 2, 64, 'LeeSin', 62225, 'JUNGLE', 100, 0, 1, 9, 11, 14293, 248673, 'MASTER']\n",
      "['KR_7078926148', 2183, '14.10.585.8823', 'asdcxc', 'zzz', 36, 3, 18, 'Tristana', 20802, 'MIDDLE', 100, 0, 4, 5, 4, 20702, 278307, 'MASTER']\n",
      "['KR_7078926148', 2183, '14.10.585.8823', '김민교 수제자', 'KR1', 216, 4, 69, 'Cassiopeia', 635331, 'BOTTOM', 100, 0, 12, 2, 5, 31647, 221589, 'MASTER']\n",
      "['KR_7078926148', 2183, '14.10.585.8823', '롯데자이언츠가을야구간다', '부산갈매기', 476, 5, 412, 'Thresh', 638498, 'UTILITY', 100, 0, 0, 8, 16, 5462, 10269, 'MASTER']\n",
      "['KR_7078926148', 2183, '14.10.585.8823', '광 젠', '93051', 262, 6, 122, 'Darius', 897020, 'TOP', 200, 1, 10, 7, 11, 18455, 137140, 'MASTER']\n",
      "['KR_7078926148', 2183, '14.10.585.8823', 'AI JUG', 'KR1', 65, 7, 76, 'Nidalee', 37935, 'JUNGLE', 200, 1, 8, 3, 17, 29489, 332997, 'MASTER']\n",
      "['KR_7078926148', 2183, '14.10.585.8823', '소연아사랑해', '0409', 326, 8, 126, 'Jayce', 198770, 'MIDDLE', 200, 1, 7, 0, 14, 41158, 401859, 'MASTER']\n",
      "['KR_7078926148', 2183, '14.10.585.8823', '츠루히메', 'KR1', 286, 9, 161, 'Velkoz', 1515763, 'BOTTOM', 200, 1, 5, 6, 15, 36076, 213951, 'MASTER']\n",
      "['KR_7078926148', 2183, '14.10.585.8823', '극도쾌락', 'KR1', 268, 10, 555, 'Pyke', 326240, 'UTILITY', 200, 1, 4, 9, 18, 12663, 26282, 'MASTER']\n",
      "['KR_7078812443', 2303, '14.10.585.8823', '늦게지기', '5340', 351, 1, 79, 'Gragas', 7540, 'TOP', 100, 0, 7, 9, 13, 29160, 148693, 'MASTER']\n",
      "['KR_7078812443', 2303, '14.10.585.8823', 'douyinjiangjiu', '666', 201, 2, 30, 'Karthus', 12942, 'JUNGLE', 100, 0, 20, 15, 11, 80158, 380591, 'MASTER']\n",
      "['KR_7078812443', 2303, '14.10.585.8823', 'douyisuoqf', '4583', 90, 3, 157, 'Yasuo', 334186, 'MIDDLE', 100, 0, 8, 6, 11, 28096, 287988, 'MASTER']\n",
      "['KR_7078812443', 2303, '14.10.585.8823', '강 평', '강 평', 134, 4, 202, 'Jhin', 18894, 'BOTTOM', 100, 0, 11, 10, 10, 37796, 261867, 'MASTER']\n",
      "['KR_7078812443', 2303, '14.10.585.8823', 'hasty', 'KR2', 151, 5, 101, 'Xerath', 12613, 'UTILITY', 100, 0, 4, 9, 19, 32622, 93250, 'MASTER']\n",
      "['KR_7078812443', 2303, '14.10.585.8823', 'NS DnDn', 'NS1', 64, 6, 234, 'Viego', 5192, 'TOP', 200, 1, 19, 12, 7, 57971, 298286, 'MASTER']\n",
      "['KR_7078812443', 2303, '14.10.585.8823', '생고기 먹는 스님', 'KR1', 73, 7, 59, 'JarvanIV', 15585, 'JUNGLE', 200, 1, 5, 12, 21, 18681, 246653, 'MASTER']\n",
      "['KR_7078812443', 2303, '14.10.585.8823', '이민하', 'KOR', 74, 8, 7, 'Leblanc', 64982, 'MIDDLE', 200, 1, 7, 10, 12, 26010, 128638, 'MASTER']\n",
      "['KR_7078812443', 2303, '14.10.585.8823', 'NS Jiwoo', 'KR1', 564, 9, 51, 'Caitlyn', 108082, 'BOTTOM', 200, 1, 8, 9, 14, 36843, 419651, 'MASTER']\n",
      "['KR_7078812443', 2303, '14.10.585.8823', 'gky3', 'KR1', 326, 10, 99, 'Lux', 8558, 'UTILITY', 200, 1, 10, 7, 17, 33374, 103317, 'MASTER']\n",
      "['KR_7078803072', 1272, '14.10.585.8823', '허허걸', 'KR1', 349, 1, 23, 'Tryndamere', 362638, 'TOP', 100, 1, 5, 3, 3, 18463, 92561, 'MASTER']\n",
      "['KR_7078803072', 1272, '14.10.585.8823', 'A little story', '666', 948, 2, 254, 'Vi', 194137, 'JUNGLE', 100, 1, 8, 3, 8, 12266, 148836, 'MASTER']\n",
      "['KR_7078803072', 1272, '14.10.585.8823', '2019LYAJ02', 'KR1', 69, 3, 163, 'Taliyah', 49190, 'MIDDLE', 100, 1, 5, 0, 7, 15858, 113391, 'MASTER']\n",
      "['KR_7078803072', 1272, '14.10.585.8823', '디블로', 'KR2', 1209, 4, 119, 'Draven', 1955782, 'BOTTOM', 100, 1, 4, 2, 7, 11253, 90963, 'MASTER']\n",
      "['KR_7078803072', 1272, '14.10.585.8823', 'Yeirr', '665', 129, 5, 111, 'Nautilus', 148129, 'UTILITY', 100, 1, 0, 3, 16, 6243, 17214, 'MASTER']\n",
      "['KR_7078803072', 1272, '14.10.585.8823', 'douyin HuJun', '286', 51, 6, 19, 'Warwick', 206420, 'TOP', 200, 0, 4, 5, 1, 25643, 106902, 'MASTER']\n",
      "['KR_7078803072', 1272, '14.10.585.8823', 'Radiohead', 'KR1', 1048, 7, 79, 'Gragas', 437726, 'JUNGLE', 200, 0, 3, 3, 4, 8827, 190769, 'MASTER']\n",
      "['KR_7078803072', 1272, '14.10.585.8823', 'nekol', 'kr2', 64, 8, 157, 'Yasuo', 2925, 'MIDDLE', 200, 0, 2, 4, 1, 5094, 104158, 'MASTER']\n",
      "['KR_7078803072', 1272, '14.10.585.8823', 'xycg', 'KR1', 703, 9, 236, 'Lucian', 255050, 'BOTTOM', 200, 0, 2, 5, 3, 18250, 94579, 'MASTER']\n",
      "['KR_7078803072', 1272, '14.10.585.8823', 'gky3', 'KR1', 326, 10, 267, 'Nami', 21341, 'UTILITY', 200, 0, 0, 5, 5, 4285, 19739, 'MASTER']\n",
      "['KR_7078854006', 1517, '14.10.585.8823', 'mxx', 'wewe', 64, 1, 266, 'Aatrox', 29521, 'TOP', 100, 0, 2, 3, 3, 15267, 130168, 'MASTER']\n",
      "['KR_7078854006', 1517, '14.10.585.8823', 'ΘωΘ', '302', 138, 2, 30, 'Karthus', 2149, 'JUNGLE', 100, 0, 3, 5, 6, 17852, 183495, 'MASTER']\n",
      "['KR_7078854006', 1517, '14.10.585.8823', '변종 나서스', 'KR1', 751, 3, 75, 'Nasus', 2238035, 'MIDDLE', 100, 0, 2, 6, 4, 9039, 114073, 'MASTER']\n",
      "['KR_7078854006', 1517, '14.10.585.8823', 'Fist Bump', '0000', 72, 4, 42, 'Corki', 51155, 'BOTTOM', 100, 0, 11, 9, 3, 26728, 96716, 'MASTER']\n",
      "['KR_7078854006', 1517, '14.10.585.8823', '훈 정', '0917', 408, 5, 432, 'Bard', 1367547, 'UTILITY', 100, 0, 1, 4, 11, 6909, 13977, 'MASTER']\n",
      "['KR_7078854006', 1517, '14.10.585.8823', 'zeneo', 'zeneo', 219, 6, 79, 'Gragas', 307726, 'TOP', 200, 1, 2, 3, 2, 18325, 121560, 'MASTER']\n",
      "['KR_7078854006', 1517, '14.10.585.8823', '8999', '113', 61, 7, 120, 'Hecarim', 72663, 'JUNGLE', 200, 1, 8, 5, 7, 17728, 305476, 'MASTER']\n",
      "['KR_7078854006', 1517, '14.10.585.8823', 'lsg', '2576', 315, 8, 61, 'Orianna', 67920, 'MIDDLE', 200, 1, 9, 2, 5, 23065, 158853, 'MASTER']\n",
      "['KR_7078854006', 1517, '14.10.585.8823', 'Fayuxia', 'Aluo', 243, 9, 119, 'Draven', 109701, 'BOTTOM', 200, 1, 3, 7, 4, 14858, 125391, 'MASTER']\n",
      "['KR_7078854006', 1517, '14.10.585.8823', '이문근', 'VNKR', 114, 10, 43, 'Karma', 40612, 'UTILITY', 200, 1, 5, 2, 9, 10556, 30478, 'MASTER']\n"
     ]
    },
    {
     "name": "stderr",
     "output_type": "stream",
     "text": [
      " 22%|██████████████████                                                                | 11/50 [00:00<00:00, 89.52it/s]"
     ]
    },
    {
     "name": "stdout",
     "output_type": "stream",
     "text": [
      "oracle 쿼리 성공\n",
      "oracle 쿼리 성공\n",
      "oracle 쿼리 성공\n",
      "oracle 쿼리 성공\n",
      "oracle 쿼리 성공\n",
      "oracle 쿼리 성공\n",
      "oracle 쿼리 성공\n",
      "oracle 쿼리 성공\n",
      "oracle 쿼리 성공\n",
      "oracle 쿼리 성공\n",
      "oracle 쿼리 성공\n",
      "oracle 쿼리 성공\n",
      "oracle 쿼리 성공\n",
      "oracle 쿼리 성공\n",
      "oracle 쿼리 성공\n",
      "oracle 쿼리 성공\n",
      "oracle 쿼리 성공\n"
     ]
    },
    {
     "name": "stderr",
     "output_type": "stream",
     "text": [
      " 62%|██████████████████████████████████████████████████▊                               | 31/50 [00:00<00:00, 89.87it/s]"
     ]
    },
    {
     "name": "stdout",
     "output_type": "stream",
     "text": [
      "oracle 쿼리 성공\n",
      "oracle 쿼리 성공\n",
      "oracle 쿼리 성공\n",
      "oracle 쿼리 성공\n",
      "oracle 쿼리 성공\n",
      "oracle 쿼리 성공\n",
      "oracle 쿼리 성공\n",
      "oracle 쿼리 성공\n",
      "oracle 쿼리 성공\n",
      "oracle 쿼리 성공\n",
      "oracle 쿼리 성공\n",
      "oracle 쿼리 성공\n",
      "oracle 쿼리 성공\n",
      "oracle 쿼리 성공\n",
      "oracle 쿼리 성공\n",
      "oracle 쿼리 성공\n",
      "oracle 쿼리 성공\n",
      "oracle 쿼리 성공\n",
      "oracle 쿼리 성공\n",
      "oracle 쿼리 성공\n"
     ]
    },
    {
     "name": "stderr",
     "output_type": "stream",
     "text": [
      "100%|██████████████████████████████████████████████████████████████████████████████████| 50/50 [00:00<00:00, 85.71it/s]"
     ]
    },
    {
     "name": "stdout",
     "output_type": "stream",
     "text": [
      "oracle 쿼리 성공\n",
      "oracle 쿼리 성공\n",
      "oracle 쿼리 성공\n",
      "oracle 쿼리 성공\n",
      "oracle 쿼리 성공\n",
      "oracle 쿼리 성공\n",
      "oracle 쿼리 성공\n",
      "oracle 쿼리 성공\n",
      "oracle 쿼리 성공\n",
      "oracle 쿼리 성공\n",
      "oracle 쿼리 성공\n",
      "oracle 쿼리 성공\n",
      "oracle 쿼리 성공\n"
     ]
    },
    {
     "name": "stderr",
     "output_type": "stream",
     "text": [
      "\n"
     ]
    },
    {
     "name": "stdout",
     "output_type": "stream",
     "text": [
      "오라클 정상적으로 닫힘\n",
      "MASTER 소환사 ID 가져오는 중...\n",
      "PUUID 가져오는 중...\n"
     ]
    },
    {
     "name": "stderr",
     "output_type": "stream",
     "text": [
      "PUUID 가져오는 중: 100%|█████████████████████████████████████████████████████████████████| 3/3 [00:01<00:00,  1.73it/s]\n"
     ]
    },
    {
     "name": "stdout",
     "output_type": "stream",
     "text": [
      "경기 ID 가져오는 중...\n"
     ]
    },
    {
     "name": "stderr",
     "output_type": "stream",
     "text": [
      "경기 ID 가져오는 중: 100%|███████████████████████████████████████████████████████████████| 3/3 [00:02<00:00,  1.48it/s]\n"
     ]
    },
    {
     "name": "stdout",
     "output_type": "stream",
     "text": [
      "경기 정보 가져오는 중...\n"
     ]
    },
    {
     "name": "stderr",
     "output_type": "stream",
     "text": [
      " 17%|██████████████                                                                      | 1/6 [00:01<00:06,  1.30s/it]"
     ]
    },
    {
     "name": "stdout",
     "output_type": "stream",
     "text": [
      "예외\n"
     ]
    },
    {
     "name": "stderr",
     "output_type": "stream",
     "text": [
      " 33%|████████████████████████████                                                        | 2/6 [00:02<00:05,  1.39s/it]"
     ]
    },
    {
     "name": "stdout",
     "output_type": "stream",
     "text": [
      "예외\n"
     ]
    },
    {
     "name": "stderr",
     "output_type": "stream",
     "text": [
      "100%|████████████████████████████████████████████████████████████████████████████████████| 6/6 [00:07<00:00,  1.32s/it]\n"
     ]
    },
    {
     "name": "stdout",
     "output_type": "stream",
     "text": [
      "소환사 통계 생성 중...\n"
     ]
    },
    {
     "name": "stderr",
     "output_type": "stream",
     "text": [
      "소환사 통계 생성 중: 100%|███████████████████████████████████████████████████████████████| 4/4 [00:25<00:00,  6.32s/it]\n"
     ]
    },
    {
     "name": "stdout",
     "output_type": "stream",
     "text": [
      "MASTER 티어 데이터프레임의 행 수는 40입니다.\n",
      "['KR_7078801486', 927, '14.10.585.8823', 'Uniq R CONGO', 'CONGO', 430, 1, 901, 'Smolder', 5551, 'TOP', 100, 0, 0, 3, 2, 8157, 52558, 'MASTER']\n",
      "['KR_7078801486', 927, '14.10.585.8823', '찐조인데요', 'KR1', 512, 2, 51, 'Caitlyn', 403982, 'BOTTOM', 100, 0, 3, 4, 0, 6441, 45829, 'MASTER']\n",
      "['KR_7078801486', 927, '14.10.585.8823', 'i kid', '2002', 592, 3, 163, 'Taliyah', 76024, 'MIDDLE', 100, 0, 0, 2, 0, 4584, 64679, 'MASTER']\n",
      "['KR_7078801486', 927, '14.10.585.8823', '나는 비행기다', 'KR1', 163, 4, 64, 'LeeSin', 3285, 'JUNGLE', 100, 0, 3, 2, 0, 4313, 97696, 'MASTER']\n",
      "['KR_7078801486', 927, '14.10.585.8823', 'haiyaoduojiu', '1111', 423, 5, 111, 'Nautilus', 319846, 'UTILITY', 100, 0, 0, 5, 2, 4070, 16801, 'MASTER']\n",
      "['KR_7078801486', 927, '14.10.585.8823', 'YuukiOvO', '0208', 201, 6, 897, 'KSante', 5333, 'TOP', 200, 1, 3, 1, 2, 6471, 50198, 'MASTER']\n",
      "['KR_7078801486', 927, '14.10.585.8823', '힙합갱스터허찬', 'KR08', 627, 7, 5, 'XinZhao', 72263, 'JUNGLE', 200, 1, 2, 1, 5, 4496, 94635, 'MASTER']\n",
      "['KR_7078801486', 927, '14.10.585.8823', 'HendryKing', 'KR1', 103, 8, 136, 'AurelionSol', 38169, 'MIDDLE', 200, 1, 5, 0, 0, 9129, 71399, 'MASTER']\n",
      "['KR_7078801486', 927, '14.10.585.8823', 'Alpago fan', 'KR1', 143, 9, 429, 'Kalista', 56776, 'BOTTOM', 200, 1, 5, 2, 2, 7796, 61914, 'MASTER']\n",
      "['KR_7078801486', 927, '14.10.585.8823', 'Motive', 'KRR1', 361, 10, 412, 'Thresh', 153746, 'UTILITY', 200, 1, 1, 2, 11, 4373, 10720, 'MASTER']\n",
      "['KR_7078788101', 1749, '14.10.585.8823', 'vgft', 'KR1', 80, 1, 39, 'Irelia', 74205, 'TOP', 100, 1, 6, 8, 10, 27723, 233413, 'MASTER']\n",
      "['KR_7078788101', 1749, '14.10.585.8823', '银河有迹可寻', '8101', 193, 2, 24, 'Jax', 65546, 'JUNGLE', 100, 1, 8, 9, 13, 23715, 269315, 'MASTER']\n",
      "['KR_7078788101', 1749, '14.10.585.8823', '연초가 된 나자신', 'KR1', 333, 3, 45, 'Veigar', 156492, 'MIDDLE', 100, 1, 8, 6, 11, 32060, 150777, 'MASTER']\n",
      "['KR_7078788101', 1749, '14.10.585.8823', 'Cryptid', 'KR2', 242, 4, 236, 'Lucian', 23486, 'BOTTOM', 100, 1, 14, 9, 12, 33795, 122753, 'MASTER']\n",
      "['KR_7078788101', 1749, '14.10.585.8823', 'Motive', 'KRR1', 361, 5, 267, 'Nami', 59949, 'UTILITY', 100, 1, 1, 8, 29, 13956, 23403, 'MASTER']\n",
      "['KR_7078788101', 1749, '14.10.585.8823', '변종 나서스', 'KR1', 751, 6, 75, 'Nasus', 2238035, 'TOP', 200, 0, 5, 6, 7, 22730, 163841, 'MASTER']\n",
      "['KR_7078788101', 1749, '14.10.585.8823', 'Jiahai', '家海亚索', 220, 7, 64, 'LeeSin', 49933, 'JUNGLE', 200, 0, 11, 9, 12, 25041, 205558, 'MASTER']\n",
      "['KR_7078788101', 1749, '14.10.585.8823', 'HendryKing', 'KR1', 103, 8, 84, 'Akali', 30313, 'MIDDLE', 200, 0, 17, 7, 8, 43491, 140897, 'MASTER']\n",
      "['KR_7078788101', 1749, '14.10.585.8823', '별 햐', 'KR1', 82, 9, 51, 'Caitlyn', 6354, 'BOTTOM', 200, 0, 6, 8, 9, 24353, 161665, 'MASTER']\n",
      "['KR_7078788101', 1749, '14.10.585.8823', '깜찍주하', 'KR1', 587, 10, 201, 'Braum', 12482, 'UTILITY', 200, 0, 1, 7, 24, 8719, 15861, 'MASTER']\n",
      "['KR_7078997901', 1363, '14.10.585.8823', '광 젠', '93051', 262, 1, 516, 'Ornn', 137883, 'TOP', 100, 0, 0, 4, 8, 5933, 82181, 'MASTER']\n",
      "['KR_7078997901', 1363, '14.10.585.8823', 'longtimenosee', 'KR0', 396, 2, 76, 'Nidalee', 350913, 'JUNGLE', 100, 0, 13, 7, 1, 14355, 169199, 'MASTER']\n",
      "['KR_7078997901', 1363, '14.10.585.8823', 'ありま かな', 'Arima', 47, 3, 18, 'Tristana', 10152, 'MIDDLE', 100, 0, 3, 5, 6, 13066, 93762, 'MASTER']\n",
      "['KR_7078997901', 1363, '14.10.585.8823', '폭력적인원딜', 'KR1', 127, 4, 221, 'Zeri', 112321, 'BOTTOM', 100, 0, 2, 3, 5, 13451, 97112, 'MASTER']\n",
      "['KR_7078997901', 1363, '14.10.585.8823', 'xqingyyds', 'KR1', 180, 5, 497, 'Rakan', 59330, 'UTILITY', 100, 0, 2, 3, 11, 4823, 13413, 'MASTER']\n",
      "['KR_7078997901', 1363, '14.10.585.8823', '렝 화', '렝 화', 85, 6, 107, 'Rengar', 263285, 'TOP', 200, 1, 3, 7, 11, 10415, 116779, 'MASTER']\n",
      "['KR_7078997901', 1363, '14.10.585.8823', 'Adios', '124', 235, 7, 163, 'Taliyah', 44154, 'JUNGLE', 200, 1, 6, 3, 9, 18374, 187407, 'MASTER']\n",
      "['KR_7078997901', 1363, '14.10.585.8823', 'HyeonJu', 'ZZang', 463, 8, 166, 'Akshan', 1138050, 'MIDDLE', 200, 1, 9, 3, 5, 28003, 173346, 'MASTER']\n",
      "['KR_7078997901', 1363, '14.10.585.8823', 'ISENS01', 'KR1', 85, 9, 429, 'Kalista', 55097, 'BOTTOM', 200, 1, 3, 3, 6, 17719, 132717, 'MASTER']\n",
      "['KR_7078997901', 1363, '14.10.585.8823', '치킨조아', 'KR3', 151, 10, 526, 'Rell', 35923, 'UTILITY', 200, 1, 1, 4, 15, 3810, 10604, 'MASTER']\n",
      "['KR_7078983865', 1110, '14.10.585.8823', '돈 비 어프레이드', 'KR1', 632, 1, 64, 'LeeSin', 1266306, 'JUNGLE', 100, 0, 3, 3, 2, 3974, 137933, 'MASTER']\n",
      "['KR_7078983865', 1110, '14.10.585.8823', 'feiji jug', '7777', 51, 2, 516, 'Ornn', 9373, 'TOP', 100, 0, 2, 3, 1, 10035, 84313, 'MASTER']\n",
      "['KR_7078983865', 1110, '14.10.585.8823', 'Yoon SeokJun', '0104', 706, 3, 7, 'Leblanc', 316911, 'MIDDLE', 100, 0, 0, 1, 1, 7451, 65760, 'MASTER']\n",
      "['KR_7078983865', 1110, '14.10.585.8823', '원딜 가락가락', 'KR1', 530, 4, 222, 'Jinx', 114686, 'BOTTOM', 100, 0, 2, 5, 3, 4965, 57566, 'MASTER']\n",
      "['KR_7078983865', 1110, '14.10.585.8823', '치킨조아', 'KR3', 151, 5, 526, 'Rell', 35923, 'UTILITY', 100, 0, 1, 5, 4, 3079, 7111, 'MASTER']\n",
      "['KR_7078983865', 1110, '14.10.585.8823', '소연아사랑해', '0409', 326, 6, 266, 'Aatrox', 56202, 'TOP', 200, 1, 5, 3, 3, 15128, 84288, 'MASTER']\n",
      "['KR_7078983865', 1110, '14.10.585.8823', '힙합갱스터허찬', 'KR08', 627, 7, 254, 'Vi', 63085, 'JUNGLE', 200, 1, 3, 1, 9, 6164, 116281, 'MASTER']\n",
      "['KR_7078983865', 1110, '14.10.585.8823', '2cc', 'ccc', 69, 8, 103, 'Ahri', 15738, 'MIDDLE', 200, 1, 6, 0, 4, 12293, 96383, 'MASTER']\n",
      "['KR_7078983865', 1110, '14.10.585.8823', '폭력적인원딜', 'KR1', 127, 9, 22, 'Ashe', 17560, 'BOTTOM', 200, 1, 3, 2, 10, 10069, 71868, 'MASTER']\n",
      "['KR_7078983865', 1110, '14.10.585.8823', 'Career', 'DRX', 120, 10, 111, 'Nautilus', 49079, 'UTILITY', 200, 1, 0, 2, 12, 5449, 12699, 'MASTER']\n"
     ]
    },
    {
     "name": "stderr",
     "output_type": "stream",
     "text": [
      " 25%|████████████████████▌                                                             | 10/40 [00:00<00:00, 97.57it/s]"
     ]
    },
    {
     "name": "stdout",
     "output_type": "stream",
     "text": [
      "oracle 쿼리 성공\n",
      "oracle 쿼리 성공\n",
      "oracle 쿼리 성공\n",
      "oracle 쿼리 성공\n",
      "oracle 쿼리 성공\n",
      "oracle 쿼리 성공\n",
      "oracle 쿼리 성공\n",
      "oracle 쿼리 성공\n",
      "oracle 쿼리 성공\n",
      "oracle 쿼리 성공\n",
      "oracle 쿼리 성공\n",
      "oracle 쿼리 성공\n",
      "oracle 쿼리 성공\n",
      "oracle 쿼리 성공\n",
      "oracle 쿼리 성공\n",
      "oracle 쿼리 성공\n"
     ]
    },
    {
     "name": "stderr",
     "output_type": "stream",
     "text": [
      " 72%|███████████████████████████████████████████████████████████▍                      | 29/40 [00:00<00:00, 78.06it/s]"
     ]
    },
    {
     "name": "stdout",
     "output_type": "stream",
     "text": [
      "oracle 쿼리 성공\n",
      "oracle 쿼리 성공\n",
      "oracle 쿼리 성공\n",
      "oracle 쿼리 성공\n",
      "oracle 쿼리 성공\n",
      "oracle 쿼리 성공\n",
      "oracle 쿼리 성공\n",
      "oracle 쿼리 성공\n",
      "oracle 쿼리 성공\n",
      "oracle 쿼리 성공\n",
      "oracle 쿼리 성공\n",
      "oracle 쿼리 성공\n",
      "oracle 쿼리 성공\n",
      "oracle 쿼리 성공\n",
      "oracle 쿼리 성공\n",
      "oracle 쿼리 성공\n"
     ]
    },
    {
     "name": "stderr",
     "output_type": "stream",
     "text": [
      "100%|██████████████████████████████████████████████████████████████████████████████████| 40/40 [00:00<00:00, 79.36it/s]\n"
     ]
    },
    {
     "name": "stdout",
     "output_type": "stream",
     "text": [
      "oracle 쿼리 성공\n",
      "oracle 쿼리 성공\n",
      "oracle 쿼리 성공\n",
      "oracle 쿼리 성공\n",
      "oracle 쿼리 성공\n",
      "oracle 쿼리 성공\n",
      "oracle 쿼리 성공\n",
      "oracle 쿼리 성공\n",
      "오라클 정상적으로 닫힘\n",
      "MASTER 소환사 ID 가져오는 중...\n",
      "PUUID 가져오는 중...\n"
     ]
    },
    {
     "name": "stderr",
     "output_type": "stream",
     "text": [
      "PUUID 가져오는 중: 100%|█████████████████████████████████████████████████████████████████| 3/3 [00:01<00:00,  1.55it/s]\n"
     ]
    },
    {
     "name": "stdout",
     "output_type": "stream",
     "text": [
      "경기 ID 가져오는 중...\n"
     ]
    },
    {
     "name": "stderr",
     "output_type": "stream",
     "text": [
      "경기 ID 가져오는 중: 100%|███████████████████████████████████████████████████████████████| 3/3 [00:01<00:00,  1.68it/s]\n"
     ]
    },
    {
     "name": "stdout",
     "output_type": "stream",
     "text": [
      "경기 정보 가져오는 중...\n"
     ]
    },
    {
     "name": "stderr",
     "output_type": "stream",
     "text": [
      "100%|████████████████████████████████████████████████████████████████████████████████████| 6/6 [00:11<00:00,  1.95s/it]\n"
     ]
    },
    {
     "name": "stdout",
     "output_type": "stream",
     "text": [
      "소환사 통계 생성 중...\n"
     ]
    },
    {
     "name": "stderr",
     "output_type": "stream",
     "text": [
      "소환사 통계 생성 중: 100%|███████████████████████████████████████████████████████████████| 6/6 [00:39<00:00,  6.64s/it]\n"
     ]
    },
    {
     "name": "stdout",
     "output_type": "stream",
     "text": [
      "MASTER 티어 데이터프레임의 행 수는 60입니다.\n",
      "['KR_7078496175', 1825, '14.10.585.8823', 'wink', '2024', 90, 1, 24, 'Jax', 85545, 'TOP', 100, 0, 1, 4, 3, 14213, 162108, 'MASTER']\n",
      "['KR_7078496175', 1825, '14.10.585.8823', '불꽃남자우디르', '0529', 272, 2, 77, 'Udyr', 985505, 'JUNGLE', 100, 0, 6, 3, 4, 10667, 239240, 'MASTER']\n",
      "['KR_7078496175', 1825, '14.10.585.8823', 'rahjy', '2024', 84, 3, 145, 'Kaisa', 39455, 'BOTTOM', 100, 0, 3, 5, 5, 19604, 199869, 'MASTER']\n",
      "['KR_7078496175', 1825, '14.10.585.8823', '남지패기', 'KR1', 826, 4, 18, 'Tristana', 126710, 'MIDDLE', 100, 0, 4, 5, 2, 16408, 184384, 'MASTER']\n",
      "['KR_7078496175', 1825, '14.10.585.8823', 'Soul Power', '安乔溪', 260, 5, 89, 'Leona', 9147, 'UTILITY', 100, 0, 1, 9, 9, 6411, 19640, 'MASTER']\n",
      "['KR_7078496175', 1825, '14.10.585.8823', '태산상제', '멸법진언', 112, 6, 897, 'KSante', 19727, 'TOP', 200, 1, 2, 5, 8, 25370, 158804, 'MASTER']\n",
      "['KR_7078496175', 1825, '14.10.585.8823', '샤인머스캣 존맛', 'KR1', 575, 7, 200, 'Belveth', 109953, 'JUNGLE', 200, 1, 6, 3, 10, 17159, 286287, 'MASTER']\n",
      "['KR_7078496175', 1825, '14.10.585.8823', 'shad3', '1111', 216, 8, 910, 'Hwei', 108188, 'MIDDLE', 200, 1, 6, 2, 7, 24630, 194151, 'MASTER']\n",
      "['KR_7078496175', 1825, '14.10.585.8823', 'ersssee', 'wywq', 114, 9, 202, 'Jhin', 191317, 'BOTTOM', 200, 1, 11, 0, 7, 22077, 248931, 'MASTER']\n",
      "['KR_7078496175', 1825, '14.10.585.8823', 'Tran Quy Tai', 'KR1', 157, 10, 111, 'Nautilus', 50797, 'UTILITY', 200, 1, 0, 5, 18, 9188, 19027, 'MASTER']\n",
      "['KR_7078444494', 1130, '14.10.585.8823', '태산상제', '멸법진언', 112, 1, 24, 'Jax', 22683, 'TOP', 100, 0, 1, 4, 2, 8256, 60133, 'MASTER']\n",
      "['KR_7078444494', 1130, '14.10.585.8823', '불꽃남자우디르', '0529', 272, 2, 77, 'Udyr', 985505, 'JUNGLE', 100, 0, 3, 3, 0, 6129, 163648, 'MASTER']\n",
      "['KR_7078444494', 1130, '14.10.585.8823', 'shad3', '1111', 216, 3, 910, 'Hwei', 108188, 'MIDDLE', 100, 0, 0, 4, 0, 6082, 77475, 'MASTER']\n",
      "['KR_7078444494', 1130, '14.10.585.8823', 'Raptor', 'KR123', 682, 4, 202, 'Jhin', 12368, 'BOTTOM', 100, 0, 3, 9, 1, 9820, 64385, 'MASTER']\n",
      "['KR_7078444494', 1130, '14.10.585.8823', '정훈이의 모험', 'FearX', 133, 5, 117, 'Lulu', 34396, 'UTILITY', 100, 0, 0, 6, 4, 8778, 22274, 'MASTER']\n",
      "['KR_7078444494', 1130, '14.10.585.8823', 'Morgan', '5358', 529, 6, 4, 'TwistedFate', 47955, 'TOP', 200, 1, 4, 3, 2, 11579, 102505, 'MASTER']\n",
      "['KR_7078444494', 1130, '14.10.585.8823', 'Angle Beats', '辉夜大小姐', 42, 7, 254, 'Vi', 4240, 'JUNGLE', 200, 1, 6, 0, 8, 15249, 131374, 'MASTER']\n",
      "['KR_7078444494', 1130, '14.10.585.8823', '매일 졸려여', 'KR1', 718, 8, 163, 'Taliyah', 176787, 'MIDDLE', 200, 1, 5, 1, 5, 12889, 101642, 'MASTER']\n",
      "['KR_7078444494', 1130, '14.10.585.8823', '냐미공듀', 'KR1', 445, 9, 222, 'Jinx', 135936, 'BOTTOM', 200, 1, 8, 3, 4, 12429, 84619, 'MASTER']\n",
      "['KR_7078444494', 1130, '14.10.585.8823', '100 Eyla', '100', 49, 10, 497, 'Rakan', 24034, 'UTILITY', 200, 1, 3, 0, 15, 6779, 17317, 'MASTER']\n",
      "['KR_7076163983', 1723, '14.10.585.8823', '대호깍기인형', 'ady', 571, 1, 80, 'Pantheon', 337905, 'TOP', 100, 1, 10, 8, 11, 40139, 179629, 'MASTER']\n",
      "['KR_7076163983', 1723, '14.10.585.8823', '뛰어난 드래곤', 'Long', 117, 2, 136, 'AurelionSol', 228000, 'JUNGLE', 100, 1, 6, 6, 15, 24540, 212949, 'MASTER']\n",
      "['KR_7076163983', 1723, '14.10.585.8823', '김각돌', 'KR1', 185, 3, 18, 'Tristana', 672879, 'MIDDLE', 100, 1, 13, 6, 7, 33224, 177777, 'MASTER']\n",
      "['KR_7076163983', 1723, '14.10.585.8823', '안산구성주', '쿠팡맨', 302, 4, 69, 'Cassiopeia', 1964685, 'BOTTOM', 100, 1, 10, 7, 10, 25701, 118082, 'MASTER']\n",
      "['KR_7076163983', 1723, '14.10.585.8823', 'jang99u123', 'KR1', 387, 5, 111, 'Nautilus', 78800, 'UTILITY', 100, 1, 2, 8, 21, 10047, 20785, 'MASTER']\n",
      "['KR_7076163983', 1723, '14.10.585.8823', '8yl', 'amnm', 108, 6, 58, 'Renekton', 535784, 'TOP', 200, 0, 4, 11, 14, 19995, 115400, 'MASTER']\n",
      "['KR_7076163983', 1723, '14.10.585.8823', 'Kxen', 'AFK', 93, 7, 60, 'Elise', 28995, 'JUNGLE', 200, 0, 10, 10, 13, 18576, 161844, 'MASTER']\n",
      "['KR_7076163983', 1723, '14.10.585.8823', 'Tada', '0106', 48, 8, 42, 'Corki', 28051, 'MIDDLE', 200, 0, 7, 9, 9, 22211, 132891, 'MASTER']\n",
      "['KR_7076163983', 1723, '14.10.585.8823', '뿌엥이', 'KR1', 527, 9, 412, 'Thresh', 34332, 'UTILITY', 200, 0, 2, 6, 24, 9522, 26946, 'MASTER']\n",
      "['KR_7076163983', 1723, '14.10.585.8823', 'lactea420', 'KR1', 891, 10, 202, 'Jhin', 571944, 'BOTTOM', 200, 0, 12, 5, 15, 30993, 154161, 'MASTER']\n",
      "['KR_7076158616', 2001, '14.10.585.8823', '잔챙이들은 빠져', '다친다', 343, 1, 74, 'Heimerdinger', 341189, 'TOP', 100, 0, 2, 8, 4, 35633, 169690, 'MASTER']\n",
      "['KR_7076158616', 2001, '14.10.585.8823', '병아리삐약이', 'KR1', 36, 2, 96, 'KogMaw', 679, 'JUNGLE', 100, 0, 3, 7, 8, 16638, 230871, 'MASTER']\n",
      "['KR_7076158616', 2001, '14.10.585.8823', 'Tada', '0106', 48, 3, 42, 'Corki', 28051, 'MIDDLE', 100, 0, 9, 5, 10, 42237, 212480, 'MASTER']\n",
      "['KR_7076158616', 2001, '14.10.585.8823', '룬 펠', 'KR1', 166, 4, 523, 'Aphelios', 86910, 'BOTTOM', 100, 0, 11, 9, 6, 22161, 213990, 'MASTER']\n",
      "['KR_7076158616', 2001, '14.10.585.8823', 'Aishimian', '3636', 152, 5, 53, 'Blitzcrank', 15965, 'UTILITY', 100, 0, 1, 7, 14, 11350, 16486, 'MASTER']\n",
      "['KR_7076158616', 2001, '14.10.585.8823', 'G1psyDanger', 'KR1', 804, 6, 54, 'Malphite', 387260, 'TOP', 200, 1, 1, 4, 13, 14201, 133685, 'MASTER']\n",
      "['KR_7076158616', 2001, '14.10.585.8823', 'Night Fury', '1116', 877, 7, 234, 'Viego', 292347, 'JUNGLE', 200, 1, 13, 9, 11, 26426, 289564, 'MASTER']\n",
      "['KR_7076158616', 2001, '14.10.585.8823', '김각돌', 'KR1', 185, 8, 18, 'Tristana', 672879, 'MIDDLE', 200, 1, 11, 3, 8, 23362, 245198, 'MASTER']\n",
      "['KR_7076158616', 2001, '14.10.585.8823', 'CRAZY', '예 종', 355, 9, 222, 'Jinx', 50373, 'BOTTOM', 200, 1, 9, 6, 13, 23870, 274192, 'MASTER']\n",
      "['KR_7076158616', 2001, '14.10.585.8823', 'Conejo Blanco', 'KR1', 214, 10, 902, 'Milio', 50751, 'UTILITY', 200, 1, 2, 5, 29, 6864, 15583, 'MASTER']\n",
      "['KR_7078832424', 1764, '14.10.585.8823', 'Corsair', '4274', 404, 1, 268, 'Azir', 133869, 'TOP', 100, 0, 4, 8, 7, 22900, 119013, 'MASTER']\n",
      "['KR_7078832424', 1764, '14.10.585.8823', 'quanliyifu', 'KR1', 191, 2, 163, 'Taliyah', 66955, 'JUNGLE', 100, 0, 5, 5, 13, 23060, 286991, 'MASTER']\n",
      "['KR_7078832424', 1764, '14.10.585.8823', '구더기', '3690', 609, 3, 910, 'Hwei', 65118, 'MIDDLE', 100, 0, 4, 9, 7, 18091, 118056, 'MASTER']\n",
      "['KR_7078832424', 1764, '14.10.585.8823', '사랑해요키썸', 'KR1', 145, 4, 22, 'Ashe', 31746, 'UTILITY', 100, 0, 3, 10, 12, 15119, 35517, 'MASTER']\n",
      "['KR_7078832424', 1764, '14.10.585.8823', 'Pangjin', 'kr2', 888, 5, 429, 'Kalista', 625553, 'BOTTOM', 100, 0, 8, 12, 7, 26722, 154732, 'MASTER']\n",
      "['KR_7078832424', 1764, '14.10.585.8823', 'スパークル', 'RAD', 246, 6, 897, 'KSante', 80527, 'TOP', 200, 1, 5, 6, 11, 18954, 137340, 'MASTER']\n",
      "['KR_7078832424', 1764, '14.10.585.8823', '08 프로지망', 'JG 08', 59, 7, 56, 'Nocturne', 6331, 'JUNGLE', 200, 1, 15, 3, 10, 23010, 256038, 'MASTER']\n",
      "['KR_7078832424', 1764, '14.10.585.8823', 'Palette', '2002', 258, 8, 136, 'AurelionSol', 28780, 'MIDDLE', 200, 1, 2, 4, 13, 22565, 146333, 'MASTER']\n",
      "['KR_7078832424', 1764, '14.10.585.8823', 'another', 'gods', 185, 9, 110, 'Varus', 14654, 'BOTTOM', 200, 1, 10, 5, 7, 22893, 180469, 'MASTER']\n",
      "['KR_7078832424', 1764, '14.10.585.8823', 'DK Sharvel', 'KR1', 687, 10, 555, 'Pyke', 21471, 'UTILITY', 200, 1, 12, 6, 18, 20615, 33843, 'MASTER']\n",
      "['KR_7078824104', 1838, '14.10.585.8823', '슈슈파나', 'gnar1', 315, 1, 150, 'Gnar', 1725042, 'TOP', 100, 1, 6, 7, 3, 18612, 163871, 'MASTER']\n",
      "['KR_7078824104', 1838, '14.10.585.8823', 'galaxyDrowsy', '520', 88, 2, 104, 'Graves', 26059, 'JUNGLE', 100, 1, 13, 7, 8, 31655, 312935, 'MASTER']\n",
      "['KR_7078824104', 1838, '14.10.585.8823', 'Peaky Blinders', '1920', 320, 3, 112, 'Viktor', 181988, 'MIDDLE', 100, 1, 3, 7, 13, 34679, 156587, 'MASTER']\n",
      "['KR_7078824104', 1838, '14.10.585.8823', 'piop5', 'KR1', 150, 4, 51, 'Caitlyn', 25953, 'BOTTOM', 100, 1, 10, 5, 9, 28112, 189350, 'MASTER']\n",
      "['KR_7078824104', 1838, '14.10.585.8823', 'Lovepanpan', 'KR1', 466, 5, 147, 'Seraphine', 8921, 'UTILITY', 100, 1, 2, 5, 22, 12909, 34999, 'MASTER']\n",
      "['KR_7078824104', 1838, '14.10.585.8823', 'Anywhos', 'KR1', 157, 6, 80, 'Pantheon', 955328, 'TOP', 200, 0, 13, 7, 7, 35119, 175947, 'MASTER']\n",
      "['KR_7078824104', 1838, '14.10.585.8823', 'Xunxunmimi', '20110', 99, 7, 421, 'RekSai', 18118, 'JUNGLE', 200, 0, 3, 9, 10, 9477, 208886, 'MASTER']\n",
      "['KR_7078824104', 1838, '14.10.585.8823', 'Palette', '2002', 258, 8, 777, 'Yone', 60811, 'MIDDLE', 200, 0, 7, 6, 5, 28416, 237286, 'MASTER']\n",
      "['KR_7078824104', 1838, '14.10.585.8823', 'sys', 'kr2', 52, 9, 145, 'Kaisa', 17367, 'BOTTOM', 200, 0, 6, 7, 8, 28512, 183915, 'MASTER']\n",
      "['KR_7078824104', 1838, '14.10.585.8823', 'Deft  fans', 'Tulle', 87, 10, 412, 'Thresh', 79151, 'UTILITY', 200, 0, 2, 5, 14, 6457, 23762, 'MASTER']\n"
     ]
    },
    {
     "name": "stderr",
     "output_type": "stream",
     "text": [
      " 18%|██████████████▊                                                                  | 11/60 [00:00<00:00, 106.48it/s]"
     ]
    },
    {
     "name": "stdout",
     "output_type": "stream",
     "text": [
      "oracle 쿼리 성공\n",
      "oracle 쿼리 성공\n",
      "oracle 쿼리 성공\n",
      "oracle 쿼리 성공\n",
      "oracle 쿼리 성공\n",
      "oracle 쿼리 성공\n",
      "oracle 쿼리 성공\n",
      "oracle 쿼리 성공\n",
      "oracle 쿼리 성공\n",
      "oracle 쿼리 성공\n",
      "oracle 쿼리 성공\n",
      "oracle 쿼리 성공\n",
      "oracle 쿼리 성공\n",
      "oracle 쿼리 성공\n",
      "oracle 쿼리 성공\n",
      "oracle 쿼리 성공\n",
      "oracle 쿼리 성공\n",
      "oracle 쿼리 성공\n",
      "oracle 쿼리 성공\n",
      "oracle 쿼리 성공\n"
     ]
    },
    {
     "name": "stderr",
     "output_type": "stream",
     "text": [
      " 55%|████████████████████████████████████████████▌                                    | 33/60 [00:00<00:00, 105.01it/s]"
     ]
    },
    {
     "name": "stdout",
     "output_type": "stream",
     "text": [
      "oracle 쿼리 성공\n",
      "oracle 쿼리 성공\n",
      "oracle 쿼리 성공\n",
      "oracle 쿼리 성공\n",
      "oracle 쿼리 성공\n",
      "oracle 쿼리 성공\n",
      "oracle 쿼리 성공\n",
      "oracle 쿼리 성공\n",
      "oracle 쿼리 성공\n",
      "oracle 쿼리 성공\n",
      "oracle 쿼리 성공\n",
      "oracle 쿼리 성공\n",
      "oracle 쿼리 성공\n",
      "oracle 쿼리 성공\n",
      "oracle 쿼리 성공\n",
      "oracle 쿼리 성공\n",
      "oracle 쿼리 성공\n",
      "oracle 쿼리 성공\n",
      "oracle 쿼리 성공\n"
     ]
    },
    {
     "name": "stderr",
     "output_type": "stream",
     "text": [
      " 90%|█████████████████████████████████████████████████████████████████████████▊        | 54/60 [00:00<00:00, 93.93it/s]"
     ]
    },
    {
     "name": "stdout",
     "output_type": "stream",
     "text": [
      "oracle 쿼리 성공\n",
      "oracle 쿼리 성공\n",
      "oracle 쿼리 성공\n",
      "oracle 쿼리 성공\n",
      "oracle 쿼리 성공\n",
      "oracle 쿼리 성공\n",
      "oracle 쿼리 성공\n",
      "oracle 쿼리 성공\n",
      "oracle 쿼리 성공\n",
      "oracle 쿼리 성공\n",
      "oracle 쿼리 성공\n",
      "oracle 쿼리 성공\n",
      "oracle 쿼리 성공\n",
      "oracle 쿼리 성공\n",
      "oracle 쿼리 성공\n",
      "oracle 쿼리 성공\n",
      "oracle 쿼리 성공\n",
      "oracle 쿼리 성공\n",
      "oracle 쿼리 성공\n",
      "oracle 쿼리 성공\n"
     ]
    },
    {
     "name": "stderr",
     "output_type": "stream",
     "text": [
      "100%|██████████████████████████████████████████████████████████████████████████████████| 60/60 [00:00<00:00, 93.64it/s]\n"
     ]
    },
    {
     "name": "stdout",
     "output_type": "stream",
     "text": [
      "oracle 쿼리 성공\n",
      "오라클 정상적으로 닫힘\n",
      "MASTER 소환사 ID 가져오는 중...\n",
      "PUUID 가져오는 중...\n"
     ]
    },
    {
     "name": "stderr",
     "output_type": "stream",
     "text": [
      "PUUID 가져오는 중: 100%|█████████████████████████████████████████████████████████████████| 3/3 [00:01<00:00,  1.78it/s]\n"
     ]
    },
    {
     "name": "stdout",
     "output_type": "stream",
     "text": [
      "경기 ID 가져오는 중...\n"
     ]
    },
    {
     "name": "stderr",
     "output_type": "stream",
     "text": [
      "경기 ID 가져오는 중: 100%|███████████████████████████████████████████████████████████████| 3/3 [00:01<00:00,  1.54it/s]\n"
     ]
    },
    {
     "name": "stdout",
     "output_type": "stream",
     "text": [
      "경기 정보 가져오는 중...\n"
     ]
    },
    {
     "name": "stderr",
     "output_type": "stream",
     "text": [
      "100%|████████████████████████████████████████████████████████████████████████████████████| 6/6 [00:09<00:00,  1.64s/it]\n"
     ]
    },
    {
     "name": "stdout",
     "output_type": "stream",
     "text": [
      "소환사 통계 생성 중...\n"
     ]
    },
    {
     "name": "stderr",
     "output_type": "stream",
     "text": [
      "소환사 통계 생성 중: 100%|███████████████████████████████████████████████████████████████| 6/6 [00:45<00:00,  7.53s/it]\n"
     ]
    },
    {
     "name": "stdout",
     "output_type": "stream",
     "text": [
      "MASTER 티어 데이터프레임의 행 수는 60입니다.\n",
      "['KR_7078645141', 1818, '14.10.585.8823', '55558', '5555', 48, 1, 92, 'Riven', 137130, 'TOP', 100, 1, 7, 2, 11, 22489, 145185, 'MASTER']\n",
      "['KR_7078645141', 1818, '14.10.585.8823', '籠中鳥', '何時飛', 440, 2, 163, 'Taliyah', 86781, 'JUNGLE', 100, 1, 14, 6, 22, 48625, 366295, 'MASTER']\n",
      "['KR_7078645141', 1818, '14.10.585.8823', '적태양', 'KR1', 1022, 3, 166, 'Akshan', 431695, 'MIDDLE', 100, 1, 5, 9, 18, 22684, 112121, 'MASTER']\n",
      "['KR_7078645141', 1818, '14.10.585.8823', '드레이븐', '2005', 260, 4, 145, 'Kaisa', 183380, 'BOTTOM', 100, 1, 13, 6, 8, 28834, 210178, 'MASTER']\n",
      "['KR_7078645141', 1818, '14.10.585.8823', 'Galaxysis', 'KR1', 429, 5, 164, 'Camille', 24809, 'UTILITY', 100, 1, 7, 6, 18, 26182, 57070, 'MASTER']\n",
      "['KR_7078645141', 1818, '14.10.585.8823', 'mxx', 'wewe', 63, 6, 266, 'Aatrox', 29521, 'TOP', 200, 0, 6, 8, 5, 22902, 179808, 'MASTER']\n",
      "['KR_7078645141', 1818, '14.10.585.8823', 'asfdbxvcyiou', '666', 99, 7, 421, 'RekSai', 125457, 'JUNGLE', 200, 0, 4, 10, 14, 14811, 223373, 'MASTER']\n",
      "['KR_7078645141', 1818, '14.10.585.8823', '8114149', '247', 587, 8, 69, 'Cassiopeia', 56858, 'MIDDLE', 200, 0, 15, 8, 9, 48177, 178029, 'MASTER']\n",
      "['KR_7078645141', 1818, '14.10.585.8823', '수면 중독', '5855', 82, 9, 498, 'Xayah', 677, 'BOTTOM', 200, 0, 3, 9, 6, 17472, 156145, 'MASTER']\n",
      "['KR_7078645141', 1818, '14.10.585.8823', 'xeesoxee', 'iu99', 275, 10, 497, 'Rakan', 102002, 'UTILITY', 200, 0, 1, 11, 14, 6082, 16414, 'MASTER']\n",
      "['KR_7078592809', 1363, '14.10.585.8823', '전 쥐', '0509', 137, 1, 14, 'Sion', 35519, 'TOP', 100, 0, 1, 6, 5, 6533, 59362, 'MASTER']\n",
      "['KR_7078592809', 1363, '14.10.585.8823', 'abc', 'aabc', 387, 2, 163, 'Taliyah', 48273, 'JUNGLE', 100, 0, 6, 7, 6, 19145, 174880, 'MASTER']\n",
      "['KR_7078592809', 1363, '14.10.585.8823', 'hehanlu', '6666', 165, 3, 80, 'Pantheon', 37395, 'MIDDLE', 100, 0, 4, 5, 5, 15441, 124527, 'MASTER']\n",
      "['KR_7078592809', 1363, '14.10.585.8823', '김또리', '또 리', 62, 4, 222, 'Jinx', 75422, 'BOTTOM', 100, 0, 7, 6, 7, 17902, 134320, 'MASTER']\n",
      "['KR_7078592809', 1363, '14.10.585.8823', '잼미닌데', 'KR1', 224, 5, 201, 'Braum', 32957, 'UTILITY', 100, 0, 2, 4, 11, 6407, 18396, 'MASTER']\n",
      "['KR_7078592809', 1363, '14.10.585.8823', 'mxx', 'wewe', 63, 6, 897, 'KSante', 14364, 'TOP', 200, 1, 7, 2, 5, 13053, 108079, 'MASTER']\n",
      "['KR_7078592809', 1363, '14.10.585.8823', '籠中鳥', '何時飛', 440, 7, 63, 'Brand', 59712, 'JUNGLE', 200, 1, 6, 5, 8, 17472, 195553, 'MASTER']\n",
      "['KR_7078592809', 1363, '14.10.585.8823', '적태양', 'KR1', 1022, 8, 166, 'Akshan', 431695, 'MIDDLE', 200, 1, 5, 3, 5, 12438, 107359, 'MASTER']\n",
      "['KR_7078592809', 1363, '14.10.585.8823', '노을지는밤', '0930', 57, 9, 236, 'Lucian', 42075, 'BOTTOM', 200, 1, 10, 4, 7, 20765, 112609, 'MASTER']\n",
      "['KR_7078592809', 1363, '14.10.585.8823', '강고미', 'juni', 509, 10, 267, 'Nami', 383067, 'UTILITY', 200, 1, 0, 6, 15, 7195, 15202, 'MASTER']\n",
      "['KR_7078762235', 2034, '14.10.585.8823', '잘해여', 'KR1', 253, 1, 15, 'Sivir', 8584, 'BOTTOM', 100, 0, 9, 7, 12, 30609, 244374, 'MASTER']\n",
      "['KR_7078762235', 2034, '14.10.585.8823', '나오이', 'KR2', 256, 2, 60, 'Elise', 17356, 'JUNGLE', 100, 0, 5, 10, 8, 15300, 187045, 'MASTER']\n",
      "['KR_7078762235', 2034, '14.10.585.8823', '시간의 숲', 'K R 1', 76, 3, 91, 'Talon', 221626, 'MIDDLE', 100, 0, 10, 8, 8, 21953, 182558, 'MASTER']\n",
      "['KR_7078762235', 2034, '14.10.585.8823', 'taehoon', 'zz6', 640, 4, 98, 'Shen', 44818, 'TOP', 100, 0, 5, 5, 12, 14896, 97730, 'MASTER']\n",
      "['KR_7078762235', 2034, '14.10.585.8823', '키 키', 'OwO', 770, 5, 350, 'Yuumi', 583600, 'UTILITY', 100, 0, 2, 4, 24, 7625, 10177, 'MASTER']\n",
      "['KR_7078762235', 2034, '14.10.585.8823', '잼잼 fan', '1234', 207, 6, 61, 'Orianna', 51409, 'MIDDLE', 200, 1, 7, 4, 15, 35439, 229976, 'MASTER']\n",
      "['KR_7078762235', 2034, '14.10.585.8823', '찬 중', '2002', 762, 7, 18, 'Tristana', 199077, 'BOTTOM', 200, 1, 4, 6, 3, 9523, 267756, 'MASTER']\n",
      "['KR_7078762235', 2034, '14.10.585.8823', '벚꽃나무', '0312', 315, 8, 59, 'JarvanIV', 31551, 'JUNGLE', 200, 1, 10, 5, 16, 21636, 253952, 'MASTER']\n",
      "['KR_7078762235', 2034, '14.10.585.8823', '앞집 땃쥐', '9936', 377, 9, 164, 'Camille', 65776, 'UTILITY', 200, 1, 5, 10, 10, 18124, 49447, 'MASTER']\n",
      "['KR_7078762235', 2034, '14.10.585.8823', '별을 판 날', 'KR1', 207, 10, 69, 'Cassiopeia', 470184, 'TOP', 200, 1, 8, 6, 8, 23395, 168820, 'MASTER']\n",
      "['KR_7078717731', 1576, '14.10.585.8823', '김근용', '0925', 667, 1, 79, 'Gragas', 12910, 'TOP', 100, 0, 3, 4, 2, 10883, 76329, 'MASTER']\n",
      "['KR_7078717731', 1576, '14.10.585.8823', '개박살사우루스', 'T발C', 270, 2, 234, 'Viego', 3659, 'JUNGLE', 100, 0, 9, 6, 5, 15706, 171142, 'MASTER']\n",
      "['KR_7078717731', 1576, '14.10.585.8823', 'biny', 'KR1', 390, 3, 4, 'TwistedFate', 161431, 'MIDDLE', 100, 0, 1, 3, 10, 9278, 135361, 'MASTER']\n",
      "['KR_7078717731', 1576, '14.10.585.8823', '심해를달리는소년', 'KR2', 194, 4, 221, 'Zeri', 0, 'BOTTOM', 100, 0, 3, 4, 5, 16244, 133306, 'MASTER']\n",
      "['KR_7078717731', 1576, '14.10.585.8823', '짱착한 봄선생님', '룰루조아', 623, 5, 16, 'Soraka', 0, 'UTILITY', 100, 0, 0, 8, 4, 2442, 9823, 'MASTER']\n",
      "['KR_7078717731', 1576, '14.10.585.8823', '잘해여', 'KR1', 253, 6, 18, 'Tristana', 0, 'BOTTOM', 200, 1, 11, 2, 7, 34808, 218911, 'MASTER']\n",
      "['KR_7078717731', 1576, '14.10.585.8823', '나오이', 'KR2', 256, 7, 30, 'Karthus', 0, 'JUNGLE', 200, 1, 5, 3, 11, 27246, 313993, 'MASTER']\n",
      "['KR_7078717731', 1576, '14.10.585.8823', '시간의 숲', 'K R 1', 76, 8, 91, 'Talon', 0, 'MIDDLE', 200, 1, 5, 6, 3, 16111, 132497, 'MASTER']\n",
      "['KR_7078717731', 1576, '14.10.585.8823', 'taehoon', 'zz6', 640, 9, 98, 'Shen', 0, 'TOP', 200, 1, 2, 2, 11, 20014, 95863, 'MASTER']\n",
      "['KR_7078717731', 1576, '14.10.585.8823', '키 키', 'OwO', 770, 10, 350, 'Yuumi', 0, 'UTILITY', 200, 1, 2, 3, 19, 9745, 15746, 'MASTER']\n",
      "['KR_7078983504', 1494, '14.10.585.8823', '오따이', 'KR1', 567, 1, 72, 'Skarner', 0, 'TOP', 100, 1, 5, 4, 12, 10214, 92118, 'MASTER']\n",
      "['KR_7078983504', 1494, '14.10.585.8823', 'JustLikeThatKR', 'KR1', 724, 2, 76, 'Nidalee', 0, 'JUNGLE', 100, 1, 6, 5, 11, 15678, 218584, 'MASTER']\n",
      "['KR_7078983504', 1494, '14.10.585.8823', '병장 진현창', 'KR1', 76, 3, 58, 'Renekton', 0, 'MIDDLE', 100, 1, 0, 9, 11, 7868, 91921, 'MASTER']\n",
      "['KR_7078983504', 1494, '14.10.585.8823', '귀뚜라미메뚜기', 'KR12', 312, 4, 222, 'Jinx', 0, 'BOTTOM', 100, 1, 11, 2, 9, 28285, 178718, 'MASTER']\n",
      "['KR_7078983504', 1494, '14.10.585.8823', 'Anami', 'KR0', 675, 5, 147, 'Seraphine', 0, 'UTILITY', 100, 1, 4, 5, 13, 4912, 20945, 'MASTER']\n",
      "['KR_7078983504', 1494, '14.10.585.8823', '칼과 창 방패', 'KR1', 763, 6, 19, 'Warwick', 0, 'TOP', 200, 0, 2, 5, 3, 8215, 82664, 'MASTER']\n",
      "['KR_7078983504', 1494, '14.10.585.8823', 'Little Red Bird', '666', 57, 7, 234, 'Viego', 0, 'JUNGLE', 200, 0, 8, 7, 7, 16392, 192526, 'MASTER']\n",
      "['KR_7078983504', 1494, '14.10.585.8823', 'ge li fei si', 'wywq', 334, 8, 22, 'Ashe', 0, 'BOTTOM', 200, 0, 6, 5, 7, 12791, 128662, 'MASTER']\n",
      "['KR_7078983504', 1494, '14.10.585.8823', 'kazezz', '12345', 42, 9, 163, 'Taliyah', 0, 'MIDDLE', 200, 0, 7, 5, 10, 27320, 157291, 'MASTER']\n",
      "['KR_7078983504', 1494, '14.10.585.8823', 'Rui1', 'KR1', 244, 10, 89, 'Leona', 0, 'UTILITY', 200, 0, 1, 4, 11, 7044, 13260, 'MASTER']\n",
      "['KR_7078794988', 1494, '14.10.585.8823', 'Aileri', 'KR1', 317, 1, 39, 'Irelia', 0, 'TOP', 100, 1, 11, 4, 10, 25250, 197683, 'MASTER']\n",
      "['KR_7078794988', 1494, '14.10.585.8823', '시비걸면바텀으로', '4052', 232, 2, 421, 'RekSai', 0, 'JUNGLE', 100, 1, 10, 6, 11, 17100, 156984, 'MASTER']\n",
      "['KR_7078794988', 1494, '14.10.585.8823', 'IOCOC', '1111', 43, 3, 7, 'Leblanc', 0, 'MIDDLE', 100, 1, 6, 3, 11, 25485, 102537, 'MASTER']\n",
      "['KR_7078794988', 1494, '14.10.585.8823', 'cccc', '1123', 45, 4, 222, 'Jinx', 0, 'BOTTOM', 100, 1, 8, 5, 14, 29496, 169932, 'MASTER']\n",
      "['KR_7078794988', 1494, '14.10.585.8823', 'Anami', 'KR0', 675, 5, 412, 'Thresh', 0, 'UTILITY', 100, 1, 5, 4, 18, 8024, 20742, 'MASTER']\n",
      "['KR_7078794988', 1494, '14.10.585.8823', 'JiXuan', 'KR123', 87, 6, 72, 'Skarner', 0, 'TOP', 200, 0, 5, 6, 5, 15264, 96084, 'MASTER']\n",
      "['KR_7078794988', 1494, '14.10.585.8823', 'fdsee', 'wywq', 84, 7, 30, 'Karthus', 0, 'JUNGLE', 200, 0, 6, 12, 7, 37239, 234895, 'MASTER']\n",
      "['KR_7078794988', 1494, '14.10.585.8823', 'Jiahai', '家海亚索', 220, 8, 157, 'Yasuo', 0, 'MIDDLE', 200, 0, 2, 8, 4, 10093, 94947, 'MASTER']\n",
      "['KR_7078794988', 1494, '14.10.585.8823', 'Be my brownie', '비마브', 575, 9, 42, 'Corki', 0, 'BOTTOM', 200, 0, 7, 7, 4, 17924, 114530, 'MASTER']\n",
      "['KR_7078794988', 1494, '14.10.585.8823', 'yolo', '13579', 88, 10, 555, 'Pyke', 0, 'UTILITY', 200, 0, 2, 7, 6, 8674, 25595, 'MASTER']\n"
     ]
    },
    {
     "name": "stderr",
     "output_type": "stream",
     "text": [
      " 15%|████████████▍                                                                      | 9/60 [00:00<00:00, 82.34it/s]"
     ]
    },
    {
     "name": "stdout",
     "output_type": "stream",
     "text": [
      "oracle 쿼리 성공\n",
      "oracle 쿼리 성공\n",
      "oracle 쿼리 성공\n",
      "oracle 쿼리 성공\n",
      "oracle 쿼리 성공\n",
      "oracle 쿼리 성공\n",
      "oracle 쿼리 성공\n",
      "oracle 쿼리 성공\n",
      "oracle 쿼리 성공\n",
      "oracle 쿼리 성공\n",
      "oracle 쿼리 성공\n",
      "oracle 쿼리 성공\n",
      "oracle 쿼리 성공\n",
      "oracle 쿼리 성공\n",
      "oracle 쿼리 성공\n",
      "oracle 쿼리 성공\n"
     ]
    },
    {
     "name": "stderr",
     "output_type": "stream",
     "text": [
      " 47%|██████████████████████████████████████▎                                           | 28/60 [00:00<00:00, 71.25it/s]"
     ]
    },
    {
     "name": "stdout",
     "output_type": "stream",
     "text": [
      "oracle 쿼리 성공\n",
      "oracle 쿼리 성공\n",
      "oracle 쿼리 성공\n",
      "oracle 쿼리 성공\n",
      "oracle 쿼리 성공\n",
      "oracle 쿼리 성공\n",
      "oracle 쿼리 성공\n",
      "oracle 쿼리 성공\n",
      "oracle 쿼리 성공\n",
      "oracle 쿼리 성공\n",
      "oracle 쿼리 성공\n",
      "oracle 쿼리 성공\n"
     ]
    },
    {
     "name": "stderr",
     "output_type": "stream",
     "text": [
      " 78%|████████████████████████████████████████████████████████████████▏                 | 47/60 [00:00<00:00, 80.16it/s]"
     ]
    },
    {
     "name": "stdout",
     "output_type": "stream",
     "text": [
      "oracle 쿼리 성공\n",
      "oracle 쿼리 성공\n",
      "oracle 쿼리 성공\n",
      "oracle 쿼리 성공\n",
      "oracle 쿼리 성공\n",
      "oracle 쿼리 성공\n",
      "oracle 쿼리 성공\n",
      "oracle 쿼리 성공\n",
      "oracle 쿼리 성공\n",
      "oracle 쿼리 성공\n",
      "oracle 쿼리 성공\n",
      "oracle 쿼리 성공\n",
      "oracle 쿼리 성공\n",
      "oracle 쿼리 성공\n",
      "oracle 쿼리 성공\n",
      "oracle 쿼리 성공\n",
      "oracle 쿼리 성공\n",
      "oracle 쿼리 성공\n"
     ]
    },
    {
     "name": "stderr",
     "output_type": "stream",
     "text": [
      "100%|██████████████████████████████████████████████████████████████████████████████████| 60/60 [00:00<00:00, 83.33it/s]\n"
     ]
    },
    {
     "name": "stdout",
     "output_type": "stream",
     "text": [
      "oracle 쿼리 성공\n",
      "oracle 쿼리 성공\n",
      "oracle 쿼리 성공\n",
      "oracle 쿼리 성공\n",
      "oracle 쿼리 성공\n",
      "oracle 쿼리 성공\n",
      "oracle 쿼리 성공\n",
      "oracle 쿼리 성공\n",
      "oracle 쿼리 성공\n",
      "oracle 쿼리 성공\n",
      "oracle 쿼리 성공\n",
      "oracle 쿼리 성공\n",
      "oracle 쿼리 성공\n",
      "oracle 쿼리 성공\n",
      "오라클 정상적으로 닫힘\n",
      "MASTER 소환사 ID 가져오는 중...\n",
      "PUUID 가져오는 중...\n"
     ]
    },
    {
     "name": "stderr",
     "output_type": "stream",
     "text": [
      "PUUID 가져오는 중: 100%|█████████████████████████████████████████████████████████████████| 3/3 [00:02<00:00,  1.00it/s]\n"
     ]
    },
    {
     "name": "stdout",
     "output_type": "stream",
     "text": [
      "경기 ID 가져오는 중...\n"
     ]
    },
    {
     "name": "stderr",
     "output_type": "stream",
     "text": [
      "경기 ID 가져오는 중: 100%|███████████████████████████████████████████████████████████████| 3/3 [00:02<00:00,  1.04it/s]\n"
     ]
    },
    {
     "name": "stdout",
     "output_type": "stream",
     "text": [
      "경기 정보 가져오는 중...\n"
     ]
    },
    {
     "name": "stderr",
     "output_type": "stream",
     "text": [
      "100%|████████████████████████████████████████████████████████████████████████████████████| 6/6 [00:08<00:00,  1.40s/it]\n"
     ]
    },
    {
     "name": "stdout",
     "output_type": "stream",
     "text": [
      "소환사 통계 생성 중...\n"
     ]
    },
    {
     "name": "stderr",
     "output_type": "stream",
     "text": [
      "소환사 통계 생성 중: 100%|███████████████████████████████████████████████████████████████| 6/6 [00:28<00:00,  4.80s/it]\n"
     ]
    },
    {
     "name": "stdout",
     "output_type": "stream",
     "text": [
      "MASTER 티어 데이터프레임의 행 수는 40입니다.\n",
      "['KR_7078586333', 1336, '14.10.585.8823', 'xiaokuanggong', '001', 61, 1, 72, 'Skarner', 973, 'TOP', 100, 0, 2, 4, 1, 14080, 72415, 'MASTER']\n",
      "['KR_7078586333', 1336, '14.10.585.8823', '우 한', '0717', 74, 2, 64, 'LeeSin', 58518, 'JUNGLE', 100, 0, 6, 2, 4, 9128, 158845, 'MASTER']\n",
      "['KR_7078586333', 1336, '14.10.585.8823', '티 모', 'T 1', 619, 3, 910, 'Hwei', 35224, 'MIDDLE', 100, 0, 8, 3, 7, 28669, 105004, 'MASTER']\n",
      "['KR_7078586333', 1336, '14.10.585.8823', '윈 터', '1012', 417, 4, 67, 'Vayne', 141392, 'BOTTOM', 100, 0, 3, 3, 5, 11525, 55467, 'MASTER']\n",
      "['KR_7078586333', 1336, '14.10.585.8823', '칠리 맛있어요', 'KR1', 157, 5, 12, 'Alistar', 13269, 'UTILITY', 100, 0, 1, 5, 6, 5240, 16202, 'MASTER']\n",
      "['KR_7078586333', 1336, '14.10.585.8823', '杰 洛', '齐贝林', 201, 6, 106, 'Volibear', 11097, 'TOP', 200, 1, 7, 1, 6, 18029, 119149, 'MASTER']\n",
      "['KR_7078586333', 1336, '14.10.585.8823', '청포도육포', '0309', 515, 7, 30, 'Karthus', 37195, 'JUNGLE', 200, 1, 0, 5, 8, 15998, 198639, 'MASTER']\n",
      "['KR_7078586333', 1336, '14.10.585.8823', '미북이', 'KR1', 619, 8, 42, 'Corki', 111776, 'MIDDLE', 200, 1, 7, 6, 1, 18766, 104037, 'MASTER']\n",
      "['KR_7078586333', 1336, '14.10.585.8823', 'able', '1157', 94, 9, 360, 'Samira', 51684, 'BOTTOM', 200, 1, 3, 4, 5, 15110, 76575, 'MASTER']\n",
      "['KR_7078586333', 1336, '14.10.585.8823', '하이인준', '0619', 869, 10, 111, 'Nautilus', 526465, 'UTILITY', 200, 1, 0, 4, 10, 7444, 23920, 'MASTER']\n",
      "['KR_7078530967', 922, '14.10.585.8823', '핵꼬마 김용순', '이건뭐야', 75, 1, 85, 'Kennen', 288010, 'TOP', 100, 0, 1, 5, 1, 7493, 32854, 'MASTER']\n",
      "['KR_7078530967', 922, '14.10.585.8823', '저 아닌데요', 'KR2', 216, 2, 64, 'LeeSin', 85774, 'JUNGLE', 100, 0, 2, 2, 1, 4717, 77277, 'MASTER']\n",
      "['KR_7078530967', 922, '14.10.585.8823', '비챤릴파아이네징버거고세구주르르', '이세돌', 969, 3, 157, 'Yasuo', 2887098, 'MIDDLE', 100, 0, 0, 4, 2, 5281, 49739, 'MASTER']\n",
      "['KR_7078530967', 922, '14.10.585.8823', 'Done Pick AD', 'KR1', 485, 4, 221, 'Zeri', 33470, 'BOTTOM', 100, 0, 0, 3, 0, 3972, 51602, 'MASTER']\n",
      "['KR_7078530967', 922, '14.10.585.8823', '스턴 달린 혜지', 'KR1', 765, 5, 44, 'Taric', 2894812, 'UTILITY', 100, 0, 0, 5, 0, 325, 10639, 'MASTER']\n",
      "['KR_7078530967', 922, '14.10.585.8823', 'qianyiya', '7442', 46, 6, 266, 'Aatrox', 27543, 'TOP', 200, 1, 3, 1, 3, 7095, 53382, 'MASTER']\n",
      "['KR_7078530967', 922, '14.10.585.8823', 'qwerzxcasdg', 'KR1', 433, 7, 203, 'Kindred', 140025, 'JUNGLE', 200, 1, 10, 0, 6, 14131, 112018, 'MASTER']\n",
      "['KR_7078530967', 922, '14.10.585.8823', 'Arrakis1', 'KR1', 171, 8, 126, 'Jayce', 120601, 'MIDDLE', 200, 1, 1, 2, 7, 12301, 45952, 'MASTER']\n",
      "['KR_7078530967', 922, '14.10.585.8823', '윈 터', '1012', 417, 9, 67, 'Vayne', 141392, 'BOTTOM', 200, 1, 3, 0, 2, 3294, 42797, 'MASTER']\n",
      "['KR_7078530967', 922, '14.10.585.8823', '송원초김우성', 'asd12', 39, 10, 497, 'Rakan', 39126, 'UTILITY', 200, 1, 2, 0, 10, 2831, 14086, 'MASTER']\n",
      "['KR_7078458400', 1651, '14.10.585.8823', 'positive boy', 'wooje', 104, 1, 58, 'Renekton', 40276, 'TOP', 100, 1, 9, 3, 10, 19373, 185822, 'MASTER']\n",
      "['KR_7078458400', 1651, '14.10.585.8823', '개척자', 'PINGU', 418, 2, 76, 'Nidalee', 265891, 'JUNGLE', 100, 1, 10, 6, 13, 22784, 190859, 'MASTER']\n",
      "['KR_7078458400', 1651, '14.10.585.8823', 'Indexy', 'KR1', 814, 3, 234, 'Viego', 987890, 'MIDDLE', 100, 1, 13, 6, 13, 31605, 152506, 'MASTER']\n",
      "['KR_7078458400', 1651, '14.10.585.8823', 'xiaoxuanz', '1030', 171, 4, 42, 'Corki', 1892, 'BOTTOM', 100, 1, 6, 4, 18, 20251, 162466, 'MASTER']\n",
      "['KR_7078458400', 1651, '14.10.585.8823', 'yolo', '13579', 88, 5, 111, 'Nautilus', 47435, 'UTILITY', 100, 1, 0, 3, 22, 7387, 21462, 'MASTER']\n",
      "['KR_7078458400', 1651, '14.10.585.8823', 'TRYMM', 'KR1', 183, 6, 114, 'Fiora', 656508, 'TOP', 200, 0, 2, 9, 5, 17558, 122716, 'MASTER']\n",
      "['KR_7078458400', 1651, '14.10.585.8823', 'xinw', 'x1x1', 41, 7, 163, 'Taliyah', 0, 'JUNGLE', 200, 0, 3, 10, 11, 34981, 281298, 'MASTER']\n",
      "['KR_7078458400', 1651, '14.10.585.8823', 'stuoo', '556', 73, 8, 157, 'Yasuo', 0, 'MIDDLE', 200, 0, 4, 8, 9, 18240, 153258, 'MASTER']\n",
      "['KR_7078458400', 1651, '14.10.585.8823', '젠레스존제로우', 'KR1', 240, 9, 110, 'Varus', 0, 'BOTTOM', 200, 0, 9, 4, 4, 22889, 168009, 'MASTER']\n",
      "['KR_7078458400', 1651, '14.10.585.8823', '김정민', '0707', 780, 10, 555, 'Pyke', 0, 'UTILITY', 200, 0, 4, 7, 7, 10237, 16935, 'MASTER']\n",
      "['KR_7077796068', 1606, '14.10.585.8823', '20240115입대', '논산훈련소', 395, 1, 126, 'Jayce', 0, 'TOP', 100, 0, 0, 6, 3, 15648, 122308, 'MASTER']\n",
      "['KR_7077796068', 1606, '14.10.585.8823', 'cscews', 'wywq', 67, 2, 421, 'RekSai', 0, 'JUNGLE', 100, 0, 6, 0, 4, 11841, 236253, 'MASTER']\n",
      "['KR_7077796068', 1606, '14.10.585.8823', 'Taxxx', '1125', 404, 3, 69, 'Cassiopeia', 0, 'MIDDLE', 100, 0, 4, 1, 1, 8714, 114009, 'MASTER']\n",
      "['KR_7077796068', 1606, '14.10.585.8823', '불 조심', 'KOR', 94, 4, 63, 'Brand', 0, 'BOTTOM', 100, 0, 0, 4, 1, 9419, 110386, 'MASTER']\n",
      "['KR_7077796068', 1606, '14.10.585.8823', '설 화', 'KR1', 1027, 5, 89, 'Leona', 0, 'UTILITY', 100, 0, 0, 4, 3, 4233, 19529, 'MASTER']\n",
      "['KR_7077796068', 1606, '14.10.585.8823', '기묘기묘', 'KR1', 536, 6, 2, 'Olaf', 0, 'TOP', 200, 1, 5, 4, 1, 11573, 153397, 'MASTER']\n",
      "['KR_7077796068', 1606, '14.10.585.8823', '장래희망 핑구', '1010', 773, 7, 25, 'Morgana', 0, 'JUNGLE', 200, 1, 0, 0, 6, 10376, 262731, 'MASTER']\n",
      "['KR_7077796068', 1606, '14.10.585.8823', 'THEWORLD', 'HATE', 52, 8, 112, 'Viktor', 0, 'MIDDLE', 200, 1, 2, 2, 5, 17287, 141181, 'MASTER']\n",
      "['KR_7077796068', 1606, '14.10.585.8823', '쬬 닝', '0418', 76, 9, 429, 'Kalista', 0, 'BOTTOM', 200, 1, 7, 3, 3, 18464, 160430, 'MASTER']\n",
      "['KR_7077796068', 1606, '14.10.585.8823', 'Shun Mizushino', '1996', 55, 10, 888, 'Renata', 0, 'UTILITY', 200, 1, 1, 1, 9, 6179, 38355, 'MASTER']\n"
     ]
    },
    {
     "name": "stderr",
     "output_type": "stream",
     "text": [
      " 25%|████████████████████▌                                                             | 10/40 [00:00<00:00, 97.21it/s]"
     ]
    },
    {
     "name": "stdout",
     "output_type": "stream",
     "text": [
      "oracle 쿼리 성공\n",
      "oracle 쿼리 성공\n",
      "oracle 쿼리 성공\n",
      "oracle 쿼리 성공\n",
      "oracle 쿼리 성공\n",
      "oracle 쿼리 성공\n",
      "oracle 쿼리 성공\n",
      "oracle 쿼리 성공\n",
      "oracle 쿼리 성공\n",
      "oracle 쿼리 성공\n",
      "oracle 쿼리 성공\n",
      "oracle 쿼리 성공\n",
      "oracle 쿼리 성공\n",
      "oracle 쿼리 성공\n",
      "oracle 쿼리 성공\n",
      "oracle 쿼리 성공\n",
      "oracle 쿼리 성공\n",
      "oracle 쿼리 성공\n"
     ]
    },
    {
     "name": "stderr",
     "output_type": "stream",
     "text": [
      " 75%|█████████████████████████████████████████████████████████████▌                    | 30/40 [00:00<00:00, 98.16it/s]"
     ]
    },
    {
     "name": "stdout",
     "output_type": "stream",
     "text": [
      "oracle 쿼리 성공\n",
      "oracle 쿼리 성공\n",
      "oracle 쿼리 성공\n",
      "oracle 쿼리 성공\n",
      "oracle 쿼리 성공\n",
      "oracle 쿼리 성공\n",
      "oracle 쿼리 성공\n",
      "oracle 쿼리 성공\n",
      "oracle 쿼리 성공\n",
      "oracle 쿼리 성공\n",
      "oracle 쿼리 성공\n",
      "oracle 쿼리 성공\n",
      "ORA-00001: unique constraint (C##INALPROJECT.PK_TESTMATCHS) violated\n",
      "ORA-00001: unique constraint (C##INALPROJECT.PK_TESTMATCHS) violated\n",
      "ORA-00001: unique constraint (C##INALPROJECT.PK_TESTMATCHS) violated\n",
      "ORA-00001: unique constraint (C##INALPROJECT.PK_TESTMATCHS) violated\n",
      "ORA-00001: unique constraint (C##INALPROJECT.PK_TESTMATCHS) violated\n"
     ]
    },
    {
     "name": "stderr",
     "output_type": "stream",
     "text": [
      "100%|██████████████████████████████████████████████████████████████████████████████████| 40/40 [00:00<00:00, 79.30it/s]"
     ]
    },
    {
     "name": "stdout",
     "output_type": "stream",
     "text": [
      "ORA-00001: unique constraint (C##INALPROJECT.PK_TESTMATCHS) violated\n",
      "ORA-00001: unique constraint (C##INALPROJECT.PK_TESTMATCHS) violated\n",
      "ORA-00001: unique constraint (C##INALPROJECT.PK_TESTMATCHS) violated\n",
      "ORA-00001: unique constraint (C##INALPROJECT.PK_TESTMATCHS) violated\n",
      "ORA-00001: unique constraint (C##INALPROJECT.PK_TESTMATCHS) violated\n",
      "오라클 정상적으로 닫힘\n"
     ]
    },
    {
     "name": "stderr",
     "output_type": "stream",
     "text": [
      "\n"
     ]
    },
    {
     "name": "stdout",
     "output_type": "stream",
     "text": [
      "MASTER 소환사 ID 가져오는 중...\n",
      "PUUID 가져오는 중...\n"
     ]
    },
    {
     "name": "stderr",
     "output_type": "stream",
     "text": [
      "PUUID 가져오는 중: 100%|█████████████████████████████████████████████████████████████████| 3/3 [00:02<00:00,  1.04it/s]\n"
     ]
    },
    {
     "name": "stdout",
     "output_type": "stream",
     "text": [
      "경기 ID 가져오는 중...\n"
     ]
    },
    {
     "name": "stderr",
     "output_type": "stream",
     "text": [
      "경기 ID 가져오는 중: 100%|███████████████████████████████████████████████████████████████| 3/3 [00:02<00:00,  1.22it/s]\n"
     ]
    },
    {
     "name": "stdout",
     "output_type": "stream",
     "text": [
      "경기 정보 가져오는 중...\n"
     ]
    },
    {
     "name": "stderr",
     "output_type": "stream",
     "text": [
      "100%|████████████████████████████████████████████████████████████████████████████████████| 6/6 [00:08<00:00,  1.42s/it]\n"
     ]
    },
    {
     "name": "stdout",
     "output_type": "stream",
     "text": [
      "소환사 통계 생성 중...\n"
     ]
    },
    {
     "name": "stderr",
     "output_type": "stream",
     "text": [
      "소환사 통계 생성 중: 100%|███████████████████████████████████████████████████████████████| 6/6 [00:35<00:00,  5.99s/it]\n"
     ]
    },
    {
     "name": "stdout",
     "output_type": "stream",
     "text": [
      "MASTER 티어 데이터프레임의 행 수는 60입니다.\n",
      "['KR_7077294227', 1620, '14.10.585.8823', '기억의 오르골', 'KR1', 605, 1, 17, 'Teemo', 45069, 'TOP', 100, 0, 2, 9, 1, 14170, 123871, 'MASTER']\n",
      "['KR_7077294227', 1620, '14.10.585.8823', 'NS Sappang', '2009', 388, 2, 76, 'Nidalee', 119470, 'JUNGLE', 100, 0, 2, 9, 5, 8930, 180759, 'MASTER']\n",
      "['KR_7077294227', 1620, '14.10.585.8823', '가즈아아아아아', 'KR2', 114, 3, 126, 'Jayce', 23048, 'MIDDLE', 100, 0, 3, 7, 6, 16712, 127285, 'MASTER']\n",
      "['KR_7077294227', 1620, '14.10.585.8823', '편식당', 'kr72', 660, 4, 222, 'Jinx', 161247, 'BOTTOM', 100, 0, 11, 6, 5, 29973, 213672, 'MASTER']\n",
      "['KR_7077294227', 1620, '14.10.585.8823', '나루토', 'KR1', 1257, 5, 412, 'Thresh', 293153, 'UTILITY', 100, 0, 0, 7, 13, 4870, 14625, 'MASTER']\n",
      "['KR_7077294227', 1620, '14.10.585.8823', 'Long', 'Kled', 66, 6, 240, 'Kled', 189361, 'TOP', 200, 1, 12, 4, 4, 19919, 188277, 'MASTER']\n",
      "['KR_7077294227', 1620, '14.10.585.8823', 'kind', '如果爱忘了', 40, 7, 60, 'Elise', 1611, 'JUNGLE', 200, 1, 14, 2, 9, 20598, 250215, 'MASTER']\n",
      "['KR_7077294227', 1620, '14.10.585.8823', '보일러스', 'KR1', 377, 8, 711, 'Vex', 201147, 'MIDDLE', 200, 1, 4, 1, 13, 17775, 133637, 'MASTER']\n",
      "['KR_7077294227', 1620, '14.10.585.8823', 'douy94244911968', 'KR2', 67, 9, 42, 'Corki', 18785, 'BOTTOM', 200, 1, 5, 4, 13, 21533, 147410, 'MASTER']\n",
      "['KR_7077294227', 1620, '14.10.585.8823', '輔助寒醬', 'KR2', 128, 10, 526, 'Rell', 69351, 'UTILITY', 200, 1, 3, 7, 19, 9372, 19490, 'MASTER']\n",
      "['KR_7077243036', 1253, '14.10.585.8823', '까치까치설날은', 'top', 221, 1, 58, 'Renekton', 30844, 'TOP', 100, 0, 1, 10, 4, 9827, 76582, 'MASTER']\n",
      "['KR_7077243036', 1253, '14.10.585.8823', '타 잔', '2328', 568, 2, 76, 'Nidalee', 666638, 'JUNGLE', 100, 0, 3, 4, 3, 8179, 120225, 'MASTER']\n",
      "['KR_7077243036', 1253, '14.10.585.8823', '벨베슝', 'KR1', 143, 3, 200, 'Belveth', 402976, 'MIDDLE', 100, 0, 3, 6, 3, 7677, 96629, 'MASTER']\n",
      "['KR_7077243036', 1253, '14.10.585.8823', 'In Pi', 'KR1', 381, 4, 221, 'Zeri', 8991, 'BOTTOM', 100, 0, 6, 8, 3, 18201, 73829, 'MASTER']\n",
      "['KR_7077243036', 1253, '14.10.585.8823', '민간인 최세현', '0728', 66, 5, 111, 'Nautilus', 72873, 'UTILITY', 100, 0, 0, 8, 8, 5257, 16775, 'MASTER']\n",
      "['KR_7077243036', 1253, '14.10.585.8823', '쿠쿠하세요쿠쿡', 'KR1', 308, 6, 122, 'Darius', 468342, 'TOP', 200, 1, 6, 1, 4, 11975, 96057, 'MASTER']\n",
      "['KR_7077243036', 1253, '14.10.585.8823', '단탄두운', 'Moo2', 650, 7, 421, 'RekSai', 80954, 'JUNGLE', 200, 1, 10, 3, 10, 11438, 140245, 'MASTER']\n",
      "['KR_7077243036', 1253, '14.10.585.8823', '뽀삐0', 'pq0pq', 338, 8, 61, 'Orianna', 12500, 'MIDDLE', 200, 1, 3, 4, 9, 15661, 95547, 'MASTER']\n",
      "['KR_7077243036', 1253, '14.10.585.8823', 'douy94244911968', 'KR2', 67, 9, 42, 'Corki', 18785, 'BOTTOM', 200, 1, 10, 2, 16, 29906, 129418, 'MASTER']\n",
      "['KR_7077243036', 1253, '14.10.585.8823', '輔助寒醬', 'KR2', 128, 10, 526, 'Rell', 69351, 'UTILITY', 200, 1, 5, 3, 21, 8537, 17422, 'MASTER']\n",
      "['KR_7078844745', 1695, '14.10.585.8823', '의문의 제드 장인', 'zed', 182, 1, 114, 'Fiora', 10322, 'TOP', 100, 1, 4, 5, 8, 22635, 152523, 'MASTER']\n",
      "['KR_7078844745', 1695, '14.10.585.8823', '유피미아', '여왕1', 293, 2, 876, 'Lillia', 17161, 'JUNGLE', 100, 1, 9, 9, 11, 30693, 310400, 'MASTER']\n",
      "['KR_7078844745', 1695, '14.10.585.8823', 'Lost Stars', '1314', 97, 3, 42, 'Corki', 15994, 'MIDDLE', 100, 1, 13, 9, 6, 35084, 151808, 'MASTER']\n",
      "['KR_7078844745', 1695, '14.10.585.8823', '딩거킹', '김도연', 642, 4, 74, 'Heimerdinger', 2508418, 'BOTTOM', 100, 1, 5, 7, 6, 28603, 141581, 'MASTER']\n",
      "['KR_7078844745', 1695, '14.10.585.8823', 'Deft  fans', 'Tulle', 87, 5, 412, 'Thresh', 79151, 'UTILITY', 100, 1, 3, 5, 16, 9503, 19055, 'MASTER']\n",
      "['KR_7078844745', 1695, '14.10.585.8823', 'SoHwan', 'xxx', 715, 6, 777, 'Yone', 23359, 'TOP', 200, 0, 1, 5, 5, 19591, 172356, 'MASTER']\n",
      "['KR_7078844745', 1695, '14.10.585.8823', 'QQhatitang11', 'KR1', 446, 7, 76, 'Nidalee', 339483, 'JUNGLE', 200, 0, 8, 7, 9, 25109, 210321, 'MASTER']\n",
      "['KR_7078844745', 1695, '14.10.585.8823', 'Senor Pink', '2540', 74, 8, 236, 'Lucian', 8408, 'MIDDLE', 200, 0, 15, 9, 1, 37173, 186214, 'MASTER']\n",
      "['KR_7078844745', 1695, '14.10.585.8823', 'sys', 'kr2', 52, 9, 145, 'Kaisa', 17367, 'BOTTOM', 200, 0, 8, 4, 7, 33676, 189394, 'MASTER']\n",
      "['KR_7078844745', 1695, '14.10.585.8823', 'another', 'gods', 186, 10, 111, 'Nautilus', 31350, 'UTILITY', 200, 0, 3, 9, 13, 8866, 23789, 'MASTER']\n",
      "['KR_7078837754', 1918, '14.10.585.8823', '이승연', '1999', 240, 1, 114, 'Fiora', 721156, 'TOP', 100, 0, 9, 6, 7, 28841, 203046, 'MASTER']\n",
      "['KR_7078837754', 1918, '14.10.585.8823', 'hy442975', 'wmr', 129, 2, 9, 'FiddleSticks', 617897, 'JUNGLE', 100, 0, 5, 5, 12, 21713, 218527, 'MASTER']\n",
      "['KR_7078837754', 1918, '14.10.585.8823', '그마 종자', '나아님누가', 310, 3, 18, 'Tristana', 13147, 'MIDDLE', 100, 0, 4, 10, 9, 11834, 174078, 'MASTER']\n",
      "['KR_7078837754', 1918, '14.10.585.8823', 'another', 'gods', 185, 4, 110, 'Varus', 14654, 'BOTTOM', 100, 0, 13, 8, 11, 34462, 176784, 'MASTER']\n",
      "['KR_7078837754', 1918, '14.10.585.8823', '팔 벤', 'KR1', 119, 5, 888, 'Renata', 6294, 'UTILITY', 100, 0, 3, 7, 19, 9886, 24940, 'MASTER']\n",
      "['KR_7078837754', 1918, '14.10.585.8823', '근성맨', 'KR1', 143, 6, 68, 'Rumble', 667215, 'TOP', 200, 1, 4, 6, 10, 21575, 134414, 'MASTER']\n",
      "['KR_7078837754', 1918, '14.10.585.8823', '꿈은 아득히 멀다', 'yzz97', 117, 7, 163, 'Taliyah', 0, 'JUNGLE', 200, 1, 4, 7, 21, 26289, 349129, 'MASTER']\n",
      "['KR_7078837754', 1918, '14.10.585.8823', 'yunini', '唯我独尊', 199, 8, 91, 'Talon', 0, 'MIDDLE', 200, 1, 16, 4, 8, 35510, 294459, 'MASTER']\n",
      "['KR_7078837754', 1918, '14.10.585.8823', 'Formuler', '0112', 250, 9, 119, 'Draven', 0, 'BOTTOM', 200, 1, 11, 8, 14, 35025, 229082, 'MASTER']\n",
      "['KR_7078837754', 1918, '14.10.585.8823', 'ovoowo', '0213', 95, 10, 111, 'Nautilus', 0, 'UTILITY', 200, 1, 1, 9, 25, 11612, 24840, 'MASTER']\n",
      "['KR_7078929056', 1810, '14.10.585.8823', 'Afecto', '2007', 294, 1, 897, 'KSante', 0, 'TOP', 100, 1, 8, 4, 6, 21985, 146117, 'MASTER']\n",
      "['KR_7078929056', 1810, '14.10.585.8823', '이달룬', 'KR1', 726, 2, 104, 'Graves', 0, 'JUNGLE', 100, 1, 8, 2, 10, 23514, 325042, 'MASTER']\n",
      "['KR_7078929056', 1810, '14.10.585.8823', 'icequeen', 'KR1', 668, 3, 127, 'Lissandra', 0, 'MIDDLE', 100, 1, 6, 4, 9, 33165, 184045, 'MASTER']\n",
      "['KR_7078929056', 1810, '14.10.585.8823', 'dum', 'ovo', 72, 4, 236, 'Lucian', 0, 'BOTTOM', 100, 1, 9, 6, 6, 18324, 220882, 'MASTER']\n",
      "['KR_7078929056', 1810, '14.10.585.8823', '태호형', '7777', 233, 5, 526, 'Rell', 0, 'UTILITY', 100, 1, 1, 5, 19, 6963, 17403, 'MASTER']\n",
      "['KR_7078929056', 1810, '14.10.585.8823', '북극곰', '추운곳', 565, 6, 164, 'Camille', 0, 'TOP', 200, 0, 3, 6, 9, 25659, 185645, 'MASTER']\n",
      "['KR_7078929056', 1810, '14.10.585.8823', '햄버거사줬더니피클빼고먹는최호준', '0401', 40, 7, 163, 'Taliyah', 0, 'JUNGLE', 200, 0, 7, 9, 9, 33487, 295031, 'MASTER']\n",
      "['KR_7078929056', 1810, '14.10.585.8823', 'Jclef', 'xxx', 507, 8, 91, 'Talon', 0, 'MIDDLE', 200, 0, 6, 3, 5, 15272, 219252, 'MASTER']\n",
      "['KR_7078929056', 1810, '14.10.585.8823', 'Cool', 'KR1', 583, 9, 222, 'Jinx', 0, 'BOTTOM', 200, 0, 4, 5, 10, 19607, 159360, 'MASTER']\n",
      "['KR_7078929056', 1810, '14.10.585.8823', '사연이있어요', 'SKR1', 268, 10, 72, 'Skarner', 0, 'UTILITY', 200, 0, 1, 11, 11, 13434, 31522, 'MASTER']\n",
      "['KR_7077478779', 2008, '14.10.585.8823', 'yu6u', '2233', 48, 1, 24, 'Jax', 0, 'TOP', 100, 0, 3, 7, 1, 14031, 152994, 'MASTER']\n",
      "['KR_7077478779', 2008, '14.10.585.8823', 'Znlm', 'KR1', 137, 2, 234, 'Viego', 0, 'JUNGLE', 100, 0, 1, 5, 8, 11950, 269899, 'MASTER']\n",
      "['KR_7077478779', 2008, '14.10.585.8823', '평 타', 'BASIC', 60, 3, 142, 'Zoe', 0, 'MIDDLE', 100, 0, 5, 10, 4, 24974, 140522, 'MASTER']\n",
      "['KR_7077478779', 2008, '14.10.585.8823', 'UMKA', 'KR1', 161, 4, 222, 'Jinx', 0, 'BOTTOM', 100, 0, 12, 3, 4, 43497, 319785, 'MASTER']\n",
      "['KR_7077478779', 2008, '14.10.585.8823', 'daniao boy', 'KR2', 274, 5, 12, 'Alistar', 0, 'UTILITY', 100, 0, 1, 4, 16, 9840, 19869, 'MASTER']\n",
      "['KR_7077478779', 2008, '14.10.585.8823', '불이과 ', 'KR1', 209, 6, 122, 'Darius', 0, 'TOP', 200, 1, 11, 4, 3, 25250, 141976, 'MASTER']\n",
      "['KR_7077478779', 2008, '14.10.585.8823', '햄버거사줬더니피클빼고먹는최호준', '0401', 40, 7, 104, 'Graves', 0, 'JUNGLE', 200, 1, 1, 5, 12, 20890, 324576, 'MASTER']\n",
      "['KR_7077478779', 2008, '14.10.585.8823', '밤양갱', '주찬갱', 473, 8, 134, 'Syndra', 0, 'MIDDLE', 200, 1, 11, 2, 6, 32125, 313776, 'MASTER']\n",
      "['KR_7077478779', 2008, '14.10.585.8823', '쭈히포', 'KR1', 423, 9, 360, 'Samira', 0, 'BOTTOM', 200, 1, 5, 5, 7, 23519, 172216, 'MASTER']\n",
      "['KR_7077478779', 2008, '14.10.585.8823', '浩浩ouo', 'hao', 56, 10, 526, 'Rell', 0, 'UTILITY', 200, 1, 1, 7, 15, 7783, 14286, 'MASTER']\n"
     ]
    },
    {
     "name": "stderr",
     "output_type": "stream",
     "text": [
      " 20%|████████████████▏                                                                | 12/60 [00:00<00:00, 110.10it/s]"
     ]
    },
    {
     "name": "stdout",
     "output_type": "stream",
     "text": [
      "oracle 쿼리 성공\n",
      "oracle 쿼리 성공\n",
      "oracle 쿼리 성공\n",
      "oracle 쿼리 성공\n",
      "oracle 쿼리 성공\n",
      "oracle 쿼리 성공\n",
      "oracle 쿼리 성공\n",
      "oracle 쿼리 성공\n",
      "oracle 쿼리 성공\n",
      "oracle 쿼리 성공\n",
      "oracle 쿼리 성공\n",
      "oracle 쿼리 성공\n",
      "oracle 쿼리 성공\n",
      "oracle 쿼리 성공\n",
      "oracle 쿼리 성공\n",
      "oracle 쿼리 성공\n",
      "oracle 쿼리 성공\n",
      "oracle 쿼리 성공\n",
      "oracle 쿼리 성공\n"
     ]
    },
    {
     "name": "stderr",
     "output_type": "stream",
     "text": [
      " 57%|██████████████████████████████████████████████▍                                   | 34/60 [00:00<00:00, 93.55it/s]"
     ]
    },
    {
     "name": "stdout",
     "output_type": "stream",
     "text": [
      "oracle 쿼리 성공\n",
      "oracle 쿼리 성공\n",
      "oracle 쿼리 성공\n",
      "oracle 쿼리 성공\n",
      "oracle 쿼리 성공\n",
      "oracle 쿼리 성공\n",
      "oracle 쿼리 성공\n",
      "oracle 쿼리 성공\n",
      "oracle 쿼리 성공\n",
      "oracle 쿼리 성공\n",
      "oracle 쿼리 성공\n",
      "ORA-00001: unique constraint (C##INALPROJECT.PK_TESTMATCHS) violated\n",
      "ORA-00001: unique constraint (C##INALPROJECT.PK_TESTMATCHS) violated\n",
      "ORA-00001: unique constraint (C##INALPROJECT.PK_TESTMATCHS) violated\n",
      "ORA-00001: unique constraint (C##INALPROJECT.PK_TESTMATCHS) violated\n",
      "ORA-00001: unique constraint (C##INALPROJECT.PK_TESTMATCHS) violated\n",
      "ORA-00001: unique constraint (C##INALPROJECT.PK_TESTMATCHS) violated\n"
     ]
    },
    {
     "name": "stderr",
     "output_type": "stream",
     "text": [
      " 92%|███████████████████████████████████████████████████████████████████████████▏      | 55/60 [00:00<00:00, 88.69it/s]"
     ]
    },
    {
     "name": "stdout",
     "output_type": "stream",
     "text": [
      "ORA-00001: unique constraint (C##INALPROJECT.PK_TESTMATCHS) violated\n",
      "ORA-00001: unique constraint (C##INALPROJECT.PK_TESTMATCHS) violated\n",
      "ORA-00001: unique constraint (C##INALPROJECT.PK_TESTMATCHS) violated\n",
      "ORA-00001: unique constraint (C##INALPROJECT.PK_TESTMATCHS) violated\n",
      "oracle 쿼리 성공\n",
      "oracle 쿼리 성공\n",
      "oracle 쿼리 성공\n",
      "oracle 쿼리 성공\n",
      "oracle 쿼리 성공\n",
      "oracle 쿼리 성공\n",
      "oracle 쿼리 성공\n",
      "oracle 쿼리 성공\n",
      "oracle 쿼리 성공\n",
      "oracle 쿼리 성공\n",
      "oracle 쿼리 성공\n",
      "oracle 쿼리 성공\n",
      "oracle 쿼리 성공\n",
      "oracle 쿼리 성공\n"
     ]
    },
    {
     "name": "stderr",
     "output_type": "stream",
     "text": [
      "100%|██████████████████████████████████████████████████████████████████████████████████| 60/60 [00:00<00:00, 89.57it/s]\n"
     ]
    },
    {
     "name": "stdout",
     "output_type": "stream",
     "text": [
      "oracle 쿼리 성공\n",
      "oracle 쿼리 성공\n",
      "oracle 쿼리 성공\n",
      "oracle 쿼리 성공\n",
      "oracle 쿼리 성공\n",
      "oracle 쿼리 성공\n",
      "오라클 정상적으로 닫힘\n",
      "MASTER 소환사 ID 가져오는 중...\n",
      "PUUID 가져오는 중...\n"
     ]
    },
    {
     "name": "stderr",
     "output_type": "stream",
     "text": [
      "PUUID 가져오는 중: 100%|█████████████████████████████████████████████████████████████████| 3/3 [00:01<00:00,  1.58it/s]\n"
     ]
    },
    {
     "name": "stdout",
     "output_type": "stream",
     "text": [
      "경기 ID 가져오는 중...\n"
     ]
    },
    {
     "name": "stderr",
     "output_type": "stream",
     "text": [
      "경기 ID 가져오는 중: 100%|███████████████████████████████████████████████████████████████| 3/3 [00:01<00:00,  1.69it/s]\n"
     ]
    },
    {
     "name": "stdout",
     "output_type": "stream",
     "text": [
      "경기 정보 가져오는 중...\n"
     ]
    },
    {
     "name": "stderr",
     "output_type": "stream",
     "text": [
      " 50%|██████████████████████████████████████████                                          | 3/6 [00:04<00:04,  1.46s/it]"
     ]
    },
    {
     "name": "stdout",
     "output_type": "stream",
     "text": [
      "예외\n"
     ]
    },
    {
     "name": "stderr",
     "output_type": "stream",
     "text": [
      " 67%|████████████████████████████████████████████████████████                            | 4/6 [00:07<00:03,  1.87s/it]\n"
     ]
    },
    {
     "ename": "KeyboardInterrupt",
     "evalue": "",
     "output_type": "error",
     "traceback": [
      "\u001b[1;31m---------------------------------------------------------------------------\u001b[0m",
      "\u001b[1;31mKeyboardInterrupt\u001b[0m                         Traceback (most recent call last)",
      "Cell \u001b[1;32mIn[8], line 9\u001b[0m\n\u001b[0;32m      7\u001b[0m \u001b[38;5;28;01mtry\u001b[39;00m:\n\u001b[0;32m      8\u001b[0m     db_open()  \u001b[38;5;66;03m# 데이터베이스 연결\u001b[39;00m\n\u001b[1;32m----> 9\u001b[0m     df \u001b[38;5;241m=\u001b[39m get_rawdata(tier, riot_api_key)\n\u001b[0;32m     10\u001b[0m     df\u001b[38;5;241m.\u001b[39mprogress_apply(\u001b[38;5;28;01mlambda\u001b[39;00m x: insert_data(x), axis\u001b[38;5;241m=\u001b[39m\u001b[38;5;241m1\u001b[39m) \u001b[38;5;66;03m# insert 코드\u001b[39;00m\n\u001b[0;32m     11\u001b[0m     db_close()  \u001b[38;5;66;03m# 데이터베이스 연결 닫기\u001b[39;00m\n",
      "Cell \u001b[1;32mIn[6], line 49\u001b[0m, in \u001b[0;36mget_rawdata\u001b[1;34m(tier, riot_api_key)\u001b[0m\n\u001b[0;32m     46\u001b[0m     match_id_list\u001b[38;5;241m.\u001b[39mextend(match_ids)\n\u001b[0;32m     48\u001b[0m \u001b[38;5;28mprint\u001b[39m(\u001b[38;5;124m'\u001b[39m\u001b[38;5;124m경기 정보 가져오는 중...\u001b[39m\u001b[38;5;124m'\u001b[39m)\n\u001b[1;32m---> 49\u001b[0m match_data \u001b[38;5;241m=\u001b[39m get_matches_timelines(match_id_list, riot_api_key, tier)\n\u001b[0;32m     50\u001b[0m df \u001b[38;5;241m=\u001b[39m pd\u001b[38;5;241m.\u001b[39mDataFrame(match_data, columns\u001b[38;5;241m=\u001b[39m[\u001b[38;5;124m'\u001b[39m\u001b[38;5;124mmatch_id\u001b[39m\u001b[38;5;124m'\u001b[39m, \u001b[38;5;124m'\u001b[39m\u001b[38;5;124mmatches\u001b[39m\u001b[38;5;124m'\u001b[39m, \u001b[38;5;124m'\u001b[39m\u001b[38;5;124mtimeline\u001b[39m\u001b[38;5;124m'\u001b[39m,\u001b[38;5;124m'\u001b[39m\u001b[38;5;124mtier\u001b[39m\u001b[38;5;124m'\u001b[39m])\n\u001b[0;32m     52\u001b[0m df_info \u001b[38;5;241m=\u001b[39m []\n",
      "Cell \u001b[1;32mIn[4], line 9\u001b[0m, in \u001b[0;36mget_matches_timelines\u001b[1;34m(match_ids, riot_api_key, tier)\u001b[0m\n\u001b[0;32m      7\u001b[0m url2 \u001b[38;5;241m=\u001b[39m \u001b[38;5;124mf\u001b[39m\u001b[38;5;124m'\u001b[39m\u001b[38;5;124mhttps://asia.api.riotgames.com/lol/match/v5/matches/\u001b[39m\u001b[38;5;132;01m{\u001b[39;00mmatch_id\u001b[38;5;132;01m}\u001b[39;00m\u001b[38;5;124m/timeline?api_key=\u001b[39m\u001b[38;5;132;01m{\u001b[39;00mriot_api_key\u001b[38;5;132;01m}\u001b[39;00m\u001b[38;5;124m'\u001b[39m\n\u001b[0;32m      8\u001b[0m res1 \u001b[38;5;241m=\u001b[39m requests\u001b[38;5;241m.\u001b[39mget(url1)\u001b[38;5;241m.\u001b[39mjson()\n\u001b[1;32m----> 9\u001b[0m res2 \u001b[38;5;241m=\u001b[39m requests\u001b[38;5;241m.\u001b[39mget(url2)\u001b[38;5;241m.\u001b[39mjson()\n\u001b[0;32m     11\u001b[0m \u001b[38;5;28;01mif\u001b[39;00m res1[\u001b[38;5;124m'\u001b[39m\u001b[38;5;124minfo\u001b[39m\u001b[38;5;124m'\u001b[39m][\u001b[38;5;124m'\u001b[39m\u001b[38;5;124mgameMode\u001b[39m\u001b[38;5;124m'\u001b[39m] \u001b[38;5;241m!=\u001b[39m \u001b[38;5;124m'\u001b[39m\u001b[38;5;124mCLASSIC\u001b[39m\u001b[38;5;124m'\u001b[39m :\n\u001b[0;32m     12\u001b[0m     \u001b[38;5;28mprint\u001b[39m(\u001b[38;5;124m'\u001b[39m\u001b[38;5;124m예외\u001b[39m\u001b[38;5;124m'\u001b[39m)\n",
      "File \u001b[1;32m~\\anaconda3\\Lib\\site-packages\\requests\\api.py:73\u001b[0m, in \u001b[0;36mget\u001b[1;34m(url, params, **kwargs)\u001b[0m\n\u001b[0;32m     62\u001b[0m \u001b[38;5;28;01mdef\u001b[39;00m \u001b[38;5;21mget\u001b[39m(url, params\u001b[38;5;241m=\u001b[39m\u001b[38;5;28;01mNone\u001b[39;00m, \u001b[38;5;241m*\u001b[39m\u001b[38;5;241m*\u001b[39mkwargs):\n\u001b[0;32m     63\u001b[0m \u001b[38;5;250m    \u001b[39m\u001b[38;5;124mr\u001b[39m\u001b[38;5;124;03m\"\"\"Sends a GET request.\u001b[39;00m\n\u001b[0;32m     64\u001b[0m \n\u001b[0;32m     65\u001b[0m \u001b[38;5;124;03m    :param url: URL for the new :class:`Request` object.\u001b[39;00m\n\u001b[1;32m   (...)\u001b[0m\n\u001b[0;32m     70\u001b[0m \u001b[38;5;124;03m    :rtype: requests.Response\u001b[39;00m\n\u001b[0;32m     71\u001b[0m \u001b[38;5;124;03m    \"\"\"\u001b[39;00m\n\u001b[1;32m---> 73\u001b[0m     \u001b[38;5;28;01mreturn\u001b[39;00m request(\u001b[38;5;124m\"\u001b[39m\u001b[38;5;124mget\u001b[39m\u001b[38;5;124m\"\u001b[39m, url, params\u001b[38;5;241m=\u001b[39mparams, \u001b[38;5;241m*\u001b[39m\u001b[38;5;241m*\u001b[39mkwargs)\n",
      "File \u001b[1;32m~\\anaconda3\\Lib\\site-packages\\requests\\api.py:59\u001b[0m, in \u001b[0;36mrequest\u001b[1;34m(method, url, **kwargs)\u001b[0m\n\u001b[0;32m     55\u001b[0m \u001b[38;5;66;03m# By using the 'with' statement we are sure the session is closed, thus we\u001b[39;00m\n\u001b[0;32m     56\u001b[0m \u001b[38;5;66;03m# avoid leaving sockets open which can trigger a ResourceWarning in some\u001b[39;00m\n\u001b[0;32m     57\u001b[0m \u001b[38;5;66;03m# cases, and look like a memory leak in others.\u001b[39;00m\n\u001b[0;32m     58\u001b[0m \u001b[38;5;28;01mwith\u001b[39;00m sessions\u001b[38;5;241m.\u001b[39mSession() \u001b[38;5;28;01mas\u001b[39;00m session:\n\u001b[1;32m---> 59\u001b[0m     \u001b[38;5;28;01mreturn\u001b[39;00m session\u001b[38;5;241m.\u001b[39mrequest(method\u001b[38;5;241m=\u001b[39mmethod, url\u001b[38;5;241m=\u001b[39murl, \u001b[38;5;241m*\u001b[39m\u001b[38;5;241m*\u001b[39mkwargs)\n",
      "File \u001b[1;32m~\\anaconda3\\Lib\\site-packages\\requests\\sessions.py:589\u001b[0m, in \u001b[0;36mSession.request\u001b[1;34m(self, method, url, params, data, headers, cookies, files, auth, timeout, allow_redirects, proxies, hooks, stream, verify, cert, json)\u001b[0m\n\u001b[0;32m    584\u001b[0m send_kwargs \u001b[38;5;241m=\u001b[39m {\n\u001b[0;32m    585\u001b[0m     \u001b[38;5;124m\"\u001b[39m\u001b[38;5;124mtimeout\u001b[39m\u001b[38;5;124m\"\u001b[39m: timeout,\n\u001b[0;32m    586\u001b[0m     \u001b[38;5;124m\"\u001b[39m\u001b[38;5;124mallow_redirects\u001b[39m\u001b[38;5;124m\"\u001b[39m: allow_redirects,\n\u001b[0;32m    587\u001b[0m }\n\u001b[0;32m    588\u001b[0m send_kwargs\u001b[38;5;241m.\u001b[39mupdate(settings)\n\u001b[1;32m--> 589\u001b[0m resp \u001b[38;5;241m=\u001b[39m \u001b[38;5;28mself\u001b[39m\u001b[38;5;241m.\u001b[39msend(prep, \u001b[38;5;241m*\u001b[39m\u001b[38;5;241m*\u001b[39msend_kwargs)\n\u001b[0;32m    591\u001b[0m \u001b[38;5;28;01mreturn\u001b[39;00m resp\n",
      "File \u001b[1;32m~\\anaconda3\\Lib\\site-packages\\requests\\sessions.py:703\u001b[0m, in \u001b[0;36mSession.send\u001b[1;34m(self, request, **kwargs)\u001b[0m\n\u001b[0;32m    700\u001b[0m start \u001b[38;5;241m=\u001b[39m preferred_clock()\n\u001b[0;32m    702\u001b[0m \u001b[38;5;66;03m# Send the request\u001b[39;00m\n\u001b[1;32m--> 703\u001b[0m r \u001b[38;5;241m=\u001b[39m adapter\u001b[38;5;241m.\u001b[39msend(request, \u001b[38;5;241m*\u001b[39m\u001b[38;5;241m*\u001b[39mkwargs)\n\u001b[0;32m    705\u001b[0m \u001b[38;5;66;03m# Total elapsed time of the request (approximately)\u001b[39;00m\n\u001b[0;32m    706\u001b[0m elapsed \u001b[38;5;241m=\u001b[39m preferred_clock() \u001b[38;5;241m-\u001b[39m start\n",
      "File \u001b[1;32m~\\anaconda3\\Lib\\site-packages\\requests\\adapters.py:486\u001b[0m, in \u001b[0;36mHTTPAdapter.send\u001b[1;34m(self, request, stream, timeout, verify, cert, proxies)\u001b[0m\n\u001b[0;32m    483\u001b[0m     timeout \u001b[38;5;241m=\u001b[39m TimeoutSauce(connect\u001b[38;5;241m=\u001b[39mtimeout, read\u001b[38;5;241m=\u001b[39mtimeout)\n\u001b[0;32m    485\u001b[0m \u001b[38;5;28;01mtry\u001b[39;00m:\n\u001b[1;32m--> 486\u001b[0m     resp \u001b[38;5;241m=\u001b[39m conn\u001b[38;5;241m.\u001b[39murlopen(\n\u001b[0;32m    487\u001b[0m         method\u001b[38;5;241m=\u001b[39mrequest\u001b[38;5;241m.\u001b[39mmethod,\n\u001b[0;32m    488\u001b[0m         url\u001b[38;5;241m=\u001b[39murl,\n\u001b[0;32m    489\u001b[0m         body\u001b[38;5;241m=\u001b[39mrequest\u001b[38;5;241m.\u001b[39mbody,\n\u001b[0;32m    490\u001b[0m         headers\u001b[38;5;241m=\u001b[39mrequest\u001b[38;5;241m.\u001b[39mheaders,\n\u001b[0;32m    491\u001b[0m         redirect\u001b[38;5;241m=\u001b[39m\u001b[38;5;28;01mFalse\u001b[39;00m,\n\u001b[0;32m    492\u001b[0m         assert_same_host\u001b[38;5;241m=\u001b[39m\u001b[38;5;28;01mFalse\u001b[39;00m,\n\u001b[0;32m    493\u001b[0m         preload_content\u001b[38;5;241m=\u001b[39m\u001b[38;5;28;01mFalse\u001b[39;00m,\n\u001b[0;32m    494\u001b[0m         decode_content\u001b[38;5;241m=\u001b[39m\u001b[38;5;28;01mFalse\u001b[39;00m,\n\u001b[0;32m    495\u001b[0m         retries\u001b[38;5;241m=\u001b[39m\u001b[38;5;28mself\u001b[39m\u001b[38;5;241m.\u001b[39mmax_retries,\n\u001b[0;32m    496\u001b[0m         timeout\u001b[38;5;241m=\u001b[39mtimeout,\n\u001b[0;32m    497\u001b[0m         chunked\u001b[38;5;241m=\u001b[39mchunked,\n\u001b[0;32m    498\u001b[0m     )\n\u001b[0;32m    500\u001b[0m \u001b[38;5;28;01mexcept\u001b[39;00m (ProtocolError, \u001b[38;5;167;01mOSError\u001b[39;00m) \u001b[38;5;28;01mas\u001b[39;00m err:\n\u001b[0;32m    501\u001b[0m     \u001b[38;5;28;01mraise\u001b[39;00m \u001b[38;5;167;01mConnectionError\u001b[39;00m(err, request\u001b[38;5;241m=\u001b[39mrequest)\n",
      "File \u001b[1;32m~\\anaconda3\\Lib\\site-packages\\urllib3\\connectionpool.py:791\u001b[0m, in \u001b[0;36mHTTPConnectionPool.urlopen\u001b[1;34m(self, method, url, body, headers, retries, redirect, assert_same_host, timeout, pool_timeout, release_conn, chunked, body_pos, preload_content, decode_content, **response_kw)\u001b[0m\n\u001b[0;32m    788\u001b[0m response_conn \u001b[38;5;241m=\u001b[39m conn \u001b[38;5;28;01mif\u001b[39;00m \u001b[38;5;129;01mnot\u001b[39;00m release_conn \u001b[38;5;28;01melse\u001b[39;00m \u001b[38;5;28;01mNone\u001b[39;00m\n\u001b[0;32m    790\u001b[0m \u001b[38;5;66;03m# Make the request on the HTTPConnection object\u001b[39;00m\n\u001b[1;32m--> 791\u001b[0m response \u001b[38;5;241m=\u001b[39m \u001b[38;5;28mself\u001b[39m\u001b[38;5;241m.\u001b[39m_make_request(\n\u001b[0;32m    792\u001b[0m     conn,\n\u001b[0;32m    793\u001b[0m     method,\n\u001b[0;32m    794\u001b[0m     url,\n\u001b[0;32m    795\u001b[0m     timeout\u001b[38;5;241m=\u001b[39mtimeout_obj,\n\u001b[0;32m    796\u001b[0m     body\u001b[38;5;241m=\u001b[39mbody,\n\u001b[0;32m    797\u001b[0m     headers\u001b[38;5;241m=\u001b[39mheaders,\n\u001b[0;32m    798\u001b[0m     chunked\u001b[38;5;241m=\u001b[39mchunked,\n\u001b[0;32m    799\u001b[0m     retries\u001b[38;5;241m=\u001b[39mretries,\n\u001b[0;32m    800\u001b[0m     response_conn\u001b[38;5;241m=\u001b[39mresponse_conn,\n\u001b[0;32m    801\u001b[0m     preload_content\u001b[38;5;241m=\u001b[39mpreload_content,\n\u001b[0;32m    802\u001b[0m     decode_content\u001b[38;5;241m=\u001b[39mdecode_content,\n\u001b[0;32m    803\u001b[0m     \u001b[38;5;241m*\u001b[39m\u001b[38;5;241m*\u001b[39mresponse_kw,\n\u001b[0;32m    804\u001b[0m )\n\u001b[0;32m    806\u001b[0m \u001b[38;5;66;03m# Everything went great!\u001b[39;00m\n\u001b[0;32m    807\u001b[0m clean_exit \u001b[38;5;241m=\u001b[39m \u001b[38;5;28;01mTrue\u001b[39;00m\n",
      "File \u001b[1;32m~\\anaconda3\\Lib\\site-packages\\urllib3\\connectionpool.py:468\u001b[0m, in \u001b[0;36mHTTPConnectionPool._make_request\u001b[1;34m(self, conn, method, url, body, headers, retries, timeout, chunked, response_conn, preload_content, decode_content, enforce_content_length)\u001b[0m\n\u001b[0;32m    465\u001b[0m \u001b[38;5;28;01mtry\u001b[39;00m:\n\u001b[0;32m    466\u001b[0m     \u001b[38;5;66;03m# Trigger any extra validation we need to do.\u001b[39;00m\n\u001b[0;32m    467\u001b[0m     \u001b[38;5;28;01mtry\u001b[39;00m:\n\u001b[1;32m--> 468\u001b[0m         \u001b[38;5;28mself\u001b[39m\u001b[38;5;241m.\u001b[39m_validate_conn(conn)\n\u001b[0;32m    469\u001b[0m     \u001b[38;5;28;01mexcept\u001b[39;00m (SocketTimeout, BaseSSLError) \u001b[38;5;28;01mas\u001b[39;00m e:\n\u001b[0;32m    470\u001b[0m         \u001b[38;5;28mself\u001b[39m\u001b[38;5;241m.\u001b[39m_raise_timeout(err\u001b[38;5;241m=\u001b[39me, url\u001b[38;5;241m=\u001b[39murl, timeout_value\u001b[38;5;241m=\u001b[39mconn\u001b[38;5;241m.\u001b[39mtimeout)\n",
      "File \u001b[1;32m~\\anaconda3\\Lib\\site-packages\\urllib3\\connectionpool.py:1097\u001b[0m, in \u001b[0;36mHTTPSConnectionPool._validate_conn\u001b[1;34m(self, conn)\u001b[0m\n\u001b[0;32m   1095\u001b[0m \u001b[38;5;66;03m# Force connect early to allow us to validate the connection.\u001b[39;00m\n\u001b[0;32m   1096\u001b[0m \u001b[38;5;28;01mif\u001b[39;00m conn\u001b[38;5;241m.\u001b[39mis_closed:\n\u001b[1;32m-> 1097\u001b[0m     conn\u001b[38;5;241m.\u001b[39mconnect()\n\u001b[0;32m   1099\u001b[0m \u001b[38;5;28;01mif\u001b[39;00m \u001b[38;5;129;01mnot\u001b[39;00m conn\u001b[38;5;241m.\u001b[39mis_verified:\n\u001b[0;32m   1100\u001b[0m     warnings\u001b[38;5;241m.\u001b[39mwarn(\n\u001b[0;32m   1101\u001b[0m         (\n\u001b[0;32m   1102\u001b[0m             \u001b[38;5;124mf\u001b[39m\u001b[38;5;124m\"\u001b[39m\u001b[38;5;124mUnverified HTTPS request is being made to host \u001b[39m\u001b[38;5;124m'\u001b[39m\u001b[38;5;132;01m{\u001b[39;00mconn\u001b[38;5;241m.\u001b[39mhost\u001b[38;5;132;01m}\u001b[39;00m\u001b[38;5;124m'\u001b[39m\u001b[38;5;124m. \u001b[39m\u001b[38;5;124m\"\u001b[39m\n\u001b[1;32m   (...)\u001b[0m\n\u001b[0;32m   1107\u001b[0m         InsecureRequestWarning,\n\u001b[0;32m   1108\u001b[0m     )\n",
      "File \u001b[1;32m~\\anaconda3\\Lib\\site-packages\\urllib3\\connection.py:642\u001b[0m, in \u001b[0;36mHTTPSConnection.connect\u001b[1;34m(self)\u001b[0m\n\u001b[0;32m    633\u001b[0m \u001b[38;5;28;01mif\u001b[39;00m is_time_off:\n\u001b[0;32m    634\u001b[0m     warnings\u001b[38;5;241m.\u001b[39mwarn(\n\u001b[0;32m    635\u001b[0m         (\n\u001b[0;32m    636\u001b[0m             \u001b[38;5;124mf\u001b[39m\u001b[38;5;124m\"\u001b[39m\u001b[38;5;124mSystem time is way off (before \u001b[39m\u001b[38;5;132;01m{\u001b[39;00mRECENT_DATE\u001b[38;5;132;01m}\u001b[39;00m\u001b[38;5;124m). This will probably \u001b[39m\u001b[38;5;124m\"\u001b[39m\n\u001b[1;32m   (...)\u001b[0m\n\u001b[0;32m    639\u001b[0m         SystemTimeWarning,\n\u001b[0;32m    640\u001b[0m     )\n\u001b[1;32m--> 642\u001b[0m sock_and_verified \u001b[38;5;241m=\u001b[39m _ssl_wrap_socket_and_match_hostname(\n\u001b[0;32m    643\u001b[0m     sock\u001b[38;5;241m=\u001b[39msock,\n\u001b[0;32m    644\u001b[0m     cert_reqs\u001b[38;5;241m=\u001b[39m\u001b[38;5;28mself\u001b[39m\u001b[38;5;241m.\u001b[39mcert_reqs,\n\u001b[0;32m    645\u001b[0m     ssl_version\u001b[38;5;241m=\u001b[39m\u001b[38;5;28mself\u001b[39m\u001b[38;5;241m.\u001b[39mssl_version,\n\u001b[0;32m    646\u001b[0m     ssl_minimum_version\u001b[38;5;241m=\u001b[39m\u001b[38;5;28mself\u001b[39m\u001b[38;5;241m.\u001b[39mssl_minimum_version,\n\u001b[0;32m    647\u001b[0m     ssl_maximum_version\u001b[38;5;241m=\u001b[39m\u001b[38;5;28mself\u001b[39m\u001b[38;5;241m.\u001b[39mssl_maximum_version,\n\u001b[0;32m    648\u001b[0m     ca_certs\u001b[38;5;241m=\u001b[39m\u001b[38;5;28mself\u001b[39m\u001b[38;5;241m.\u001b[39mca_certs,\n\u001b[0;32m    649\u001b[0m     ca_cert_dir\u001b[38;5;241m=\u001b[39m\u001b[38;5;28mself\u001b[39m\u001b[38;5;241m.\u001b[39mca_cert_dir,\n\u001b[0;32m    650\u001b[0m     ca_cert_data\u001b[38;5;241m=\u001b[39m\u001b[38;5;28mself\u001b[39m\u001b[38;5;241m.\u001b[39mca_cert_data,\n\u001b[0;32m    651\u001b[0m     cert_file\u001b[38;5;241m=\u001b[39m\u001b[38;5;28mself\u001b[39m\u001b[38;5;241m.\u001b[39mcert_file,\n\u001b[0;32m    652\u001b[0m     key_file\u001b[38;5;241m=\u001b[39m\u001b[38;5;28mself\u001b[39m\u001b[38;5;241m.\u001b[39mkey_file,\n\u001b[0;32m    653\u001b[0m     key_password\u001b[38;5;241m=\u001b[39m\u001b[38;5;28mself\u001b[39m\u001b[38;5;241m.\u001b[39mkey_password,\n\u001b[0;32m    654\u001b[0m     server_hostname\u001b[38;5;241m=\u001b[39mserver_hostname,\n\u001b[0;32m    655\u001b[0m     ssl_context\u001b[38;5;241m=\u001b[39m\u001b[38;5;28mself\u001b[39m\u001b[38;5;241m.\u001b[39mssl_context,\n\u001b[0;32m    656\u001b[0m     tls_in_tls\u001b[38;5;241m=\u001b[39mtls_in_tls,\n\u001b[0;32m    657\u001b[0m     assert_hostname\u001b[38;5;241m=\u001b[39m\u001b[38;5;28mself\u001b[39m\u001b[38;5;241m.\u001b[39massert_hostname,\n\u001b[0;32m    658\u001b[0m     assert_fingerprint\u001b[38;5;241m=\u001b[39m\u001b[38;5;28mself\u001b[39m\u001b[38;5;241m.\u001b[39massert_fingerprint,\n\u001b[0;32m    659\u001b[0m )\n\u001b[0;32m    660\u001b[0m \u001b[38;5;28mself\u001b[39m\u001b[38;5;241m.\u001b[39msock \u001b[38;5;241m=\u001b[39m sock_and_verified\u001b[38;5;241m.\u001b[39msocket\n\u001b[0;32m    661\u001b[0m \u001b[38;5;28mself\u001b[39m\u001b[38;5;241m.\u001b[39mis_verified \u001b[38;5;241m=\u001b[39m sock_and_verified\u001b[38;5;241m.\u001b[39mis_verified\n",
      "File \u001b[1;32m~\\anaconda3\\Lib\\site-packages\\urllib3\\connection.py:783\u001b[0m, in \u001b[0;36m_ssl_wrap_socket_and_match_hostname\u001b[1;34m(sock, cert_reqs, ssl_version, ssl_minimum_version, ssl_maximum_version, cert_file, key_file, key_password, ca_certs, ca_cert_dir, ca_cert_data, assert_hostname, assert_fingerprint, server_hostname, ssl_context, tls_in_tls)\u001b[0m\n\u001b[0;32m    780\u001b[0m     \u001b[38;5;28;01mif\u001b[39;00m is_ipaddress(normalized):\n\u001b[0;32m    781\u001b[0m         server_hostname \u001b[38;5;241m=\u001b[39m normalized\n\u001b[1;32m--> 783\u001b[0m ssl_sock \u001b[38;5;241m=\u001b[39m ssl_wrap_socket(\n\u001b[0;32m    784\u001b[0m     sock\u001b[38;5;241m=\u001b[39msock,\n\u001b[0;32m    785\u001b[0m     keyfile\u001b[38;5;241m=\u001b[39mkey_file,\n\u001b[0;32m    786\u001b[0m     certfile\u001b[38;5;241m=\u001b[39mcert_file,\n\u001b[0;32m    787\u001b[0m     key_password\u001b[38;5;241m=\u001b[39mkey_password,\n\u001b[0;32m    788\u001b[0m     ca_certs\u001b[38;5;241m=\u001b[39mca_certs,\n\u001b[0;32m    789\u001b[0m     ca_cert_dir\u001b[38;5;241m=\u001b[39mca_cert_dir,\n\u001b[0;32m    790\u001b[0m     ca_cert_data\u001b[38;5;241m=\u001b[39mca_cert_data,\n\u001b[0;32m    791\u001b[0m     server_hostname\u001b[38;5;241m=\u001b[39mserver_hostname,\n\u001b[0;32m    792\u001b[0m     ssl_context\u001b[38;5;241m=\u001b[39mcontext,\n\u001b[0;32m    793\u001b[0m     tls_in_tls\u001b[38;5;241m=\u001b[39mtls_in_tls,\n\u001b[0;32m    794\u001b[0m )\n\u001b[0;32m    796\u001b[0m \u001b[38;5;28;01mtry\u001b[39;00m:\n\u001b[0;32m    797\u001b[0m     \u001b[38;5;28;01mif\u001b[39;00m assert_fingerprint:\n",
      "File \u001b[1;32m~\\anaconda3\\Lib\\site-packages\\urllib3\\util\\ssl_.py:471\u001b[0m, in \u001b[0;36mssl_wrap_socket\u001b[1;34m(sock, keyfile, certfile, cert_reqs, ca_certs, server_hostname, ssl_version, ciphers, ssl_context, ca_cert_dir, key_password, ca_cert_data, tls_in_tls)\u001b[0m\n\u001b[0;32m    468\u001b[0m \u001b[38;5;28;01mexcept\u001b[39;00m \u001b[38;5;167;01mNotImplementedError\u001b[39;00m:  \u001b[38;5;66;03m# Defensive: in CI, we always have set_alpn_protocols\u001b[39;00m\n\u001b[0;32m    469\u001b[0m     \u001b[38;5;28;01mpass\u001b[39;00m\n\u001b[1;32m--> 471\u001b[0m ssl_sock \u001b[38;5;241m=\u001b[39m _ssl_wrap_socket_impl(sock, context, tls_in_tls, server_hostname)\n\u001b[0;32m    472\u001b[0m \u001b[38;5;28;01mreturn\u001b[39;00m ssl_sock\n",
      "File \u001b[1;32m~\\anaconda3\\Lib\\site-packages\\urllib3\\util\\ssl_.py:515\u001b[0m, in \u001b[0;36m_ssl_wrap_socket_impl\u001b[1;34m(sock, ssl_context, tls_in_tls, server_hostname)\u001b[0m\n\u001b[0;32m    512\u001b[0m     SSLTransport\u001b[38;5;241m.\u001b[39m_validate_ssl_context_for_tls_in_tls(ssl_context)\n\u001b[0;32m    513\u001b[0m     \u001b[38;5;28;01mreturn\u001b[39;00m SSLTransport(sock, ssl_context, server_hostname)\n\u001b[1;32m--> 515\u001b[0m \u001b[38;5;28;01mreturn\u001b[39;00m ssl_context\u001b[38;5;241m.\u001b[39mwrap_socket(sock, server_hostname\u001b[38;5;241m=\u001b[39mserver_hostname)\n",
      "File \u001b[1;32m~\\anaconda3\\Lib\\ssl.py:517\u001b[0m, in \u001b[0;36mSSLContext.wrap_socket\u001b[1;34m(self, sock, server_side, do_handshake_on_connect, suppress_ragged_eofs, server_hostname, session)\u001b[0m\n\u001b[0;32m    511\u001b[0m \u001b[38;5;28;01mdef\u001b[39;00m \u001b[38;5;21mwrap_socket\u001b[39m(\u001b[38;5;28mself\u001b[39m, sock, server_side\u001b[38;5;241m=\u001b[39m\u001b[38;5;28;01mFalse\u001b[39;00m,\n\u001b[0;32m    512\u001b[0m                 do_handshake_on_connect\u001b[38;5;241m=\u001b[39m\u001b[38;5;28;01mTrue\u001b[39;00m,\n\u001b[0;32m    513\u001b[0m                 suppress_ragged_eofs\u001b[38;5;241m=\u001b[39m\u001b[38;5;28;01mTrue\u001b[39;00m,\n\u001b[0;32m    514\u001b[0m                 server_hostname\u001b[38;5;241m=\u001b[39m\u001b[38;5;28;01mNone\u001b[39;00m, session\u001b[38;5;241m=\u001b[39m\u001b[38;5;28;01mNone\u001b[39;00m):\n\u001b[0;32m    515\u001b[0m     \u001b[38;5;66;03m# SSLSocket class handles server_hostname encoding before it calls\u001b[39;00m\n\u001b[0;32m    516\u001b[0m     \u001b[38;5;66;03m# ctx._wrap_socket()\u001b[39;00m\n\u001b[1;32m--> 517\u001b[0m     \u001b[38;5;28;01mreturn\u001b[39;00m \u001b[38;5;28mself\u001b[39m\u001b[38;5;241m.\u001b[39msslsocket_class\u001b[38;5;241m.\u001b[39m_create(\n\u001b[0;32m    518\u001b[0m         sock\u001b[38;5;241m=\u001b[39msock,\n\u001b[0;32m    519\u001b[0m         server_side\u001b[38;5;241m=\u001b[39mserver_side,\n\u001b[0;32m    520\u001b[0m         do_handshake_on_connect\u001b[38;5;241m=\u001b[39mdo_handshake_on_connect,\n\u001b[0;32m    521\u001b[0m         suppress_ragged_eofs\u001b[38;5;241m=\u001b[39msuppress_ragged_eofs,\n\u001b[0;32m    522\u001b[0m         server_hostname\u001b[38;5;241m=\u001b[39mserver_hostname,\n\u001b[0;32m    523\u001b[0m         context\u001b[38;5;241m=\u001b[39m\u001b[38;5;28mself\u001b[39m,\n\u001b[0;32m    524\u001b[0m         session\u001b[38;5;241m=\u001b[39msession\n\u001b[0;32m    525\u001b[0m     )\n",
      "File \u001b[1;32m~\\anaconda3\\Lib\\ssl.py:1108\u001b[0m, in \u001b[0;36mSSLSocket._create\u001b[1;34m(cls, sock, server_side, do_handshake_on_connect, suppress_ragged_eofs, server_hostname, context, session)\u001b[0m\n\u001b[0;32m   1105\u001b[0m         \u001b[38;5;28;01mif\u001b[39;00m timeout \u001b[38;5;241m==\u001b[39m \u001b[38;5;241m0.0\u001b[39m:\n\u001b[0;32m   1106\u001b[0m             \u001b[38;5;66;03m# non-blocking\u001b[39;00m\n\u001b[0;32m   1107\u001b[0m             \u001b[38;5;28;01mraise\u001b[39;00m \u001b[38;5;167;01mValueError\u001b[39;00m(\u001b[38;5;124m\"\u001b[39m\u001b[38;5;124mdo_handshake_on_connect should not be specified for non-blocking sockets\u001b[39m\u001b[38;5;124m\"\u001b[39m)\n\u001b[1;32m-> 1108\u001b[0m         \u001b[38;5;28mself\u001b[39m\u001b[38;5;241m.\u001b[39mdo_handshake()\n\u001b[0;32m   1109\u001b[0m \u001b[38;5;28;01mexcept\u001b[39;00m (\u001b[38;5;167;01mOSError\u001b[39;00m, \u001b[38;5;167;01mValueError\u001b[39;00m):\n\u001b[0;32m   1110\u001b[0m     \u001b[38;5;28mself\u001b[39m\u001b[38;5;241m.\u001b[39mclose()\n",
      "File \u001b[1;32m~\\anaconda3\\Lib\\ssl.py:1383\u001b[0m, in \u001b[0;36mSSLSocket.do_handshake\u001b[1;34m(self, block)\u001b[0m\n\u001b[0;32m   1381\u001b[0m     \u001b[38;5;28;01mif\u001b[39;00m timeout \u001b[38;5;241m==\u001b[39m \u001b[38;5;241m0.0\u001b[39m \u001b[38;5;129;01mand\u001b[39;00m block:\n\u001b[0;32m   1382\u001b[0m         \u001b[38;5;28mself\u001b[39m\u001b[38;5;241m.\u001b[39msettimeout(\u001b[38;5;28;01mNone\u001b[39;00m)\n\u001b[1;32m-> 1383\u001b[0m     \u001b[38;5;28mself\u001b[39m\u001b[38;5;241m.\u001b[39m_sslobj\u001b[38;5;241m.\u001b[39mdo_handshake()\n\u001b[0;32m   1384\u001b[0m \u001b[38;5;28;01mfinally\u001b[39;00m:\n\u001b[0;32m   1385\u001b[0m     \u001b[38;5;28mself\u001b[39m\u001b[38;5;241m.\u001b[39msettimeout(timeout)\n",
      "\u001b[1;31mKeyboardInterrupt\u001b[0m: "
     ]
    }
   ],
   "source": [
    "tier = 'MASTER'\n",
    "# tqdm 설정 추가\n",
    "tqdm.pandas()\n",
    "\n",
    "for _ in range(100000000000):\n",
    "    for i in range(3):\n",
    "        try:\n",
    "            db_open()  # 데이터베이스 연결\n",
    "            df = get_rawdata(tier, riot_api_key)\n",
    "            df.progress_apply(lambda x: insert_data(x), axis=1) # insert 코드\n",
    "            db_close()  # 데이터베이스 연결 닫기\n",
    "            time.sleep(100)  # Riot API는 2분에 100개\n",
    "        except Exception as e:\n",
    "            print(f\"{tier} 티어에서 오류 발생: {e}\")\n",
    "            #print(\"오류가 발생한 데이터:\", df)  # 추가: 오류가 발생한 데이터 출력\n",
    "            time.sleep(100)\n",
    "            continue\n"
   ]
  },
  {
   "cell_type": "code",
   "execution_count": null,
   "id": "c3efc1c3-34db-48b1-b3f6-719abb766b3c",
   "metadata": {},
   "outputs": [],
   "source": [
    "#db_open()"
   ]
  },
  {
   "cell_type": "code",
   "execution_count": null,
   "id": "2a15b3a3-2dc2-44f2-8ca4-82c0054bf055",
   "metadata": {},
   "outputs": [],
   "source": [
    "#df = sql_execute('select * from testMATCHS')"
   ]
  },
  {
   "cell_type": "code",
   "execution_count": null,
   "id": "407a1a7e-62cf-4b29-8a96-d469e2f7b550",
   "metadata": {},
   "outputs": [],
   "source": []
  },
  {
   "cell_type": "code",
   "execution_count": null,
   "id": "b7ad5dac-1fa4-417f-b872-85fde1ed5fb9",
   "metadata": {},
   "outputs": [],
   "source": []
  },
  {
   "cell_type": "code",
   "execution_count": null,
   "id": "e8389518-25be-47f6-909c-074e695b0ea6",
   "metadata": {},
   "outputs": [],
   "source": []
  }
 ],
 "metadata": {
  "kernelspec": {
   "display_name": "Python 3 (ipykernel)",
   "language": "python",
   "name": "python3"
  },
  "language_info": {
   "codemirror_mode": {
    "name": "ipython",
    "version": 3
   },
   "file_extension": ".py",
   "mimetype": "text/x-python",
   "name": "python",
   "nbconvert_exporter": "python",
   "pygments_lexer": "ipython3",
   "version": "3.11.7"
  }
 },
 "nbformat": 4,
 "nbformat_minor": 5
}
