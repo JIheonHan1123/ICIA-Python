{
 "cells": [
  {
   "cell_type": "code",
   "execution_count": 1,
   "id": "2b96a894-3192-4037-a76f-e627fbbdbc18",
   "metadata": {},
   "outputs": [],
   "source": [
    "riot_api_key='RGAPI-4e35b70a-4214-485e-8ef3-0fa4e4d3a5b4'"
   ]
  },
  {
   "cell_type": "code",
   "execution_count": 2,
   "id": "27d1c27c-af0d-4a95-bd11-696dac4ae03b",
   "metadata": {},
   "outputs": [],
   "source": [
    "# summoner_id와 riot_api_key를 가지고 puu_id를 가지고 온다.\n",
    "def get_puu_id(summoner_id,riot_api_key):\n",
    "    url = f'https://kr.api.riotgames.com/lol/summoner/v4/summoners/{summoner_id}?api_key={riot_api_key}'\n",
    "    res = requests.get(url).json()\n",
    "    puu_id = res['puuid']\n",
    "    return puu_id"
   ]
  },
  {
   "cell_type": "code",
   "execution_count": 3,
   "id": "43b7bc3e-a27f-4f21-8d7c-9eb9e4daf380",
   "metadata": {},
   "outputs": [],
   "source": [
    "# puu_id와 page를 가지고 해당 puu_Id 사용자의 최근 매치게임을 가져온다. \n",
    "def get_match_ids(puu_id,riot_api_key,page=20):\n",
    "    url = f'https://asia.api.riotgames.com/lol/match/v5/matches/by-puuid/{puu_id}/ids?type=ranked&start=0&count={page}&api_key={riot_api_key}'\n",
    "    res = requests.get(url).json()\n",
    "    return res"
   ]
  },
  {
   "cell_type": "code",
   "execution_count": 4,
   "id": "54de1e6b-553c-480d-8d2d-8c09fe27f1ff",
   "metadata": {},
   "outputs": [],
   "source": [
    "# match_ids를 가지고 매치랑 타임리스트를 받고, \n",
    "# match_info_list라는 리스트에 match_id와 res1(매치), res2(타임리스트), 티어를 저장한다. \n",
    "def get_matches_timelines(match_ids,riot_api_key, tier):\n",
    "    match_info_list = []\n",
    "    for match_id in tqdm(match_ids):\n",
    "        url1 = f'https://asia.api.riotgames.com/lol/match/v5/matches/{match_id}?api_key={riot_api_key}'\n",
    "        url2 = f'https://asia.api.riotgames.com/lol/match/v5/matches/{match_id}/timeline?api_key={riot_api_key}'\n",
    "        res1 = requests.get(url1).json()\n",
    "        res2 = requests.get(url2).json()\n",
    "\n",
    "        if res1['info']['gameMode'] != 'CLASSIC' :\n",
    "            print('예외')\n",
    "            continue\n",
    "        \n",
    "        match_info_list.append([match_id,res1,res2, tier])\n",
    "    return match_info_list"
   ]
  },
  {
   "cell_type": "code",
   "execution_count": 5,
   "id": "c700a402-9421-4ceb-9dfe-aaeae0bf203a",
   "metadata": {},
   "outputs": [],
   "source": [
    "def get_champion_mastery(puuid, champion_id, riot_api_key):\n",
    "    url = f'https://kr.api.riotgames.com/lol/champion-mastery/v4/champion-masteries/by-puuid/{puuid}/by-champion/{champion_id}?api_key={riot_api_key}'\n",
    "    try:\n",
    "        res = requests.get(url).json()\n",
    "        return res.get('championPoints', 0)\n",
    "    except requests.RequestException as e:\n",
    "        print(f\"{puuid}의 챔피언 {champion_id} 숙련도를 가져오는 중 오류 발생: {e}\")\n",
    "        return 0"
   ]
  },
  {
   "cell_type": "code",
   "execution_count": 6,
   "id": "5b772b84-e6e1-44ac-a0fa-d04a0e4ebc28",
   "metadata": {},
   "outputs": [],
   "source": [
    "import requests\n",
    "import random\n",
    "import pandas as pd\n",
    "from tqdm import tqdm\n",
    "import time\n",
    "from my_utils import *\n",
    "\n",
    "def get_rawdata(tier,riot_api_key):\n",
    "    summoner_id_list = []\n",
    "    puu_id_list = []\n",
    "    divisions = ['I', 'II', 'III', 'IV']\n",
    "    # 랜덤으로 페이지를 골라서 데이터를 출력한다. \n",
    "    #page = random.randrange(1,51)\n",
    "\n",
    "    \n",
    "    print(f'{tier} 소환사 ID 가져오는 중...')\n",
    "    for division in divisions:\n",
    "        try:\n",
    "            url = f'https://kr.api.riotgames.com/lol/league/v4/grandmasterleagues/by-queue/RANKED_SOLO_5x5?api_key={riot_api_key}'\n",
    "            res = requests.get(url).json()\n",
    "            \n",
    "            #summonerId_list에 summonerId 데이터를 담는다. \n",
    "            summonerId_all_list = []\n",
    "            for entry in res['entries']:\n",
    "                summonerId_all_list.append(entry['summonerId'])\n",
    "            \n",
    "            summoner_id_list=[]\n",
    "            summoner_id_list.extend(random.sample(summonerId_all_list, 3))\n",
    "        \n",
    "        except requests.RequestException as e:\n",
    "            print(f\"{tier} {division} 소환사 목록을 가져오는 중 오류 발생: {e}\")\n",
    "\n",
    "    summoner_id_list = [x for x in summoner_id_list]\n",
    "    print('PUUID 가져오는 중...')\n",
    "    \n",
    "    for summoner_id in tqdm(summoner_id_list, desc=\"PUUID 가져오는 중\"):\n",
    "        puu_id = get_puu_id(summoner_id, riot_api_key)\n",
    "        if puu_id:\n",
    "            puu_id_list.append(puu_id)\n",
    "\n",
    "    print('경기 ID 가져오는 중...')\n",
    "    match_id_list = []\n",
    "    \n",
    "    for puu_id in tqdm(puu_id_list, desc=\"경기 ID 가져오는 중\"):\n",
    "        match_ids = get_match_ids(puu_id, riot_api_key, 2)\n",
    "        match_id_list.extend(match_ids)\n",
    "\n",
    "    print('경기 정보 가져오는 중...')\n",
    "    match_data = get_matches_timelines(match_id_list, riot_api_key, tier)\n",
    "    df = pd.DataFrame(match_data, columns=['match_id', 'matches', 'timeline','tier'])\n",
    "\n",
    "    df_info = []\n",
    "    print('소환사 통계 생성 중...')\n",
    "        \n",
    "    for _, row in tqdm(df.iterrows(), desc=\"소환사 통계 생성 중\", total=len(df)):\n",
    "        match_info = row['matches']['info']\n",
    "        if match_info['gameDuration'] > 780:\n",
    "            for participant in match_info['participants']:\n",
    "                #try:\n",
    "                    tmp = [\n",
    "                        row['match_id'],\n",
    "                        match_info['gameDuration'],\n",
    "                        match_info['gameVersion'],\n",
    "                        participant['riotIdGameName'],\n",
    "                        participant['riotIdTagline'],\n",
    "                        participant['summonerLevel'],\n",
    "                        participant['participantId'],\n",
    "                        participant['championId'],\n",
    "                        participant['championName'],\n",
    "                        get_champion_mastery(participant['puuid'], participant['championId'], riot_api_key),\n",
    "                        participant['teamPosition'],\n",
    "                        participant['teamId'],\n",
    "                        1 if participant['win'] else 0,\n",
    "                        participant['kills'],\n",
    "                        participant['deaths'],\n",
    "                        participant['assists'],\n",
    "                        participant['totalDamageDealtToChampions'],\n",
    "                        participant['totalDamageDealt'],\n",
    "                        row['tier']\n",
    "                    ]\n",
    "                    df_info.append(tmp)\n",
    "                #except KeyError as e:\n",
    "                    #print(f\"데이터 처리 중 키 오류 발생: {e}\")\n",
    "                    continue\n",
    "\n",
    "    columns = [\n",
    "        'match_id', 'gameDuration', 'gameVersion', 'riotIdGameName', 'tagLine', 'summonerLevel', \n",
    "        'participantId', 'championId', 'championName', 'championMastery', 'teamPosition', \n",
    "        'teamId', 'win', 'kills', 'deaths', 'assists', 'totalDamageDealtToChampions', \n",
    "        'totalDamageDealt', 'tier'\n",
    "    ]\n",
    "\n",
    "    df_result = pd.DataFrame(df_info, columns=columns).drop_duplicates()\n",
    "    print(f'{tier} 티어 데이터프레임의 행 수는 {len(df_result)}입니다.')\n",
    "\n",
    "    # 데이터프레임을 리스트로 변환\n",
    "    data_list = df_result.values.tolist()\n",
    "\n",
    "    # 리스트 출력\n",
    "    for data in data_list:\n",
    "        print(data)\n",
    "\n",
    "    return df_result"
   ]
  },
  {
   "cell_type": "code",
   "execution_count": 7,
   "id": "15168560-ab69-433c-b3f1-600a6884ac2b",
   "metadata": {},
   "outputs": [],
   "source": [
    "def insert_data(row):\n",
    "    query = (\n",
    "        f\"INSERT INTO testMATCHS (\"\n",
    "        f\"MCID, MCGDURATION, MCGVER, MCRDGANAME, MCRDTAGLINE, MCSUMMONERLEVEL, \"\n",
    "        f\"MCPARTICIPANTID, MCCHAMPIONID, MCCHAMPIONNAME, MCCHAMPEXPERIENCE, MCTIEAMPOSITION, \"\n",
    "        f\"MCTEAMID, MCWIN, MCKILLS, MCDEATHS, MCASSISTS, MCTOTALDDCHAMPIONS, \"\n",
    "        f\"MCTOTALDTAKEN, MCTIER) \"\n",
    "        f\"VALUES (\"\n",
    "        f\"{repr(row.match_id)}, {row.gameDuration}, {repr(row.gameVersion)}, {repr(row.riotIdGameName)}, {repr(row.tagLine)}, {row.summonerLevel}, \"\n",
    "        f\"{row.participantId}, {row.championId}, {repr(row.championName)}, {row.championMastery}, {repr(row.teamPosition)}, \"\n",
    "        f\"{row.teamId}, {row.win}, {row.kills}, {row.deaths}, {row.assists}, {row.totalDamageDealtToChampions}, \"\n",
    "        f\"{row.totalDamageDealt}, {repr(row.tier)})\"\n",
    "    )\n",
    "    sql_execute(query)"
   ]
  },
  {
   "cell_type": "code",
   "execution_count": 8,
   "id": "0a765d65-ca20-4883-80a2-bf7ff3de5fab",
   "metadata": {},
   "outputs": [
    {
     "name": "stdout",
     "output_type": "stream",
     "text": [
      "GRANDMASTER 소환사 ID 가져오는 중...\n",
      "PUUID 가져오는 중...\n"
     ]
    },
    {
     "name": "stderr",
     "output_type": "stream",
     "text": [
      "PUUID 가져오는 중: 100%|█████████████████████████████████████████████████████████████████| 3/3 [00:01<00:00,  2.46it/s]\n"
     ]
    },
    {
     "name": "stdout",
     "output_type": "stream",
     "text": [
      "경기 ID 가져오는 중...\n"
     ]
    },
    {
     "name": "stderr",
     "output_type": "stream",
     "text": [
      "경기 ID 가져오는 중: 100%|███████████████████████████████████████████████████████████████| 3/3 [00:01<00:00,  2.20it/s]\n"
     ]
    },
    {
     "name": "stdout",
     "output_type": "stream",
     "text": [
      "경기 정보 가져오는 중...\n"
     ]
    },
    {
     "name": "stderr",
     "output_type": "stream",
     "text": [
      "100%|████████████████████████████████████████████████████████████████████████████████████| 6/6 [00:08<00:00,  1.37s/it]\n"
     ]
    },
    {
     "name": "stdout",
     "output_type": "stream",
     "text": [
      "소환사 통계 생성 중...\n"
     ]
    },
    {
     "name": "stderr",
     "output_type": "stream",
     "text": [
      "소환사 통계 생성 중: 100%|███████████████████████████████████████████████████████████████| 6/6 [00:39<00:00,  6.52s/it]\n"
     ]
    },
    {
     "name": "stdout",
     "output_type": "stream",
     "text": [
      "GRANDMASTER 티어 데이터프레임의 행 수는 60입니다.\n",
      "['KR_7079009894', 1031, '14.10.585.8823', '광광우럮따', 'KR1', 704, 1, 79, 'Gragas', 361835, 'TOP', 100, 0, 2, 4, 2, 9650, 76906, 'GRANDMASTER']\n",
      "['KR_7079009894', 1031, '14.10.585.8823', '779', 'qwe', 41, 2, 77, 'Udyr', 88607, 'JUNGLE', 100, 0, 2, 1, 4, 5284, 121841, 'GRANDMASTER']\n",
      "['KR_7079009894', 1031, '14.10.585.8823', '미 드', 'KR115', 299, 3, 1, 'Annie', 506797, 'MIDDLE', 100, 0, 2, 4, 1, 10414, 57523, 'GRANDMASTER']\n",
      "['KR_7079009894', 1031, '14.10.585.8823', 'Be my brownie', '비마브', 576, 4, 202, 'Jhin', 166232, 'BOTTOM', 100, 0, 4, 1, 0, 8925, 67855, 'GRANDMASTER']\n",
      "['KR_7079009894', 1031, '14.10.585.8823', '손나은', '4813', 1467, 5, 22, 'Ashe', 247364, 'UTILITY', 100, 0, 0, 4, 4, 4707, 11249, 'GRANDMASTER']\n",
      "['KR_7079009894', 1031, '14.10.585.8823', '고독한인생멋지게살거야', '0418', 84, 6, 85, 'Kennen', 42756, 'TOP', 200, 1, 1, 3, 1, 9932, 68361, 'GRANDMASTER']\n",
      "['KR_7079009894', 1031, '14.10.585.8823', '이상호93', '1109', 1110, 7, 887, 'Gwen', 37166, 'JUNGLE', 200, 1, 4, 3, 1, 8760, 144349, 'GRANDMASTER']\n",
      "['KR_7079009894', 1031, '14.10.585.8823', 'ucal', 'KR1', 564, 8, 18, 'Tristana', 149254, 'MIDDLE', 200, 1, 6, 1, 2, 13812, 94235, 'GRANDMASTER']\n",
      "['KR_7079009894', 1031, '14.10.585.8823', 'May', '0411', 96, 9, 222, 'Jinx', 41701, 'BOTTOM', 200, 1, 2, 2, 4, 7095, 76592, 'GRANDMASTER']\n",
      "['KR_7079009894', 1031, '14.10.585.8823', '롯데자이언츠가을야구간다', '부산갈매기', 477, 10, 111, 'Nautilus', 146697, 'UTILITY', 200, 1, 1, 1, 7, 4044, 11038, 'GRANDMASTER']\n",
      "['KR_7078547356', 1588, '14.10.585.8823', '대호깍기인형', 'ady', 573, 1, 254, 'Vi', 176264, 'TOP', 100, 0, 1, 7, 7, 13627, 120760, 'GRANDMASTER']\n",
      "['KR_7078547356', 1588, '14.10.585.8823', 'oPhELiaA', '0920', 735, 2, 76, 'Nidalee', 38422, 'JUNGLE', 100, 0, 2, 4, 10, 22289, 220645, 'GRANDMASTER']\n",
      "['KR_7078547356', 1588, '14.10.585.8823', '미 드', 'KR115', 299, 3, 910, 'Hwei', 286281, 'MIDDLE', 100, 0, 4, 4, 5, 25257, 106062, 'GRANDMASTER']\n",
      "['KR_7078547356', 1588, '14.10.585.8823', 'xinsuixiaogou', '6666', 163, 4, 145, 'Kaisa', 76895, 'BOTTOM', 100, 0, 8, 5, 5, 19219, 161458, 'GRANDMASTER']\n",
      "['KR_7078547356', 1588, '14.10.585.8823', '김민교 수제자', 'KR1', 215, 5, 111, 'Nautilus', 8050, 'UTILITY', 100, 0, 0, 9, 11, 8230, 22047, 'GRANDMASTER']\n",
      "['KR_7078547356', 1588, '14.10.585.8823', 'ruyuan', 'kr2', 57, 6, 58, 'Renekton', 43022, 'TOP', 200, 1, 4, 2, 10, 14858, 102888, 'GRANDMASTER']\n",
      "['KR_7078547356', 1588, '14.10.585.8823', '타 잔', 'KR1', 612, 7, 104, 'Graves', 292330, 'JUNGLE', 200, 1, 9, 3, 13, 21053, 307163, 'GRANDMASTER']\n",
      "['KR_7078547356', 1588, '14.10.585.8823', '붐칙칵칙', 'KR1', 1037, 8, 61, 'Orianna', 147469, 'MIDDLE', 200, 1, 6, 1, 16, 22051, 182398, 'GRANDMASTER']\n",
      "['KR_7078547356', 1588, '14.10.585.8823', '원딜 가락가락', 'KR1', 530, 9, 222, 'Jinx', 114686, 'BOTTOM', 200, 1, 9, 4, 16, 27655, 141372, 'GRANDMASTER']\n",
      "['KR_7078547356', 1588, '14.10.585.8823', 'Minit', '0203', 706, 10, 201, 'Braum', 92808, 'UTILITY', 200, 1, 1, 5, 25, 6204, 12650, 'GRANDMASTER']\n",
      "['KR_7078931434', 917, '14.10.585.8823', '페이커', 'fff11', 49, 1, 77, 'Udyr', 87842, 'TOP', 100, 0, 3, 3, 0, 10307, 48230, 'GRANDMASTER']\n",
      "['KR_7078931434', 917, '14.10.585.8823', '사 용 수', 'KR1', 792, 2, 234, 'Viego', 94553, 'JUNGLE', 100, 0, 1, 4, 5, 4731, 99082, 'GRANDMASTER']\n",
      "['KR_7078931434', 917, '14.10.585.8823', '포뇨의 지느러미', 'KR1', 690, 3, 55, 'Katarina', 2243497, 'MIDDLE', 100, 0, 7, 4, 0, 8707, 56999, 'GRANDMASTER']\n",
      "['KR_7078931434', 917, '14.10.585.8823', '한상 아가', 'KR1', 212, 4, 221, 'Zeri', 23634, 'BOTTOM', 100, 0, 0, 6, 3, 2793, 41477, 'GRANDMASTER']\n",
      "['KR_7078931434', 917, '14.10.585.8823', '신미야', '000', 114, 5, 350, 'Yuumi', 289631, 'UTILITY', 100, 0, 0, 5, 4, 2128, 4020, 'GRANDMASTER']\n",
      "['KR_7078931434', 917, '14.10.585.8823', 'dou yin wei1', '666', 129, 6, 67, 'Vayne', 16352, 'TOP', 200, 1, 2, 4, 3, 9120, 31890, 'GRANDMASTER']\n",
      "['KR_7078931434', 917, '14.10.585.8823', 'wenjian', '1014', 52, 7, 104, 'Graves', 28066, 'JUNGLE', 200, 1, 6, 2, 10, 8230, 121443, 'GRANDMASTER']\n",
      "['KR_7078931434', 917, '14.10.585.8823', 'wulaidafa', 'KR1', 123, 8, 131, 'Diana', 4444, 'MIDDLE', 200, 1, 7, 3, 7, 14847, 49163, 'GRANDMASTER']\n",
      "['KR_7078931434', 917, '14.10.585.8823', '덕분입니다', 'KR2', 549, 9, 147, 'Seraphine', 173825, 'BOTTOM', 200, 1, 4, 1, 11, 6699, 63985, 'GRANDMASTER']\n",
      "['KR_7078931434', 917, '14.10.585.8823', '노틸러스', 'QQQ', 92, 10, 526, 'Rell', 43527, 'UTILITY', 200, 1, 3, 1, 13, 3454, 9727, 'GRANDMASTER']\n",
      "['KR_7078909959', 1461, '14.10.585.8823', 'uiik', 'KR1', 84, 1, 24, 'Jax', 16336, 'TOP', 100, 0, 5, 2, 1, 20570, 138078, 'GRANDMASTER']\n",
      "['KR_7078909959', 1461, '14.10.585.8823', 'Unknown', '0423', 941, 2, 104, 'Graves', 370021, 'JUNGLE', 100, 0, 1, 3, 5, 12489, 208268, 'GRANDMASTER']\n",
      "['KR_7078909959', 1461, '14.10.585.8823', '풀 영', 'KR1', 145, 3, 142, 'Zoe', 4009, 'MIDDLE', 100, 0, 3, 7, 4, 14367, 74173, 'GRANDMASTER']\n",
      "['KR_7078909959', 1461, '14.10.585.8823', 'dou yin wei1', '666', 129, 4, 222, 'Jinx', 44876, 'BOTTOM', 100, 0, 1, 6, 4, 11855, 123225, 'GRANDMASTER']\n",
      "['KR_7078909959', 1461, '14.10.585.8823', '뉴진스 혜인', '유틸킹', 371, 5, 526, 'Rell', 118557, 'UTILITY', 100, 0, 2, 7, 7, 3510, 10093, 'GRANDMASTER']\n",
      "['KR_7078909959', 1461, '14.10.585.8823', '8yl', 'amnm', 109, 6, 58, 'Renekton', 535784, 'TOP', 200, 1, 3, 4, 3, 15280, 113485, 'GRANDMASTER']\n",
      "['KR_7078909959', 1461, '14.10.585.8823', '고독한인생멋지게살거야', '0418', 84, 7, 79, 'Gragas', 25698, 'JUNGLE', 200, 1, 4, 2, 8, 11758, 186231, 'GRANDMASTER']\n",
      "['KR_7078909959', 1461, '14.10.585.8823', 'HyeonJu', 'ZZang', 463, 8, 166, 'Akshan', 1138050, 'MIDDLE', 200, 1, 12, 4, 4, 25456, 156940, 'GRANDMASTER']\n",
      "['KR_7078909959', 1461, '14.10.585.8823', '펀치펀치 핵펀치', 'KR1', 97, 9, 236, 'Lucian', 19196, 'BOTTOM', 200, 1, 6, 2, 8, 19731, 152632, 'GRANDMASTER']\n",
      "['KR_7078909959', 1461, '14.10.585.8823', '노틸러스', 'QQQ', 92, 10, 902, 'Milio', 34598, 'UTILITY', 200, 1, 0, 0, 17, 3941, 12009, 'GRANDMASTER']\n",
      "['KR_7077838700', 1954, '14.10.585.8823', '장성곤', 'KR2', 42, 1, 39, 'Irelia', 101893, 'TOP', 100, 1, 2, 7, 12, 13841, 97476, 'GRANDMASTER']\n",
      "['KR_7077838700', 1954, '14.10.585.8823', 'feiji jug', '7777', 49, 2, 5, 'XinZhao', 3376, 'JUNGLE', 100, 1, 11, 4, 18, 38273, 287423, 'GRANDMASTER']\n",
      "['KR_7077838700', 1954, '14.10.585.8823', '겨 울', '1250', 124, 3, 136, 'AurelionSol', 7598, 'MIDDLE', 100, 1, 5, 5, 13, 20450, 165572, 'GRANDMASTER']\n",
      "['KR_7077838700', 1954, '14.10.585.8823', 'limit', '6605', 432, 4, 42, 'Corki', 11172, 'BOTTOM', 100, 1, 9, 6, 8, 25870, 251741, 'GRANDMASTER']\n",
      "['KR_7077838700', 1954, '14.10.585.8823', 'XOON08', 'KR1', 174, 5, 526, 'Rell', 219081, 'UTILITY', 100, 1, 4, 5, 20, 9605, 20748, 'GRANDMASTER']\n",
      "['KR_7077838700', 1954, '14.10.585.8823', '칼과 창 방패', 'KR1', 762, 6, 19, 'Warwick', 795009, 'TOP', 200, 0, 6, 9, 6, 16490, 111204, 'GRANDMASTER']\n",
      "['KR_7077838700', 1954, '14.10.585.8823', 'huya ssy', '666', 68, 7, 200, 'Belveth', 180022, 'JUNGLE', 200, 0, 6, 7, 11, 17173, 291878, 'GRANDMASTER']\n",
      "['KR_7077838700', 1954, '14.10.585.8823', '댕청한남자', '3324', 643, 8, 7, 'Leblanc', 273250, 'MIDDLE', 200, 0, 8, 6, 9, 37760, 195958, 'GRANDMASTER']\n",
      "['KR_7077838700', 1954, '14.10.585.8823', 'Ken Kaneki', 'BG29', 74, 9, 145, 'Kaisa', 13924, 'BOTTOM', 200, 0, 7, 4, 5, 24824, 209868, 'GRANDMASTER']\n",
      "['KR_7077838700', 1954, '14.10.585.8823', '박고보기', 'KR2', 237, 10, 12, 'Alistar', 84747, 'UTILITY', 200, 0, 0, 5, 15, 7115, 15094, 'GRANDMASTER']\n",
      "['KR_7077828072', 1779, '14.10.585.8823', '장성곤', 'KR2', 42, 1, 39, 'Irelia', 101893, 'TOP', 100, 1, 8, 5, 2, 29162, 205587, 'GRANDMASTER']\n",
      "['KR_7077828072', 1779, '14.10.585.8823', 'EungNam', 'KR2', 416, 2, 254, 'Vi', 74592, 'JUNGLE', 100, 1, 6, 4, 10, 16260, 260899, 'GRANDMASTER']\n",
      "['KR_7077828072', 1779, '14.10.585.8823', '랭 겜', 'KR1', 530, 3, 34, 'Anivia', 168388, 'MIDDLE', 100, 1, 12, 1, 6, 33637, 151631, 'GRANDMASTER']\n",
      "['KR_7077828072', 1779, '14.10.585.8823', '츠루히메', 'KR1', 285, 4, 161, 'Velkoz', 1515763, 'BOTTOM', 100, 1, 4, 2, 7, 20668, 192703, 'GRANDMASTER']\n",
      "['KR_7077828072', 1779, '14.10.585.8823', 'limit', '6605', 432, 5, 497, 'Rakan', 15148, 'UTILITY', 100, 1, 2, 5, 19, 8243, 14574, 'GRANDMASTER']\n",
      "['KR_7077828072', 1779, '14.10.585.8823', 'buyaoweisuo', '7188', 336, 6, 80, 'Pantheon', 50627, 'TOP', 200, 0, 2, 9, 1, 17790, 136041, 'GRANDMASTER']\n",
      "['KR_7077828072', 1779, '14.10.585.8823', 'Na병현', '2001', 452, 7, 63, 'Brand', 96058, 'JUNGLE', 200, 0, 10, 5, 4, 34934, 271392, 'GRANDMASTER']\n",
      "['KR_7077828072', 1779, '14.10.585.8823', 'wunengweili', '0410', 79, 8, 246, 'Qiyana', 238717, 'MIDDLE', 200, 0, 1, 6, 6, 13433, 165036, 'GRANDMASTER']\n",
      "['KR_7077828072', 1779, '14.10.585.8823', '원딜 가락가락', 'KR1', 529, 9, 110, 'Varus', 146217, 'BOTTOM', 200, 0, 2, 5, 8, 18089, 169447, 'GRANDMASTER']\n",
      "['KR_7077828072', 1779, '14.10.585.8823', '박고보기', 'KR2', 236, 10, 526, 'Rell', 19021, 'UTILITY', 200, 0, 2, 7, 9, 4794, 16829, 'GRANDMASTER']\n"
     ]
    },
    {
     "name": "stderr",
     "output_type": "stream",
     "text": [
      " 12%|█████████▋                                                                         | 7/60 [00:00<00:00, 62.26it/s]"
     ]
    },
    {
     "name": "stdout",
     "output_type": "stream",
     "text": [
      "oracle 쿼리 성공\n",
      "oracle 쿼리 성공\n",
      "oracle 쿼리 성공\n",
      "oracle 쿼리 성공\n",
      "oracle 쿼리 성공\n",
      "oracle 쿼리 성공\n",
      "oracle 쿼리 성공\n",
      "oracle 쿼리 성공\n"
     ]
    },
    {
     "name": "stderr",
     "output_type": "stream",
     "text": [
      " 23%|███████████████████▏                                                              | 14/60 [00:00<00:01, 34.34it/s]"
     ]
    },
    {
     "name": "stdout",
     "output_type": "stream",
     "text": [
      "oracle 쿼리 성공\n",
      "oracle 쿼리 성공\n",
      "oracle 쿼리 성공\n",
      "oracle 쿼리 성공\n",
      "oracle 쿼리 성공\n",
      "oracle 쿼리 성공\n",
      "oracle 쿼리 성공\n",
      "oracle 쿼리 성공\n",
      "oracle 쿼리 성공\n",
      "oracle 쿼리 성공\n",
      "oracle 쿼리 성공\n"
     ]
    },
    {
     "name": "stderr",
     "output_type": "stream",
     "text": [
      " 57%|██████████████████████████████████████████████▍                                   | 34/60 [00:00<00:00, 66.41it/s]"
     ]
    },
    {
     "name": "stdout",
     "output_type": "stream",
     "text": [
      "oracle 쿼리 성공\n",
      "oracle 쿼리 성공\n",
      "oracle 쿼리 성공\n",
      "oracle 쿼리 성공\n",
      "oracle 쿼리 성공\n",
      "oracle 쿼리 성공\n",
      "oracle 쿼리 성공\n",
      "oracle 쿼리 성공\n",
      "oracle 쿼리 성공\n",
      "oracle 쿼리 성공\n",
      "oracle 쿼리 성공\n",
      "oracle 쿼리 성공\n",
      "oracle 쿼리 성공\n",
      "oracle 쿼리 성공\n",
      "oracle 쿼리 성공\n",
      "oracle 쿼리 성공\n",
      "oracle 쿼리 성공\n",
      "oracle 쿼리 성공\n",
      "oracle 쿼리 성공\n",
      "oracle 쿼리 성공\n"
     ]
    },
    {
     "name": "stderr",
     "output_type": "stream",
     "text": [
      " 87%|███████████████████████████████████████████████████████████████████████           | 52/60 [00:00<00:00, 66.79it/s]"
     ]
    },
    {
     "name": "stdout",
     "output_type": "stream",
     "text": [
      "oracle 쿼리 성공\n",
      "oracle 쿼리 성공\n",
      "oracle 쿼리 성공\n",
      "oracle 쿼리 성공\n",
      "oracle 쿼리 성공\n",
      "oracle 쿼리 성공\n",
      "oracle 쿼리 성공\n",
      "oracle 쿼리 성공\n",
      "oracle 쿼리 성공\n",
      "oracle 쿼리 성공\n",
      "oracle 쿼리 성공\n",
      "oracle 쿼리 성공\n",
      "oracle 쿼리 성공\n",
      "oracle 쿼리 성공\n",
      "oracle 쿼리 성공\n"
     ]
    },
    {
     "name": "stderr",
     "output_type": "stream",
     "text": [
      "100%|██████████████████████████████████████████████████████████████████████████████████| 60/60 [00:00<00:00, 64.20it/s]\n"
     ]
    },
    {
     "name": "stdout",
     "output_type": "stream",
     "text": [
      "oracle 쿼리 성공\n",
      "oracle 쿼리 성공\n",
      "oracle 쿼리 성공\n",
      "oracle 쿼리 성공\n",
      "oracle 쿼리 성공\n",
      "oracle 쿼리 성공\n",
      "오라클 정상적으로 닫힘\n",
      "GRANDMASTER 소환사 ID 가져오는 중...\n",
      "PUUID 가져오는 중...\n"
     ]
    },
    {
     "name": "stderr",
     "output_type": "stream",
     "text": [
      "PUUID 가져오는 중: 100%|█████████████████████████████████████████████████████████████████| 3/3 [00:03<00:00,  1.21s/it]\n"
     ]
    },
    {
     "name": "stdout",
     "output_type": "stream",
     "text": [
      "경기 ID 가져오는 중...\n"
     ]
    },
    {
     "name": "stderr",
     "output_type": "stream",
     "text": [
      "경기 ID 가져오는 중: 100%|███████████████████████████████████████████████████████████████| 3/3 [00:03<00:00,  1.07s/it]\n"
     ]
    },
    {
     "name": "stdout",
     "output_type": "stream",
     "text": [
      "경기 정보 가져오는 중...\n"
     ]
    },
    {
     "name": "stderr",
     "output_type": "stream",
     "text": [
      "100%|████████████████████████████████████████████████████████████████████████████████████| 6/6 [00:11<00:00,  1.94s/it]\n"
     ]
    },
    {
     "name": "stdout",
     "output_type": "stream",
     "text": [
      "소환사 통계 생성 중...\n"
     ]
    },
    {
     "name": "stderr",
     "output_type": "stream",
     "text": [
      "소환사 통계 생성 중: 100%|███████████████████████████████████████████████████████████████| 6/6 [00:42<00:00,  7.02s/it]\n"
     ]
    },
    {
     "name": "stdout",
     "output_type": "stream",
     "text": [
      "GRANDMASTER 티어 데이터프레임의 행 수는 60입니다.\n",
      "['KR_7078963735', 1367, '14.10.585.8823', '다누리 예쁘다 귀엽다', '1129', 59, 1, 78, 'Poppy', 10415, 'TOP', 100, 1, 3, 2, 4, 13041, 85526, 'GRANDMASTER']\n",
      "['KR_7078963735', 1367, '14.10.585.8823', '8999', '113', 62, 2, 120, 'Hecarim', 72663, 'JUNGLE', 100, 1, 7, 5, 8, 16443, 276246, 'GRANDMASTER']\n",
      "['KR_7078963735', 1367, '14.10.585.8823', 'kazezz', '12345', 42, 3, 268, 'Azir', 1304, 'MIDDLE', 100, 1, 6, 1, 3, 22800, 153387, 'GRANDMASTER']\n",
      "['KR_7078963735', 1367, '14.10.585.8823', 'ISENS01', 'KR1', 85, 4, 110, 'Varus', 29237, 'BOTTOM', 100, 1, 6, 3, 2, 12206, 102251, 'GRANDMASTER']\n",
      "['KR_7078963735', 1367, '14.10.585.8823', '분노유발장치', 'KR1', 940, 5, 35, 'Shaco', 5547020, 'UTILITY', 100, 1, 1, 3, 12, 15140, 35266, 'GRANDMASTER']\n",
      "['KR_7078963735', 1367, '14.10.585.8823', '재 준', '재 준', 584, 6, 41, 'Gangplank', 576747, 'TOP', 200, 0, 3, 3, 3, 15230, 133857, 'GRANDMASTER']\n",
      "['KR_7078963735', 1367, '14.10.585.8823', 'Little Red Bird', '666', 57, 7, 104, 'Graves', 16558, 'JUNGLE', 200, 0, 4, 7, 6, 12956, 160851, 'GRANDMASTER']\n",
      "['KR_7078963735', 1367, '14.10.585.8823', '牛至大', 'KRD', 206, 8, 3, 'Galio', 1572, 'MIDDLE', 200, 0, 2, 4, 3, 11927, 76393, 'GRANDMASTER']\n",
      "['KR_7078963735', 1367, '14.10.585.8823', '귀뚜라미메뚜기', 'KR12', 312, 9, 22, 'Ashe', 127067, 'BOTTOM', 200, 0, 4, 6, 6, 16345, 87225, 'GRANDMASTER']\n",
      "['KR_7078963735', 1367, '14.10.585.8823', 'Rui1', 'KR1', 244, 10, 147, 'Seraphine', 15459, 'UTILITY', 200, 0, 1, 3, 8, 7240, 33860, 'GRANDMASTER']\n",
      "['KR_7078942914', 1374, '14.10.585.8823', 'weiweiwei1', 'KR1', 84, 1, 2, 'Olaf', 78101, 'TOP', 100, 0, 1, 4, 2, 8919, 86984, 'GRANDMASTER']\n",
      "['KR_7078942914', 1374, '14.10.585.8823', '분노지수', '하양이', 462, 2, 30, 'Karthus', 51244, 'JUNGLE', 100, 0, 2, 10, 5, 12437, 184416, 'GRANDMASTER']\n",
      "['KR_7078942914', 1374, '14.10.585.8823', '우일이와쪄여땃따땃따따떠떠', '쨔스쨔스', 78, 3, 91, 'Talon', 175554, 'MIDDLE', 100, 0, 4, 4, 4, 13413, 88282, 'GRANDMASTER']\n",
      "['KR_7078942914', 1374, '14.10.585.8823', 'sys', 'kr2', 53, 4, 910, 'Hwei', 24562, 'UTILITY', 100, 0, 5, 8, 5, 15299, 30966, 'GRANDMASTER']\n",
      "['KR_7078942914', 1374, '14.10.585.8823', 'gojahaox4abc', 'KR2', 487, 5, 119, 'Draven', 224834, 'BOTTOM', 100, 0, 4, 13, 6, 18480, 84888, 'GRANDMASTER']\n",
      "['KR_7078942914', 1374, '14.10.585.8823', '얌전해', 'KR1', 90, 6, 67, 'Vayne', 17425, 'TOP', 200, 1, 6, 1, 1, 18640, 94941, 'GRANDMASTER']\n",
      "['KR_7078942914', 1374, '14.10.585.8823', '8999', '113', 62, 7, 120, 'Hecarim', 72663, 'JUNGLE', 200, 1, 9, 7, 11, 17571, 183680, 'GRANDMASTER']\n",
      "['KR_7078942914', 1374, '14.10.585.8823', '랭 겜', 'KR1', 530, 8, 34, 'Anivia', 168388, 'MIDDLE', 200, 1, 12, 0, 6, 29050, 119699, 'GRANDMASTER']\n",
      "['KR_7078942914', 1374, '14.10.585.8823', '달디달고달디단바텀갱', '바텀갱이야', 363, 9, 236, 'Lucian', 65205, 'BOTTOM', 200, 1, 10, 6, 6, 15923, 101068, 'GRANDMASTER']\n",
      "['KR_7078942914', 1374, '14.10.585.8823', 'Shun Mizushino', '1996', 56, 10, 267, 'Nami', 3598, 'UTILITY', 200, 1, 2, 2, 27, 10052, 30103, 'GRANDMASTER']\n",
      "['KR_7078241038', 953, '14.10.585.8823', '그 맛은궁진하다', 'KR1', 303, 1, 150, 'Gnar', 50474, 'TOP', 100, 0, 2, 2, 1, 10657, 64815, 'GRANDMASTER']\n",
      "['KR_7078241038', 953, '14.10.585.8823', 'abc', 'aabc', 387, 2, 234, 'Viego', 72637, 'JUNGLE', 100, 0, 2, 3, 1, 4764, 108025, 'GRANDMASTER']\n",
      "['KR_7078241038', 953, '14.10.585.8823', 'HAPPY EVERYDAY', '2223', 64, 3, 136, 'AurelionSol', 80629, 'MIDDLE', 100, 0, 1, 3, 2, 5471, 39699, 'GRANDMASTER']\n",
      "['KR_7078241038', 953, '14.10.585.8823', 'asdqweaws', 'KR1', 91, 4, 42, 'Corki', 16519, 'BOTTOM', 100, 0, 3, 2, 1, 12575, 61822, 'GRANDMASTER']\n",
      "['KR_7078241038', 953, '14.10.585.8823', 'Soul Power', '安乔溪', 260, 5, 111, 'Nautilus', 176529, 'UTILITY', 100, 0, 0, 5, 4, 4186, 13061, 'GRANDMASTER']\n",
      "['KR_7078241038', 953, '14.10.585.8823', '허허걸', 'KR1', 348, 6, 10, 'Kayle', 267298, 'TOP', 200, 1, 0, 3, 1, 6601, 39436, 'GRANDMASTER']\n",
      "['KR_7078241038', 953, '14.10.585.8823', '머리피낫쪄', 'KR1', 424, 7, 20, 'Nunu', 832872, 'JUNGLE', 200, 1, 7, 3, 8, 8255, 117289, 'GRANDMASTER']\n",
      "['KR_7078241038', 953, '14.10.585.8823', '书生浅夏', '1216', 97, 8, 777, 'Yone', 98138, 'MIDDLE', 200, 1, 3, 1, 5, 7591, 78729, 'GRANDMASTER']\n",
      "['KR_7078241038', 953, '14.10.585.8823', 'XeVolt', 'LEMA', 296, 9, 222, 'Jinx', 273547, 'BOTTOM', 200, 1, 3, 0, 6, 10008, 58747, 'GRANDMASTER']\n",
      "['KR_7078241038', 953, '14.10.585.8823', 'unstoppable', 'yyy13', 204, 10, 526, 'Rell', 69194, 'UTILITY', 200, 1, 2, 1, 5, 3367, 8253, 'GRANDMASTER']\n",
      "['KR_7078188158', 911, '14.10.585.8823', 'Laurn', 'Bili', 198, 1, 897, 'KSante', 13307, 'TOP', 100, 0, 1, 4, 1, 8704, 52168, 'GRANDMASTER']\n",
      "['KR_7078188158', 911, '14.10.585.8823', 'bad and worse', 'KR112', 167, 2, 76, 'Nidalee', 4241, 'JUNGLE', 100, 0, 5, 4, 1, 9286, 89481, 'GRANDMASTER']\n",
      "['KR_7078188158', 911, '14.10.585.8823', 'SoftWindYS', 'Yasuo', 288, 3, 157, 'Yasuo', 235424, 'MIDDLE', 100, 0, 1, 3, 0, 7533, 59638, 'GRANDMASTER']\n",
      "['KR_7078188158', 911, '14.10.585.8823', 'Whenever I go', 'KOR', 979, 4, 202, 'Jhin', 294608, 'BOTTOM', 100, 0, 0, 4, 5, 6322, 38533, 'GRANDMASTER']\n",
      "['KR_7078188158', 911, '14.10.585.8823', '원딜 가락가락', 'KR1', 529, 5, 22, 'Ashe', 117118, 'UTILITY', 100, 0, 2, 6, 2, 5224, 9925, 'GRANDMASTER']\n",
      "['KR_7078188158', 911, '14.10.585.8823', '고독한인생멋지게살거야', '0418', 83, 6, 887, 'Gwen', 16963, 'TOP', 200, 1, 5, 2, 1, 13944, 125377, 'GRANDMASTER']\n",
      "['KR_7078188158', 911, '14.10.585.8823', '머리피낫쪄', 'KR1', 424, 7, 20, 'Nunu', 832872, 'JUNGLE', 200, 1, 7, 1, 5, 7463, 83672, 'GRANDMASTER']\n",
      "['KR_7078188158', 911, '14.10.585.8823', 'zcxsdasdas', 'KR1', 261, 8, 42, 'Corki', 2439, 'MIDDLE', 200, 1, 2, 1, 2, 8119, 76362, 'GRANDMASTER']\n",
      "['KR_7078188158', 911, '14.10.585.8823', '라온팀 원딜', 'TTT', 77, 9, 53, 'Blitzcrank', 21434, 'UTILITY', 200, 1, 2, 1, 11, 5172, 10158, 'GRANDMASTER']\n",
      "['KR_7078188158', 911, '14.10.585.8823', 'BULL', 'kr11', 775, 10, 222, 'Jinx', 252653, 'BOTTOM', 200, 1, 5, 4, 5, 9525, 55761, 'GRANDMASTER']\n",
      "['KR_7078783987', 1552, '14.10.585.8823', 'FlowerDance', '9090', 118, 1, 164, 'Camille', 88329, 'TOP', 100, 0, 5, 5, 4, 15513, 128688, 'GRANDMASTER']\n",
      "['KR_7078783987', 1552, '14.10.585.8823', 'JustLikeThatKR', 'Ep0', 813, 2, 234, 'Viego', 1062995, 'JUNGLE', 100, 0, 0, 5, 9, 7221, 199729, 'GRANDMASTER']\n",
      "['KR_7078783987', 1552, '14.10.585.8823', '多看一眼就会爆炸', '靠近会融化', 178, 3, 910, 'Hwei', 29494, 'MIDDLE', 100, 0, 6, 3, 6, 26482, 120760, 'GRANDMASTER']\n",
      "['KR_7078783987', 1552, '14.10.585.8823', 'wfzydg', 'KR1', 118, 4, 22, 'Ashe', 26347, 'BOTTOM', 100, 0, 4, 7, 9, 16767, 105846, 'GRANDMASTER']\n",
      "['KR_7078783987', 1552, '14.10.585.8823', '성 훈', '1231', 269, 5, 111, 'Nautilus', 98693, 'UTILITY', 100, 0, 2, 9, 8, 4892, 23370, 'GRANDMASTER']\n",
      "['KR_7078783987', 1552, '14.10.585.8823', '대호깍기인형', 'ady', 573, 6, 72, 'Skarner', 23616, 'TOP', 200, 1, 1, 7, 9, 16551, 72478, 'GRANDMASTER']\n",
      "['KR_7078783987', 1552, '14.10.585.8823', '玩具猪', 'ldm', 128, 7, 104, 'Graves', 109042, 'JUNGLE', 200, 1, 10, 2, 9, 14460, 244291, 'GRANDMASTER']\n",
      "['KR_7078783987', 1552, '14.10.585.8823', 'NS Callme', 'KR1', 561, 8, 84, 'Akali', 192111, 'MIDDLE', 200, 1, 6, 3, 3, 19271, 145793, 'GRANDMASTER']\n",
      "['KR_7078783987', 1552, '14.10.585.8823', 'Samver', 'BRO', 162, 9, 222, 'Jinx', 65198, 'BOTTOM', 200, 1, 8, 2, 14, 22828, 202458, 'GRANDMASTER']\n",
      "['KR_7078783987', 1552, '14.10.585.8823', 'Career', 'DRX', 120, 10, 201, 'Braum', 19875, 'UTILITY', 200, 1, 4, 3, 21, 9060, 19113, 'GRANDMASTER']\n",
      "['KR_7078768321', 1646, '14.10.585.8823', 'AloisNL', 'Riven', 37, 1, 92, 'Riven', 96582, 'TOP', 100, 1, 6, 2, 6, 21417, 162902, 'GRANDMASTER']\n",
      "['KR_7078768321', 1646, '14.10.585.8823', '안녕하세요', '0508', 288, 2, 163, 'Taliyah', 138772, 'JUNGLE', 100, 1, 3, 5, 9, 13127, 280420, 'GRANDMASTER']\n",
      "['KR_7078768321', 1646, '14.10.585.8823', '多看一眼就会爆炸', '靠近会融化', 178, 3, 234, 'Viego', 13410, 'MIDDLE', 100, 1, 9, 1, 7, 18535, 119947, 'GRANDMASTER']\n",
      "['KR_7078768321', 1646, '14.10.585.8823', 'Sereno', 'KR1', 800, 4, 202, 'Jhin', 655520, 'BOTTOM', 100, 1, 10, 8, 9, 26215, 140178, 'GRANDMASTER']\n",
      "['KR_7078768321', 1646, '14.10.585.8823', '댕청잇', 'KR123', 355, 5, 68, 'Rumble', 9184, 'UTILITY', 100, 1, 4, 6, 11, 22740, 44346, 'GRANDMASTER']\n",
      "['KR_7078768321', 1646, '14.10.585.8823', '대호깍기인형', 'ady', 573, 6, 3, 'Galio', 434209, 'TOP', 200, 0, 1, 1, 7, 12650, 134568, 'GRANDMASTER']\n",
      "['KR_7078768321', 1646, '14.10.585.8823', 'wfzydg', 'KR1', 118, 7, 64, 'LeeSin', 40055, 'JUNGLE', 200, 0, 7, 8, 5, 15189, 187404, 'GRANDMASTER']\n",
      "['KR_7078768321', 1646, '14.10.585.8823', 'i kid', '2002', 592, 8, 910, 'Hwei', 32937, 'MIDDLE', 200, 0, 3, 7, 6, 21290, 138080, 'GRANDMASTER']\n",
      "['KR_7078768321', 1646, '14.10.585.8823', 'Slayer', '0618', 813, 9, 42, 'Corki', 11420, 'BOTTOM', 200, 0, 10, 11, 2, 22459, 152893, 'GRANDMASTER']\n",
      "['KR_7078768321', 1646, '14.10.585.8823', '성 훈', '1231', 269, 10, 111, 'Nautilus', 98693, 'UTILITY', 200, 0, 1, 5, 14, 6541, 18668, 'GRANDMASTER']\n"
     ]
    },
    {
     "name": "stderr",
     "output_type": "stream",
     "text": [
      " 18%|██████████████▊                                                                  | 11/60 [00:00<00:00, 100.57it/s]"
     ]
    },
    {
     "name": "stdout",
     "output_type": "stream",
     "text": [
      "oracle 쿼리 성공\n",
      "oracle 쿼리 성공\n",
      "oracle 쿼리 성공\n",
      "oracle 쿼리 성공\n",
      "oracle 쿼리 성공\n",
      "oracle 쿼리 성공\n",
      "oracle 쿼리 성공\n",
      "oracle 쿼리 성공\n",
      "oracle 쿼리 성공\n",
      "oracle 쿼리 성공\n",
      "oracle 쿼리 성공\n",
      "oracle 쿼리 성공\n",
      "oracle 쿼리 성공\n",
      "oracle 쿼리 성공\n",
      "oracle 쿼리 성공\n",
      "oracle 쿼리 성공\n",
      "oracle 쿼리 성공\n",
      "oracle 쿼리 성공\n"
     ]
    },
    {
     "name": "stderr",
     "output_type": "stream",
     "text": [
      " 55%|█████████████████████████████████████████████                                     | 33/60 [00:00<00:00, 94.26it/s]"
     ]
    },
    {
     "name": "stdout",
     "output_type": "stream",
     "text": [
      "oracle 쿼리 성공\n",
      "oracle 쿼리 성공\n",
      "oracle 쿼리 성공\n",
      "oracle 쿼리 성공\n",
      "oracle 쿼리 성공\n",
      "oracle 쿼리 성공\n",
      "oracle 쿼리 성공\n",
      "oracle 쿼리 성공\n",
      "oracle 쿼리 성공\n",
      "oracle 쿼리 성공\n",
      "oracle 쿼리 성공\n",
      "oracle 쿼리 성공\n",
      "oracle 쿼리 성공\n",
      "oracle 쿼리 성공\n",
      "oracle 쿼리 성공\n",
      "oracle 쿼리 성공\n",
      "oracle 쿼리 성공\n",
      "oracle 쿼리 성공\n",
      "oracle 쿼리 성공\n",
      "oracle 쿼리 성공\n"
     ]
    },
    {
     "name": "stderr",
     "output_type": "stream",
     "text": [
      " 93%|████████████████████████████████████████████████████████████████████████████▌     | 56/60 [00:00<00:00, 95.49it/s]"
     ]
    },
    {
     "name": "stdout",
     "output_type": "stream",
     "text": [
      "oracle 쿼리 성공\n",
      "oracle 쿼리 성공\n",
      "oracle 쿼리 성공\n",
      "oracle 쿼리 성공\n",
      "oracle 쿼리 성공\n",
      "oracle 쿼리 성공\n",
      "oracle 쿼리 성공\n",
      "oracle 쿼리 성공\n",
      "oracle 쿼리 성공\n",
      "oracle 쿼리 성공\n",
      "oracle 쿼리 성공\n",
      "oracle 쿼리 성공\n",
      "oracle 쿼리 성공\n",
      "oracle 쿼리 성공\n",
      "oracle 쿼리 성공\n",
      "oracle 쿼리 성공\n",
      "oracle 쿼리 성공\n",
      "oracle 쿼리 성공\n",
      "oracle 쿼리 성공\n"
     ]
    },
    {
     "name": "stderr",
     "output_type": "stream",
     "text": [
      "100%|██████████████████████████████████████████████████████████████████████████████████| 60/60 [00:00<00:00, 95.92it/s]\n"
     ]
    },
    {
     "name": "stdout",
     "output_type": "stream",
     "text": [
      "oracle 쿼리 성공\n",
      "oracle 쿼리 성공\n",
      "oracle 쿼리 성공\n",
      "오라클 정상적으로 닫힘\n",
      "GRANDMASTER 소환사 ID 가져오는 중...\n",
      "PUUID 가져오는 중...\n"
     ]
    },
    {
     "name": "stderr",
     "output_type": "stream",
     "text": [
      "PUUID 가져오는 중: 100%|█████████████████████████████████████████████████████████████████| 3/3 [00:01<00:00,  1.54it/s]\n"
     ]
    },
    {
     "name": "stdout",
     "output_type": "stream",
     "text": [
      "경기 ID 가져오는 중...\n"
     ]
    },
    {
     "name": "stderr",
     "output_type": "stream",
     "text": [
      "경기 ID 가져오는 중: 100%|███████████████████████████████████████████████████████████████| 3/3 [00:01<00:00,  1.51it/s]\n"
     ]
    },
    {
     "name": "stdout",
     "output_type": "stream",
     "text": [
      "경기 정보 가져오는 중...\n"
     ]
    },
    {
     "name": "stderr",
     "output_type": "stream",
     "text": [
      "100%|████████████████████████████████████████████████████████████████████████████████████| 6/6 [00:08<00:00,  1.33s/it]\n"
     ]
    },
    {
     "name": "stdout",
     "output_type": "stream",
     "text": [
      "소환사 통계 생성 중...\n"
     ]
    },
    {
     "name": "stderr",
     "output_type": "stream",
     "text": [
      "소환사 통계 생성 중:  83%|████████████████████████████████████████████████████▌          | 5/6 [00:29<00:05,  5.82s/it]\n"
     ]
    },
    {
     "ename": "KeyboardInterrupt",
     "evalue": "",
     "output_type": "error",
     "traceback": [
      "\u001b[1;31m---------------------------------------------------------------------------\u001b[0m",
      "\u001b[1;31mKeyboardInterrupt\u001b[0m                         Traceback (most recent call last)",
      "Cell \u001b[1;32mIn[8], line 9\u001b[0m\n\u001b[0;32m      7\u001b[0m \u001b[38;5;28;01mtry\u001b[39;00m:\n\u001b[0;32m      8\u001b[0m     db_open()  \u001b[38;5;66;03m# 데이터베이스 연결\u001b[39;00m\n\u001b[1;32m----> 9\u001b[0m     df \u001b[38;5;241m=\u001b[39m get_rawdata(tier, riot_api_key)\n\u001b[0;32m     10\u001b[0m     df\u001b[38;5;241m.\u001b[39mprogress_apply(\u001b[38;5;28;01mlambda\u001b[39;00m x: insert_data(x), axis\u001b[38;5;241m=\u001b[39m\u001b[38;5;241m1\u001b[39m) \u001b[38;5;66;03m# insert 코드\u001b[39;00m\n\u001b[0;32m     11\u001b[0m     db_close()  \u001b[38;5;66;03m# 데이터베이스 연결 닫기\u001b[39;00m\n",
      "Cell \u001b[1;32mIn[6], line 70\u001b[0m, in \u001b[0;36mget_rawdata\u001b[1;34m(tier, riot_api_key)\u001b[0m\n\u001b[0;32m     57\u001b[0m \u001b[38;5;28;01mif\u001b[39;00m match_info[\u001b[38;5;124m'\u001b[39m\u001b[38;5;124mgameDuration\u001b[39m\u001b[38;5;124m'\u001b[39m] \u001b[38;5;241m>\u001b[39m \u001b[38;5;241m780\u001b[39m:\n\u001b[0;32m     58\u001b[0m     \u001b[38;5;28;01mfor\u001b[39;00m participant \u001b[38;5;129;01min\u001b[39;00m match_info[\u001b[38;5;124m'\u001b[39m\u001b[38;5;124mparticipants\u001b[39m\u001b[38;5;124m'\u001b[39m]:\n\u001b[0;32m     59\u001b[0m         \u001b[38;5;66;03m#try:\u001b[39;00m\n\u001b[0;32m     60\u001b[0m             tmp \u001b[38;5;241m=\u001b[39m [\n\u001b[0;32m     61\u001b[0m                 row[\u001b[38;5;124m'\u001b[39m\u001b[38;5;124mmatch_id\u001b[39m\u001b[38;5;124m'\u001b[39m],\n\u001b[0;32m     62\u001b[0m                 match_info[\u001b[38;5;124m'\u001b[39m\u001b[38;5;124mgameDuration\u001b[39m\u001b[38;5;124m'\u001b[39m],\n\u001b[0;32m     63\u001b[0m                 match_info[\u001b[38;5;124m'\u001b[39m\u001b[38;5;124mgameVersion\u001b[39m\u001b[38;5;124m'\u001b[39m],\n\u001b[0;32m     64\u001b[0m                 participant[\u001b[38;5;124m'\u001b[39m\u001b[38;5;124mriotIdGameName\u001b[39m\u001b[38;5;124m'\u001b[39m],\n\u001b[0;32m     65\u001b[0m                 participant[\u001b[38;5;124m'\u001b[39m\u001b[38;5;124mriotIdTagline\u001b[39m\u001b[38;5;124m'\u001b[39m],\n\u001b[0;32m     66\u001b[0m                 participant[\u001b[38;5;124m'\u001b[39m\u001b[38;5;124msummonerLevel\u001b[39m\u001b[38;5;124m'\u001b[39m],\n\u001b[0;32m     67\u001b[0m                 participant[\u001b[38;5;124m'\u001b[39m\u001b[38;5;124mparticipantId\u001b[39m\u001b[38;5;124m'\u001b[39m],\n\u001b[0;32m     68\u001b[0m                 participant[\u001b[38;5;124m'\u001b[39m\u001b[38;5;124mchampionId\u001b[39m\u001b[38;5;124m'\u001b[39m],\n\u001b[0;32m     69\u001b[0m                 participant[\u001b[38;5;124m'\u001b[39m\u001b[38;5;124mchampionName\u001b[39m\u001b[38;5;124m'\u001b[39m],\n\u001b[1;32m---> 70\u001b[0m                 get_champion_mastery(participant[\u001b[38;5;124m'\u001b[39m\u001b[38;5;124mpuuid\u001b[39m\u001b[38;5;124m'\u001b[39m], participant[\u001b[38;5;124m'\u001b[39m\u001b[38;5;124mchampionId\u001b[39m\u001b[38;5;124m'\u001b[39m], riot_api_key),\n\u001b[0;32m     71\u001b[0m                 participant[\u001b[38;5;124m'\u001b[39m\u001b[38;5;124mteamPosition\u001b[39m\u001b[38;5;124m'\u001b[39m],\n\u001b[0;32m     72\u001b[0m                 participant[\u001b[38;5;124m'\u001b[39m\u001b[38;5;124mteamId\u001b[39m\u001b[38;5;124m'\u001b[39m],\n\u001b[0;32m     73\u001b[0m                 \u001b[38;5;241m1\u001b[39m \u001b[38;5;28;01mif\u001b[39;00m participant[\u001b[38;5;124m'\u001b[39m\u001b[38;5;124mwin\u001b[39m\u001b[38;5;124m'\u001b[39m] \u001b[38;5;28;01melse\u001b[39;00m \u001b[38;5;241m0\u001b[39m,\n\u001b[0;32m     74\u001b[0m                 participant[\u001b[38;5;124m'\u001b[39m\u001b[38;5;124mkills\u001b[39m\u001b[38;5;124m'\u001b[39m],\n\u001b[0;32m     75\u001b[0m                 participant[\u001b[38;5;124m'\u001b[39m\u001b[38;5;124mdeaths\u001b[39m\u001b[38;5;124m'\u001b[39m],\n\u001b[0;32m     76\u001b[0m                 participant[\u001b[38;5;124m'\u001b[39m\u001b[38;5;124massists\u001b[39m\u001b[38;5;124m'\u001b[39m],\n\u001b[0;32m     77\u001b[0m                 participant[\u001b[38;5;124m'\u001b[39m\u001b[38;5;124mtotalDamageDealtToChampions\u001b[39m\u001b[38;5;124m'\u001b[39m],\n\u001b[0;32m     78\u001b[0m                 participant[\u001b[38;5;124m'\u001b[39m\u001b[38;5;124mtotalDamageDealt\u001b[39m\u001b[38;5;124m'\u001b[39m],\n\u001b[0;32m     79\u001b[0m                 row[\u001b[38;5;124m'\u001b[39m\u001b[38;5;124mtier\u001b[39m\u001b[38;5;124m'\u001b[39m]\n\u001b[0;32m     80\u001b[0m             ]\n\u001b[0;32m     81\u001b[0m             df_info\u001b[38;5;241m.\u001b[39mappend(tmp)\n\u001b[0;32m     82\u001b[0m         \u001b[38;5;66;03m#except KeyError as e:\u001b[39;00m\n\u001b[0;32m     83\u001b[0m             \u001b[38;5;66;03m#print(f\"데이터 처리 중 키 오류 발생: {e}\")\u001b[39;00m\n",
      "Cell \u001b[1;32mIn[5], line 4\u001b[0m, in \u001b[0;36mget_champion_mastery\u001b[1;34m(puuid, champion_id, riot_api_key)\u001b[0m\n\u001b[0;32m      2\u001b[0m url \u001b[38;5;241m=\u001b[39m \u001b[38;5;124mf\u001b[39m\u001b[38;5;124m'\u001b[39m\u001b[38;5;124mhttps://kr.api.riotgames.com/lol/champion-mastery/v4/champion-masteries/by-puuid/\u001b[39m\u001b[38;5;132;01m{\u001b[39;00mpuuid\u001b[38;5;132;01m}\u001b[39;00m\u001b[38;5;124m/by-champion/\u001b[39m\u001b[38;5;132;01m{\u001b[39;00mchampion_id\u001b[38;5;132;01m}\u001b[39;00m\u001b[38;5;124m?api_key=\u001b[39m\u001b[38;5;132;01m{\u001b[39;00mriot_api_key\u001b[38;5;132;01m}\u001b[39;00m\u001b[38;5;124m'\u001b[39m\n\u001b[0;32m      3\u001b[0m \u001b[38;5;28;01mtry\u001b[39;00m:\n\u001b[1;32m----> 4\u001b[0m     res \u001b[38;5;241m=\u001b[39m requests\u001b[38;5;241m.\u001b[39mget(url)\u001b[38;5;241m.\u001b[39mjson()\n\u001b[0;32m      5\u001b[0m     \u001b[38;5;28;01mreturn\u001b[39;00m res\u001b[38;5;241m.\u001b[39mget(\u001b[38;5;124m'\u001b[39m\u001b[38;5;124mchampionPoints\u001b[39m\u001b[38;5;124m'\u001b[39m, \u001b[38;5;241m0\u001b[39m)\n\u001b[0;32m      6\u001b[0m \u001b[38;5;28;01mexcept\u001b[39;00m requests\u001b[38;5;241m.\u001b[39mRequestException \u001b[38;5;28;01mas\u001b[39;00m e:\n",
      "File \u001b[1;32m~\\anaconda3\\Lib\\site-packages\\requests\\api.py:73\u001b[0m, in \u001b[0;36mget\u001b[1;34m(url, params, **kwargs)\u001b[0m\n\u001b[0;32m     62\u001b[0m \u001b[38;5;28;01mdef\u001b[39;00m \u001b[38;5;21mget\u001b[39m(url, params\u001b[38;5;241m=\u001b[39m\u001b[38;5;28;01mNone\u001b[39;00m, \u001b[38;5;241m*\u001b[39m\u001b[38;5;241m*\u001b[39mkwargs):\n\u001b[0;32m     63\u001b[0m \u001b[38;5;250m    \u001b[39m\u001b[38;5;124mr\u001b[39m\u001b[38;5;124;03m\"\"\"Sends a GET request.\u001b[39;00m\n\u001b[0;32m     64\u001b[0m \n\u001b[0;32m     65\u001b[0m \u001b[38;5;124;03m    :param url: URL for the new :class:`Request` object.\u001b[39;00m\n\u001b[1;32m   (...)\u001b[0m\n\u001b[0;32m     70\u001b[0m \u001b[38;5;124;03m    :rtype: requests.Response\u001b[39;00m\n\u001b[0;32m     71\u001b[0m \u001b[38;5;124;03m    \"\"\"\u001b[39;00m\n\u001b[1;32m---> 73\u001b[0m     \u001b[38;5;28;01mreturn\u001b[39;00m request(\u001b[38;5;124m\"\u001b[39m\u001b[38;5;124mget\u001b[39m\u001b[38;5;124m\"\u001b[39m, url, params\u001b[38;5;241m=\u001b[39mparams, \u001b[38;5;241m*\u001b[39m\u001b[38;5;241m*\u001b[39mkwargs)\n",
      "File \u001b[1;32m~\\anaconda3\\Lib\\site-packages\\requests\\api.py:59\u001b[0m, in \u001b[0;36mrequest\u001b[1;34m(method, url, **kwargs)\u001b[0m\n\u001b[0;32m     55\u001b[0m \u001b[38;5;66;03m# By using the 'with' statement we are sure the session is closed, thus we\u001b[39;00m\n\u001b[0;32m     56\u001b[0m \u001b[38;5;66;03m# avoid leaving sockets open which can trigger a ResourceWarning in some\u001b[39;00m\n\u001b[0;32m     57\u001b[0m \u001b[38;5;66;03m# cases, and look like a memory leak in others.\u001b[39;00m\n\u001b[0;32m     58\u001b[0m \u001b[38;5;28;01mwith\u001b[39;00m sessions\u001b[38;5;241m.\u001b[39mSession() \u001b[38;5;28;01mas\u001b[39;00m session:\n\u001b[1;32m---> 59\u001b[0m     \u001b[38;5;28;01mreturn\u001b[39;00m session\u001b[38;5;241m.\u001b[39mrequest(method\u001b[38;5;241m=\u001b[39mmethod, url\u001b[38;5;241m=\u001b[39murl, \u001b[38;5;241m*\u001b[39m\u001b[38;5;241m*\u001b[39mkwargs)\n",
      "File \u001b[1;32m~\\anaconda3\\Lib\\site-packages\\requests\\sessions.py:589\u001b[0m, in \u001b[0;36mSession.request\u001b[1;34m(self, method, url, params, data, headers, cookies, files, auth, timeout, allow_redirects, proxies, hooks, stream, verify, cert, json)\u001b[0m\n\u001b[0;32m    584\u001b[0m send_kwargs \u001b[38;5;241m=\u001b[39m {\n\u001b[0;32m    585\u001b[0m     \u001b[38;5;124m\"\u001b[39m\u001b[38;5;124mtimeout\u001b[39m\u001b[38;5;124m\"\u001b[39m: timeout,\n\u001b[0;32m    586\u001b[0m     \u001b[38;5;124m\"\u001b[39m\u001b[38;5;124mallow_redirects\u001b[39m\u001b[38;5;124m\"\u001b[39m: allow_redirects,\n\u001b[0;32m    587\u001b[0m }\n\u001b[0;32m    588\u001b[0m send_kwargs\u001b[38;5;241m.\u001b[39mupdate(settings)\n\u001b[1;32m--> 589\u001b[0m resp \u001b[38;5;241m=\u001b[39m \u001b[38;5;28mself\u001b[39m\u001b[38;5;241m.\u001b[39msend(prep, \u001b[38;5;241m*\u001b[39m\u001b[38;5;241m*\u001b[39msend_kwargs)\n\u001b[0;32m    591\u001b[0m \u001b[38;5;28;01mreturn\u001b[39;00m resp\n",
      "File \u001b[1;32m~\\anaconda3\\Lib\\site-packages\\requests\\sessions.py:703\u001b[0m, in \u001b[0;36mSession.send\u001b[1;34m(self, request, **kwargs)\u001b[0m\n\u001b[0;32m    700\u001b[0m start \u001b[38;5;241m=\u001b[39m preferred_clock()\n\u001b[0;32m    702\u001b[0m \u001b[38;5;66;03m# Send the request\u001b[39;00m\n\u001b[1;32m--> 703\u001b[0m r \u001b[38;5;241m=\u001b[39m adapter\u001b[38;5;241m.\u001b[39msend(request, \u001b[38;5;241m*\u001b[39m\u001b[38;5;241m*\u001b[39mkwargs)\n\u001b[0;32m    705\u001b[0m \u001b[38;5;66;03m# Total elapsed time of the request (approximately)\u001b[39;00m\n\u001b[0;32m    706\u001b[0m elapsed \u001b[38;5;241m=\u001b[39m preferred_clock() \u001b[38;5;241m-\u001b[39m start\n",
      "File \u001b[1;32m~\\anaconda3\\Lib\\site-packages\\requests\\adapters.py:486\u001b[0m, in \u001b[0;36mHTTPAdapter.send\u001b[1;34m(self, request, stream, timeout, verify, cert, proxies)\u001b[0m\n\u001b[0;32m    483\u001b[0m     timeout \u001b[38;5;241m=\u001b[39m TimeoutSauce(connect\u001b[38;5;241m=\u001b[39mtimeout, read\u001b[38;5;241m=\u001b[39mtimeout)\n\u001b[0;32m    485\u001b[0m \u001b[38;5;28;01mtry\u001b[39;00m:\n\u001b[1;32m--> 486\u001b[0m     resp \u001b[38;5;241m=\u001b[39m conn\u001b[38;5;241m.\u001b[39murlopen(\n\u001b[0;32m    487\u001b[0m         method\u001b[38;5;241m=\u001b[39mrequest\u001b[38;5;241m.\u001b[39mmethod,\n\u001b[0;32m    488\u001b[0m         url\u001b[38;5;241m=\u001b[39murl,\n\u001b[0;32m    489\u001b[0m         body\u001b[38;5;241m=\u001b[39mrequest\u001b[38;5;241m.\u001b[39mbody,\n\u001b[0;32m    490\u001b[0m         headers\u001b[38;5;241m=\u001b[39mrequest\u001b[38;5;241m.\u001b[39mheaders,\n\u001b[0;32m    491\u001b[0m         redirect\u001b[38;5;241m=\u001b[39m\u001b[38;5;28;01mFalse\u001b[39;00m,\n\u001b[0;32m    492\u001b[0m         assert_same_host\u001b[38;5;241m=\u001b[39m\u001b[38;5;28;01mFalse\u001b[39;00m,\n\u001b[0;32m    493\u001b[0m         preload_content\u001b[38;5;241m=\u001b[39m\u001b[38;5;28;01mFalse\u001b[39;00m,\n\u001b[0;32m    494\u001b[0m         decode_content\u001b[38;5;241m=\u001b[39m\u001b[38;5;28;01mFalse\u001b[39;00m,\n\u001b[0;32m    495\u001b[0m         retries\u001b[38;5;241m=\u001b[39m\u001b[38;5;28mself\u001b[39m\u001b[38;5;241m.\u001b[39mmax_retries,\n\u001b[0;32m    496\u001b[0m         timeout\u001b[38;5;241m=\u001b[39mtimeout,\n\u001b[0;32m    497\u001b[0m         chunked\u001b[38;5;241m=\u001b[39mchunked,\n\u001b[0;32m    498\u001b[0m     )\n\u001b[0;32m    500\u001b[0m \u001b[38;5;28;01mexcept\u001b[39;00m (ProtocolError, \u001b[38;5;167;01mOSError\u001b[39;00m) \u001b[38;5;28;01mas\u001b[39;00m err:\n\u001b[0;32m    501\u001b[0m     \u001b[38;5;28;01mraise\u001b[39;00m \u001b[38;5;167;01mConnectionError\u001b[39;00m(err, request\u001b[38;5;241m=\u001b[39mrequest)\n",
      "File \u001b[1;32m~\\anaconda3\\Lib\\site-packages\\urllib3\\connectionpool.py:791\u001b[0m, in \u001b[0;36mHTTPConnectionPool.urlopen\u001b[1;34m(self, method, url, body, headers, retries, redirect, assert_same_host, timeout, pool_timeout, release_conn, chunked, body_pos, preload_content, decode_content, **response_kw)\u001b[0m\n\u001b[0;32m    788\u001b[0m response_conn \u001b[38;5;241m=\u001b[39m conn \u001b[38;5;28;01mif\u001b[39;00m \u001b[38;5;129;01mnot\u001b[39;00m release_conn \u001b[38;5;28;01melse\u001b[39;00m \u001b[38;5;28;01mNone\u001b[39;00m\n\u001b[0;32m    790\u001b[0m \u001b[38;5;66;03m# Make the request on the HTTPConnection object\u001b[39;00m\n\u001b[1;32m--> 791\u001b[0m response \u001b[38;5;241m=\u001b[39m \u001b[38;5;28mself\u001b[39m\u001b[38;5;241m.\u001b[39m_make_request(\n\u001b[0;32m    792\u001b[0m     conn,\n\u001b[0;32m    793\u001b[0m     method,\n\u001b[0;32m    794\u001b[0m     url,\n\u001b[0;32m    795\u001b[0m     timeout\u001b[38;5;241m=\u001b[39mtimeout_obj,\n\u001b[0;32m    796\u001b[0m     body\u001b[38;5;241m=\u001b[39mbody,\n\u001b[0;32m    797\u001b[0m     headers\u001b[38;5;241m=\u001b[39mheaders,\n\u001b[0;32m    798\u001b[0m     chunked\u001b[38;5;241m=\u001b[39mchunked,\n\u001b[0;32m    799\u001b[0m     retries\u001b[38;5;241m=\u001b[39mretries,\n\u001b[0;32m    800\u001b[0m     response_conn\u001b[38;5;241m=\u001b[39mresponse_conn,\n\u001b[0;32m    801\u001b[0m     preload_content\u001b[38;5;241m=\u001b[39mpreload_content,\n\u001b[0;32m    802\u001b[0m     decode_content\u001b[38;5;241m=\u001b[39mdecode_content,\n\u001b[0;32m    803\u001b[0m     \u001b[38;5;241m*\u001b[39m\u001b[38;5;241m*\u001b[39mresponse_kw,\n\u001b[0;32m    804\u001b[0m )\n\u001b[0;32m    806\u001b[0m \u001b[38;5;66;03m# Everything went great!\u001b[39;00m\n\u001b[0;32m    807\u001b[0m clean_exit \u001b[38;5;241m=\u001b[39m \u001b[38;5;28;01mTrue\u001b[39;00m\n",
      "File \u001b[1;32m~\\anaconda3\\Lib\\site-packages\\urllib3\\connectionpool.py:468\u001b[0m, in \u001b[0;36mHTTPConnectionPool._make_request\u001b[1;34m(self, conn, method, url, body, headers, retries, timeout, chunked, response_conn, preload_content, decode_content, enforce_content_length)\u001b[0m\n\u001b[0;32m    465\u001b[0m \u001b[38;5;28;01mtry\u001b[39;00m:\n\u001b[0;32m    466\u001b[0m     \u001b[38;5;66;03m# Trigger any extra validation we need to do.\u001b[39;00m\n\u001b[0;32m    467\u001b[0m     \u001b[38;5;28;01mtry\u001b[39;00m:\n\u001b[1;32m--> 468\u001b[0m         \u001b[38;5;28mself\u001b[39m\u001b[38;5;241m.\u001b[39m_validate_conn(conn)\n\u001b[0;32m    469\u001b[0m     \u001b[38;5;28;01mexcept\u001b[39;00m (SocketTimeout, BaseSSLError) \u001b[38;5;28;01mas\u001b[39;00m e:\n\u001b[0;32m    470\u001b[0m         \u001b[38;5;28mself\u001b[39m\u001b[38;5;241m.\u001b[39m_raise_timeout(err\u001b[38;5;241m=\u001b[39me, url\u001b[38;5;241m=\u001b[39murl, timeout_value\u001b[38;5;241m=\u001b[39mconn\u001b[38;5;241m.\u001b[39mtimeout)\n",
      "File \u001b[1;32m~\\anaconda3\\Lib\\site-packages\\urllib3\\connectionpool.py:1097\u001b[0m, in \u001b[0;36mHTTPSConnectionPool._validate_conn\u001b[1;34m(self, conn)\u001b[0m\n\u001b[0;32m   1095\u001b[0m \u001b[38;5;66;03m# Force connect early to allow us to validate the connection.\u001b[39;00m\n\u001b[0;32m   1096\u001b[0m \u001b[38;5;28;01mif\u001b[39;00m conn\u001b[38;5;241m.\u001b[39mis_closed:\n\u001b[1;32m-> 1097\u001b[0m     conn\u001b[38;5;241m.\u001b[39mconnect()\n\u001b[0;32m   1099\u001b[0m \u001b[38;5;28;01mif\u001b[39;00m \u001b[38;5;129;01mnot\u001b[39;00m conn\u001b[38;5;241m.\u001b[39mis_verified:\n\u001b[0;32m   1100\u001b[0m     warnings\u001b[38;5;241m.\u001b[39mwarn(\n\u001b[0;32m   1101\u001b[0m         (\n\u001b[0;32m   1102\u001b[0m             \u001b[38;5;124mf\u001b[39m\u001b[38;5;124m\"\u001b[39m\u001b[38;5;124mUnverified HTTPS request is being made to host \u001b[39m\u001b[38;5;124m'\u001b[39m\u001b[38;5;132;01m{\u001b[39;00mconn\u001b[38;5;241m.\u001b[39mhost\u001b[38;5;132;01m}\u001b[39;00m\u001b[38;5;124m'\u001b[39m\u001b[38;5;124m. \u001b[39m\u001b[38;5;124m\"\u001b[39m\n\u001b[1;32m   (...)\u001b[0m\n\u001b[0;32m   1107\u001b[0m         InsecureRequestWarning,\n\u001b[0;32m   1108\u001b[0m     )\n",
      "File \u001b[1;32m~\\anaconda3\\Lib\\site-packages\\urllib3\\connection.py:642\u001b[0m, in \u001b[0;36mHTTPSConnection.connect\u001b[1;34m(self)\u001b[0m\n\u001b[0;32m    633\u001b[0m \u001b[38;5;28;01mif\u001b[39;00m is_time_off:\n\u001b[0;32m    634\u001b[0m     warnings\u001b[38;5;241m.\u001b[39mwarn(\n\u001b[0;32m    635\u001b[0m         (\n\u001b[0;32m    636\u001b[0m             \u001b[38;5;124mf\u001b[39m\u001b[38;5;124m\"\u001b[39m\u001b[38;5;124mSystem time is way off (before \u001b[39m\u001b[38;5;132;01m{\u001b[39;00mRECENT_DATE\u001b[38;5;132;01m}\u001b[39;00m\u001b[38;5;124m). This will probably \u001b[39m\u001b[38;5;124m\"\u001b[39m\n\u001b[1;32m   (...)\u001b[0m\n\u001b[0;32m    639\u001b[0m         SystemTimeWarning,\n\u001b[0;32m    640\u001b[0m     )\n\u001b[1;32m--> 642\u001b[0m sock_and_verified \u001b[38;5;241m=\u001b[39m _ssl_wrap_socket_and_match_hostname(\n\u001b[0;32m    643\u001b[0m     sock\u001b[38;5;241m=\u001b[39msock,\n\u001b[0;32m    644\u001b[0m     cert_reqs\u001b[38;5;241m=\u001b[39m\u001b[38;5;28mself\u001b[39m\u001b[38;5;241m.\u001b[39mcert_reqs,\n\u001b[0;32m    645\u001b[0m     ssl_version\u001b[38;5;241m=\u001b[39m\u001b[38;5;28mself\u001b[39m\u001b[38;5;241m.\u001b[39mssl_version,\n\u001b[0;32m    646\u001b[0m     ssl_minimum_version\u001b[38;5;241m=\u001b[39m\u001b[38;5;28mself\u001b[39m\u001b[38;5;241m.\u001b[39mssl_minimum_version,\n\u001b[0;32m    647\u001b[0m     ssl_maximum_version\u001b[38;5;241m=\u001b[39m\u001b[38;5;28mself\u001b[39m\u001b[38;5;241m.\u001b[39mssl_maximum_version,\n\u001b[0;32m    648\u001b[0m     ca_certs\u001b[38;5;241m=\u001b[39m\u001b[38;5;28mself\u001b[39m\u001b[38;5;241m.\u001b[39mca_certs,\n\u001b[0;32m    649\u001b[0m     ca_cert_dir\u001b[38;5;241m=\u001b[39m\u001b[38;5;28mself\u001b[39m\u001b[38;5;241m.\u001b[39mca_cert_dir,\n\u001b[0;32m    650\u001b[0m     ca_cert_data\u001b[38;5;241m=\u001b[39m\u001b[38;5;28mself\u001b[39m\u001b[38;5;241m.\u001b[39mca_cert_data,\n\u001b[0;32m    651\u001b[0m     cert_file\u001b[38;5;241m=\u001b[39m\u001b[38;5;28mself\u001b[39m\u001b[38;5;241m.\u001b[39mcert_file,\n\u001b[0;32m    652\u001b[0m     key_file\u001b[38;5;241m=\u001b[39m\u001b[38;5;28mself\u001b[39m\u001b[38;5;241m.\u001b[39mkey_file,\n\u001b[0;32m    653\u001b[0m     key_password\u001b[38;5;241m=\u001b[39m\u001b[38;5;28mself\u001b[39m\u001b[38;5;241m.\u001b[39mkey_password,\n\u001b[0;32m    654\u001b[0m     server_hostname\u001b[38;5;241m=\u001b[39mserver_hostname,\n\u001b[0;32m    655\u001b[0m     ssl_context\u001b[38;5;241m=\u001b[39m\u001b[38;5;28mself\u001b[39m\u001b[38;5;241m.\u001b[39mssl_context,\n\u001b[0;32m    656\u001b[0m     tls_in_tls\u001b[38;5;241m=\u001b[39mtls_in_tls,\n\u001b[0;32m    657\u001b[0m     assert_hostname\u001b[38;5;241m=\u001b[39m\u001b[38;5;28mself\u001b[39m\u001b[38;5;241m.\u001b[39massert_hostname,\n\u001b[0;32m    658\u001b[0m     assert_fingerprint\u001b[38;5;241m=\u001b[39m\u001b[38;5;28mself\u001b[39m\u001b[38;5;241m.\u001b[39massert_fingerprint,\n\u001b[0;32m    659\u001b[0m )\n\u001b[0;32m    660\u001b[0m \u001b[38;5;28mself\u001b[39m\u001b[38;5;241m.\u001b[39msock \u001b[38;5;241m=\u001b[39m sock_and_verified\u001b[38;5;241m.\u001b[39msocket\n\u001b[0;32m    661\u001b[0m \u001b[38;5;28mself\u001b[39m\u001b[38;5;241m.\u001b[39mis_verified \u001b[38;5;241m=\u001b[39m sock_and_verified\u001b[38;5;241m.\u001b[39mis_verified\n",
      "File \u001b[1;32m~\\anaconda3\\Lib\\site-packages\\urllib3\\connection.py:783\u001b[0m, in \u001b[0;36m_ssl_wrap_socket_and_match_hostname\u001b[1;34m(sock, cert_reqs, ssl_version, ssl_minimum_version, ssl_maximum_version, cert_file, key_file, key_password, ca_certs, ca_cert_dir, ca_cert_data, assert_hostname, assert_fingerprint, server_hostname, ssl_context, tls_in_tls)\u001b[0m\n\u001b[0;32m    780\u001b[0m     \u001b[38;5;28;01mif\u001b[39;00m is_ipaddress(normalized):\n\u001b[0;32m    781\u001b[0m         server_hostname \u001b[38;5;241m=\u001b[39m normalized\n\u001b[1;32m--> 783\u001b[0m ssl_sock \u001b[38;5;241m=\u001b[39m ssl_wrap_socket(\n\u001b[0;32m    784\u001b[0m     sock\u001b[38;5;241m=\u001b[39msock,\n\u001b[0;32m    785\u001b[0m     keyfile\u001b[38;5;241m=\u001b[39mkey_file,\n\u001b[0;32m    786\u001b[0m     certfile\u001b[38;5;241m=\u001b[39mcert_file,\n\u001b[0;32m    787\u001b[0m     key_password\u001b[38;5;241m=\u001b[39mkey_password,\n\u001b[0;32m    788\u001b[0m     ca_certs\u001b[38;5;241m=\u001b[39mca_certs,\n\u001b[0;32m    789\u001b[0m     ca_cert_dir\u001b[38;5;241m=\u001b[39mca_cert_dir,\n\u001b[0;32m    790\u001b[0m     ca_cert_data\u001b[38;5;241m=\u001b[39mca_cert_data,\n\u001b[0;32m    791\u001b[0m     server_hostname\u001b[38;5;241m=\u001b[39mserver_hostname,\n\u001b[0;32m    792\u001b[0m     ssl_context\u001b[38;5;241m=\u001b[39mcontext,\n\u001b[0;32m    793\u001b[0m     tls_in_tls\u001b[38;5;241m=\u001b[39mtls_in_tls,\n\u001b[0;32m    794\u001b[0m )\n\u001b[0;32m    796\u001b[0m \u001b[38;5;28;01mtry\u001b[39;00m:\n\u001b[0;32m    797\u001b[0m     \u001b[38;5;28;01mif\u001b[39;00m assert_fingerprint:\n",
      "File \u001b[1;32m~\\anaconda3\\Lib\\site-packages\\urllib3\\util\\ssl_.py:446\u001b[0m, in \u001b[0;36mssl_wrap_socket\u001b[1;34m(sock, keyfile, certfile, cert_reqs, ca_certs, server_hostname, ssl_version, ciphers, ssl_context, ca_cert_dir, key_password, ca_cert_data, tls_in_tls)\u001b[0m\n\u001b[0;32m    444\u001b[0m \u001b[38;5;28;01mif\u001b[39;00m ca_certs \u001b[38;5;129;01mor\u001b[39;00m ca_cert_dir \u001b[38;5;129;01mor\u001b[39;00m ca_cert_data:\n\u001b[0;32m    445\u001b[0m     \u001b[38;5;28;01mtry\u001b[39;00m:\n\u001b[1;32m--> 446\u001b[0m         context\u001b[38;5;241m.\u001b[39mload_verify_locations(ca_certs, ca_cert_dir, ca_cert_data)\n\u001b[0;32m    447\u001b[0m     \u001b[38;5;28;01mexcept\u001b[39;00m \u001b[38;5;167;01mOSError\u001b[39;00m \u001b[38;5;28;01mas\u001b[39;00m e:\n\u001b[0;32m    448\u001b[0m         \u001b[38;5;28;01mraise\u001b[39;00m SSLError(e) \u001b[38;5;28;01mfrom\u001b[39;00m \u001b[38;5;21;01me\u001b[39;00m\n",
      "\u001b[1;31mKeyboardInterrupt\u001b[0m: "
     ]
    }
   ],
   "source": [
    "tier = 'GRANDMASTER'\n",
    "# tqdm 설정 추가\n",
    "tqdm.pandas()\n",
    "\n",
    "for _ in range(100000000000):\n",
    "    for i in range(3):\n",
    "        try:\n",
    "            db_open()  # 데이터베이스 연결\n",
    "            df = get_rawdata(tier, riot_api_key)\n",
    "            df.progress_apply(lambda x: insert_data(x), axis=1) # insert 코드\n",
    "            db_close()  # 데이터베이스 연결 닫기\n",
    "            time.sleep(100)  # Riot API는 2분에 100개\n",
    "        except Exception as e:\n",
    "            print(f\"{tier} 티어에서 오류 발생: {e}\")\n",
    "            #print(\"오류가 발생한 데이터:\", df)  # 추가: 오류가 발생한 데이터 출력\n",
    "            time.sleep(100)\n",
    "            continue\n"
   ]
  },
  {
   "cell_type": "code",
   "execution_count": null,
   "id": "c3efc1c3-34db-48b1-b3f6-719abb766b3c",
   "metadata": {},
   "outputs": [],
   "source": [
    "#db_open()"
   ]
  },
  {
   "cell_type": "code",
   "execution_count": null,
   "id": "2a15b3a3-2dc2-44f2-8ca4-82c0054bf055",
   "metadata": {},
   "outputs": [],
   "source": [
    "#df = sql_execute('select * from testMATCHS')"
   ]
  },
  {
   "cell_type": "code",
   "execution_count": null,
   "id": "407a1a7e-62cf-4b29-8a96-d469e2f7b550",
   "metadata": {},
   "outputs": [],
   "source": []
  },
  {
   "cell_type": "code",
   "execution_count": null,
   "id": "b7ad5dac-1fa4-417f-b872-85fde1ed5fb9",
   "metadata": {},
   "outputs": [],
   "source": []
  },
  {
   "cell_type": "code",
   "execution_count": null,
   "id": "e8389518-25be-47f6-909c-074e695b0ea6",
   "metadata": {},
   "outputs": [],
   "source": []
  }
 ],
 "metadata": {
  "kernelspec": {
   "display_name": "Python 3 (ipykernel)",
   "language": "python",
   "name": "python3"
  },
  "language_info": {
   "codemirror_mode": {
    "name": "ipython",
    "version": 3
   },
   "file_extension": ".py",
   "mimetype": "text/x-python",
   "name": "python",
   "nbconvert_exporter": "python",
   "pygments_lexer": "ipython3",
   "version": "3.11.7"
  }
 },
 "nbformat": 4,
 "nbformat_minor": 5
}
