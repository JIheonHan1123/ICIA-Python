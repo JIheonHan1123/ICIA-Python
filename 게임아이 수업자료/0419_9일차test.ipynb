{
 "cells": [
  {
   "cell_type": "code",
   "execution_count": 9,
   "id": "cce02608-2441-4052-8ead-a5926c858083",
   "metadata": {},
   "outputs": [],
   "source": [
    "from my_utils import *"
   ]
  },
  {
   "cell_type": "code",
   "execution_count": 10,
   "id": "5b42d3d0-02cf-4ef2-9a84-ed22a515e61c",
   "metadata": {},
   "outputs": [
    {
     "name": "stdout",
     "output_type": "stream",
     "text": [
      "오라클 정상적으로 닫힘\n"
     ]
    },
    {
     "name": "stderr",
     "output_type": "stream",
     "text": [
      "C:\\Users\\user\\게임아이 수업자료\\my_utils.py:34: UserWarning: pandas only supports SQLAlchemy connectable (engine/connection) or database string URI or sqlite3 DBAPI2 connection. Other DBAPI2 objects are not tested. Please consider using SQLAlchemy.\n",
      "  df = pd.read_sql(sql=query, con=db)\n"
     ]
    }
   ],
   "source": [
    "db_open()\n",
    "df = sql_execute('select * from lol_min_datas')\n",
    "db_close()"
   ]
  },
  {
   "cell_type": "code",
   "execution_count": 11,
   "id": "234e9f0e-2175-49d9-8e62-49c90ca3927a",
   "metadata": {},
   "outputs": [
    {
     "data": {
      "text/html": [
       "<div>\n",
       "<style scoped>\n",
       "    .dataframe tbody tr th:only-of-type {\n",
       "        vertical-align: middle;\n",
       "    }\n",
       "\n",
       "    .dataframe tbody tr th {\n",
       "        vertical-align: top;\n",
       "    }\n",
       "\n",
       "    .dataframe thead th {\n",
       "        text-align: right;\n",
       "    }\n",
       "</style>\n",
       "<table border=\"1\" class=\"dataframe\">\n",
       "  <thead>\n",
       "    <tr style=\"text-align: right;\">\n",
       "      <th></th>\n",
       "      <th>TEAMID</th>\n",
       "      <th>GAMEID</th>\n",
       "      <th>PARTICIPANTID</th>\n",
       "      <th>TIER</th>\n",
       "      <th>RIOTTAG</th>\n",
       "      <th>PLAYERNICKNAME</th>\n",
       "      <th>CHAMPIONNAME</th>\n",
       "      <th>TEAMPOSITION</th>\n",
       "      <th>GAMEVERSION</th>\n",
       "      <th>GAMEDURATION</th>\n",
       "      <th>...</th>\n",
       "      <th>KILLS</th>\n",
       "      <th>DEATHS</th>\n",
       "      <th>ASSISTS</th>\n",
       "      <th>WIN</th>\n",
       "      <th>G_5</th>\n",
       "      <th>G_6</th>\n",
       "      <th>G_7</th>\n",
       "      <th>G_8</th>\n",
       "      <th>G_9</th>\n",
       "      <th>G_10</th>\n",
       "    </tr>\n",
       "  </thead>\n",
       "  <tbody>\n",
       "  </tbody>\n",
       "</table>\n",
       "<p>0 rows × 26 columns</p>\n",
       "</div>"
      ],
      "text/plain": [
       "Empty DataFrame\n",
       "Columns: [TEAMID, GAMEID, PARTICIPANTID, TIER, RIOTTAG, PLAYERNICKNAME, CHAMPIONNAME, TEAMPOSITION, GAMEVERSION, GAMEDURATION, SPELL_TYPE_1, SPELL_TYPE_2, SPELL_TYPE_1_USED, SPELL_TYPE_2_USED, WARDUSED, ITEMID, KILLS, DEATHS, ASSISTS, WIN, G_5, G_6, G_7, G_8, G_9, G_10]\n",
       "Index: []\n",
       "\n",
       "[0 rows x 26 columns]"
      ]
     },
     "execution_count": 11,
     "metadata": {},
     "output_type": "execute_result"
    }
   ],
   "source": [
    "df"
   ]
  }
 ],
 "metadata": {
  "kernelspec": {
   "display_name": "Python 3 (ipykernel)",
   "language": "python",
   "name": "python3"
  },
  "language_info": {
   "codemirror_mode": {
    "name": "ipython",
    "version": 3
   },
   "file_extension": ".py",
   "mimetype": "text/x-python",
   "name": "python",
   "nbconvert_exporter": "python",
   "pygments_lexer": "ipython3",
   "version": "3.11.7"
  }
 },
 "nbformat": 4,
 "nbformat_minor": 5
}
